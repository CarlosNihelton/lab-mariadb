{
 "cells": [
  {
   "cell_type": "markdown",
   "id": "actual-policy",
   "metadata": {},
   "source": [
    "## **PREENCHA A CÉLULA ABAIXO COM O(S) INTEGRANTE(S)**\n",
    "\n",
    "### Colocar o nome completo e RA"
   ]
  },
  {
   "cell_type": "raw",
   "id": "given-symbol",
   "metadata": {},
   "source": [
    "INTEGRANTE 01: Fulano Silva (RA: 000)\n",
    "INTEGRANTE 02: Cicrano Souza (RA: 001) [opcional]"
   ]
  },
  {
   "cell_type": "markdown",
   "id": "painful-score",
   "metadata": {},
   "source": [
    "# Movielens"
   ]
  },
  {
   "cell_type": "markdown",
   "id": "amber-annex",
   "metadata": {},
   "source": [
    "Este [dataset](https://grouplens.org/datasets/movielens/100k/) descreve as avaliações de filmes feitas por usuários no site [MovieLens](https://movielens.org/), um serviço de recomendação de filmes. As avaliações (ratings) variam de 1 a 5, cada usuário avaliou pelo menos 20 filmes e existem simples informações demográficas sobre os usuários. Existem no banco de dados, aproximadamente, 100,000 avaliações de 1000 usuários feitas a 1700 filmes."
   ]
  },
  {
   "cell_type": "markdown",
   "id": "eleven-norwegian",
   "metadata": {},
   "source": [
    "## Descrição das tabelas"
   ]
  },
  {
   "cell_type": "markdown",
   "id": "decreased-livestock",
   "metadata": {},
   "source": [
    "* **Occupations**: Armazena a lista de ocupações dos usuários;\n",
    "* **Users**: Armazena informações sobre os usuários, por exemplo, idade e cep;\n",
    "* **Ratings**: Armazena as notas que os usuários atribuíram aos filmes e em qual momento esta nota foi atribuída;\n",
    "* **Movies**: Armazena informações dos filmes;\n",
    "* **Genres_movies**: Armazena o relacionamento dos gêneros e dos filmes;\n",
    "* **Genres**: Armazena a lista de gêneros."
   ]
  },
  {
   "cell_type": "markdown",
   "id": "irish-review",
   "metadata": {},
   "source": [
    "## Diagrama de Tabelas - Modelo lógico"
   ]
  },
  {
   "cell_type": "markdown",
   "id": "prescribed-companion",
   "metadata": {},
   "source": [
    "<img src=\"../../resources/images/movielens_diagram.png\" width=\"1000px\">\n"
   ]
  },
  {
   "cell_type": "code",
   "execution_count": null,
   "id": "agricultural-clone",
   "metadata": {},
   "outputs": [],
   "source": [
    "USE movielens;"
   ]
  },
  {
   "cell_type": "markdown",
   "id": "romance-exhaust",
   "metadata": {},
   "source": [
    "# Questões Exemplo"
   ]
  },
  {
   "cell_type": "markdown",
   "id": "sudden-charlotte",
   "metadata": {},
   "source": [
    "## [Questão Exemplo] Liste todos os usuários\n",
    "<!--\n",
    "SELECT * FROM users LIMIT 10;\n",
    "SELECT * FROM users; -->"
   ]
  },
  {
   "cell_type": "code",
   "execution_count": null,
   "id": "soviet-apollo",
   "metadata": {},
   "outputs": [],
   "source": [
    "SELECT * FROM users LIMIT 10;"
   ]
  },
  {
   "cell_type": "markdown",
   "id": "stock-ceremony",
   "metadata": {},
   "source": [
    "## [Questão Exemplo] Liste o sexo e a idade dos usuários\n",
    "<!--\n",
    " SELECT gender, age FROM users LIMIT 10;-->"
   ]
  },
  {
   "cell_type": "code",
   "execution_count": null,
   "id": "advance-angel",
   "metadata": {},
   "outputs": [],
   "source": [
    "SELECT gender, age FROM users LIMIT 10;"
   ]
  },
  {
   "cell_type": "markdown",
   "id": "numerical-oxygen",
   "metadata": {},
   "source": [
    "## [Questão Exemplo] Liste todos os sexos dos usuários sem repetição\n",
    "<!-- SELECT DISTINCT gender FROM users; -->"
   ]
  },
  {
   "cell_type": "code",
   "execution_count": null,
   "id": "hearing-color",
   "metadata": {},
   "outputs": [],
   "source": [
    "SELECT DISTINCT gender FROM users;"
   ]
  },
  {
   "cell_type": "markdown",
   "id": "continued-technique",
   "metadata": {},
   "source": [
    "## [Questão Exemplo] Liste o id e a idade dos usuários que possuem mais de 25 anos\n",
    "<!-- SELECT id, age FROM users WHERE age > 25;-->"
   ]
  },
  {
   "cell_type": "code",
   "execution_count": null,
   "id": "micro-smile",
   "metadata": {},
   "outputs": [],
   "source": [
    "SELECT id, age FROM users WHERE age > 25 LIMIT 10;"
   ]
  },
  {
   "cell_type": "markdown",
   "id": "prospective-partner",
   "metadata": {},
   "source": [
    "## [Questão Exemplo] Liste o id e a idade dos usuários que possuem entre 25 anos e 35 anos\n",
    "<!-- SELECT id, age FROM users WHERE age > 25 AND age < 35 LIMIT 10;-->"
   ]
  },
  {
   "cell_type": "code",
   "execution_count": null,
   "id": "danish-factor",
   "metadata": {},
   "outputs": [],
   "source": [
    "SELECT id, age FROM users WHERE age > 25 AND age < 35 LIMIT 10;"
   ]
  },
  {
   "cell_type": "markdown",
   "id": "conventional-showcase",
   "metadata": {},
   "source": [
    "## [Questão Exemplo] Liste o id e o gênero dos usuários que fizeram pelo menos uma avaliação de filme"
   ]
  },
  {
   "cell_type": "code",
   "execution_count": null,
   "id": "electoral-bathroom",
   "metadata": {},
   "outputs": [],
   "source": [
    "--Consulta aninhada\n",
    "SELECT id, gender FROM\n",
    " users\n",
    " WHERE id IN\n",
    "(SELECT user_id FROM ratings) LIMIT 10;"
   ]
  },
  {
   "cell_type": "code",
   "execution_count": null,
   "id": "separate-front",
   "metadata": {},
   "outputs": [],
   "source": [
    "--Junção\n",
    "SELECT u.id, u.gender FROM\n",
    " users u JOIN ratings r on u.id = r.user_id\n",
    " LIMIT 10;"
   ]
  },
  {
   "cell_type": "markdown",
   "id": "registered-color",
   "metadata": {},
   "source": [
    "## [Questão Exemplo] Quantos usuários são do sexo masculino e quantos usuários são do sexo feminino?"
   ]
  },
  {
   "cell_type": "code",
   "execution_count": null,
   "id": "handmade-contest",
   "metadata": {},
   "outputs": [],
   "source": [
    "SELECT gender, COUNT(*)\n",
    "FROM users\n",
    "GROUP BY gender;"
   ]
  },
  {
   "cell_type": "markdown",
   "id": "cardiac-snake",
   "metadata": {},
   "source": [
    "## [Questão Exemplo] Quantos usuários tem o mesmo sexo e a mesma idade?"
   ]
  },
  {
   "cell_type": "code",
   "execution_count": null,
   "id": "piano-consolidation",
   "metadata": {},
   "outputs": [],
   "source": [
    "SELECT age, gender, COUNT(*)\n",
    "FROM users\n",
    "GROUP BY age, gender;"
   ]
  },
  {
   "cell_type": "markdown",
   "id": "lucky-physics",
   "metadata": {},
   "source": [
    "# Questões a serem respondidas"
   ]
  },
  {
   "cell_type": "markdown",
   "id": "polish-passenger",
   "metadata": {},
   "source": [
    "## [Questão 1] Liste todos os filmes\n",
    "<!--\n",
    "SELECT * FROM movies LIMIT 10; \n",
    "-->"
   ]
  },
  {
   "cell_type": "code",
   "execution_count": null,
   "id": "pointed-benefit",
   "metadata": {},
   "outputs": [],
   "source": []
  },
  {
   "cell_type": "markdown",
   "id": "composed-mount",
   "metadata": {},
   "source": [
    "## [Questão 2] Liste todos os títulos e data de lançamento dos filmes\n",
    "<!--\n",
    "SELECT title, release_date FROM movies LIMIT 10; \n",
    "-->"
   ]
  },
  {
   "cell_type": "code",
   "execution_count": null,
   "id": "aquatic-phoenix",
   "metadata": {},
   "outputs": [],
   "source": []
  },
  {
   "cell_type": "markdown",
   "id": "buried-wholesale",
   "metadata": {},
   "source": [
    "## [Questão 3] Liste todas as datas que tiveram lançamento de filmes sem repetição\n",
    "<!--\n",
    "SELECT DISTINCT release_date FROM movies LIMIT 10; \n",
    "-->"
   ]
  },
  {
   "cell_type": "code",
   "execution_count": null,
   "id": "periodic-binary",
   "metadata": {},
   "outputs": [],
   "source": []
  },
  {
   "cell_type": "markdown",
   "id": "stable-committee",
   "metadata": {},
   "source": [
    "## [Questão 4] Liste o título de todos os filmes com data de lançamento maior que 07/07/1995\n",
    "<!--\n",
    "SELECT title, release_date FROM movies WHERE release_date > str_to_date(\"07/07/1995\", \"%d/%m/%Y\") LIMIT 20;\n",
    "-->"
   ]
  },
  {
   "cell_type": "code",
   "execution_count": null,
   "id": "current-mainland",
   "metadata": {},
   "outputs": [],
   "source": []
  },
  {
   "cell_type": "markdown",
   "id": "swiss-lightning",
   "metadata": {},
   "source": [
    "## [Questão 5] Liste todos os usuários e o nome de suas profissões \n",
    "<!--\n",
    "SELECT u.id as user_id, o.name as occupation FROM users u JOIN occupations o ON u.occupation_id = o.id  LIMIT 10; \n",
    "-->"
   ]
  },
  {
   "cell_type": "code",
   "execution_count": null,
   "id": "pharmaceutical-drill",
   "metadata": {},
   "outputs": [],
   "source": []
  },
  {
   "cell_type": "markdown",
   "id": "latter-summit",
   "metadata": {},
   "source": [
    "## [Questão 6] Liste o título dos filmes que contenham a palavra \"Treasure\" em seu título\n",
    "<!--\n",
    "SELECT title FROM movies WHERE title LIKE '%Treasure%'; \n",
    "-->"
   ]
  },
  {
   "cell_type": "code",
   "execution_count": null,
   "id": "dangerous-moisture",
   "metadata": {},
   "outputs": [],
   "source": []
  },
  {
   "cell_type": "markdown",
   "id": "lesser-nepal",
   "metadata": {},
   "source": [
    "## [Questão 7] Liste todos as ocupações com \"o\" na penultima posição do nome"
   ]
  },
  {
   "cell_type": "code",
   "execution_count": null,
   "id": "national-mexico",
   "metadata": {},
   "outputs": [],
   "source": []
  },
  {
   "cell_type": "markdown",
   "id": "extraordinary-parking",
   "metadata": {},
   "source": [
    "## [Questão 8] Insira dois usuários com ids 2000 e 3000 com a profissão \"Programmer\" (id 15). Escolha outros valores para os demais campos.\n",
    "\n",
    "<!--\n",
    "SELECT * FROM users WHERE id >= 2000;\n",
    "\n",
    "INSERT INTO users VALUES(2000, 35, \"M\", 15, \"123456\");\n",
    "\n",
    "INSERT INTO users VALUES(3000, 30, \"F\", 15, \"123456\");\n",
    "\n",
    "SELECT * FROM users WHERE id >= 2000;\n",
    "-->"
   ]
  },
  {
   "cell_type": "code",
   "execution_count": null,
   "id": "seven-whole",
   "metadata": {},
   "outputs": [],
   "source": []
  },
  {
   "cell_type": "markdown",
   "id": "geographic-bernard",
   "metadata": {},
   "source": [
    "## [Questão 9] Altere a profissão do usuário de id 3000 para \"Scientist\" (id 18)\n",
    "<!--\n",
    "SELECT * FROM users WHERE id = 3000;\n",
    "\n",
    "UPDATE users\n",
    "       SET occupation_id = 18\n",
    "       WHERE id = 3000;\n",
    "\n",
    "SELECT * FROM users WHERE id = 3000;\n",
    "-->"
   ]
  },
  {
   "cell_type": "code",
   "execution_count": null,
   "id": "prompt-failing",
   "metadata": {},
   "outputs": [],
   "source": []
  },
  {
   "cell_type": "markdown",
   "id": "mighty-murder",
   "metadata": {},
   "source": [
    "## [Questão 10] Delete o usuário de id 3000\n",
    "<!--\n",
    "SELECT * FROM users WHERE id = 3000;\n",
    "\n",
    "DELETE FROM users WHERE id = 3000;\n",
    "\n",
    "SELECT * FROM users WHERE id >= 2000;\n",
    "-->"
   ]
  },
  {
   "cell_type": "code",
   "execution_count": null,
   "id": "twelve-feeling",
   "metadata": {},
   "outputs": [],
   "source": []
  },
  {
   "cell_type": "markdown",
   "id": "early-surname",
   "metadata": {},
   "source": [
    "## [Questão 11] Liste todos os usuários que não fizeram nenhuma avaliação de filme\n",
    "<!--\n",
    "--SOLUÇÃO 01\n",
    "SELECT id FROM users WHERE id NOT IN (SELECT user_id FROM ratings);\n",
    "\n",
    "--SOLUÇÃO 02\n",
    "SELECT u.id FROM users u LEFT JOIN ratings r ON u.id = r.user_id WHERE r.user_id IS NULL;\n",
    "-->"
   ]
  },
  {
   "cell_type": "code",
   "execution_count": null,
   "id": "controlled-bandwidth",
   "metadata": {},
   "outputs": [],
   "source": []
  },
  {
   "cell_type": "markdown",
   "id": "geographic-wagon",
   "metadata": {},
   "source": [
    "## [Questão 12] Liste o título dos filmes e seus gêneros\n",
    "<!--\n",
    "SELECT m.title, g.name FROM movies m JOIN genres_movies gm ON m.id = gm.movie_id \n",
    "                                     JOIN genres g         ON g.id = gm.genre_id \n",
    "                                     LIMIT 10;\n",
    "-->"
   ]
  },
  {
   "cell_type": "code",
   "execution_count": null,
   "id": "expected-mexican",
   "metadata": {},
   "outputs": [],
   "source": []
  },
  {
   "cell_type": "markdown",
   "id": "rolled-enforcement",
   "metadata": {},
   "source": [
    "## [Questão 13] Quantos usuários possuem a profissão \"Student\"?\n",
    "<!--\n",
    "SELECT oc.name, COUNT(*) FROM users u JOIN occupations oc ON u.occupation_id = oc.id WHERE oc.name = 'Student' GROUP BY oc.name;\n",
    "-->"
   ]
  },
  {
   "cell_type": "code",
   "execution_count": null,
   "id": "protecting-morocco",
   "metadata": {},
   "outputs": [],
   "source": []
  },
  {
   "cell_type": "markdown",
   "id": "induced-lindsay",
   "metadata": {},
   "source": [
    "## [Questão 14] Qual são os ids dos 10 filmes mais populares?\n",
    "<!--\n",
    "SELECT movie_id, count(rating) as avaliacoes FROM ratings GROUP BY movie_id ORDER BY avaliacoes DESC LIMIT 10;\n",
    "-->"
   ]
  },
  {
   "cell_type": "code",
   "execution_count": null,
   "id": "desirable-magnitude",
   "metadata": {},
   "outputs": [],
   "source": []
  },
  {
   "cell_type": "markdown",
   "id": "pleased-mercury",
   "metadata": {},
   "source": [
    "## [Questão 15] Crie uma View com a média de avaliações de cada filme. A partir da view, quais os nomes dos filmes com maior média de avaliação? \n",
    "\n",
    "<!--\n",
    "CREATE OR REPLACE VIEW ratings_avg AS SELECT movie_id, AVG(rating) as media FROM ratings GROUP BY movie_id;\n",
    "\n",
    "SELECT * FROM ratings_avg ORDER BY media DESC LIMIT 20;\n",
    "\n",
    "SELECT m.title, m.id FROM ratings_avg ra JOIN movies m ON ra.movie_id = m.id WHERE ra.media IN (SELECT MAX(media) FROM ratings_avg);\n",
    "-->"
   ]
  },
  {
   "cell_type": "code",
   "execution_count": null,
   "id": "flexible-poetry",
   "metadata": {},
   "outputs": [],
   "source": []
  },
  {
   "cell_type": "markdown",
   "id": "celtic-ranch",
   "metadata": {},
   "source": [
    "## [Questão Extra] Quantos estudantes menores de 18 anos avaliaram filmes de terror ou crime\n",
    "<!--\n",
    "--SOLUÇÃO 1\n",
    "SELECT COUNT(DISTINCT u.id) as Quantidade FROM occupations oc JOIN users u ON u.occupation_id = oc.id \n",
    "                                                                  JOIN ratings r ON r.user_id = u.id\n",
    "                                                                  WHERE oc.name = \"Student\" AND u.age < 18 \n",
    "                                                                        AND r.movie_id IN\n",
    "                                                                          (SELECT DISTINCT m.id FROM movies m JOIN genres_movies gm ON m.id = gm.movie_id\n",
    "                                                                                                     JOIN genres g ON g.id = gm.genre_id  \n",
    "                                                                                       WHERE g.name = \"Horror\" OR g.name = \"Crime\");\n",
    "\n",
    "\n",
    "--SOLUÇÃO 2\n",
    "SELECT COUNT(DISTINCT u.id) as Quantidade FROM occupations oc JOIN users u ON u.occupation_id = oc.id \n",
    "                                                              JOIN ratings r ON r.user_id = u.id\n",
    "                                                              JOIN movies m ON r.movie_id = m.id\n",
    "                                                              JOIN genres_movies gm ON m.id = gm.movie_id\n",
    "                                                              JOIN genres g ON g.id = gm.genre_id\n",
    "                                                              WHERE oc.name = \"Student\" AND u.age < 18 AND g.name IN (\"Horror\",\"Crime\");\n",
    "                                                                        \n",
    "-->"
   ]
  },
  {
   "cell_type": "code",
   "execution_count": null,
   "id": "retained-approach",
   "metadata": {},
   "outputs": [],
   "source": []
  },
  {
   "cell_type": "markdown",
   "id": "durable-bronze",
   "metadata": {},
   "source": [
    "## [Questão Extra] Quais os nomes dos top 10 filmes com melhor média de avaliação considerando filmes que possuem mais de 10 avaliações?\n",
    "\n",
    "### Você pode utilizar Views caso acredite ser pertinente\n",
    "<!--\n",
    "--SOLUÇÃO 01 - JOIN VIEWS\n",
    "CREATE OR REPLACE VIEW top_movies AS SELECT movie_id, count(rating) as avaliacoes FROM ratings GROUP BY movie_id;\n",
    "\n",
    "SELECT  m.id as id, m.title as title, ra.media as media, tm.avaliacoes as avaliacoes\n",
    "FROM ratings_avg ra JOIN top_movies tm ON ra.movie_id = tm.movie_id\n",
    "JOIN movies m ON tm.movie_id = m.id\n",
    "WHERE tm.avaliacoes >10\n",
    "ORDER BY media DESC\n",
    "LIMIT 10;\n",
    "\n",
    "-- SOLUÇÃO 02 - HAVING\n",
    "SELECT r.movie_id, m.title, AVG(r.rating) as rating_avg, COUNT(r.rating) as rating_count\n",
    "FROM ratings r JOIN movies m ON r.movie_id = m.id\n",
    "GROUP BY r.movie_id, m.title\n",
    "HAVING rating_count > 10\n",
    "ORDER BY rating_avg DESC\n",
    "LIMIT 10;\n",
    "-->"
   ]
  },
  {
   "cell_type": "code",
   "execution_count": null,
   "id": "falling-alcohol",
   "metadata": {},
   "outputs": [],
   "source": []
  },
  {
   "cell_type": "markdown",
   "id": "burning-edmonton",
   "metadata": {},
   "source": [
    "## [Questão Extra] Quais estudantes avaliaram filmes que possuem a palavra \"Man\" em seu título?\n",
    "<!--\n",
    "SELECT DISTINCT u.id as user_id, oc.name as occupation FROM occupations oc JOIN users u ON u.occupation_id = oc.id \n",
    "                                                                  JOIN ratings r ON r.user_id = u.id\n",
    "                                                                  JOIN movies m ON m.id = r.movie_id\n",
    "                                                                  WHERE oc.name = \"Student\" AND m.title LIKE \"%Man%\"\n",
    "                                                                  LIMIT 10;\n",
    "-->"
   ]
  },
  {
   "cell_type": "code",
   "execution_count": null,
   "id": "wired-metadata",
   "metadata": {},
   "outputs": [],
   "source": []
  },
  {
   "cell_type": "markdown",
   "id": "individual-nowhere",
   "metadata": {},
   "source": [
    "## [Questão Extra] Com base na questão 15, retorne em apenas uma consulta, todos os nomes de filmes com a maior ou menor média de avaliação.\n",
    "\n",
    "<!--\n",
    "SELECT m.*, ra.media FROM movies m JOIN ratings_avg ra ON m.id = ra.movie_id\n",
    "WHERE ra.media IN\n",
    "(SELECT MAX(media) FROM ratings_avg\n",
    "UNION\n",
    "SELECT MIN(media) FROM ratings_avg);\n",
    "-->"
   ]
  },
  {
   "cell_type": "code",
   "execution_count": null,
   "id": "handed-lying",
   "metadata": {},
   "outputs": [],
   "source": []
  },
  {
   "cell_type": "markdown",
   "id": "occupational-hotel",
   "metadata": {},
   "source": [
    "## [DESAFIO] Como ficaria o modelo lógico do banco de dados para que fosse possível implementar a seguinte funcionalidade: \"usuários podem ser amigos de outros usuários\"?"
   ]
  },
  {
   "cell_type": "code",
   "execution_count": null,
   "id": "actual-twins",
   "metadata": {},
   "outputs": [],
   "source": []
  },
  {
   "cell_type": "markdown",
   "id": "current-british",
   "metadata": {},
   "source": [
    "## [DESAFIO] Crie comandos SQL para popular o seu banco de dados inserindo amizades entre usuários."
   ]
  },
  {
   "cell_type": "code",
   "execution_count": null,
   "id": "blind-mirror",
   "metadata": {},
   "outputs": [],
   "source": []
  },
  {
   "cell_type": "markdown",
   "id": "enabling-network",
   "metadata": {},
   "source": [
    "## [DESAFIO] Quais são os filmes avaliados pelos amigos dos amigos do usuário de id 1? \n",
    "\n",
    "### Se for necessário, crie comandos SQL para popular o seu banco de dados para adicionar amigos ao usuário de id 1 e outros usuários"
   ]
  },
  {
   "cell_type": "code",
   "execution_count": null,
   "id": "productive-tobago",
   "metadata": {},
   "outputs": [],
   "source": []
  }
 ],
 "metadata": {
  "kernelspec": {
   "display_name": "MariaDB",
   "language": "SQL",
   "name": "mariadb_kernel"
  },
  "language_info": {
   "file_extension": ".sql",
   "mimetype": "text/plain",
   "name": "SQL"
  }
 },
 "nbformat": 4,
 "nbformat_minor": 5
}
