{
 "cells": [
  {
   "cell_type": "markdown",
   "id": "understood-requirement",
   "metadata": {},
   "source": [
    "## **PREENCHA A CÉLULA ABAIXO COM O(S) INTEGRANTE(S)**\n",
    "\n",
    "### Colocar o nome completo e RA"
   ]
  },
  {
   "cell_type": "raw",
   "id": "systematic-christianity",
   "metadata": {},
   "source": [
    "INTEGRANTE 01: Fulano Silva (RA: 000)\n",
    "INTEGRANTE 02: Cicrano Souza (RA: 001) <opcional>"
   ]
  },
  {
   "cell_type": "markdown",
   "id": "square-difference",
   "metadata": {},
   "source": [
    "# Movielens"
   ]
  },
  {
   "cell_type": "markdown",
   "id": "dominant-pharmaceutical",
   "metadata": {},
   "source": [
    "Este [dataset](https://grouplens.org/datasets/movielens/100k/) descreve as avaliações de filmes feitas por usuários no site [MovieLens](https://movielens.org/), um serviço de recomendação de filmes. As avaliações (ratings) variam de 1 a 5, cada usuário avaliou pelo menos 20 filmes e existem simples informações demográficas sobre os usuários. Existem no banco de dados, aproximadamente, 100,000 avaliações de 1000 usuários feitas a 1700 filmes."
   ]
  },
  {
   "cell_type": "markdown",
   "id": "fantastic-acrylic",
   "metadata": {},
   "source": [
    "## Descrição das tabelas"
   ]
  },
  {
   "cell_type": "markdown",
   "id": "speaking-mustang",
   "metadata": {},
   "source": [
    "* **Occupations**: Armazena a lista de ocupações dos usuários;\n",
    "* **Users**: Armazena informações sobre os usuários, por exemplo, idade e cep;\n",
    "* **Ratings**: Armazena as notas que os usuários atribuíram aos filmes e em qual momento esta nota foi atribuída;\n",
    "* **Movies**: Armazena informações dos filmes;\n",
    "* **Genres_movies**: Armazena o relacionamento dos gêneros e dos filmes;\n",
    "* **Genres**: Armazena a lista de gêneros."
   ]
  },
  {
   "cell_type": "markdown",
   "id": "valued-supplier",
   "metadata": {},
   "source": [
    "## Diagrama de Tabelas - Modelo lógico"
   ]
  },
  {
   "cell_type": "markdown",
   "id": "global-drain",
   "metadata": {},
   "source": [
    "<img src=\"../../resources/images/movielens_diagram.png\" width=\"1000px\">\n"
   ]
  },
  {
   "cell_type": "code",
   "execution_count": 1,
   "id": "automotive-scholarship",
   "metadata": {},
   "outputs": [
    {
     "data": {
      "text/html": [
       "Query OK"
      ]
     },
     "metadata": {},
     "output_type": "display_data"
    }
   ],
   "source": [
    "USE movielens;"
   ]
  },
  {
   "cell_type": "markdown",
   "id": "distinguished-summary",
   "metadata": {},
   "source": [
    "## [Questão Exemplo] Liste todos os usuários\n",
    "<!--\n",
    "SELECT * FROM users LIMIT 10;\n",
    "SELECT * FROM users; -->"
   ]
  },
  {
   "cell_type": "code",
   "execution_count": 5,
   "id": "dental-photography",
   "metadata": {},
   "outputs": [
    {
     "data": {
      "text/html": [
       "<html><body><table border=\"1\"><tr><th style=\"text-align:left;white-space:pre\">id</th><th style=\"text-align:left;white-space:pre\">age</th><th style=\"text-align:left;white-space:pre\">gender</th><th style=\"text-align:left;white-space:pre\">occupation_id</th><th style=\"text-align:left;white-space:pre\">zip_code</th></tr><tr><td style=\"text-align:left;white-space:pre\">1</td><td style=\"text-align:left;white-space:pre\">24</td><td style=\"text-align:left;white-space:pre\">M</td><td style=\"text-align:left;white-space:pre\">20</td><td style=\"text-align:left;white-space:pre\">85711</td></tr><tr><td style=\"text-align:left;white-space:pre\">2</td><td style=\"text-align:left;white-space:pre\">53</td><td style=\"text-align:left;white-space:pre\">F</td><td style=\"text-align:left;white-space:pre\">14</td><td style=\"text-align:left;white-space:pre\">94043</td></tr><tr><td style=\"text-align:left;white-space:pre\">3</td><td style=\"text-align:left;white-space:pre\">23</td><td style=\"text-align:left;white-space:pre\">M</td><td style=\"text-align:left;white-space:pre\">21</td><td style=\"text-align:left;white-space:pre\">32067</td></tr><tr><td style=\"text-align:left;white-space:pre\">4</td><td style=\"text-align:left;white-space:pre\">24</td><td style=\"text-align:left;white-space:pre\">M</td><td style=\"text-align:left;white-space:pre\">20</td><td style=\"text-align:left;white-space:pre\">43537</td></tr><tr><td style=\"text-align:left;white-space:pre\">5</td><td style=\"text-align:left;white-space:pre\">33</td><td style=\"text-align:left;white-space:pre\">F</td><td style=\"text-align:left;white-space:pre\">14</td><td style=\"text-align:left;white-space:pre\">15213</td></tr><tr><td style=\"text-align:left;white-space:pre\">6</td><td style=\"text-align:left;white-space:pre\">42</td><td style=\"text-align:left;white-space:pre\">M</td><td style=\"text-align:left;white-space:pre\">7</td><td style=\"text-align:left;white-space:pre\">98101</td></tr><tr><td style=\"text-align:left;white-space:pre\">7</td><td style=\"text-align:left;white-space:pre\">57</td><td style=\"text-align:left;white-space:pre\">M</td><td style=\"text-align:left;white-space:pre\">1</td><td style=\"text-align:left;white-space:pre\">91344</td></tr><tr><td style=\"text-align:left;white-space:pre\">8</td><td style=\"text-align:left;white-space:pre\">36</td><td style=\"text-align:left;white-space:pre\">M</td><td style=\"text-align:left;white-space:pre\">1</td><td style=\"text-align:left;white-space:pre\">05201</td></tr><tr><td style=\"text-align:left;white-space:pre\">9</td><td style=\"text-align:left;white-space:pre\">29</td><td style=\"text-align:left;white-space:pre\">M</td><td style=\"text-align:left;white-space:pre\">19</td><td style=\"text-align:left;white-space:pre\">01002</td></tr><tr><td style=\"text-align:left;white-space:pre\">10</td><td style=\"text-align:left;white-space:pre\">53</td><td style=\"text-align:left;white-space:pre\">M</td><td style=\"text-align:left;white-space:pre\">10</td><td style=\"text-align:left;white-space:pre\">90703</td></tr></table></body></html>"
      ]
     },
     "metadata": {},
     "output_type": "display_data"
    }
   ],
   "source": [
    "SELECT * FROM users LIMIT 10;"
   ]
  },
  {
   "cell_type": "markdown",
   "id": "activated-print",
   "metadata": {},
   "source": [
    "## [Questão Exemplo] Liste o sexo e a idade dos usuários\n",
    "<!--\n",
    " SELECT gender, age FROM users LIMIT 10;-->"
   ]
  },
  {
   "cell_type": "code",
   "execution_count": 3,
   "id": "extended-exemption",
   "metadata": {},
   "outputs": [
    {
     "data": {
      "text/html": [
       "<html><body><table border=\"1\"><tr><th style=\"text-align:left;white-space:pre\">gender</th><th style=\"text-align:left;white-space:pre\">age</th></tr><tr><td style=\"text-align:left;white-space:pre\">M</td><td style=\"text-align:left;white-space:pre\">24</td></tr><tr><td style=\"text-align:left;white-space:pre\">F</td><td style=\"text-align:left;white-space:pre\">53</td></tr><tr><td style=\"text-align:left;white-space:pre\">M</td><td style=\"text-align:left;white-space:pre\">23</td></tr><tr><td style=\"text-align:left;white-space:pre\">M</td><td style=\"text-align:left;white-space:pre\">24</td></tr><tr><td style=\"text-align:left;white-space:pre\">F</td><td style=\"text-align:left;white-space:pre\">33</td></tr><tr><td style=\"text-align:left;white-space:pre\">M</td><td style=\"text-align:left;white-space:pre\">42</td></tr><tr><td style=\"text-align:left;white-space:pre\">M</td><td style=\"text-align:left;white-space:pre\">57</td></tr><tr><td style=\"text-align:left;white-space:pre\">M</td><td style=\"text-align:left;white-space:pre\">36</td></tr><tr><td style=\"text-align:left;white-space:pre\">M</td><td style=\"text-align:left;white-space:pre\">29</td></tr><tr><td style=\"text-align:left;white-space:pre\">M</td><td style=\"text-align:left;white-space:pre\">53</td></tr></table></body></html>"
      ]
     },
     "metadata": {},
     "output_type": "display_data"
    }
   ],
   "source": [
    "SELECT gender, age FROM users LIMIT 10;"
   ]
  },
  {
   "cell_type": "markdown",
   "id": "limited-orleans",
   "metadata": {},
   "source": [
    "## [Questão Exemplo] Liste todos os sexos dos usuários sem repetição\n",
    "<!-- SELECT DISTINCT gender FROM users; -->"
   ]
  },
  {
   "cell_type": "code",
   "execution_count": 4,
   "id": "imposed-simpson",
   "metadata": {},
   "outputs": [
    {
     "data": {
      "text/html": [
       "<html><body><table border=\"1\"><tr><th style=\"text-align:left;white-space:pre\">gender</th></tr><tr><td style=\"text-align:left;white-space:pre\">M</td></tr><tr><td style=\"text-align:left;white-space:pre\">F</td></tr></table></body></html>"
      ]
     },
     "metadata": {},
     "output_type": "display_data"
    }
   ],
   "source": [
    "SELECT DISTINCT gender FROM users;"
   ]
  },
  {
   "cell_type": "markdown",
   "id": "renewable-gibraltar",
   "metadata": {},
   "source": [
    "## [Questão Exemplo] Liste o id e a idade dos usuários que possuem mais de 25 anos\n",
    "<!-- SELECT id, age FROM users WHERE age > 25;-->"
   ]
  },
  {
   "cell_type": "code",
   "execution_count": 10,
   "id": "strategic-african",
   "metadata": {},
   "outputs": [
    {
     "data": {
      "text/html": [
       "<html><body><table border=\"1\"><tr><th style=\"text-align:left;white-space:pre\">id</th><th style=\"text-align:left;white-space:pre\">age</th></tr><tr><td style=\"text-align:left;white-space:pre\">2</td><td style=\"text-align:left;white-space:pre\">53</td></tr><tr><td style=\"text-align:left;white-space:pre\">5</td><td style=\"text-align:left;white-space:pre\">33</td></tr><tr><td style=\"text-align:left;white-space:pre\">6</td><td style=\"text-align:left;white-space:pre\">42</td></tr><tr><td style=\"text-align:left;white-space:pre\">7</td><td style=\"text-align:left;white-space:pre\">57</td></tr><tr><td style=\"text-align:left;white-space:pre\">8</td><td style=\"text-align:left;white-space:pre\">36</td></tr><tr><td style=\"text-align:left;white-space:pre\">9</td><td style=\"text-align:left;white-space:pre\">29</td></tr><tr><td style=\"text-align:left;white-space:pre\">10</td><td style=\"text-align:left;white-space:pre\">53</td></tr><tr><td style=\"text-align:left;white-space:pre\">11</td><td style=\"text-align:left;white-space:pre\">39</td></tr><tr><td style=\"text-align:left;white-space:pre\">12</td><td style=\"text-align:left;white-space:pre\">28</td></tr><tr><td style=\"text-align:left;white-space:pre\">13</td><td style=\"text-align:left;white-space:pre\">47</td></tr></table></body></html>"
      ]
     },
     "metadata": {},
     "output_type": "display_data"
    }
   ],
   "source": [
    "SELECT id, age FROM users WHERE age > 25 LIMIT 10;"
   ]
  },
  {
   "cell_type": "markdown",
   "id": "corrected-details",
   "metadata": {},
   "source": [
    "## [Questão Exemplo] Liste o id e a idade dos usuários que possuem entre 25 anos e 35 anos\n",
    "<!-- SELECT id, age FROM users WHERE age > 25 AND age < 35 LIMIT 10;-->"
   ]
  },
  {
   "cell_type": "code",
   "execution_count": 13,
   "id": "organized-inside",
   "metadata": {},
   "outputs": [
    {
     "data": {
      "text/html": [
       "<html><body><table border=\"1\"><tr><th style=\"text-align:left;white-space:pre\">id</th><th style=\"text-align:left;white-space:pre\">age</th></tr><tr><td style=\"text-align:left;white-space:pre\">5</td><td style=\"text-align:left;white-space:pre\">33</td></tr><tr><td style=\"text-align:left;white-space:pre\">9</td><td style=\"text-align:left;white-space:pre\">29</td></tr><tr><td style=\"text-align:left;white-space:pre\">12</td><td style=\"text-align:left;white-space:pre\">28</td></tr><tr><td style=\"text-align:left;white-space:pre\">17</td><td style=\"text-align:left;white-space:pre\">30</td></tr><tr><td style=\"text-align:left;white-space:pre\">21</td><td style=\"text-align:left;white-space:pre\">26</td></tr><tr><td style=\"text-align:left;white-space:pre\">23</td><td style=\"text-align:left;white-space:pre\">30</td></tr><tr><td style=\"text-align:left;white-space:pre\">28</td><td style=\"text-align:left;white-space:pre\">32</td></tr><tr><td style=\"text-align:left;white-space:pre\">32</td><td style=\"text-align:left;white-space:pre\">28</td></tr><tr><td style=\"text-align:left;white-space:pre\">38</td><td style=\"text-align:left;white-space:pre\">28</td></tr><tr><td style=\"text-align:left;white-space:pre\">41</td><td style=\"text-align:left;white-space:pre\">33</td></tr></table></body></html>"
      ]
     },
     "metadata": {},
     "output_type": "display_data"
    }
   ],
   "source": [
    "SELECT id, age FROM users WHERE age > 25 AND age < 35 LIMIT 10;"
   ]
  },
  {
   "cell_type": "markdown",
   "id": "united-three",
   "metadata": {},
   "source": [
    "## [Questão Exemplo] Liste o id e o gênero dos usuários que fizeram pelo menos uma avaliação de filme"
   ]
  },
  {
   "cell_type": "code",
   "execution_count": 6,
   "id": "military-meditation",
   "metadata": {},
   "outputs": [
    {
     "data": {
      "text/html": [
       "<html><body><table border=\"1\"><tr><th style=\"text-align:left;white-space:pre\">id</th><th style=\"text-align:left;white-space:pre\">gender</th></tr><tr><td style=\"text-align:left;white-space:pre\">1</td><td style=\"text-align:left;white-space:pre\">M</td></tr><tr><td style=\"text-align:left;white-space:pre\">2</td><td style=\"text-align:left;white-space:pre\">F</td></tr><tr><td style=\"text-align:left;white-space:pre\">3</td><td style=\"text-align:left;white-space:pre\">M</td></tr><tr><td style=\"text-align:left;white-space:pre\">4</td><td style=\"text-align:left;white-space:pre\">M</td></tr><tr><td style=\"text-align:left;white-space:pre\">5</td><td style=\"text-align:left;white-space:pre\">F</td></tr><tr><td style=\"text-align:left;white-space:pre\">6</td><td style=\"text-align:left;white-space:pre\">M</td></tr><tr><td style=\"text-align:left;white-space:pre\">7</td><td style=\"text-align:left;white-space:pre\">M</td></tr><tr><td style=\"text-align:left;white-space:pre\">8</td><td style=\"text-align:left;white-space:pre\">M</td></tr><tr><td style=\"text-align:left;white-space:pre\">9</td><td style=\"text-align:left;white-space:pre\">M</td></tr><tr><td style=\"text-align:left;white-space:pre\">10</td><td style=\"text-align:left;white-space:pre\">M</td></tr></table></body></html>"
      ]
     },
     "metadata": {},
     "output_type": "display_data"
    }
   ],
   "source": [
    "--Consulta aninhada\n",
    "SELECT id, gender FROM\n",
    " users\n",
    " WHERE id IN\n",
    "(SELECT user_id FROM ratings) LIMIT 10;"
   ]
  },
  {
   "cell_type": "code",
   "execution_count": 8,
   "id": "awful-device",
   "metadata": {},
   "outputs": [
    {
     "data": {
      "text/html": [
       "<html><body><table border=\"1\"><tr><th style=\"text-align:left;white-space:pre\">id</th><th style=\"text-align:left;white-space:pre\">gender</th></tr><tr><td style=\"text-align:left;white-space:pre\">196</td><td style=\"text-align:left;white-space:pre\">M</td></tr><tr><td style=\"text-align:left;white-space:pre\">186</td><td style=\"text-align:left;white-space:pre\">F</td></tr><tr><td style=\"text-align:left;white-space:pre\">22</td><td style=\"text-align:left;white-space:pre\">M</td></tr><tr><td style=\"text-align:left;white-space:pre\">244</td><td style=\"text-align:left;white-space:pre\">M</td></tr><tr><td style=\"text-align:left;white-space:pre\">166</td><td style=\"text-align:left;white-space:pre\">M</td></tr><tr><td style=\"text-align:left;white-space:pre\">298</td><td style=\"text-align:left;white-space:pre\">M</td></tr><tr><td style=\"text-align:left;white-space:pre\">115</td><td style=\"text-align:left;white-space:pre\">M</td></tr><tr><td style=\"text-align:left;white-space:pre\">253</td><td style=\"text-align:left;white-space:pre\">F</td></tr><tr><td style=\"text-align:left;white-space:pre\">305</td><td style=\"text-align:left;white-space:pre\">M</td></tr><tr><td style=\"text-align:left;white-space:pre\">6</td><td style=\"text-align:left;white-space:pre\">M</td></tr></table></body></html>"
      ]
     },
     "metadata": {},
     "output_type": "display_data"
    }
   ],
   "source": [
    "--Junção\n",
    "SELECT u.id, u.gender FROM\n",
    " users u JOIN ratings r on u.id = r.user_id\n",
    " LIMIT 10;"
   ]
  },
  {
   "cell_type": "markdown",
   "id": "indian-positive",
   "metadata": {},
   "source": [
    "## [Questão Exemplo] Quantos usuários são do sexo masculino e quantos usuários são do sexo feminino?"
   ]
  },
  {
   "cell_type": "code",
   "execution_count": 10,
   "id": "bronze-compact",
   "metadata": {},
   "outputs": [
    {
     "data": {
      "text/html": [
       "<html><body><table border=\"1\"><tr><th style=\"text-align:left;white-space:pre\">gender</th><th style=\"text-align:left;white-space:pre\">COUNT(*)</th></tr><tr><td style=\"text-align:left;white-space:pre\">F</td><td style=\"text-align:left;white-space:pre\">273</td></tr><tr><td style=\"text-align:left;white-space:pre\">M</td><td style=\"text-align:left;white-space:pre\">670</td></tr></table></body></html>"
      ]
     },
     "metadata": {},
     "output_type": "display_data"
    }
   ],
   "source": [
    "SELECT gender, COUNT(*)\n",
    "FROM users\n",
    "GROUP BY gender;"
   ]
  },
  {
   "cell_type": "markdown",
   "id": "criminal-pattern",
   "metadata": {},
   "source": [
    "## [Questão Exemplo] Quantos usuários tem o mesmo sexo e a mesma idade?"
   ]
  },
  {
   "cell_type": "code",
   "execution_count": 5,
   "id": "studied-laptop",
   "metadata": {},
   "outputs": [
    {
     "data": {
      "text/html": [
       "<html><body><table border=\"1\"><tr><th style=\"text-align:left;white-space:pre\">age</th><th style=\"text-align:left;white-space:pre\">gender</th><th style=\"text-align:left;white-space:pre\">COUNT(*)</th></tr><tr><td style=\"text-align:left;white-space:pre\">7</td><td style=\"text-align:left;white-space:pre\">M</td><td style=\"text-align:left;white-space:pre\">1</td></tr><tr><td style=\"text-align:left;white-space:pre\">10</td><td style=\"text-align:left;white-space:pre\">M</td><td style=\"text-align:left;white-space:pre\">1</td></tr><tr><td style=\"text-align:left;white-space:pre\">11</td><td style=\"text-align:left;white-space:pre\">M</td><td style=\"text-align:left;white-space:pre\">1</td></tr><tr><td style=\"text-align:left;white-space:pre\">13</td><td style=\"text-align:left;white-space:pre\">F</td><td style=\"text-align:left;white-space:pre\">2</td></tr><tr><td style=\"text-align:left;white-space:pre\">13</td><td style=\"text-align:left;white-space:pre\">M</td><td style=\"text-align:left;white-space:pre\">3</td></tr><tr><td style=\"text-align:left;white-space:pre\">14</td><td style=\"text-align:left;white-space:pre\">F</td><td style=\"text-align:left;white-space:pre\">3</td></tr><tr><td style=\"text-align:left;white-space:pre\">15</td><td style=\"text-align:left;white-space:pre\">F</td><td style=\"text-align:left;white-space:pre\">3</td></tr><tr><td style=\"text-align:left;white-space:pre\">15</td><td style=\"text-align:left;white-space:pre\">M</td><td style=\"text-align:left;white-space:pre\">3</td></tr><tr><td style=\"text-align:left;white-space:pre\">16</td><td style=\"text-align:left;white-space:pre\">F</td><td style=\"text-align:left;white-space:pre\">2</td></tr><tr><td style=\"text-align:left;white-space:pre\">16</td><td style=\"text-align:left;white-space:pre\">M</td><td style=\"text-align:left;white-space:pre\">3</td></tr><tr><td style=\"text-align:left;white-space:pre\">17</td><td style=\"text-align:left;white-space:pre\">F</td><td style=\"text-align:left;white-space:pre\">3</td></tr><tr><td style=\"text-align:left;white-space:pre\">17</td><td style=\"text-align:left;white-space:pre\">M</td><td style=\"text-align:left;white-space:pre\">11</td></tr><tr><td style=\"text-align:left;white-space:pre\">18</td><td style=\"text-align:left;white-space:pre\">F</td><td style=\"text-align:left;white-space:pre\">11</td></tr><tr><td style=\"text-align:left;white-space:pre\">18</td><td style=\"text-align:left;white-space:pre\">M</td><td style=\"text-align:left;white-space:pre\">7</td></tr><tr><td style=\"text-align:left;white-space:pre\">19</td><td style=\"text-align:left;white-space:pre\">F</td><td style=\"text-align:left;white-space:pre\">8</td></tr><tr><td style=\"text-align:left;white-space:pre\">19</td><td style=\"text-align:left;white-space:pre\">M</td><td style=\"text-align:left;white-space:pre\">15</td></tr><tr><td style=\"text-align:left;white-space:pre\">20</td><td style=\"text-align:left;white-space:pre\">F</td><td style=\"text-align:left;white-space:pre\">10</td></tr><tr><td style=\"text-align:left;white-space:pre\">20</td><td style=\"text-align:left;white-space:pre\">M</td><td style=\"text-align:left;white-space:pre\">22</td></tr><tr><td style=\"text-align:left;white-space:pre\">21</td><td style=\"text-align:left;white-space:pre\">F</td><td style=\"text-align:left;white-space:pre\">7</td></tr><tr><td style=\"text-align:left;white-space:pre\">21</td><td style=\"text-align:left;white-space:pre\">M</td><td style=\"text-align:left;white-space:pre\">20</td></tr><tr><td style=\"text-align:left;white-space:pre\">22</td><td style=\"text-align:left;white-space:pre\">F</td><td style=\"text-align:left;white-space:pre\">7</td></tr><tr><td style=\"text-align:left;white-space:pre\">22</td><td style=\"text-align:left;white-space:pre\">M</td><td style=\"text-align:left;white-space:pre\">30</td></tr><tr><td style=\"text-align:left;white-space:pre\">23</td><td style=\"text-align:left;white-space:pre\">F</td><td style=\"text-align:left;white-space:pre\">6</td></tr><tr><td style=\"text-align:left;white-space:pre\">23</td><td style=\"text-align:left;white-space:pre\">M</td><td style=\"text-align:left;white-space:pre\">22</td></tr><tr><td style=\"text-align:left;white-space:pre\">24</td><td style=\"text-align:left;white-space:pre\">F</td><td style=\"text-align:left;white-space:pre\">6</td></tr><tr><td style=\"text-align:left;white-space:pre\">24</td><td style=\"text-align:left;white-space:pre\">M</td><td style=\"text-align:left;white-space:pre\">27</td></tr><tr><td style=\"text-align:left;white-space:pre\">25</td><td style=\"text-align:left;white-space:pre\">F</td><td style=\"text-align:left;white-space:pre\">8</td></tr><tr><td style=\"text-align:left;white-space:pre\">25</td><td style=\"text-align:left;white-space:pre\">M</td><td style=\"text-align:left;white-space:pre\">30</td></tr><tr><td style=\"text-align:left;white-space:pre\">26</td><td style=\"text-align:left;white-space:pre\">F</td><td style=\"text-align:left;white-space:pre\">9</td></tr><tr><td style=\"text-align:left;white-space:pre\">26</td><td style=\"text-align:left;white-space:pre\">M</td><td style=\"text-align:left;white-space:pre\">25</td></tr><tr><td style=\"text-align:left;white-space:pre\">27</td><td style=\"text-align:left;white-space:pre\">F</td><td style=\"text-align:left;white-space:pre\">10</td></tr><tr><td style=\"text-align:left;white-space:pre\">27</td><td style=\"text-align:left;white-space:pre\">M</td><td style=\"text-align:left;white-space:pre\">25</td></tr><tr><td style=\"text-align:left;white-space:pre\">28</td><td style=\"text-align:left;white-space:pre\">F</td><td style=\"text-align:left;white-space:pre\">10</td></tr><tr><td style=\"text-align:left;white-space:pre\">28</td><td style=\"text-align:left;white-space:pre\">M</td><td style=\"text-align:left;white-space:pre\">26</td></tr><tr><td style=\"text-align:left;white-space:pre\">29</td><td style=\"text-align:left;white-space:pre\">F</td><td style=\"text-align:left;white-space:pre\">12</td></tr><tr><td style=\"text-align:left;white-space:pre\">29</td><td style=\"text-align:left;white-space:pre\">M</td><td style=\"text-align:left;white-space:pre\">20</td></tr><tr><td style=\"text-align:left;white-space:pre\">30</td><td style=\"text-align:left;white-space:pre\">F</td><td style=\"text-align:left;white-space:pre\">12</td></tr><tr><td style=\"text-align:left;white-space:pre\">30</td><td style=\"text-align:left;white-space:pre\">M</td><td style=\"text-align:left;white-space:pre\">27</td></tr><tr><td style=\"text-align:left;white-space:pre\">31</td><td style=\"text-align:left;white-space:pre\">F</td><td style=\"text-align:left;white-space:pre\">6</td></tr><tr><td style=\"text-align:left;white-space:pre\">31</td><td style=\"text-align:left;white-space:pre\">M</td><td style=\"text-align:left;white-space:pre\">19</td></tr><tr><td style=\"text-align:left;white-space:pre\">32</td><td style=\"text-align:left;white-space:pre\">F</td><td style=\"text-align:left;white-space:pre\">5</td></tr><tr><td style=\"text-align:left;white-space:pre\">32</td><td style=\"text-align:left;white-space:pre\">M</td><td style=\"text-align:left;white-space:pre\">23</td></tr><tr><td style=\"text-align:left;white-space:pre\">33</td><td style=\"text-align:left;white-space:pre\">F</td><td style=\"text-align:left;white-space:pre\">6</td></tr><tr><td style=\"text-align:left;white-space:pre\">33</td><td style=\"text-align:left;white-space:pre\">M</td><td style=\"text-align:left;white-space:pre\">20</td></tr><tr><td style=\"text-align:left;white-space:pre\">34</td><td style=\"text-align:left;white-space:pre\">F</td><td style=\"text-align:left;white-space:pre\">1</td></tr><tr><td style=\"text-align:left;white-space:pre\">34</td><td style=\"text-align:left;white-space:pre\">M</td><td style=\"text-align:left;white-space:pre\">16</td></tr><tr><td style=\"text-align:left;white-space:pre\">35</td><td style=\"text-align:left;white-space:pre\">F</td><td style=\"text-align:left;white-space:pre\">11</td></tr><tr><td style=\"text-align:left;white-space:pre\">35</td><td style=\"text-align:left;white-space:pre\">M</td><td style=\"text-align:left;white-space:pre\">16</td></tr><tr><td style=\"text-align:left;white-space:pre\">36</td><td style=\"text-align:left;white-space:pre\">F</td><td style=\"text-align:left;white-space:pre\">7</td></tr><tr><td style=\"text-align:left;white-space:pre\">36</td><td style=\"text-align:left;white-space:pre\">M</td><td style=\"text-align:left;white-space:pre\">14</td></tr><tr><td style=\"text-align:left;white-space:pre\">37</td><td style=\"text-align:left;white-space:pre\">F</td><td style=\"text-align:left;white-space:pre\">6</td></tr><tr><td style=\"text-align:left;white-space:pre\">37</td><td style=\"text-align:left;white-space:pre\">M</td><td style=\"text-align:left;white-space:pre\">13</td></tr><tr><td style=\"text-align:left;white-space:pre\">38</td><td style=\"text-align:left;white-space:pre\">F</td><td style=\"text-align:left;white-space:pre\">7</td></tr><tr><td style=\"text-align:left;white-space:pre\">38</td><td style=\"text-align:left;white-space:pre\">M</td><td style=\"text-align:left;white-space:pre\">10</td></tr><tr><td style=\"text-align:left;white-space:pre\">39</td><td style=\"text-align:left;white-space:pre\">F</td><td style=\"text-align:left;white-space:pre\">5</td></tr><tr><td style=\"text-align:left;white-space:pre\">39</td><td style=\"text-align:left;white-space:pre\">M</td><td style=\"text-align:left;white-space:pre\">17</td></tr><tr><td style=\"text-align:left;white-space:pre\">40</td><td style=\"text-align:left;white-space:pre\">F</td><td style=\"text-align:left;white-space:pre\">7</td></tr><tr><td style=\"text-align:left;white-space:pre\">40</td><td style=\"text-align:left;white-space:pre\">M</td><td style=\"text-align:left;white-space:pre\">14</td></tr><tr><td style=\"text-align:left;white-space:pre\">41</td><td style=\"text-align:left;white-space:pre\">F</td><td style=\"text-align:left;white-space:pre\">3</td></tr><tr><td style=\"text-align:left;white-space:pre\">41</td><td style=\"text-align:left;white-space:pre\">M</td><td style=\"text-align:left;white-space:pre\">7</td></tr><tr><td style=\"text-align:left;white-space:pre\">42</td><td style=\"text-align:left;white-space:pre\">F</td><td style=\"text-align:left;white-space:pre\">5</td></tr><tr><td style=\"text-align:left;white-space:pre\">42</td><td style=\"text-align:left;white-space:pre\">M</td><td style=\"text-align:left;white-space:pre\">16</td></tr><tr><td style=\"text-align:left;white-space:pre\">43</td><td style=\"text-align:left;white-space:pre\">F</td><td style=\"text-align:left;white-space:pre\">6</td></tr><tr><td style=\"text-align:left;white-space:pre\">43</td><td style=\"text-align:left;white-space:pre\">M</td><td style=\"text-align:left;white-space:pre\">7</td></tr><tr><td style=\"text-align:left;white-space:pre\">44</td><td style=\"text-align:left;white-space:pre\">F</td><td style=\"text-align:left;white-space:pre\">12</td></tr><tr><td style=\"text-align:left;white-space:pre\">44</td><td style=\"text-align:left;white-space:pre\">M</td><td style=\"text-align:left;white-space:pre\">11</td></tr><tr><td style=\"text-align:left;white-space:pre\">45</td><td style=\"text-align:left;white-space:pre\">F</td><td style=\"text-align:left;white-space:pre\">2</td></tr><tr><td style=\"text-align:left;white-space:pre\">45</td><td style=\"text-align:left;white-space:pre\">M</td><td style=\"text-align:left;white-space:pre\">13</td></tr><tr><td style=\"text-align:left;white-space:pre\">46</td><td style=\"text-align:left;white-space:pre\">F</td><td style=\"text-align:left;white-space:pre\">2</td></tr><tr><td style=\"text-align:left;white-space:pre\">46</td><td style=\"text-align:left;white-space:pre\">M</td><td style=\"text-align:left;white-space:pre\">10</td></tr><tr><td style=\"text-align:left;white-space:pre\">47</td><td style=\"text-align:left;white-space:pre\">F</td><td style=\"text-align:left;white-space:pre\">3</td></tr><tr><td style=\"text-align:left;white-space:pre\">47</td><td style=\"text-align:left;white-space:pre\">M</td><td style=\"text-align:left;white-space:pre\">11</td></tr><tr><td style=\"text-align:left;white-space:pre\">48</td><td style=\"text-align:left;white-space:pre\">F</td><td style=\"text-align:left;white-space:pre\">7</td></tr><tr><td style=\"text-align:left;white-space:pre\">48</td><td style=\"text-align:left;white-space:pre\">M</td><td style=\"text-align:left;white-space:pre\">13</td></tr><tr><td style=\"text-align:left;white-space:pre\">49</td><td style=\"text-align:left;white-space:pre\">F</td><td style=\"text-align:left;white-space:pre\">9</td></tr><tr><td style=\"text-align:left;white-space:pre\">49</td><td style=\"text-align:left;white-space:pre\">M</td><td style=\"text-align:left;white-space:pre\">10</td></tr><tr><td style=\"text-align:left;white-space:pre\">50</td><td style=\"text-align:left;white-space:pre\">F</td><td style=\"text-align:left;white-space:pre\">9</td></tr><tr><td style=\"text-align:left;white-space:pre\">50</td><td style=\"text-align:left;white-space:pre\">M</td><td style=\"text-align:left;white-space:pre\">11</td></tr><tr><td style=\"text-align:left;white-space:pre\">51</td><td style=\"text-align:left;white-space:pre\">F</td><td style=\"text-align:left;white-space:pre\">7</td></tr><tr><td style=\"text-align:left;white-space:pre\">51</td><td style=\"text-align:left;white-space:pre\">M</td><td style=\"text-align:left;white-space:pre\">13</td></tr><tr><td style=\"text-align:left;white-space:pre\">52</td><td style=\"text-align:left;white-space:pre\">F</td><td style=\"text-align:left;white-space:pre\">2</td></tr><tr><td style=\"text-align:left;white-space:pre\">52</td><td style=\"text-align:left;white-space:pre\">M</td><td style=\"text-align:left;white-space:pre\">4</td></tr><tr><td style=\"text-align:left;white-space:pre\">53</td><td style=\"text-align:left;white-space:pre\">F</td><td style=\"text-align:left;white-space:pre\">5</td></tr><tr><td style=\"text-align:left;white-space:pre\">53</td><td style=\"text-align:left;white-space:pre\">M</td><td style=\"text-align:left;white-space:pre\">7</td></tr><tr><td style=\"text-align:left;white-space:pre\">54</td><td style=\"text-align:left;white-space:pre\">F</td><td style=\"text-align:left;white-space:pre\">2</td></tr><tr><td style=\"text-align:left;white-space:pre\">54</td><td style=\"text-align:left;white-space:pre\">M</td><td style=\"text-align:left;white-space:pre\">2</td></tr><tr><td style=\"text-align:left;white-space:pre\">55</td><td style=\"text-align:left;white-space:pre\">F</td><td style=\"text-align:left;white-space:pre\">2</td></tr><tr><td style=\"text-align:left;white-space:pre\">55</td><td style=\"text-align:left;white-space:pre\">M</td><td style=\"text-align:left;white-space:pre\">9</td></tr><tr><td style=\"text-align:left;white-space:pre\">56</td><td style=\"text-align:left;white-space:pre\">F</td><td style=\"text-align:left;white-space:pre\">2</td></tr><tr><td style=\"text-align:left;white-space:pre\">56</td><td style=\"text-align:left;white-space:pre\">M</td><td style=\"text-align:left;white-space:pre\">4</td></tr><tr><td style=\"text-align:left;white-space:pre\">57</td><td style=\"text-align:left;white-space:pre\">F</td><td style=\"text-align:left;white-space:pre\">1</td></tr><tr><td style=\"text-align:left;white-space:pre\">57</td><td style=\"text-align:left;white-space:pre\">M</td><td style=\"text-align:left;white-space:pre\">8</td></tr><tr><td style=\"text-align:left;white-space:pre\">58</td><td style=\"text-align:left;white-space:pre\">M</td><td style=\"text-align:left;white-space:pre\">3</td></tr><tr><td style=\"text-align:left;white-space:pre\">59</td><td style=\"text-align:left;white-space:pre\">F</td><td style=\"text-align:left;white-space:pre\">2</td></tr><tr><td style=\"text-align:left;white-space:pre\">59</td><td style=\"text-align:left;white-space:pre\">M</td><td style=\"text-align:left;white-space:pre\">1</td></tr><tr><td style=\"text-align:left;white-space:pre\">60</td><td style=\"text-align:left;white-space:pre\">M</td><td style=\"text-align:left;white-space:pre\">9</td></tr><tr><td style=\"text-align:left;white-space:pre\">61</td><td style=\"text-align:left;white-space:pre\">M</td><td style=\"text-align:left;white-space:pre\">3</td></tr><tr><td style=\"text-align:left;white-space:pre\">62</td><td style=\"text-align:left;white-space:pre\">F</td><td style=\"text-align:left;white-space:pre\">1</td></tr><tr><td style=\"text-align:left;white-space:pre\">62</td><td style=\"text-align:left;white-space:pre\">M</td><td style=\"text-align:left;white-space:pre\">1</td></tr><tr><td style=\"text-align:left;white-space:pre\">63</td><td style=\"text-align:left;white-space:pre\">M</td><td style=\"text-align:left;white-space:pre\">3</td></tr><tr><td style=\"text-align:left;white-space:pre\">64</td><td style=\"text-align:left;white-space:pre\">M</td><td style=\"text-align:left;white-space:pre\">2</td></tr><tr><td style=\"text-align:left;white-space:pre\">65</td><td style=\"text-align:left;white-space:pre\">M</td><td style=\"text-align:left;white-space:pre\">3</td></tr><tr><td style=\"text-align:left;white-space:pre\">66</td><td style=\"text-align:left;white-space:pre\">M</td><td style=\"text-align:left;white-space:pre\">1</td></tr><tr><td style=\"text-align:left;white-space:pre\">68</td><td style=\"text-align:left;white-space:pre\">M</td><td style=\"text-align:left;white-space:pre\">2</td></tr><tr><td style=\"text-align:left;white-space:pre\">69</td><td style=\"text-align:left;white-space:pre\">M</td><td style=\"text-align:left;white-space:pre\">2</td></tr><tr><td style=\"text-align:left;white-space:pre\">70</td><td style=\"text-align:left;white-space:pre\">F</td><td style=\"text-align:left;white-space:pre\">1</td></tr><tr><td style=\"text-align:left;white-space:pre\">70</td><td style=\"text-align:left;white-space:pre\">M</td><td style=\"text-align:left;white-space:pre\">2</td></tr><tr><td style=\"text-align:left;white-space:pre\">73</td><td style=\"text-align:left;white-space:pre\">M</td><td style=\"text-align:left;white-space:pre\">1</td></tr></table></body></html>"
      ]
     },
     "metadata": {},
     "output_type": "display_data"
    }
   ],
   "source": [
    "SELECT age, gender, COUNT(*)\n",
    "FROM users\n",
    "GROUP BY age, gender;"
   ]
  },
  {
   "cell_type": "markdown",
   "id": "judicial-reference",
   "metadata": {},
   "source": [
    "## [Questão 1] Liste todos os filmes\n",
    "<!--\n",
    "SELECT * FROM movies LIMIT 10; \n",
    "-->"
   ]
  },
  {
   "cell_type": "code",
   "execution_count": null,
   "id": "controversial-weather",
   "metadata": {},
   "outputs": [],
   "source": []
  },
  {
   "cell_type": "markdown",
   "id": "graphic-savings",
   "metadata": {},
   "source": [
    "## [Questão 2] Liste todos os títulos e data de lançamento dos filmes\n",
    "<!--\n",
    "SELECT title, release_date FROM movies LIMIT 10; \n",
    "-->"
   ]
  },
  {
   "cell_type": "code",
   "execution_count": null,
   "id": "intellectual-occasion",
   "metadata": {},
   "outputs": [],
   "source": []
  },
  {
   "cell_type": "markdown",
   "id": "forty-swaziland",
   "metadata": {},
   "source": [
    "## [Questão 3] Liste todas as datas que tiveram lançamento de filmes sem repetição\n",
    "<!--\n",
    "SELECT DISTINCT release_date FROM movies LIMIT 10; \n",
    "-->"
   ]
  },
  {
   "cell_type": "code",
   "execution_count": null,
   "id": "first-offering",
   "metadata": {},
   "outputs": [],
   "source": []
  },
  {
   "cell_type": "markdown",
   "id": "restricted-petersburg",
   "metadata": {},
   "source": [
    "## [Questão 4] Liste o título de todos os filmes com data de lançamento maior que 07/07/1995\n",
    "<!--\n",
    "SELECT title, release_date FROM movies WHERE release_date > str_to_date(\"07/07/1995\", \"%d/%m/%Y\") LIMIT 20;\n",
    "-->"
   ]
  },
  {
   "cell_type": "code",
   "execution_count": null,
   "id": "floating-column",
   "metadata": {},
   "outputs": [],
   "source": []
  },
  {
   "cell_type": "markdown",
   "id": "dutch-connectivity",
   "metadata": {},
   "source": [
    "## [Questão 5] Liste todos os usuários e o nome de suas profissões \n",
    "<!--\n",
    "SELECT u.id as user_id, o.name as occupation FROM users u JOIN occupations o ON u.occupation_id = o.id  LIMIT 10; \n",
    "-->"
   ]
  },
  {
   "cell_type": "code",
   "execution_count": null,
   "id": "desirable-healing",
   "metadata": {},
   "outputs": [],
   "source": []
  },
  {
   "cell_type": "markdown",
   "id": "complete-argentina",
   "metadata": {},
   "source": [
    "## [Questão 6] Liste o título dos filmes que contenham a palavra \"Treasure\" em seu título\n",
    "<!--\n",
    "SELECT title FROM movies WHERE title LIKE '%Treasure%'; \n",
    "-->"
   ]
  },
  {
   "cell_type": "code",
   "execution_count": null,
   "id": "royal-dynamics",
   "metadata": {},
   "outputs": [],
   "source": []
  },
  {
   "cell_type": "markdown",
   "id": "paperback-detail",
   "metadata": {},
   "source": [
    "## [Questão 7] Liste todos as ocupações com \"o\" na penultima posição do nome"
   ]
  },
  {
   "cell_type": "code",
   "execution_count": null,
   "id": "bridal-orange",
   "metadata": {},
   "outputs": [],
   "source": []
  },
  {
   "cell_type": "markdown",
   "id": "juvenile-heather",
   "metadata": {},
   "source": [
    "## [Questão 8] Insira dois usuários com ids 2000 e 3000 com a profissão \"Programmer\" (id 15). Escolha outros valores para os demais campos.\n",
    "\n",
    "<!--\n",
    "SELECT * FROM users WHERE id >= 2000;\n",
    "\n",
    "INSERT INTO users VALUES(2000, 35, \"M\", 15, \"123456\");\n",
    "\n",
    "INSERT INTO users VALUES(3000, 30, \"F\", 15, \"123456\");\n",
    "\n",
    "SELECT * FROM users WHERE id >= 2000;\n",
    "-->"
   ]
  },
  {
   "cell_type": "code",
   "execution_count": null,
   "id": "spectacular-electric",
   "metadata": {},
   "outputs": [],
   "source": []
  },
  {
   "cell_type": "markdown",
   "id": "breathing-methodology",
   "metadata": {},
   "source": [
    "## [Questão 9] Altere a profissão do usuário de id 3000 para \"Scientist\" (id 18)\n",
    "<!--\n",
    "SELECT * FROM users WHERE id = 3000;\n",
    "\n",
    "UPDATE users\n",
    "       SET occupation_id = 18\n",
    "       WHERE id = 3000;\n",
    "\n",
    "SELECT * FROM users WHERE id = 3000;\n",
    "-->"
   ]
  },
  {
   "cell_type": "code",
   "execution_count": null,
   "id": "legitimate-latin",
   "metadata": {},
   "outputs": [],
   "source": []
  },
  {
   "cell_type": "markdown",
   "id": "indoor-prayer",
   "metadata": {},
   "source": [
    "## [Questão 10] Delete o usuário de id 3000\n",
    "<!--\n",
    "SELECT * FROM users WHERE id = 3000;\n",
    "\n",
    "DELETE FROM users WHERE id = 3000;\n",
    "\n",
    "SELECT * FROM users WHERE id >= 2000;\n",
    "-->"
   ]
  },
  {
   "cell_type": "code",
   "execution_count": null,
   "id": "impaired-russian",
   "metadata": {},
   "outputs": [],
   "source": []
  },
  {
   "cell_type": "markdown",
   "id": "handed-director",
   "metadata": {},
   "source": [
    "## [Questão 11] Liste todos os usuários que não fizeram nenhuma avaliação de filme\n",
    "<!--\n",
    "--SOLUÇÃO 01\n",
    "SELECT id FROM users WHERE id NOT IN (SELECT user_id FROM ratings);\n",
    "\n",
    "--SOLUÇÃO 02\n",
    "SELECT u.id FROM users u LEFT JOIN ratings r ON u.id = r.user_id WHERE r.user_id IS NULL;\n",
    "-->"
   ]
  },
  {
   "cell_type": "code",
   "execution_count": null,
   "id": "breeding-commodity",
   "metadata": {},
   "outputs": [],
   "source": []
  },
  {
   "cell_type": "markdown",
   "id": "chemical-boxing",
   "metadata": {},
   "source": [
    "## [Questão 12] Liste o título dos filmes e seus gêneros\n",
    "<!--\n",
    "SELECT m.title, g.name FROM movies m JOIN genres_movies gm ON m.id = gm.movie_id \n",
    "                                     JOIN genres g         ON g.id = gm.genre_id \n",
    "                                     LIMIT 10;\n",
    "-->"
   ]
  },
  {
   "cell_type": "code",
   "execution_count": null,
   "id": "crazy-sampling",
   "metadata": {},
   "outputs": [],
   "source": []
  },
  {
   "cell_type": "markdown",
   "id": "earned-tongue",
   "metadata": {},
   "source": [
    "## [Questão 13] Quantos usuários possuem a profissão \"Student\"?\n",
    "<!--\n",
    "SELECT oc.name, COUNT(*) FROM users u JOIN occupations oc ON u.occupation_id = oc.id WHERE oc.name = 'Student' GROUP BY oc.name;\n",
    "-->"
   ]
  },
  {
   "cell_type": "code",
   "execution_count": null,
   "id": "suspected-diversity",
   "metadata": {},
   "outputs": [],
   "source": []
  },
  {
   "cell_type": "markdown",
   "id": "governing-simon",
   "metadata": {},
   "source": [
    "## [Questão 14] Quais estudantes avaliaram filmes que possuem a palavra \"Man\" em seu título?\n",
    "<!--\n",
    "SELECT DISTINCT u.id as user_id, oc.name as occupation FROM occupations oc JOIN users u ON u.occupation_id = oc.id \n",
    "                                                                  JOIN ratings r ON r.user_id = u.id\n",
    "                                                                  JOIN movies m ON m.id = r.movie_id\n",
    "                                                                  WHERE oc.name = \"Student\" AND m.title LIKE \"%Man%\"\n",
    "                                                                  LIMIT 10;\n",
    "-->"
   ]
  },
  {
   "cell_type": "code",
   "execution_count": null,
   "id": "amino-theater",
   "metadata": {},
   "outputs": [],
   "source": []
  },
  {
   "cell_type": "markdown",
   "id": "exceptional-baking",
   "metadata": {},
   "source": [
    "## [Questão 15] Quantos estudantes menores de 18 anos avaliaram filmes de terror ou crime\n",
    "<!--\n",
    "--SOLUÇÃO 1\n",
    "SELECT COUNT(DISTINCT u.id) as Quantidade FROM occupations oc JOIN users u ON u.occupation_id = oc.id \n",
    "                                                                  JOIN ratings r ON r.user_id = u.id\n",
    "                                                                  WHERE oc.name = \"Student\" AND u.age < 18 \n",
    "                                                                        AND r.movie_id IN\n",
    "                                                                          (SELECT DISTINCT m.id FROM movies m JOIN genres_movies gm ON m.id = gm.movie_id\n",
    "                                                                                                     JOIN genres g ON g.id = gm.genre_id  \n",
    "                                                                                       WHERE g.name = \"Horror\" OR g.name = \"Crime\");\n",
    "\n",
    "\n",
    "--SOLUÇÃO 2\n",
    "SELECT COUNT(DISTINCT u.id) as Quantidade FROM occupations oc JOIN users u ON u.occupation_id = oc.id \n",
    "                                                              JOIN ratings r ON r.user_id = u.id\n",
    "                                                              JOIN movies m ON r.movie_id = m.id\n",
    "                                                              JOIN genres_movies gm ON m.id = gm.movie_id\n",
    "                                                              JOIN genres g ON g.id = gm.genre_id\n",
    "                                                              WHERE oc.name = \"Student\" AND u.age < 18 AND g.name IN (\"Horror\",\"Crime\");\n",
    "                                                                        \n",
    "-->"
   ]
  },
  {
   "cell_type": "code",
   "execution_count": null,
   "id": "essential-upgrade",
   "metadata": {},
   "outputs": [],
   "source": []
  },
  {
   "cell_type": "markdown",
   "id": "tamil-abraham",
   "metadata": {},
   "source": [
    "## [Questão 16] Qual são os ids dos 10 filmes mais populares?\n",
    "<!--\n",
    "SELECT movie_id, count(rating) as avaliacoes FROM ratings GROUP BY movie_id ORDER BY avaliacoes DESC LIMIT 10;\n",
    "-->"
   ]
  },
  {
   "cell_type": "code",
   "execution_count": null,
   "id": "vocational-clarity",
   "metadata": {},
   "outputs": [],
   "source": []
  },
  {
   "cell_type": "markdown",
   "id": "behavioral-contrast",
   "metadata": {},
   "source": [
    "## [Questão 17] Crie uma View com a média de avaliações de cada filme. A partir da view, quais os nomes dos filmes com maior média de avaliação? \n",
    "\n",
    "<!--\n",
    "CREATE OR REPLACE VIEW ratings_avg AS SELECT movie_id, AVG(rating) as media FROM ratings GROUP BY movie_id;\n",
    "\n",
    "SELECT * FROM ratings_avg ORDER BY media DESC LIMIT 20;\n",
    "\n",
    "SELECT m.title, m.id FROM ratings_avg ra JOIN movies m ON ra.movie_id = m.id WHERE ra.media IN (SELECT MAX(media) FROM ratings_avg);\n",
    "-->"
   ]
  },
  {
   "cell_type": "code",
   "execution_count": null,
   "id": "coastal-forty",
   "metadata": {},
   "outputs": [],
   "source": []
  },
  {
   "cell_type": "markdown",
   "id": "industrial-perfume",
   "metadata": {},
   "source": [
    "## [Questão 18] Quais os nomes dos top 10 filmes com melhor média de avaliação considerando filmes que possuem mais de 10 avaliações?\n",
    "\n",
    "### Você pode utilizar Views caso ache pertinente\n",
    "<!--\n",
    "--SOLUÇÃO 01 - JOIN VIEWS\n",
    "CREATE OR REPLACE VIEW top_movies AS SELECT movie_id, count(rating) as avaliacoes FROM ratings GROUP BY movie_id;\n",
    "\n",
    "SELECT  m.id as id, m.title as title, ra.media as media, tm.avaliacoes as avaliacoes\n",
    "FROM ratings_avg ra JOIN top_movies tm ON ra.movie_id = tm.movie_id\n",
    "JOIN movies m ON tm.movie_id = m.id\n",
    "WHERE tm.avaliacoes >10\n",
    "ORDER BY media DESC\n",
    "LIMIT 10;\n",
    "\n",
    "-- SOLUÇÃO 02 - HAVING\n",
    "SELECT r.movie_id, m.title, AVG(r.rating) as rating_avg, COUNT(r.rating) as rating_count\n",
    "FROM ratings r JOIN movies m ON r.movie_id = m.id\n",
    "GROUP BY r.movie_id, m.title\n",
    "HAVING rating_count > 10\n",
    "ORDER BY rating_avg DESC\n",
    "LIMIT 10;\n",
    "-->"
   ]
  },
  {
   "cell_type": "code",
   "execution_count": null,
   "id": "grateful-jewel",
   "metadata": {},
   "outputs": [],
   "source": []
  },
  {
   "cell_type": "markdown",
   "id": "excessive-contamination",
   "metadata": {},
   "source": [
    "## [EXTRA] Com base na questão 17, retorne em apenas uma consulta, todos os nomes de filmes com a maior ou menor média de avaliação.\n",
    "\n",
    "<!--\n",
    "SELECT m.*, ra.media FROM movies m JOIN ratings_avg ra ON m.id = ra.movie_id\n",
    "WHERE ra.media IN\n",
    "(SELECT MAX(media) FROM ratings_avg\n",
    "UNION\n",
    "SELECT MIN(media) FROM ratings_avg);\n",
    "-->"
   ]
  },
  {
   "cell_type": "code",
   "execution_count": null,
   "id": "demonstrated-cooperation",
   "metadata": {},
   "outputs": [],
   "source": []
  },
  {
   "cell_type": "markdown",
   "id": "capable-wyoming",
   "metadata": {},
   "source": [
    "## [DESAFIO] Como que ficaria o modelo lógico do banco de dados para que fosse possível implementar a seguinte funcionalidade: \"usuários podem ser amigos de outros usuários\"?"
   ]
  },
  {
   "cell_type": "code",
   "execution_count": null,
   "id": "awful-location",
   "metadata": {},
   "outputs": [],
   "source": []
  },
  {
   "cell_type": "markdown",
   "id": "polyphonic-captain",
   "metadata": {},
   "source": [
    "## [DESAFIO] Crie comandos SQL para popular o seu banco de dados inserindo amizades entre usuários."
   ]
  },
  {
   "cell_type": "code",
   "execution_count": null,
   "id": "covered-repository",
   "metadata": {},
   "outputs": [],
   "source": []
  },
  {
   "cell_type": "markdown",
   "id": "beginning-harrison",
   "metadata": {},
   "source": [
    "## [DESAFIO] Quais são os filmes avaliados pelos amigos dos amigos do usuário de id 1? \n",
    "\n",
    "### Se for necessário, crie comandos SQL para popular o seu banco de dados para adicionar amigos ao usuário de id 1 e outros usuários"
   ]
  },
  {
   "cell_type": "code",
   "execution_count": null,
   "id": "former-sheriff",
   "metadata": {},
   "outputs": [],
   "source": []
  }
 ],
 "metadata": {
  "kernelspec": {
   "display_name": "MariaDB",
   "language": "SQL",
   "name": "mariadb_kernel"
  },
  "language_info": {
   "file_extension": ".sql",
   "mimetype": "text/plain",
   "name": "SQL"
  }
 },
 "nbformat": 4,
 "nbformat_minor": 5
}
