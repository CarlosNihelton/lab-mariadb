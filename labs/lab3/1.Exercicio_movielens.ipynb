{
 "cells": [
  {
   "cell_type": "markdown",
   "id": "metallic-jason",
   "metadata": {},
   "source": [
    "# Movielens"
   ]
  },
  {
   "cell_type": "markdown",
   "id": "dramatic-cocktail",
   "metadata": {},
   "source": [
    "Este [dataset](https://grouplens.org/datasets/movielens/100k/) descreve as avaliações de filmes feitas por usuários no site [MovieLens](https://movielens.org/), um serviço de recomendação de filmes. As avaliações (ratings) variam de 1 a 5, cada usuário avaliou pelo menos 20 filmes e existem simples informações demográficas sobre os usuários. Existem no banco de dados, aproximadamente, 100,000 avaliações de 1000 usuários feitas a 1700 filmes."
   ]
  },
  {
   "cell_type": "markdown",
   "id": "formal-sperm",
   "metadata": {},
   "source": [
    "## Descrição das tabelas"
   ]
  },
  {
   "cell_type": "markdown",
   "id": "suspended-philosophy",
   "metadata": {},
   "source": [
    "* **Occupations**: Armazena a lista de ocupações dos usuários;\n",
    "* **Users**: Armazena informações sobre os usuários, por exemplo, idade e cep;\n",
    "* **Ratings**: Armazena as notas que os usuários atribuíram aos filmes e em qual momento esta nota foi atribuída;\n",
    "* **Movies**: Armazena informações dos filmes;\n",
    "* **Genres_movies**: Armazena o relacionamento dos gêneros e dos filmes;\n",
    "* **Genres**: Armazena a lista de gêneros."
   ]
  },
  {
   "cell_type": "markdown",
   "id": "graduate-central",
   "metadata": {},
   "source": [
    "## Modelo lógico"
   ]
  },
  {
   "cell_type": "markdown",
   "id": "important-federal",
   "metadata": {},
   "source": [
    "<img src=\"../../resources/images/movielens_diagram.png\" width=\"1000px\">\n"
   ]
  },
  {
   "cell_type": "code",
   "execution_count": 1,
   "id": "specified-shell",
   "metadata": {},
   "outputs": [
    {
     "data": {
      "text/html": [
       "Query OK"
      ]
     },
     "metadata": {},
     "output_type": "display_data"
    }
   ],
   "source": [
    "USE movielens;"
   ]
  },
  {
   "cell_type": "markdown",
   "id": "rubber-scene",
   "metadata": {},
   "source": [
    "## [Questão Exemplo] Liste todos os usuários\n",
    "<!--\n",
    "SELECT * FROM users LIMIT 10;\n",
    "SELECT * FROM users; -->"
   ]
  },
  {
   "cell_type": "code",
   "execution_count": 5,
   "id": "pediatric-antigua",
   "metadata": {},
   "outputs": [
    {
     "data": {
      "text/html": [
       "<html><body><table border=\"1\"><tr><th style=\"text-align:left;white-space:pre\">id</th><th style=\"text-align:left;white-space:pre\">age</th><th style=\"text-align:left;white-space:pre\">gender</th><th style=\"text-align:left;white-space:pre\">occupation_id</th><th style=\"text-align:left;white-space:pre\">zip_code</th></tr><tr><td style=\"text-align:left;white-space:pre\">1</td><td style=\"text-align:left;white-space:pre\">24</td><td style=\"text-align:left;white-space:pre\">M</td><td style=\"text-align:left;white-space:pre\">20</td><td style=\"text-align:left;white-space:pre\">85711</td></tr><tr><td style=\"text-align:left;white-space:pre\">2</td><td style=\"text-align:left;white-space:pre\">53</td><td style=\"text-align:left;white-space:pre\">F</td><td style=\"text-align:left;white-space:pre\">14</td><td style=\"text-align:left;white-space:pre\">94043</td></tr><tr><td style=\"text-align:left;white-space:pre\">3</td><td style=\"text-align:left;white-space:pre\">23</td><td style=\"text-align:left;white-space:pre\">M</td><td style=\"text-align:left;white-space:pre\">21</td><td style=\"text-align:left;white-space:pre\">32067</td></tr><tr><td style=\"text-align:left;white-space:pre\">4</td><td style=\"text-align:left;white-space:pre\">24</td><td style=\"text-align:left;white-space:pre\">M</td><td style=\"text-align:left;white-space:pre\">20</td><td style=\"text-align:left;white-space:pre\">43537</td></tr><tr><td style=\"text-align:left;white-space:pre\">5</td><td style=\"text-align:left;white-space:pre\">33</td><td style=\"text-align:left;white-space:pre\">F</td><td style=\"text-align:left;white-space:pre\">14</td><td style=\"text-align:left;white-space:pre\">15213</td></tr><tr><td style=\"text-align:left;white-space:pre\">6</td><td style=\"text-align:left;white-space:pre\">42</td><td style=\"text-align:left;white-space:pre\">M</td><td style=\"text-align:left;white-space:pre\">7</td><td style=\"text-align:left;white-space:pre\">98101</td></tr><tr><td style=\"text-align:left;white-space:pre\">7</td><td style=\"text-align:left;white-space:pre\">57</td><td style=\"text-align:left;white-space:pre\">M</td><td style=\"text-align:left;white-space:pre\">1</td><td style=\"text-align:left;white-space:pre\">91344</td></tr><tr><td style=\"text-align:left;white-space:pre\">8</td><td style=\"text-align:left;white-space:pre\">36</td><td style=\"text-align:left;white-space:pre\">M</td><td style=\"text-align:left;white-space:pre\">1</td><td style=\"text-align:left;white-space:pre\">05201</td></tr><tr><td style=\"text-align:left;white-space:pre\">9</td><td style=\"text-align:left;white-space:pre\">29</td><td style=\"text-align:left;white-space:pre\">M</td><td style=\"text-align:left;white-space:pre\">19</td><td style=\"text-align:left;white-space:pre\">01002</td></tr><tr><td style=\"text-align:left;white-space:pre\">10</td><td style=\"text-align:left;white-space:pre\">53</td><td style=\"text-align:left;white-space:pre\">M</td><td style=\"text-align:left;white-space:pre\">10</td><td style=\"text-align:left;white-space:pre\">90703</td></tr></table></body></html>"
      ]
     },
     "metadata": {},
     "output_type": "display_data"
    }
   ],
   "source": [
    "SELECT * FROM users LIMIT 10;"
   ]
  },
  {
   "cell_type": "markdown",
   "id": "delayed-loading",
   "metadata": {},
   "source": [
    "## [Questão Exemplo] Liste o id e idade dos usuários\n",
    "<!-- SELECT id, age FROM users;\n",
    " SELECT id, age FROM users LIMIT 10;-->"
   ]
  },
  {
   "cell_type": "code",
   "execution_count": 6,
   "id": "false-period",
   "metadata": {},
   "outputs": [
    {
     "data": {
      "text/html": [
       "<html><body><table border=\"1\"><tr><th style=\"text-align:left;white-space:pre\">id</th><th style=\"text-align:left;white-space:pre\">age</th></tr><tr><td style=\"text-align:left;white-space:pre\">1</td><td style=\"text-align:left;white-space:pre\">24</td></tr><tr><td style=\"text-align:left;white-space:pre\">2</td><td style=\"text-align:left;white-space:pre\">53</td></tr><tr><td style=\"text-align:left;white-space:pre\">3</td><td style=\"text-align:left;white-space:pre\">23</td></tr><tr><td style=\"text-align:left;white-space:pre\">4</td><td style=\"text-align:left;white-space:pre\">24</td></tr><tr><td style=\"text-align:left;white-space:pre\">5</td><td style=\"text-align:left;white-space:pre\">33</td></tr><tr><td style=\"text-align:left;white-space:pre\">6</td><td style=\"text-align:left;white-space:pre\">42</td></tr><tr><td style=\"text-align:left;white-space:pre\">7</td><td style=\"text-align:left;white-space:pre\">57</td></tr><tr><td style=\"text-align:left;white-space:pre\">8</td><td style=\"text-align:left;white-space:pre\">36</td></tr><tr><td style=\"text-align:left;white-space:pre\">9</td><td style=\"text-align:left;white-space:pre\">29</td></tr><tr><td style=\"text-align:left;white-space:pre\">10</td><td style=\"text-align:left;white-space:pre\">53</td></tr></table></body></html>"
      ]
     },
     "metadata": {},
     "output_type": "display_data"
    }
   ],
   "source": [
    "SELECT id, age FROM users LIMIT 10;"
   ]
  },
  {
   "cell_type": "markdown",
   "id": "durable-vintage",
   "metadata": {},
   "source": [
    "## [Questão Exemplo] Liste todos os ids das ocupações dos usuários sem repetição\n",
    "<!-- SELECT DISTINCT occupation_id FROM users; -->"
   ]
  },
  {
   "cell_type": "code",
   "execution_count": 8,
   "id": "purple-forge",
   "metadata": {},
   "outputs": [
    {
     "data": {
      "text/html": [
       "<html><body><table border=\"1\"><tr><th style=\"text-align:left;white-space:pre\">occupation_id</th></tr><tr><td style=\"text-align:left;white-space:pre\">20</td></tr><tr><td style=\"text-align:left;white-space:pre\">14</td></tr><tr><td style=\"text-align:left;white-space:pre\">21</td></tr><tr><td style=\"text-align:left;white-space:pre\">7</td></tr><tr><td style=\"text-align:left;white-space:pre\">1</td></tr><tr><td style=\"text-align:left;white-space:pre\">19</td></tr><tr><td style=\"text-align:left;white-space:pre\">10</td></tr><tr><td style=\"text-align:left;white-space:pre\">4</td></tr><tr><td style=\"text-align:left;white-space:pre\">18</td></tr><tr><td style=\"text-align:left;white-space:pre\">6</td></tr><tr><td style=\"text-align:left;white-space:pre\">15</td></tr><tr><td style=\"text-align:left;white-space:pre\">11</td></tr><tr><td style=\"text-align:left;white-space:pre\">9</td></tr><tr><td style=\"text-align:left;white-space:pre\">2</td></tr><tr><td style=\"text-align:left;white-space:pre\">5</td></tr><tr><td style=\"text-align:left;white-space:pre\">12</td></tr><tr><td style=\"text-align:left;white-space:pre\">13</td></tr><tr><td style=\"text-align:left;white-space:pre\">8</td></tr><tr><td style=\"text-align:left;white-space:pre\">16</td></tr><tr><td style=\"text-align:left;white-space:pre\">17</td></tr><tr><td style=\"text-align:left;white-space:pre\">3</td></tr></table></body></html>"
      ]
     },
     "metadata": {},
     "output_type": "display_data"
    }
   ],
   "source": [
    "SELECT DISTINCT occupation_id FROM users;"
   ]
  },
  {
   "cell_type": "markdown",
   "id": "efficient-compression",
   "metadata": {},
   "source": [
    "## [Questão Exemplo] Liste o id e a idade dos usuários que possuem mais de 25 anos\n",
    "<!-- SELECT id, age FROM users WHERE age > 25;-->"
   ]
  },
  {
   "cell_type": "code",
   "execution_count": 10,
   "id": "divine-effectiveness",
   "metadata": {},
   "outputs": [
    {
     "data": {
      "text/html": [
       "<html><body><table border=\"1\"><tr><th style=\"text-align:left;white-space:pre\">id</th><th style=\"text-align:left;white-space:pre\">age</th></tr><tr><td style=\"text-align:left;white-space:pre\">2</td><td style=\"text-align:left;white-space:pre\">53</td></tr><tr><td style=\"text-align:left;white-space:pre\">5</td><td style=\"text-align:left;white-space:pre\">33</td></tr><tr><td style=\"text-align:left;white-space:pre\">6</td><td style=\"text-align:left;white-space:pre\">42</td></tr><tr><td style=\"text-align:left;white-space:pre\">7</td><td style=\"text-align:left;white-space:pre\">57</td></tr><tr><td style=\"text-align:left;white-space:pre\">8</td><td style=\"text-align:left;white-space:pre\">36</td></tr><tr><td style=\"text-align:left;white-space:pre\">9</td><td style=\"text-align:left;white-space:pre\">29</td></tr><tr><td style=\"text-align:left;white-space:pre\">10</td><td style=\"text-align:left;white-space:pre\">53</td></tr><tr><td style=\"text-align:left;white-space:pre\">11</td><td style=\"text-align:left;white-space:pre\">39</td></tr><tr><td style=\"text-align:left;white-space:pre\">12</td><td style=\"text-align:left;white-space:pre\">28</td></tr><tr><td style=\"text-align:left;white-space:pre\">13</td><td style=\"text-align:left;white-space:pre\">47</td></tr></table></body></html>"
      ]
     },
     "metadata": {},
     "output_type": "display_data"
    }
   ],
   "source": [
    "SELECT id, age FROM users WHERE age > 25 LIMIT 10;"
   ]
  },
  {
   "cell_type": "markdown",
   "id": "tired-belief",
   "metadata": {},
   "source": [
    "## [Questão Exemplo] Liste o id e a idade dos usuários que possuem entre 25 anos e 35 anos\n",
    "<!-- SELECT id, age FROM users WHERE age > 25 AND age < 35 LIMIT 10;-->"
   ]
  },
  {
   "cell_type": "code",
   "execution_count": 13,
   "id": "artificial-lightweight",
   "metadata": {},
   "outputs": [
    {
     "data": {
      "text/html": [
       "<html><body><table border=\"1\"><tr><th style=\"text-align:left;white-space:pre\">id</th><th style=\"text-align:left;white-space:pre\">age</th></tr><tr><td style=\"text-align:left;white-space:pre\">5</td><td style=\"text-align:left;white-space:pre\">33</td></tr><tr><td style=\"text-align:left;white-space:pre\">9</td><td style=\"text-align:left;white-space:pre\">29</td></tr><tr><td style=\"text-align:left;white-space:pre\">12</td><td style=\"text-align:left;white-space:pre\">28</td></tr><tr><td style=\"text-align:left;white-space:pre\">17</td><td style=\"text-align:left;white-space:pre\">30</td></tr><tr><td style=\"text-align:left;white-space:pre\">21</td><td style=\"text-align:left;white-space:pre\">26</td></tr><tr><td style=\"text-align:left;white-space:pre\">23</td><td style=\"text-align:left;white-space:pre\">30</td></tr><tr><td style=\"text-align:left;white-space:pre\">28</td><td style=\"text-align:left;white-space:pre\">32</td></tr><tr><td style=\"text-align:left;white-space:pre\">32</td><td style=\"text-align:left;white-space:pre\">28</td></tr><tr><td style=\"text-align:left;white-space:pre\">38</td><td style=\"text-align:left;white-space:pre\">28</td></tr><tr><td style=\"text-align:left;white-space:pre\">41</td><td style=\"text-align:left;white-space:pre\">33</td></tr></table></body></html>"
      ]
     },
     "metadata": {},
     "output_type": "display_data"
    }
   ],
   "source": [
    "SELECT id, age FROM users WHERE age > 25 AND age < 35 LIMIT 10;"
   ]
  },
  {
   "cell_type": "markdown",
   "id": "improving-installation",
   "metadata": {},
   "source": [
    "## [Questão Exemplo] Liste o id e o gênero dos usuários que fizeram pelo menos uma avaliação de filme"
   ]
  },
  {
   "cell_type": "code",
   "execution_count": 6,
   "id": "dying-extent",
   "metadata": {},
   "outputs": [
    {
     "data": {
      "text/html": [
       "<html><body><table border=\"1\"><tr><th style=\"text-align:left;white-space:pre\">id</th><th style=\"text-align:left;white-space:pre\">gender</th></tr><tr><td style=\"text-align:left;white-space:pre\">1</td><td style=\"text-align:left;white-space:pre\">M</td></tr><tr><td style=\"text-align:left;white-space:pre\">2</td><td style=\"text-align:left;white-space:pre\">F</td></tr><tr><td style=\"text-align:left;white-space:pre\">3</td><td style=\"text-align:left;white-space:pre\">M</td></tr><tr><td style=\"text-align:left;white-space:pre\">4</td><td style=\"text-align:left;white-space:pre\">M</td></tr><tr><td style=\"text-align:left;white-space:pre\">5</td><td style=\"text-align:left;white-space:pre\">F</td></tr><tr><td style=\"text-align:left;white-space:pre\">6</td><td style=\"text-align:left;white-space:pre\">M</td></tr><tr><td style=\"text-align:left;white-space:pre\">7</td><td style=\"text-align:left;white-space:pre\">M</td></tr><tr><td style=\"text-align:left;white-space:pre\">8</td><td style=\"text-align:left;white-space:pre\">M</td></tr><tr><td style=\"text-align:left;white-space:pre\">9</td><td style=\"text-align:left;white-space:pre\">M</td></tr><tr><td style=\"text-align:left;white-space:pre\">10</td><td style=\"text-align:left;white-space:pre\">M</td></tr></table></body></html>"
      ]
     },
     "metadata": {},
     "output_type": "display_data"
    }
   ],
   "source": [
    "--Consulta aninhada\n",
    "SELECT id, gender FROM\n",
    " users\n",
    " WHERE id in\n",
    "(SELECT user_id FROM ratings) LIMIT 10;"
   ]
  },
  {
   "cell_type": "code",
   "execution_count": 8,
   "id": "continental-candy",
   "metadata": {},
   "outputs": [
    {
     "data": {
      "text/html": [
       "<html><body><table border=\"1\"><tr><th style=\"text-align:left;white-space:pre\">id</th><th style=\"text-align:left;white-space:pre\">gender</th></tr><tr><td style=\"text-align:left;white-space:pre\">196</td><td style=\"text-align:left;white-space:pre\">M</td></tr><tr><td style=\"text-align:left;white-space:pre\">186</td><td style=\"text-align:left;white-space:pre\">F</td></tr><tr><td style=\"text-align:left;white-space:pre\">22</td><td style=\"text-align:left;white-space:pre\">M</td></tr><tr><td style=\"text-align:left;white-space:pre\">244</td><td style=\"text-align:left;white-space:pre\">M</td></tr><tr><td style=\"text-align:left;white-space:pre\">166</td><td style=\"text-align:left;white-space:pre\">M</td></tr><tr><td style=\"text-align:left;white-space:pre\">298</td><td style=\"text-align:left;white-space:pre\">M</td></tr><tr><td style=\"text-align:left;white-space:pre\">115</td><td style=\"text-align:left;white-space:pre\">M</td></tr><tr><td style=\"text-align:left;white-space:pre\">253</td><td style=\"text-align:left;white-space:pre\">F</td></tr><tr><td style=\"text-align:left;white-space:pre\">305</td><td style=\"text-align:left;white-space:pre\">M</td></tr><tr><td style=\"text-align:left;white-space:pre\">6</td><td style=\"text-align:left;white-space:pre\">M</td></tr></table></body></html>"
      ]
     },
     "metadata": {},
     "output_type": "display_data"
    }
   ],
   "source": [
    "--Junção\n",
    "SELECT u.id, u.gender FROM\n",
    " users u JOIN ratings r on u.id = r.user_id\n",
    " LIMIT 10;"
   ]
  },
  {
   "cell_type": "markdown",
   "id": "stable-corner",
   "metadata": {},
   "source": [
    "## [Questão Exemplo] Quantos usuários são do sexo masculino e quantos usuários são do sexo feminino?"
   ]
  },
  {
   "cell_type": "code",
   "execution_count": 10,
   "id": "brutal-shooting",
   "metadata": {},
   "outputs": [
    {
     "data": {
      "text/html": [
       "<html><body><table border=\"1\"><tr><th style=\"text-align:left;white-space:pre\">gender</th><th style=\"text-align:left;white-space:pre\">COUNT(*)</th></tr><tr><td style=\"text-align:left;white-space:pre\">F</td><td style=\"text-align:left;white-space:pre\">273</td></tr><tr><td style=\"text-align:left;white-space:pre\">M</td><td style=\"text-align:left;white-space:pre\">670</td></tr></table></body></html>"
      ]
     },
     "metadata": {},
     "output_type": "display_data"
    }
   ],
   "source": [
    "SELECT gender, COUNT(*)\n",
    "FROM users\n",
    "GROUP BY gender;"
   ]
  },
  {
   "cell_type": "markdown",
   "id": "removable-football",
   "metadata": {},
   "source": [
    "## [Questão Exemplo] Quantos usuários existem agrupados por idade e separados por gênero?"
   ]
  },
  {
   "cell_type": "code",
   "execution_count": null,
   "id": "reserved-western",
   "metadata": {},
   "outputs": [],
   "source": [
    "SELECT age, gender, COUNT(*)\n",
    "FROM users\n",
    "GROUP BY age, gender;"
   ]
  },
  {
   "cell_type": "markdown",
   "id": "structural-frame",
   "metadata": {},
   "source": [
    "## [Questão 1] Liste todos os filmes"
   ]
  },
  {
   "cell_type": "code",
   "execution_count": 11,
   "id": "representative-convert",
   "metadata": {},
   "outputs": [
    {
     "data": {
      "text/html": [
       "<html><body><table border=\"1\"><tr><th style=\"text-align:left;white-space:pre\">id</th><th style=\"text-align:left;white-space:pre\">title</th><th style=\"text-align:left;white-space:pre\">release_date</th></tr><tr><td style=\"text-align:left;white-space:pre\">1</td><td style=\"text-align:left;white-space:pre\">Toy Story (1995)</td><td style=\"text-align:left;white-space:pre\">1995-01-01</td></tr><tr><td style=\"text-align:left;white-space:pre\">2</td><td style=\"text-align:left;white-space:pre\">GoldenEye (1995)</td><td style=\"text-align:left;white-space:pre\">1995-01-01</td></tr><tr><td style=\"text-align:left;white-space:pre\">3</td><td style=\"text-align:left;white-space:pre\">Four Rooms (1995)</td><td style=\"text-align:left;white-space:pre\">1995-01-01</td></tr><tr><td style=\"text-align:left;white-space:pre\">4</td><td style=\"text-align:left;white-space:pre\">Get Shorty (1995)</td><td style=\"text-align:left;white-space:pre\">1995-01-01</td></tr><tr><td style=\"text-align:left;white-space:pre\">5</td><td style=\"text-align:left;white-space:pre\">Copycat (1995)</td><td style=\"text-align:left;white-space:pre\">1995-01-01</td></tr><tr><td style=\"text-align:left;white-space:pre\">6</td><td style=\"text-align:left;white-space:pre\">Shanghai Triad (Yao a yao yao dao waipo qiao) (1995)</td><td style=\"text-align:left;white-space:pre\">1995-01-01</td></tr><tr><td style=\"text-align:left;white-space:pre\">7</td><td style=\"text-align:left;white-space:pre\">Twelve Monkeys (1995)</td><td style=\"text-align:left;white-space:pre\">1995-01-01</td></tr><tr><td style=\"text-align:left;white-space:pre\">8</td><td style=\"text-align:left;white-space:pre\">Babe (1995)</td><td style=\"text-align:left;white-space:pre\">1995-01-01</td></tr><tr><td style=\"text-align:left;white-space:pre\">9</td><td style=\"text-align:left;white-space:pre\">Dead Man Walking (1995)</td><td style=\"text-align:left;white-space:pre\">1995-01-01</td></tr><tr><td style=\"text-align:left;white-space:pre\">10</td><td style=\"text-align:left;white-space:pre\">Richard III (1995)</td><td style=\"text-align:left;white-space:pre\">1996-01-22</td></tr></table></body></html>"
      ]
     },
     "metadata": {},
     "output_type": "display_data"
    }
   ],
   "source": [
    "SELECT * FROM movies LIMIT 10; "
   ]
  },
  {
   "cell_type": "markdown",
   "id": "sunset-french",
   "metadata": {},
   "source": [
    "## [Questão 2] Liste todos os títulos e data de lançamento dos filmes"
   ]
  },
  {
   "cell_type": "code",
   "execution_count": 12,
   "id": "clear-mercy",
   "metadata": {},
   "outputs": [
    {
     "data": {
      "text/html": [
       "<html><body><table border=\"1\"><tr><th style=\"text-align:left;white-space:pre\">title</th><th style=\"text-align:left;white-space:pre\">release_date</th></tr><tr><td style=\"text-align:left;white-space:pre\">Toy Story (1995)</td><td style=\"text-align:left;white-space:pre\">1995-01-01</td></tr><tr><td style=\"text-align:left;white-space:pre\">GoldenEye (1995)</td><td style=\"text-align:left;white-space:pre\">1995-01-01</td></tr><tr><td style=\"text-align:left;white-space:pre\">Four Rooms (1995)</td><td style=\"text-align:left;white-space:pre\">1995-01-01</td></tr><tr><td style=\"text-align:left;white-space:pre\">Get Shorty (1995)</td><td style=\"text-align:left;white-space:pre\">1995-01-01</td></tr><tr><td style=\"text-align:left;white-space:pre\">Copycat (1995)</td><td style=\"text-align:left;white-space:pre\">1995-01-01</td></tr><tr><td style=\"text-align:left;white-space:pre\">Shanghai Triad (Yao a yao yao dao waipo qiao) (1995)</td><td style=\"text-align:left;white-space:pre\">1995-01-01</td></tr><tr><td style=\"text-align:left;white-space:pre\">Twelve Monkeys (1995)</td><td style=\"text-align:left;white-space:pre\">1995-01-01</td></tr><tr><td style=\"text-align:left;white-space:pre\">Babe (1995)</td><td style=\"text-align:left;white-space:pre\">1995-01-01</td></tr><tr><td style=\"text-align:left;white-space:pre\">Dead Man Walking (1995)</td><td style=\"text-align:left;white-space:pre\">1995-01-01</td></tr><tr><td style=\"text-align:left;white-space:pre\">Richard III (1995)</td><td style=\"text-align:left;white-space:pre\">1996-01-22</td></tr></table></body></html>"
      ]
     },
     "metadata": {},
     "output_type": "display_data"
    }
   ],
   "source": [
    "SELECT title, release_date FROM movies LIMIT 10; "
   ]
  },
  {
   "cell_type": "markdown",
   "id": "brown-macedonia",
   "metadata": {},
   "source": [
    "## [Questão 3] Liste todas as datas que tiveram lançamento de filmes sem repetição"
   ]
  },
  {
   "cell_type": "code",
   "execution_count": 15,
   "id": "prerequisite-burlington",
   "metadata": {},
   "outputs": [
    {
     "data": {
      "text/html": [
       "<html><body><table border=\"1\"><tr><th style=\"text-align:left;white-space:pre\">release_date</th></tr><tr><td style=\"text-align:left;white-space:pre\">1995-01-01</td></tr><tr><td style=\"text-align:left;white-space:pre\">1996-01-22</td></tr><tr><td style=\"text-align:left;white-space:pre\">1995-08-14</td></tr><tr><td style=\"text-align:left;white-space:pre\">1995-10-30</td></tr><tr><td style=\"text-align:left;white-space:pre\">1994-01-01</td></tr><tr><td style=\"text-align:left;white-space:pre\">1996-01-29</td></tr><tr><td style=\"text-align:left;white-space:pre\">1996-02-05</td></tr><tr><td style=\"text-align:left;white-space:pre\">1996-02-16</td></tr><tr><td style=\"text-align:left;white-space:pre\">1996-02-23</td></tr><tr><td style=\"text-align:left;white-space:pre\">1996-03-08</td></tr></table></body></html>"
      ]
     },
     "metadata": {},
     "output_type": "display_data"
    }
   ],
   "source": [
    "SELECT DISTINCT release_date FROM movies LIMIT 10; "
   ]
  },
  {
   "cell_type": "markdown",
   "id": "touched-johnson",
   "metadata": {},
   "source": [
    "## [Questão 4] Liste o título de todos os filmes com data de lançamento maior que 07/07/1995"
   ]
  },
  {
   "cell_type": "code",
   "execution_count": 20,
   "id": "chief-agriculture",
   "metadata": {},
   "outputs": [
    {
     "data": {
      "text/html": [
       "<html><body><table border=\"1\"><tr><th style=\"text-align:left;white-space:pre\">title</th><th style=\"text-align:left;white-space:pre\">release_date</th></tr><tr><td style=\"text-align:left;white-space:pre\">Richard III (1995)</td><td style=\"text-align:left;white-space:pre\">1996-01-22</td></tr><tr><td style=\"text-align:left;white-space:pre\">Usual Suspects, The (1995)</td><td style=\"text-align:left;white-space:pre\">1995-08-14</td></tr><tr><td style=\"text-align:left;white-space:pre\">Mighty Aphrodite (1995)</td><td style=\"text-align:left;white-space:pre\">1995-10-30</td></tr><tr><td style=\"text-align:left;white-space:pre\">Mr. Holland's Opus (1995)</td><td style=\"text-align:left;white-space:pre\">1996-01-29</td></tr><tr><td style=\"text-align:left;white-space:pre\">From Dusk Till Dawn (1996)</td><td style=\"text-align:left;white-space:pre\">1996-02-05</td></tr><tr><td style=\"text-align:left;white-space:pre\">Muppet Treasure Island (1996)</td><td style=\"text-align:left;white-space:pre\">1996-02-16</td></tr><tr><td style=\"text-align:left;white-space:pre\">Braveheart (1995)</td><td style=\"text-align:left;white-space:pre\">1996-02-16</td></tr><tr><td style=\"text-align:left;white-space:pre\">Taxi Driver (1976)</td><td style=\"text-align:left;white-space:pre\">1996-02-16</td></tr><tr><td style=\"text-align:left;white-space:pre\">Rumble in the Bronx (1995)</td><td style=\"text-align:left;white-space:pre\">1996-02-23</td></tr><tr><td style=\"text-align:left;white-space:pre\">Birdcage, The (1996)</td><td style=\"text-align:left;white-space:pre\">1996-03-08</td></tr><tr><td style=\"text-align:left;white-space:pre\">Welcome to the Dollhouse (1995)</td><td style=\"text-align:left;white-space:pre\">1996-05-24</td></tr><tr><td style=\"text-align:left;white-space:pre\">Fargo (1996)</td><td style=\"text-align:left;white-space:pre\">1997-02-14</td></tr><tr><td style=\"text-align:left;white-space:pre\">All Dogs Go to Heaven 2 (1996)</td><td style=\"text-align:left;white-space:pre\">1996-03-29</td></tr><tr><td style=\"text-align:left;white-space:pre\">Theodore Rex (1995)</td><td style=\"text-align:left;white-space:pre\">1996-03-29</td></tr><tr><td style=\"text-align:left;white-space:pre\">Sgt. Bilko (1996)</td><td style=\"text-align:left;white-space:pre\">1996-03-29</td></tr><tr><td style=\"text-align:left;white-space:pre\">Diabolique (1996)</td><td style=\"text-align:left;white-space:pre\">1996-01-01</td></tr><tr><td style=\"text-align:left;white-space:pre\">Moll Flanders (1996)</td><td style=\"text-align:left;white-space:pre\">1996-06-14</td></tr><tr><td style=\"text-align:left;white-space:pre\">Kids in the Hall: Brain Candy (1996)</td><td style=\"text-align:left;white-space:pre\">1996-04-12</td></tr><tr><td style=\"text-align:left;white-space:pre\">Mystery Science Theater 3000: The Movie (1996)</td><td style=\"text-align:left;white-space:pre\">1996-04-19</td></tr><tr><td style=\"text-align:left;white-space:pre\">Truth About Cats &amp; Dogs, The (1996)</td><td style=\"text-align:left;white-space:pre\">1996-04-26</td></tr></table></body></html>"
      ]
     },
     "metadata": {},
     "output_type": "display_data"
    }
   ],
   "source": [
    "SELECT title, release_date FROM movies WHERE release_date > \"1995-07-07\" LIMIT 20;"
   ]
  },
  {
   "cell_type": "markdown",
   "id": "accompanied-representation",
   "metadata": {},
   "source": [
    "## [Questão 5] Liste todos os usuários e o nome de suas profissões "
   ]
  },
  {
   "cell_type": "code",
   "execution_count": 23,
   "id": "facial-nurse",
   "metadata": {},
   "outputs": [
    {
     "data": {
      "text/html": [
       "<html><body><table border=\"1\"><tr><th style=\"text-align:left;white-space:pre\">user_id</th><th style=\"text-align:left;white-space:pre\">occupation</th></tr><tr><td style=\"text-align:left;white-space:pre\">1</td><td style=\"text-align:left;white-space:pre\">Technician</td></tr><tr><td style=\"text-align:left;white-space:pre\">2</td><td style=\"text-align:left;white-space:pre\">Other</td></tr><tr><td style=\"text-align:left;white-space:pre\">3</td><td style=\"text-align:left;white-space:pre\">Writer</td></tr><tr><td style=\"text-align:left;white-space:pre\">4</td><td style=\"text-align:left;white-space:pre\">Technician</td></tr><tr><td style=\"text-align:left;white-space:pre\">5</td><td style=\"text-align:left;white-space:pre\">Other</td></tr><tr><td style=\"text-align:left;white-space:pre\">6</td><td style=\"text-align:left;white-space:pre\">Executive</td></tr><tr><td style=\"text-align:left;white-space:pre\">7</td><td style=\"text-align:left;white-space:pre\">Administrator</td></tr><tr><td style=\"text-align:left;white-space:pre\">8</td><td style=\"text-align:left;white-space:pre\">Administrator</td></tr><tr><td style=\"text-align:left;white-space:pre\">9</td><td style=\"text-align:left;white-space:pre\">Student</td></tr><tr><td style=\"text-align:left;white-space:pre\">10</td><td style=\"text-align:left;white-space:pre\">Lawyer</td></tr></table></body></html>"
      ]
     },
     "metadata": {},
     "output_type": "display_data"
    }
   ],
   "source": [
    "SELECT u.id as user_id, o.name as occupation FROM users u JOIN occupations o ON u.occupation_id = o.id  LIMIT 10; "
   ]
  },
  {
   "cell_type": "markdown",
   "id": "stopped-athletics",
   "metadata": {},
   "source": [
    "## [Questão 6] Liste o título dos filmes que contenham a palavra \"Treasure\" em seu título"
   ]
  },
  {
   "cell_type": "code",
   "execution_count": 27,
   "id": "innocent-barcelona",
   "metadata": {},
   "outputs": [
    {
     "data": {
      "text/html": [
       "<html><body><table border=\"1\"><tr><th style=\"text-align:left;white-space:pre\">title</th></tr><tr><td style=\"text-align:left;white-space:pre\">Muppet Treasure Island (1996)</td></tr><tr><td style=\"text-align:left;white-space:pre\">Treasure of the Sierra Madre, The (1948)</td></tr></table></body></html>"
      ]
     },
     "metadata": {},
     "output_type": "display_data"
    }
   ],
   "source": [
    "SELECT title FROM movies WHERE title LIKE '%Treasure%'; "
   ]
  },
  {
   "cell_type": "markdown",
   "id": "sustained-messenger",
   "metadata": {},
   "source": [
    "## [Questão 7] Liste todos as ocupações com \"o\" na penultima posição"
   ]
  },
  {
   "cell_type": "code",
   "execution_count": 6,
   "id": "broken-religious",
   "metadata": {},
   "outputs": [
    {
     "data": {
      "text/html": [
       "<html><body><table border=\"1\"><tr><th style=\"text-align:left;white-space:pre\">id</th><th style=\"text-align:left;white-space:pre\">name</th></tr><tr><td style=\"text-align:left;white-space:pre\">1</td><td style=\"text-align:left;white-space:pre\">Administrator</td></tr><tr><td style=\"text-align:left;white-space:pre\">2</td><td style=\"text-align:left;white-space:pre\">Artist</td></tr><tr><td style=\"text-align:left;white-space:pre\">3</td><td style=\"text-align:left;white-space:pre\">Doctor</td></tr><tr><td style=\"text-align:left;white-space:pre\">4</td><td style=\"text-align:left;white-space:pre\">Educator</td></tr><tr><td style=\"text-align:left;white-space:pre\">5</td><td style=\"text-align:left;white-space:pre\">Engineer</td></tr><tr><td style=\"text-align:left;white-space:pre\">6</td><td style=\"text-align:left;white-space:pre\">Entertainment</td></tr><tr><td style=\"text-align:left;white-space:pre\">7</td><td style=\"text-align:left;white-space:pre\">Executive</td></tr><tr><td style=\"text-align:left;white-space:pre\">8</td><td style=\"text-align:left;white-space:pre\">Healthcare</td></tr><tr><td style=\"text-align:left;white-space:pre\">9</td><td style=\"text-align:left;white-space:pre\">Homemaker</td></tr><tr><td style=\"text-align:left;white-space:pre\">10</td><td style=\"text-align:left;white-space:pre\">Lawyer</td></tr><tr><td style=\"text-align:left;white-space:pre\">11</td><td style=\"text-align:left;white-space:pre\">Librarian</td></tr><tr><td style=\"text-align:left;white-space:pre\">12</td><td style=\"text-align:left;white-space:pre\">Marketing</td></tr><tr><td style=\"text-align:left;white-space:pre\">13</td><td style=\"text-align:left;white-space:pre\">None</td></tr><tr><td style=\"text-align:left;white-space:pre\">14</td><td style=\"text-align:left;white-space:pre\">Other</td></tr><tr><td style=\"text-align:left;white-space:pre\">15</td><td style=\"text-align:left;white-space:pre\">Programmer</td></tr><tr><td style=\"text-align:left;white-space:pre\">16</td><td style=\"text-align:left;white-space:pre\">Retired</td></tr><tr><td style=\"text-align:left;white-space:pre\">17</td><td style=\"text-align:left;white-space:pre\">Salesman</td></tr><tr><td style=\"text-align:left;white-space:pre\">18</td><td style=\"text-align:left;white-space:pre\">Scientist</td></tr><tr><td style=\"text-align:left;white-space:pre\">19</td><td style=\"text-align:left;white-space:pre\">Student</td></tr><tr><td style=\"text-align:left;white-space:pre\">20</td><td style=\"text-align:left;white-space:pre\">Technician</td></tr><tr><td style=\"text-align:left;white-space:pre\">21</td><td style=\"text-align:left;white-space:pre\">Writer</td></tr></table></body></html>"
      ]
     },
     "metadata": {},
     "output_type": "display_data"
    }
   ],
   "source": [
    "SELECT * FROM occupations WHERE name LIKE '%o_'; "
   ]
  },
  {
   "cell_type": "markdown",
   "id": "interim-zambia",
   "metadata": {},
   "source": [
    "## [Questão 8] Insira dois usuários com ids 2000 e 3000 com a profissão \"Programmer\". Escolha outros valores para os demais campos."
   ]
  },
  {
   "cell_type": "code",
   "execution_count": 9,
   "id": "starting-ambassador",
   "metadata": {},
   "outputs": [
    {
     "data": {
      "text/html": [
       "Query OK"
      ]
     },
     "metadata": {},
     "output_type": "display_data"
    }
   ],
   "source": [
    "SELECT * FROM users WHERE id >= 2000;"
   ]
  },
  {
   "cell_type": "code",
   "execution_count": 10,
   "id": "incredible-metro",
   "metadata": {},
   "outputs": [
    {
     "data": {
      "text/html": [
       "Query OK"
      ]
     },
     "metadata": {},
     "output_type": "display_data"
    }
   ],
   "source": [
    "INSERT INTO users VALUES(2000, 35, \"M\", 15, \"123456\");"
   ]
  },
  {
   "cell_type": "code",
   "execution_count": 11,
   "id": "forbidden-relative",
   "metadata": {},
   "outputs": [
    {
     "data": {
      "text/html": [
       "Query OK"
      ]
     },
     "metadata": {},
     "output_type": "display_data"
    }
   ],
   "source": [
    "INSERT INTO users VALUES(3000, 30, \"F\", 15, \"123456\");"
   ]
  },
  {
   "cell_type": "code",
   "execution_count": 12,
   "id": "painful-illness",
   "metadata": {},
   "outputs": [
    {
     "data": {
      "text/html": [
       "<html><body><table border=\"1\"><tr><th style=\"text-align:left;white-space:pre\">id</th><th style=\"text-align:left;white-space:pre\">age</th><th style=\"text-align:left;white-space:pre\">gender</th><th style=\"text-align:left;white-space:pre\">occupation_id</th><th style=\"text-align:left;white-space:pre\">zip_code</th></tr><tr><td style=\"text-align:left;white-space:pre\">2000</td><td style=\"text-align:left;white-space:pre\">35</td><td style=\"text-align:left;white-space:pre\">M</td><td style=\"text-align:left;white-space:pre\">15</td><td style=\"text-align:left;white-space:pre\">123456</td></tr><tr><td style=\"text-align:left;white-space:pre\">3000</td><td style=\"text-align:left;white-space:pre\">30</td><td style=\"text-align:left;white-space:pre\">F</td><td style=\"text-align:left;white-space:pre\">15</td><td style=\"text-align:left;white-space:pre\">123456</td></tr></table></body></html>"
      ]
     },
     "metadata": {},
     "output_type": "display_data"
    }
   ],
   "source": [
    "SELECT * FROM users WHERE id >= 2000;"
   ]
  },
  {
   "cell_type": "markdown",
   "id": "turned-interference",
   "metadata": {},
   "source": [
    "## [Questão 9] Altere a profissão do usuário de id 3000 para \"Scientist\""
   ]
  },
  {
   "cell_type": "code",
   "execution_count": 13,
   "id": "weird-maine",
   "metadata": {},
   "outputs": [
    {
     "data": {
      "text/html": [
       "<html><body><table border=\"1\"><tr><th style=\"text-align:left;white-space:pre\">id</th><th style=\"text-align:left;white-space:pre\">age</th><th style=\"text-align:left;white-space:pre\">gender</th><th style=\"text-align:left;white-space:pre\">occupation_id</th><th style=\"text-align:left;white-space:pre\">zip_code</th></tr><tr><td style=\"text-align:left;white-space:pre\">3000</td><td style=\"text-align:left;white-space:pre\">30</td><td style=\"text-align:left;white-space:pre\">F</td><td style=\"text-align:left;white-space:pre\">15</td><td style=\"text-align:left;white-space:pre\">123456</td></tr></table></body></html>"
      ]
     },
     "metadata": {},
     "output_type": "display_data"
    }
   ],
   "source": [
    "SELECT * FROM users WHERE id = 3000;"
   ]
  },
  {
   "cell_type": "code",
   "execution_count": 14,
   "id": "charged-dover",
   "metadata": {},
   "outputs": [
    {
     "data": {
      "text/html": [
       "Query OK"
      ]
     },
     "metadata": {},
     "output_type": "display_data"
    }
   ],
   "source": [
    "UPDATE users\n",
    "       SET occupation_id = 18\n",
    "       WHERE id = 3000;"
   ]
  },
  {
   "cell_type": "code",
   "execution_count": 15,
   "id": "subjective-going",
   "metadata": {},
   "outputs": [
    {
     "data": {
      "text/html": [
       "<html><body><table border=\"1\"><tr><th style=\"text-align:left;white-space:pre\">id</th><th style=\"text-align:left;white-space:pre\">age</th><th style=\"text-align:left;white-space:pre\">gender</th><th style=\"text-align:left;white-space:pre\">occupation_id</th><th style=\"text-align:left;white-space:pre\">zip_code</th></tr><tr><td style=\"text-align:left;white-space:pre\">3000</td><td style=\"text-align:left;white-space:pre\">30</td><td style=\"text-align:left;white-space:pre\">F</td><td style=\"text-align:left;white-space:pre\">18</td><td style=\"text-align:left;white-space:pre\">123456</td></tr></table></body></html>"
      ]
     },
     "metadata": {},
     "output_type": "display_data"
    }
   ],
   "source": [
    "SELECT * FROM users WHERE id = 3000;"
   ]
  },
  {
   "cell_type": "markdown",
   "id": "fleet-semiconductor",
   "metadata": {},
   "source": [
    "## [Questão 10] Delete o usuário de id 3000"
   ]
  },
  {
   "cell_type": "code",
   "execution_count": 16,
   "id": "french-portland",
   "metadata": {},
   "outputs": [
    {
     "data": {
      "text/html": [
       "<html><body><table border=\"1\"><tr><th style=\"text-align:left;white-space:pre\">id</th><th style=\"text-align:left;white-space:pre\">age</th><th style=\"text-align:left;white-space:pre\">gender</th><th style=\"text-align:left;white-space:pre\">occupation_id</th><th style=\"text-align:left;white-space:pre\">zip_code</th></tr><tr><td style=\"text-align:left;white-space:pre\">3000</td><td style=\"text-align:left;white-space:pre\">30</td><td style=\"text-align:left;white-space:pre\">F</td><td style=\"text-align:left;white-space:pre\">18</td><td style=\"text-align:left;white-space:pre\">123456</td></tr></table></body></html>"
      ]
     },
     "metadata": {},
     "output_type": "display_data"
    }
   ],
   "source": [
    "SELECT * FROM users WHERE id = 3000;"
   ]
  },
  {
   "cell_type": "code",
   "execution_count": 17,
   "id": "alien-vector",
   "metadata": {},
   "outputs": [
    {
     "data": {
      "text/html": [
       "Query OK"
      ]
     },
     "metadata": {},
     "output_type": "display_data"
    }
   ],
   "source": [
    "DELETE FROM users WHERE id = 3000;"
   ]
  },
  {
   "cell_type": "code",
   "execution_count": 19,
   "id": "creative-ownership",
   "metadata": {},
   "outputs": [
    {
     "data": {
      "text/html": [
       "<html><body><table border=\"1\"><tr><th style=\"text-align:left;white-space:pre\">id</th><th style=\"text-align:left;white-space:pre\">age</th><th style=\"text-align:left;white-space:pre\">gender</th><th style=\"text-align:left;white-space:pre\">occupation_id</th><th style=\"text-align:left;white-space:pre\">zip_code</th></tr><tr><td style=\"text-align:left;white-space:pre\">2000</td><td style=\"text-align:left;white-space:pre\">35</td><td style=\"text-align:left;white-space:pre\">M</td><td style=\"text-align:left;white-space:pre\">15</td><td style=\"text-align:left;white-space:pre\">123456</td></tr></table></body></html>"
      ]
     },
     "metadata": {},
     "output_type": "display_data"
    }
   ],
   "source": [
    "SELECT * FROM users WHERE id >= 2000;"
   ]
  },
  {
   "cell_type": "markdown",
   "id": "functioning-johnston",
   "metadata": {},
   "source": [
    "## [Questão 11] Liste todos os usuários que não fizeram nenhuma avaliação de filme"
   ]
  },
  {
   "cell_type": "code",
   "execution_count": 29,
   "id": "exempt-grenada",
   "metadata": {},
   "outputs": [
    {
     "data": {
      "text/html": [
       "<html><body><table border=\"1\"><tr><th style=\"text-align:left;white-space:pre\">id</th></tr><tr><td style=\"text-align:left;white-space:pre\">2000</td></tr></table></body></html>"
      ]
     },
     "metadata": {},
     "output_type": "display_data"
    }
   ],
   "source": [
    "SELECT id FROM users WHERE id NOT IN (SELECT user_id FROM ratings);"
   ]
  },
  {
   "cell_type": "markdown",
   "id": "tested-lyric",
   "metadata": {},
   "source": [
    "## [Questão 12] Liste o título dos filmes e seus gêneros"
   ]
  },
  {
   "cell_type": "code",
   "execution_count": 31,
   "id": "diverse-ultimate",
   "metadata": {},
   "outputs": [
    {
     "data": {
      "text/html": [
       "<html><body><table border=\"1\"><tr><th style=\"text-align:left;white-space:pre\">title</th><th style=\"text-align:left;white-space:pre\">name</th></tr><tr><td style=\"text-align:left;white-space:pre\">Toy Story (1995)</td><td style=\"text-align:left;white-space:pre\">Animation</td></tr><tr><td style=\"text-align:left;white-space:pre\">Toy Story (1995)</td><td style=\"text-align:left;white-space:pre\">Children's</td></tr><tr><td style=\"text-align:left;white-space:pre\">Toy Story (1995)</td><td style=\"text-align:left;white-space:pre\">Comedy</td></tr><tr><td style=\"text-align:left;white-space:pre\">GoldenEye (1995)</td><td style=\"text-align:left;white-space:pre\">Action</td></tr><tr><td style=\"text-align:left;white-space:pre\">GoldenEye (1995)</td><td style=\"text-align:left;white-space:pre\">Adventure</td></tr><tr><td style=\"text-align:left;white-space:pre\">GoldenEye (1995)</td><td style=\"text-align:left;white-space:pre\">Thriller</td></tr><tr><td style=\"text-align:left;white-space:pre\">Four Rooms (1995)</td><td style=\"text-align:left;white-space:pre\">Thriller</td></tr><tr><td style=\"text-align:left;white-space:pre\">Get Shorty (1995)</td><td style=\"text-align:left;white-space:pre\">Action</td></tr><tr><td style=\"text-align:left;white-space:pre\">Get Shorty (1995)</td><td style=\"text-align:left;white-space:pre\">Comedy</td></tr><tr><td style=\"text-align:left;white-space:pre\">Get Shorty (1995)</td><td style=\"text-align:left;white-space:pre\">Drama</td></tr></table></body></html>"
      ]
     },
     "metadata": {},
     "output_type": "display_data"
    }
   ],
   "source": [
    "SELECT m.title, g.name FROM movies m JOIN genres_movies gm ON m.id = gm.movie_id \n",
    "                                     JOIN genres g ON g.id = gm.genre_id \n",
    "                                     LIMIT 10;"
   ]
  },
  {
   "cell_type": "markdown",
   "id": "frequent-insight",
   "metadata": {},
   "source": [
    "## [Questão 13] Quantos usuários possuem a profissão \"Student\"?"
   ]
  },
  {
   "cell_type": "code",
   "execution_count": 2,
   "id": "above-fever",
   "metadata": {},
   "outputs": [
    {
     "data": {
      "text/html": [
       "<html><body><table border=\"1\"><tr><th style=\"text-align:left;white-space:pre\">name</th><th style=\"text-align:left;white-space:pre\">COUNT(*)</th></tr><tr><td style=\"text-align:left;white-space:pre\">Student</td><td style=\"text-align:left;white-space:pre\">196</td></tr></table></body></html>"
      ]
     },
     "metadata": {},
     "output_type": "display_data"
    }
   ],
   "source": [
    "SELECT oc.name, COUNT(*) FROM users u JOIN occupations oc ON u.occupation_id = oc.id WHERE oc.name = 'Student' GROUP BY oc.name;"
   ]
  },
  {
   "cell_type": "markdown",
   "id": "fluid-addition",
   "metadata": {},
   "source": [
    "## [Questão 14] Quais estudantes avaliaram filmes que possuem a palavra \"Man\" em seu título?"
   ]
  },
  {
   "cell_type": "code",
   "execution_count": null,
   "id": "amended-portugal",
   "metadata": {},
   "outputs": [],
   "source": [
    "SELECT DISTINCT u.id as user_id, oc.name as occupation FROM occupations oc JOIN users u ON u.occupation_id = oc.id \n",
    "                                                                  JOIN ratings r ON r.user_id = u.id\n",
    "                                                                  JOIN movies m ON m.id = r.movie_id\n",
    "                                                                  WHERE oc.name = \"Student\" AND m.title LIKE \"%Man%\"\n",
    "                                                                  LIMIT 10;"
   ]
  },
  {
   "cell_type": "markdown",
   "id": "animal-douglas",
   "metadata": {},
   "source": [
    "## [Questão 15] Quantos estudantes menores de 18 anos avaliaram filmes de terror ou crime"
   ]
  },
  {
   "cell_type": "code",
   "execution_count": 14,
   "id": "fatal-destiny",
   "metadata": {},
   "outputs": [
    {
     "data": {
      "text/html": [
       "<html><body><table border=\"1\"><tr><th style=\"text-align:left;white-space:pre\">Quantidade</th></tr><tr><td style=\"text-align:left;white-space:pre\">29</td></tr></table></body></html>"
      ]
     },
     "metadata": {},
     "output_type": "display_data"
    }
   ],
   "source": [
    "SELECT COUNT(DISTINCT u.id) as Quantidade FROM occupations oc JOIN users u ON u.occupation_id = oc.id \n",
    "                                                                  JOIN ratings r ON r.user_id = u.id\n",
    "                                                                  WHERE oc.name = \"Student\" AND u.age < 18 \n",
    "                                                                        AND r.movie_id IN\n",
    "                                                                          (SELECT DISTINCT m.id FROM movies m JOIN genres_movies gm ON m.id = gm.movie_id\n",
    "                                                                                                     JOIN genres g ON g.id = gm.genre_id  \n",
    "                                                                                       WHERE g.name = \"Horror\" OR g.name = \"Crime\");"
   ]
  },
  {
   "cell_type": "markdown",
   "id": "cardiac-guitar",
   "metadata": {},
   "source": [
    "## [Questão 16] Qual são os ids dos 10 filmes mais populares?"
   ]
  },
  {
   "cell_type": "code",
   "execution_count": 27,
   "id": "happy-magic",
   "metadata": {},
   "outputs": [
    {
     "data": {
      "text/html": [
       "<html><body><table border=\"1\"><tr><th style=\"text-align:left;white-space:pre\">movie_id</th><th style=\"text-align:left;white-space:pre\">avaliacoes</th></tr><tr><td style=\"text-align:left;white-space:pre\">50</td><td style=\"text-align:left;white-space:pre\">583</td></tr><tr><td style=\"text-align:left;white-space:pre\">258</td><td style=\"text-align:left;white-space:pre\">509</td></tr><tr><td style=\"text-align:left;white-space:pre\">100</td><td style=\"text-align:left;white-space:pre\">508</td></tr><tr><td style=\"text-align:left;white-space:pre\">181</td><td style=\"text-align:left;white-space:pre\">507</td></tr><tr><td style=\"text-align:left;white-space:pre\">294</td><td style=\"text-align:left;white-space:pre\">485</td></tr><tr><td style=\"text-align:left;white-space:pre\">286</td><td style=\"text-align:left;white-space:pre\">481</td></tr><tr><td style=\"text-align:left;white-space:pre\">288</td><td style=\"text-align:left;white-space:pre\">478</td></tr><tr><td style=\"text-align:left;white-space:pre\">1</td><td style=\"text-align:left;white-space:pre\">452</td></tr><tr><td style=\"text-align:left;white-space:pre\">300</td><td style=\"text-align:left;white-space:pre\">431</td></tr><tr><td style=\"text-align:left;white-space:pre\">121</td><td style=\"text-align:left;white-space:pre\">429</td></tr></table></body></html>"
      ]
     },
     "metadata": {},
     "output_type": "display_data"
    }
   ],
   "source": [
    "SELECT movie_id, count(rating) as avaliacoes FROM ratings GROUP BY movie_id ORDER BY avaliacoes DESC LIMIT 10;"
   ]
  },
  {
   "cell_type": "markdown",
   "id": "editorial-despite",
   "metadata": {},
   "source": [
    "## [Questão 17] Qual o nome do filme com melhor média de avaliação? O resultado deve mostrar apenas os filmes com a melhor média (sem utilizar o \"LIMIT\")"
   ]
  },
  {
   "cell_type": "code",
   "execution_count": 29,
   "id": "abandoned-suicide",
   "metadata": {},
   "outputs": [
    {
     "data": {
      "text/html": [
       "Query OK"
      ]
     },
     "metadata": {},
     "output_type": "display_data"
    }
   ],
   "source": [
    "CREATE OR REPLACE VIEW ratings_avg AS SELECT movie_id, AVG(rating) as media FROM ratings GROUP BY movie_id;"
   ]
  },
  {
   "cell_type": "code",
   "execution_count": 30,
   "id": "established-rogers",
   "metadata": {},
   "outputs": [
    {
     "data": {
      "text/html": [
       "<html><body><table border=\"1\"><tr><th style=\"text-align:left;white-space:pre\">movie_id</th><th style=\"text-align:left;white-space:pre\">media</th></tr><tr><td style=\"text-align:left;white-space:pre\">1536</td><td style=\"text-align:left;white-space:pre\">5.0000</td></tr><tr><td style=\"text-align:left;white-space:pre\">1201</td><td style=\"text-align:left;white-space:pre\">5.0000</td></tr><tr><td style=\"text-align:left;white-space:pre\">1122</td><td style=\"text-align:left;white-space:pre\">5.0000</td></tr><tr><td style=\"text-align:left;white-space:pre\">1653</td><td style=\"text-align:left;white-space:pre\">5.0000</td></tr><tr><td style=\"text-align:left;white-space:pre\">1189</td><td style=\"text-align:left;white-space:pre\">5.0000</td></tr><tr><td style=\"text-align:left;white-space:pre\">1467</td><td style=\"text-align:left;white-space:pre\">5.0000</td></tr><tr><td style=\"text-align:left;white-space:pre\">1500</td><td style=\"text-align:left;white-space:pre\">5.0000</td></tr><tr><td style=\"text-align:left;white-space:pre\">1293</td><td style=\"text-align:left;white-space:pre\">5.0000</td></tr><tr><td style=\"text-align:left;white-space:pre\">814</td><td style=\"text-align:left;white-space:pre\">5.0000</td></tr><tr><td style=\"text-align:left;white-space:pre\">1599</td><td style=\"text-align:left;white-space:pre\">5.0000</td></tr><tr><td style=\"text-align:left;white-space:pre\">1449</td><td style=\"text-align:left;white-space:pre\">4.6250</td></tr><tr><td style=\"text-align:left;white-space:pre\">1398</td><td style=\"text-align:left;white-space:pre\">4.5000</td></tr><tr><td style=\"text-align:left;white-space:pre\">119</td><td style=\"text-align:left;white-space:pre\">4.5000</td></tr><tr><td style=\"text-align:left;white-space:pre\">1594</td><td style=\"text-align:left;white-space:pre\">4.5000</td></tr><tr><td style=\"text-align:left;white-space:pre\">1642</td><td style=\"text-align:left;white-space:pre\">4.5000</td></tr><tr><td style=\"text-align:left;white-space:pre\">408</td><td style=\"text-align:left;white-space:pre\">4.4911</td></tr><tr><td style=\"text-align:left;white-space:pre\">318</td><td style=\"text-align:left;white-space:pre\">4.4664</td></tr><tr><td style=\"text-align:left;white-space:pre\">169</td><td style=\"text-align:left;white-space:pre\">4.4661</td></tr><tr><td style=\"text-align:left;white-space:pre\">483</td><td style=\"text-align:left;white-space:pre\">4.4568</td></tr><tr><td style=\"text-align:left;white-space:pre\">114</td><td style=\"text-align:left;white-space:pre\">4.4478</td></tr></table></body></html>"
      ]
     },
     "metadata": {},
     "output_type": "display_data"
    }
   ],
   "source": [
    "SELECT * FROM ratings_avg ORDER BY media DESC LIMIT 20;"
   ]
  },
  {
   "cell_type": "code",
   "execution_count": 31,
   "id": "configured-uncle",
   "metadata": {},
   "outputs": [
    {
     "data": {
      "text/html": [
       "<html><body><table border=\"1\"><tr><th style=\"text-align:left;white-space:pre\">title</th><th style=\"text-align:left;white-space:pre\">id</th></tr><tr><td style=\"text-align:left;white-space:pre\">Entertaining Angels: The Dorothy Day Story (1996)</td><td style=\"text-align:left;white-space:pre\">1653</td></tr><tr><td style=\"text-align:left;white-space:pre\">Someone Else's America (1995)</td><td style=\"text-align:left;white-space:pre\">1599</td></tr><tr><td style=\"text-align:left;white-space:pre\">Aiqing wansui (1994)</td><td style=\"text-align:left;white-space:pre\">1536</td></tr><tr><td style=\"text-align:left;white-space:pre\">Santa with Muscles (1996)</td><td style=\"text-align:left;white-space:pre\">1500</td></tr><tr><td style=\"text-align:left;white-space:pre\">Saint of Fort Washington, The (1993)</td><td style=\"text-align:left;white-space:pre\">1467</td></tr><tr><td style=\"text-align:left;white-space:pre\">Star Kid (1997)</td><td style=\"text-align:left;white-space:pre\">1293</td></tr><tr><td style=\"text-align:left;white-space:pre\">Marlene Dietrich: Shadow and Light (1996) </td><td style=\"text-align:left;white-space:pre\">1201</td></tr><tr><td style=\"text-align:left;white-space:pre\">Prefontaine (1997)</td><td style=\"text-align:left;white-space:pre\">1189</td></tr><tr><td style=\"text-align:left;white-space:pre\">They Made Me a Criminal (1939)</td><td style=\"text-align:left;white-space:pre\">1122</td></tr><tr><td style=\"text-align:left;white-space:pre\">Great Day in Harlem, A (1994)</td><td style=\"text-align:left;white-space:pre\">814</td></tr></table></body></html>"
      ]
     },
     "metadata": {},
     "output_type": "display_data"
    }
   ],
   "source": [
    "SELECT m.title, m.id FROM ratings_avg ra JOIN movies m ON ra.movie_id = m.id WHERE ra.media IN (SELECT MAX(media) FROM ratings_avg);"
   ]
  },
  {
   "cell_type": "markdown",
   "id": "mediterranean-opposition",
   "metadata": {},
   "source": [
    "## [Questão 18] Quais os nomes dos top 10 filmes com melhor média de avaliação considerando filmes que possuem mais de 10 avaliações?"
   ]
  },
  {
   "cell_type": "code",
   "execution_count": 32,
   "id": "victorian-middle",
   "metadata": {},
   "outputs": [
    {
     "data": {
      "text/html": [
       "Query OK"
      ]
     },
     "metadata": {},
     "output_type": "display_data"
    }
   ],
   "source": [
    "CREATE OR REPLACE VIEW top_movies AS SELECT movie_id, count(rating) as avaliacoes FROM ratings GROUP BY movie_id;"
   ]
  },
  {
   "cell_type": "code",
   "execution_count": 40,
   "id": "searching-writer",
   "metadata": {},
   "outputs": [
    {
     "data": {
      "text/html": [
       "<html><body><table border=\"1\"><tr><th style=\"text-align:left;white-space:pre\">id</th><th style=\"text-align:left;white-space:pre\">title</th><th style=\"text-align:left;white-space:pre\">media</th><th style=\"text-align:left;white-space:pre\">avaliacoes</th></tr><tr><td style=\"text-align:left;white-space:pre\">408</td><td style=\"text-align:left;white-space:pre\">Close Shave, A (1995)</td><td style=\"text-align:left;white-space:pre\">4.4911</td><td style=\"text-align:left;white-space:pre\">112</td></tr><tr><td style=\"text-align:left;white-space:pre\">318</td><td style=\"text-align:left;white-space:pre\">Schindler's List (1993)</td><td style=\"text-align:left;white-space:pre\">4.4664</td><td style=\"text-align:left;white-space:pre\">298</td></tr><tr><td style=\"text-align:left;white-space:pre\">169</td><td style=\"text-align:left;white-space:pre\">Wrong Trousers, The (1993)</td><td style=\"text-align:left;white-space:pre\">4.4661</td><td style=\"text-align:left;white-space:pre\">118</td></tr><tr><td style=\"text-align:left;white-space:pre\">483</td><td style=\"text-align:left;white-space:pre\">Casablanca (1942)</td><td style=\"text-align:left;white-space:pre\">4.4568</td><td style=\"text-align:left;white-space:pre\">243</td></tr><tr><td style=\"text-align:left;white-space:pre\">114</td><td style=\"text-align:left;white-space:pre\">Wallace &amp; Gromit: The Best of Aardman Animation (1996)</td><td style=\"text-align:left;white-space:pre\">4.4478</td><td style=\"text-align:left;white-space:pre\">67</td></tr><tr><td style=\"text-align:left;white-space:pre\">64</td><td style=\"text-align:left;white-space:pre\">Shawshank Redemption, The (1994)</td><td style=\"text-align:left;white-space:pre\">4.4452</td><td style=\"text-align:left;white-space:pre\">283</td></tr><tr><td style=\"text-align:left;white-space:pre\">603</td><td style=\"text-align:left;white-space:pre\">Rear Window (1954)</td><td style=\"text-align:left;white-space:pre\">4.3876</td><td style=\"text-align:left;white-space:pre\">209</td></tr><tr><td style=\"text-align:left;white-space:pre\">12</td><td style=\"text-align:left;white-space:pre\">Usual Suspects, The (1995)</td><td style=\"text-align:left;white-space:pre\">4.3858</td><td style=\"text-align:left;white-space:pre\">267</td></tr><tr><td style=\"text-align:left;white-space:pre\">50</td><td style=\"text-align:left;white-space:pre\">Star Wars (1977)</td><td style=\"text-align:left;white-space:pre\">4.3585</td><td style=\"text-align:left;white-space:pre\">583</td></tr><tr><td style=\"text-align:left;white-space:pre\">178</td><td style=\"text-align:left;white-space:pre\">12 Angry Men (1957)</td><td style=\"text-align:left;white-space:pre\">4.3440</td><td style=\"text-align:left;white-space:pre\">125</td></tr></table></body></html>"
      ]
     },
     "metadata": {},
     "output_type": "display_data"
    }
   ],
   "source": [
    "SELECT  m.id as id, m.title as title, ra.media as media, tm.avaliacoes as avaliacoes\n",
    "FROM ratings_avg ra JOIN top_movies tm ON ra.movie_id = tm.movie_id\n",
    "JOIN movies m ON tm.movie_id = m.id\n",
    "WHERE tm.avaliacoes >10\n",
    "ORDER BY media DESC\n",
    "LIMIT 10;"
   ]
  },
  {
   "cell_type": "code",
   "execution_count": 41,
   "id": "indie-rocket",
   "metadata": {},
   "outputs": [
    {
     "data": {
      "text/html": [
       "<html><body><table border=\"1\"><tr><th style=\"text-align:left;white-space:pre\">movie_id</th><th style=\"text-align:left;white-space:pre\">title</th><th style=\"text-align:left;white-space:pre\">rating_avg</th><th style=\"text-align:left;white-space:pre\">rating_count</th></tr><tr><td style=\"text-align:left;white-space:pre\">408</td><td style=\"text-align:left;white-space:pre\">Close Shave, A (1995)</td><td style=\"text-align:left;white-space:pre\">4.4911</td><td style=\"text-align:left;white-space:pre\">112</td></tr><tr><td style=\"text-align:left;white-space:pre\">318</td><td style=\"text-align:left;white-space:pre\">Schindler's List (1993)</td><td style=\"text-align:left;white-space:pre\">4.4664</td><td style=\"text-align:left;white-space:pre\">298</td></tr><tr><td style=\"text-align:left;white-space:pre\">169</td><td style=\"text-align:left;white-space:pre\">Wrong Trousers, The (1993)</td><td style=\"text-align:left;white-space:pre\">4.4661</td><td style=\"text-align:left;white-space:pre\">118</td></tr><tr><td style=\"text-align:left;white-space:pre\">483</td><td style=\"text-align:left;white-space:pre\">Casablanca (1942)</td><td style=\"text-align:left;white-space:pre\">4.4568</td><td style=\"text-align:left;white-space:pre\">243</td></tr><tr><td style=\"text-align:left;white-space:pre\">114</td><td style=\"text-align:left;white-space:pre\">Wallace &amp; Gromit: The Best of Aardman Animation (1996)</td><td style=\"text-align:left;white-space:pre\">4.4478</td><td style=\"text-align:left;white-space:pre\">67</td></tr><tr><td style=\"text-align:left;white-space:pre\">64</td><td style=\"text-align:left;white-space:pre\">Shawshank Redemption, The (1994)</td><td style=\"text-align:left;white-space:pre\">4.4452</td><td style=\"text-align:left;white-space:pre\">283</td></tr><tr><td style=\"text-align:left;white-space:pre\">603</td><td style=\"text-align:left;white-space:pre\">Rear Window (1954)</td><td style=\"text-align:left;white-space:pre\">4.3876</td><td style=\"text-align:left;white-space:pre\">209</td></tr><tr><td style=\"text-align:left;white-space:pre\">12</td><td style=\"text-align:left;white-space:pre\">Usual Suspects, The (1995)</td><td style=\"text-align:left;white-space:pre\">4.3858</td><td style=\"text-align:left;white-space:pre\">267</td></tr><tr><td style=\"text-align:left;white-space:pre\">50</td><td style=\"text-align:left;white-space:pre\">Star Wars (1977)</td><td style=\"text-align:left;white-space:pre\">4.3585</td><td style=\"text-align:left;white-space:pre\">583</td></tr><tr><td style=\"text-align:left;white-space:pre\">178</td><td style=\"text-align:left;white-space:pre\">12 Angry Men (1957)</td><td style=\"text-align:left;white-space:pre\">4.3440</td><td style=\"text-align:left;white-space:pre\">125</td></tr></table></body></html>"
      ]
     },
     "metadata": {},
     "output_type": "display_data"
    }
   ],
   "source": [
    "-- SOLUÇÃO 02 - HAVING\n",
    "SELECT r.movie_id, m.title, AVG(r.rating) as rating_avg, COUNT(r.rating) as rating_count\n",
    "FROM ratings r JOIN movies m ON r.movie_id = m.id\n",
    "GROUP BY r.movie_id, m.title\n",
    "HAVING rating_count > 10\n",
    "ORDER BY rating_avg DESC\n",
    "LIMIT 10;"
   ]
  }
 ],
 "metadata": {
  "kernelspec": {
   "display_name": "MariaDB",
   "language": "SQL",
   "name": "mariadb_kernel"
  },
  "language_info": {
   "file_extension": ".sql",
   "mimetype": "text/plain",
   "name": "SQL"
  }
 },
 "nbformat": 4,
 "nbformat_minor": 5
}
