{
 "cells": [
  {
   "cell_type": "markdown",
   "id": "alternate-inspiration",
   "metadata": {},
   "source": [
    "# Movielens"
   ]
  },
  {
   "cell_type": "markdown",
   "id": "plastic-vulnerability",
   "metadata": {},
   "source": [
    "Este [dataset](https://grouplens.org/datasets/movielens/100k/) descreve as avaliações de filmes feitas por usuários no site [MovieLens](https://movielens.org/), um serviço de recomendação de filmes. As avaliações (ratings) variam de 1 a 5, cada usuário avaliou pelo menos 20 filmes e existem simples informações demográficas sobre os usuários. Existem no banco de dados, aproximadamente, 100,000 avaliações de 1000 usuários feitas a 1700 filmes."
   ]
  },
  {
   "cell_type": "markdown",
   "id": "metropolitan-damages",
   "metadata": {},
   "source": [
    "## Descrição das tabelas"
   ]
  },
  {
   "cell_type": "markdown",
   "id": "precious-employer",
   "metadata": {},
   "source": [
    "* **Occupations**: Armazena a lista de ocupações dos usuários;\n",
    "* **Users**: Armazena informações sobre os usuários, por exemplo, idade e cep;\n",
    "* **Ratings**: Armazena as notas que os usuários atribuíram aos filmes e em qual momento esta nota foi atribuída;\n",
    "* **Movies**: Armazena informações dos filmes;\n",
    "* **Genres_movies**: Armazena o relacionamento dos gêneros e dos filmes;\n",
    "* **Genres**: Armazena a lista de gêneros."
   ]
  },
  {
   "cell_type": "markdown",
   "id": "cutting-specialist",
   "metadata": {},
   "source": [
    "## Modelo lógico"
   ]
  },
  {
   "cell_type": "markdown",
   "id": "jewish-authentication",
   "metadata": {},
   "source": [
    "<img src=\"../../resources/images/movielens_diagram.png\" width=\"1000px\">\n"
   ]
  },
  {
   "cell_type": "code",
   "execution_count": 1,
   "id": "worst-tomorrow",
   "metadata": {},
   "outputs": [
    {
     "data": {
      "text/html": [
       "Query OK"
      ]
     },
     "metadata": {},
     "output_type": "display_data"
    }
   ],
   "source": [
    "USE movielens;"
   ]
  },
  {
   "cell_type": "markdown",
   "id": "coastal-import",
   "metadata": {},
   "source": [
    "## [Questão Exemplo] Liste todos os usuários\n",
    "<!--\n",
    "SELECT * FROM users LIMIT 10;\n",
    "SELECT * FROM users; -->"
   ]
  },
  {
   "cell_type": "code",
   "execution_count": 5,
   "id": "convertible-transport",
   "metadata": {},
   "outputs": [
    {
     "data": {
      "text/html": [
       "<html><body><table border=\"1\"><tr><th style=\"text-align:left;white-space:pre\">id</th><th style=\"text-align:left;white-space:pre\">age</th><th style=\"text-align:left;white-space:pre\">gender</th><th style=\"text-align:left;white-space:pre\">occupation_id</th><th style=\"text-align:left;white-space:pre\">zip_code</th></tr><tr><td style=\"text-align:left;white-space:pre\">1</td><td style=\"text-align:left;white-space:pre\">24</td><td style=\"text-align:left;white-space:pre\">M</td><td style=\"text-align:left;white-space:pre\">20</td><td style=\"text-align:left;white-space:pre\">85711</td></tr><tr><td style=\"text-align:left;white-space:pre\">2</td><td style=\"text-align:left;white-space:pre\">53</td><td style=\"text-align:left;white-space:pre\">F</td><td style=\"text-align:left;white-space:pre\">14</td><td style=\"text-align:left;white-space:pre\">94043</td></tr><tr><td style=\"text-align:left;white-space:pre\">3</td><td style=\"text-align:left;white-space:pre\">23</td><td style=\"text-align:left;white-space:pre\">M</td><td style=\"text-align:left;white-space:pre\">21</td><td style=\"text-align:left;white-space:pre\">32067</td></tr><tr><td style=\"text-align:left;white-space:pre\">4</td><td style=\"text-align:left;white-space:pre\">24</td><td style=\"text-align:left;white-space:pre\">M</td><td style=\"text-align:left;white-space:pre\">20</td><td style=\"text-align:left;white-space:pre\">43537</td></tr><tr><td style=\"text-align:left;white-space:pre\">5</td><td style=\"text-align:left;white-space:pre\">33</td><td style=\"text-align:left;white-space:pre\">F</td><td style=\"text-align:left;white-space:pre\">14</td><td style=\"text-align:left;white-space:pre\">15213</td></tr><tr><td style=\"text-align:left;white-space:pre\">6</td><td style=\"text-align:left;white-space:pre\">42</td><td style=\"text-align:left;white-space:pre\">M</td><td style=\"text-align:left;white-space:pre\">7</td><td style=\"text-align:left;white-space:pre\">98101</td></tr><tr><td style=\"text-align:left;white-space:pre\">7</td><td style=\"text-align:left;white-space:pre\">57</td><td style=\"text-align:left;white-space:pre\">M</td><td style=\"text-align:left;white-space:pre\">1</td><td style=\"text-align:left;white-space:pre\">91344</td></tr><tr><td style=\"text-align:left;white-space:pre\">8</td><td style=\"text-align:left;white-space:pre\">36</td><td style=\"text-align:left;white-space:pre\">M</td><td style=\"text-align:left;white-space:pre\">1</td><td style=\"text-align:left;white-space:pre\">05201</td></tr><tr><td style=\"text-align:left;white-space:pre\">9</td><td style=\"text-align:left;white-space:pre\">29</td><td style=\"text-align:left;white-space:pre\">M</td><td style=\"text-align:left;white-space:pre\">19</td><td style=\"text-align:left;white-space:pre\">01002</td></tr><tr><td style=\"text-align:left;white-space:pre\">10</td><td style=\"text-align:left;white-space:pre\">53</td><td style=\"text-align:left;white-space:pre\">M</td><td style=\"text-align:left;white-space:pre\">10</td><td style=\"text-align:left;white-space:pre\">90703</td></tr></table></body></html>"
      ]
     },
     "metadata": {},
     "output_type": "display_data"
    }
   ],
   "source": [
    "SELECT * FROM users LIMIT 10;"
   ]
  },
  {
   "cell_type": "markdown",
   "id": "finite-greene",
   "metadata": {},
   "source": [
    "## [Questão Exemplo] Liste o id e idade dos usuários\n",
    "<!-- SELECT id, age FROM users;\n",
    " SELECT id, age FROM users LIMIT 10;-->"
   ]
  },
  {
   "cell_type": "code",
   "execution_count": 6,
   "id": "graduate-america",
   "metadata": {},
   "outputs": [
    {
     "data": {
      "text/html": [
       "<html><body><table border=\"1\"><tr><th style=\"text-align:left;white-space:pre\">id</th><th style=\"text-align:left;white-space:pre\">age</th></tr><tr><td style=\"text-align:left;white-space:pre\">1</td><td style=\"text-align:left;white-space:pre\">24</td></tr><tr><td style=\"text-align:left;white-space:pre\">2</td><td style=\"text-align:left;white-space:pre\">53</td></tr><tr><td style=\"text-align:left;white-space:pre\">3</td><td style=\"text-align:left;white-space:pre\">23</td></tr><tr><td style=\"text-align:left;white-space:pre\">4</td><td style=\"text-align:left;white-space:pre\">24</td></tr><tr><td style=\"text-align:left;white-space:pre\">5</td><td style=\"text-align:left;white-space:pre\">33</td></tr><tr><td style=\"text-align:left;white-space:pre\">6</td><td style=\"text-align:left;white-space:pre\">42</td></tr><tr><td style=\"text-align:left;white-space:pre\">7</td><td style=\"text-align:left;white-space:pre\">57</td></tr><tr><td style=\"text-align:left;white-space:pre\">8</td><td style=\"text-align:left;white-space:pre\">36</td></tr><tr><td style=\"text-align:left;white-space:pre\">9</td><td style=\"text-align:left;white-space:pre\">29</td></tr><tr><td style=\"text-align:left;white-space:pre\">10</td><td style=\"text-align:left;white-space:pre\">53</td></tr></table></body></html>"
      ]
     },
     "metadata": {},
     "output_type": "display_data"
    }
   ],
   "source": [
    "SELECT id, age FROM users LIMIT 10;"
   ]
  },
  {
   "cell_type": "markdown",
   "id": "choice-indication",
   "metadata": {},
   "source": [
    "## [Questão Exemplo] Liste todos os ids das ocupações dos usuários sem repetição\n",
    "<!-- SELECT DISTINCT occupation_id FROM users; -->"
   ]
  },
  {
   "cell_type": "code",
   "execution_count": 8,
   "id": "prompt-mandate",
   "metadata": {},
   "outputs": [
    {
     "data": {
      "text/html": [
       "<html><body><table border=\"1\"><tr><th style=\"text-align:left;white-space:pre\">occupation_id</th></tr><tr><td style=\"text-align:left;white-space:pre\">20</td></tr><tr><td style=\"text-align:left;white-space:pre\">14</td></tr><tr><td style=\"text-align:left;white-space:pre\">21</td></tr><tr><td style=\"text-align:left;white-space:pre\">7</td></tr><tr><td style=\"text-align:left;white-space:pre\">1</td></tr><tr><td style=\"text-align:left;white-space:pre\">19</td></tr><tr><td style=\"text-align:left;white-space:pre\">10</td></tr><tr><td style=\"text-align:left;white-space:pre\">4</td></tr><tr><td style=\"text-align:left;white-space:pre\">18</td></tr><tr><td style=\"text-align:left;white-space:pre\">6</td></tr><tr><td style=\"text-align:left;white-space:pre\">15</td></tr><tr><td style=\"text-align:left;white-space:pre\">11</td></tr><tr><td style=\"text-align:left;white-space:pre\">9</td></tr><tr><td style=\"text-align:left;white-space:pre\">2</td></tr><tr><td style=\"text-align:left;white-space:pre\">5</td></tr><tr><td style=\"text-align:left;white-space:pre\">12</td></tr><tr><td style=\"text-align:left;white-space:pre\">13</td></tr><tr><td style=\"text-align:left;white-space:pre\">8</td></tr><tr><td style=\"text-align:left;white-space:pre\">16</td></tr><tr><td style=\"text-align:left;white-space:pre\">17</td></tr><tr><td style=\"text-align:left;white-space:pre\">3</td></tr></table></body></html>"
      ]
     },
     "metadata": {},
     "output_type": "display_data"
    }
   ],
   "source": [
    "SELECT DISTINCT occupation_id FROM users;"
   ]
  },
  {
   "cell_type": "markdown",
   "id": "supreme-saver",
   "metadata": {},
   "source": [
    "## [Questão Exemplo] Liste o id e a idade dos usuários que possuem mais de 25 anos\n",
    "<!-- SELECT id, age FROM users WHERE age > 25;-->"
   ]
  },
  {
   "cell_type": "code",
   "execution_count": 10,
   "id": "hearing-worcester",
   "metadata": {},
   "outputs": [
    {
     "data": {
      "text/html": [
       "<html><body><table border=\"1\"><tr><th style=\"text-align:left;white-space:pre\">id</th><th style=\"text-align:left;white-space:pre\">age</th></tr><tr><td style=\"text-align:left;white-space:pre\">2</td><td style=\"text-align:left;white-space:pre\">53</td></tr><tr><td style=\"text-align:left;white-space:pre\">5</td><td style=\"text-align:left;white-space:pre\">33</td></tr><tr><td style=\"text-align:left;white-space:pre\">6</td><td style=\"text-align:left;white-space:pre\">42</td></tr><tr><td style=\"text-align:left;white-space:pre\">7</td><td style=\"text-align:left;white-space:pre\">57</td></tr><tr><td style=\"text-align:left;white-space:pre\">8</td><td style=\"text-align:left;white-space:pre\">36</td></tr><tr><td style=\"text-align:left;white-space:pre\">9</td><td style=\"text-align:left;white-space:pre\">29</td></tr><tr><td style=\"text-align:left;white-space:pre\">10</td><td style=\"text-align:left;white-space:pre\">53</td></tr><tr><td style=\"text-align:left;white-space:pre\">11</td><td style=\"text-align:left;white-space:pre\">39</td></tr><tr><td style=\"text-align:left;white-space:pre\">12</td><td style=\"text-align:left;white-space:pre\">28</td></tr><tr><td style=\"text-align:left;white-space:pre\">13</td><td style=\"text-align:left;white-space:pre\">47</td></tr></table></body></html>"
      ]
     },
     "metadata": {},
     "output_type": "display_data"
    }
   ],
   "source": [
    "SELECT id, age FROM users WHERE age > 25 LIMIT 10;"
   ]
  },
  {
   "cell_type": "markdown",
   "id": "reflected-marker",
   "metadata": {},
   "source": [
    "## [Questão Exemplo] Liste o id e a idade dos usuários que possuem entre 25 anos e 35 anos\n",
    "<!-- SELECT id, age FROM users WHERE age > 25 AND age < 35 LIMIT 10;-->"
   ]
  },
  {
   "cell_type": "code",
   "execution_count": 13,
   "id": "excess-layer",
   "metadata": {},
   "outputs": [
    {
     "data": {
      "text/html": [
       "<html><body><table border=\"1\"><tr><th style=\"text-align:left;white-space:pre\">id</th><th style=\"text-align:left;white-space:pre\">age</th></tr><tr><td style=\"text-align:left;white-space:pre\">5</td><td style=\"text-align:left;white-space:pre\">33</td></tr><tr><td style=\"text-align:left;white-space:pre\">9</td><td style=\"text-align:left;white-space:pre\">29</td></tr><tr><td style=\"text-align:left;white-space:pre\">12</td><td style=\"text-align:left;white-space:pre\">28</td></tr><tr><td style=\"text-align:left;white-space:pre\">17</td><td style=\"text-align:left;white-space:pre\">30</td></tr><tr><td style=\"text-align:left;white-space:pre\">21</td><td style=\"text-align:left;white-space:pre\">26</td></tr><tr><td style=\"text-align:left;white-space:pre\">23</td><td style=\"text-align:left;white-space:pre\">30</td></tr><tr><td style=\"text-align:left;white-space:pre\">28</td><td style=\"text-align:left;white-space:pre\">32</td></tr><tr><td style=\"text-align:left;white-space:pre\">32</td><td style=\"text-align:left;white-space:pre\">28</td></tr><tr><td style=\"text-align:left;white-space:pre\">38</td><td style=\"text-align:left;white-space:pre\">28</td></tr><tr><td style=\"text-align:left;white-space:pre\">41</td><td style=\"text-align:left;white-space:pre\">33</td></tr></table></body></html>"
      ]
     },
     "metadata": {},
     "output_type": "display_data"
    }
   ],
   "source": [
    "SELECT id, age FROM users WHERE age > 25 AND age < 35 LIMIT 10;"
   ]
  },
  {
   "cell_type": "markdown",
   "id": "stone-premises",
   "metadata": {},
   "source": [
    "## [Questão Exemplo] Liste o id e o gênero dos usuários que fizeram pelo menos uma avaliação de filme"
   ]
  },
  {
   "cell_type": "code",
   "execution_count": 6,
   "id": "affiliated-avatar",
   "metadata": {},
   "outputs": [
    {
     "data": {
      "text/html": [
       "<html><body><table border=\"1\"><tr><th style=\"text-align:left;white-space:pre\">id</th><th style=\"text-align:left;white-space:pre\">gender</th></tr><tr><td style=\"text-align:left;white-space:pre\">1</td><td style=\"text-align:left;white-space:pre\">M</td></tr><tr><td style=\"text-align:left;white-space:pre\">2</td><td style=\"text-align:left;white-space:pre\">F</td></tr><tr><td style=\"text-align:left;white-space:pre\">3</td><td style=\"text-align:left;white-space:pre\">M</td></tr><tr><td style=\"text-align:left;white-space:pre\">4</td><td style=\"text-align:left;white-space:pre\">M</td></tr><tr><td style=\"text-align:left;white-space:pre\">5</td><td style=\"text-align:left;white-space:pre\">F</td></tr><tr><td style=\"text-align:left;white-space:pre\">6</td><td style=\"text-align:left;white-space:pre\">M</td></tr><tr><td style=\"text-align:left;white-space:pre\">7</td><td style=\"text-align:left;white-space:pre\">M</td></tr><tr><td style=\"text-align:left;white-space:pre\">8</td><td style=\"text-align:left;white-space:pre\">M</td></tr><tr><td style=\"text-align:left;white-space:pre\">9</td><td style=\"text-align:left;white-space:pre\">M</td></tr><tr><td style=\"text-align:left;white-space:pre\">10</td><td style=\"text-align:left;white-space:pre\">M</td></tr></table></body></html>"
      ]
     },
     "metadata": {},
     "output_type": "display_data"
    }
   ],
   "source": [
    "--Consulta aninhada\n",
    "SELECT id, gender FROM\n",
    " users\n",
    " WHERE id in\n",
    "(SELECT user_id FROM ratings) LIMIT 10;"
   ]
  },
  {
   "cell_type": "code",
   "execution_count": 8,
   "id": "static-siemens",
   "metadata": {},
   "outputs": [
    {
     "data": {
      "text/html": [
       "<html><body><table border=\"1\"><tr><th style=\"text-align:left;white-space:pre\">id</th><th style=\"text-align:left;white-space:pre\">gender</th></tr><tr><td style=\"text-align:left;white-space:pre\">196</td><td style=\"text-align:left;white-space:pre\">M</td></tr><tr><td style=\"text-align:left;white-space:pre\">186</td><td style=\"text-align:left;white-space:pre\">F</td></tr><tr><td style=\"text-align:left;white-space:pre\">22</td><td style=\"text-align:left;white-space:pre\">M</td></tr><tr><td style=\"text-align:left;white-space:pre\">244</td><td style=\"text-align:left;white-space:pre\">M</td></tr><tr><td style=\"text-align:left;white-space:pre\">166</td><td style=\"text-align:left;white-space:pre\">M</td></tr><tr><td style=\"text-align:left;white-space:pre\">298</td><td style=\"text-align:left;white-space:pre\">M</td></tr><tr><td style=\"text-align:left;white-space:pre\">115</td><td style=\"text-align:left;white-space:pre\">M</td></tr><tr><td style=\"text-align:left;white-space:pre\">253</td><td style=\"text-align:left;white-space:pre\">F</td></tr><tr><td style=\"text-align:left;white-space:pre\">305</td><td style=\"text-align:left;white-space:pre\">M</td></tr><tr><td style=\"text-align:left;white-space:pre\">6</td><td style=\"text-align:left;white-space:pre\">M</td></tr></table></body></html>"
      ]
     },
     "metadata": {},
     "output_type": "display_data"
    }
   ],
   "source": [
    "--Junção\n",
    "SELECT u.id, u.gender FROM\n",
    " users u JOIN ratings r on u.id = r.user_id\n",
    " LIMIT 10;"
   ]
  },
  {
   "cell_type": "markdown",
   "id": "fantastic-therapist",
   "metadata": {},
   "source": [
    "## [Questão Exemplo] Quantos usuários são do sexo masculino e quantos usuários são do sexo feminino?"
   ]
  },
  {
   "cell_type": "code",
   "execution_count": 10,
   "id": "given-house",
   "metadata": {},
   "outputs": [
    {
     "data": {
      "text/html": [
       "<html><body><table border=\"1\"><tr><th style=\"text-align:left;white-space:pre\">gender</th><th style=\"text-align:left;white-space:pre\">COUNT(*)</th></tr><tr><td style=\"text-align:left;white-space:pre\">F</td><td style=\"text-align:left;white-space:pre\">273</td></tr><tr><td style=\"text-align:left;white-space:pre\">M</td><td style=\"text-align:left;white-space:pre\">670</td></tr></table></body></html>"
      ]
     },
     "metadata": {},
     "output_type": "display_data"
    }
   ],
   "source": [
    "SELECT gender, COUNT(*)\n",
    "FROM users\n",
    "GROUP BY gender;"
   ]
  },
  {
   "cell_type": "markdown",
   "id": "subjective-conditions",
   "metadata": {},
   "source": [
    "## [Questão Exemplo] Quantos usuários existem agrupados por idade e separados por gênero?"
   ]
  },
  {
   "cell_type": "code",
   "execution_count": null,
   "id": "broken-launch",
   "metadata": {},
   "outputs": [],
   "source": [
    "SELECT age, gender, COUNT(*)\n",
    "FROM users\n",
    "GROUP BY age, gender;"
   ]
  },
  {
   "cell_type": "markdown",
   "id": "previous-today",
   "metadata": {},
   "source": [
    "## [Questão 1] Liste todos os filmes"
   ]
  },
  {
   "cell_type": "code",
   "execution_count": 11,
   "id": "chief-malta",
   "metadata": {},
   "outputs": [
    {
     "data": {
      "text/html": [
       "<html><body><table border=\"1\"><tr><th style=\"text-align:left;white-space:pre\">id</th><th style=\"text-align:left;white-space:pre\">title</th><th style=\"text-align:left;white-space:pre\">release_date</th></tr><tr><td style=\"text-align:left;white-space:pre\">1</td><td style=\"text-align:left;white-space:pre\">Toy Story (1995)</td><td style=\"text-align:left;white-space:pre\">1995-01-01</td></tr><tr><td style=\"text-align:left;white-space:pre\">2</td><td style=\"text-align:left;white-space:pre\">GoldenEye (1995)</td><td style=\"text-align:left;white-space:pre\">1995-01-01</td></tr><tr><td style=\"text-align:left;white-space:pre\">3</td><td style=\"text-align:left;white-space:pre\">Four Rooms (1995)</td><td style=\"text-align:left;white-space:pre\">1995-01-01</td></tr><tr><td style=\"text-align:left;white-space:pre\">4</td><td style=\"text-align:left;white-space:pre\">Get Shorty (1995)</td><td style=\"text-align:left;white-space:pre\">1995-01-01</td></tr><tr><td style=\"text-align:left;white-space:pre\">5</td><td style=\"text-align:left;white-space:pre\">Copycat (1995)</td><td style=\"text-align:left;white-space:pre\">1995-01-01</td></tr><tr><td style=\"text-align:left;white-space:pre\">6</td><td style=\"text-align:left;white-space:pre\">Shanghai Triad (Yao a yao yao dao waipo qiao) (1995)</td><td style=\"text-align:left;white-space:pre\">1995-01-01</td></tr><tr><td style=\"text-align:left;white-space:pre\">7</td><td style=\"text-align:left;white-space:pre\">Twelve Monkeys (1995)</td><td style=\"text-align:left;white-space:pre\">1995-01-01</td></tr><tr><td style=\"text-align:left;white-space:pre\">8</td><td style=\"text-align:left;white-space:pre\">Babe (1995)</td><td style=\"text-align:left;white-space:pre\">1995-01-01</td></tr><tr><td style=\"text-align:left;white-space:pre\">9</td><td style=\"text-align:left;white-space:pre\">Dead Man Walking (1995)</td><td style=\"text-align:left;white-space:pre\">1995-01-01</td></tr><tr><td style=\"text-align:left;white-space:pre\">10</td><td style=\"text-align:left;white-space:pre\">Richard III (1995)</td><td style=\"text-align:left;white-space:pre\">1996-01-22</td></tr></table></body></html>"
      ]
     },
     "metadata": {},
     "output_type": "display_data"
    }
   ],
   "source": [
    "SELECT * FROM movies LIMIT 10; "
   ]
  },
  {
   "cell_type": "markdown",
   "id": "ranging-award",
   "metadata": {},
   "source": [
    "## [Questão 2] Liste todos os títulos e data de lançamento dos filmes"
   ]
  },
  {
   "cell_type": "code",
   "execution_count": 12,
   "id": "chemical-store",
   "metadata": {},
   "outputs": [
    {
     "data": {
      "text/html": [
       "<html><body><table border=\"1\"><tr><th style=\"text-align:left;white-space:pre\">title</th><th style=\"text-align:left;white-space:pre\">release_date</th></tr><tr><td style=\"text-align:left;white-space:pre\">Toy Story (1995)</td><td style=\"text-align:left;white-space:pre\">1995-01-01</td></tr><tr><td style=\"text-align:left;white-space:pre\">GoldenEye (1995)</td><td style=\"text-align:left;white-space:pre\">1995-01-01</td></tr><tr><td style=\"text-align:left;white-space:pre\">Four Rooms (1995)</td><td style=\"text-align:left;white-space:pre\">1995-01-01</td></tr><tr><td style=\"text-align:left;white-space:pre\">Get Shorty (1995)</td><td style=\"text-align:left;white-space:pre\">1995-01-01</td></tr><tr><td style=\"text-align:left;white-space:pre\">Copycat (1995)</td><td style=\"text-align:left;white-space:pre\">1995-01-01</td></tr><tr><td style=\"text-align:left;white-space:pre\">Shanghai Triad (Yao a yao yao dao waipo qiao) (1995)</td><td style=\"text-align:left;white-space:pre\">1995-01-01</td></tr><tr><td style=\"text-align:left;white-space:pre\">Twelve Monkeys (1995)</td><td style=\"text-align:left;white-space:pre\">1995-01-01</td></tr><tr><td style=\"text-align:left;white-space:pre\">Babe (1995)</td><td style=\"text-align:left;white-space:pre\">1995-01-01</td></tr><tr><td style=\"text-align:left;white-space:pre\">Dead Man Walking (1995)</td><td style=\"text-align:left;white-space:pre\">1995-01-01</td></tr><tr><td style=\"text-align:left;white-space:pre\">Richard III (1995)</td><td style=\"text-align:left;white-space:pre\">1996-01-22</td></tr></table></body></html>"
      ]
     },
     "metadata": {},
     "output_type": "display_data"
    }
   ],
   "source": [
    "SELECT title, release_date FROM movies LIMIT 10; "
   ]
  },
  {
   "cell_type": "markdown",
   "id": "chief-berlin",
   "metadata": {},
   "source": [
    "## [Questão 3] Liste todas as datas que tiveram lançamento de filmes sem repetição"
   ]
  },
  {
   "cell_type": "code",
   "execution_count": 15,
   "id": "herbal-farming",
   "metadata": {},
   "outputs": [
    {
     "data": {
      "text/html": [
       "<html><body><table border=\"1\"><tr><th style=\"text-align:left;white-space:pre\">release_date</th></tr><tr><td style=\"text-align:left;white-space:pre\">1995-01-01</td></tr><tr><td style=\"text-align:left;white-space:pre\">1996-01-22</td></tr><tr><td style=\"text-align:left;white-space:pre\">1995-08-14</td></tr><tr><td style=\"text-align:left;white-space:pre\">1995-10-30</td></tr><tr><td style=\"text-align:left;white-space:pre\">1994-01-01</td></tr><tr><td style=\"text-align:left;white-space:pre\">1996-01-29</td></tr><tr><td style=\"text-align:left;white-space:pre\">1996-02-05</td></tr><tr><td style=\"text-align:left;white-space:pre\">1996-02-16</td></tr><tr><td style=\"text-align:left;white-space:pre\">1996-02-23</td></tr><tr><td style=\"text-align:left;white-space:pre\">1996-03-08</td></tr></table></body></html>"
      ]
     },
     "metadata": {},
     "output_type": "display_data"
    }
   ],
   "source": [
    "SELECT DISTINCT release_date FROM movies LIMIT 10; "
   ]
  },
  {
   "cell_type": "markdown",
   "id": "miniature-client",
   "metadata": {},
   "source": [
    "## [Questão 4] Liste o título de todos os filmes com data de lançamento maior que 07/07/1995"
   ]
  },
  {
   "cell_type": "code",
   "execution_count": 20,
   "id": "accurate-maple",
   "metadata": {},
   "outputs": [
    {
     "data": {
      "text/html": [
       "<html><body><table border=\"1\"><tr><th style=\"text-align:left;white-space:pre\">title</th><th style=\"text-align:left;white-space:pre\">release_date</th></tr><tr><td style=\"text-align:left;white-space:pre\">Richard III (1995)</td><td style=\"text-align:left;white-space:pre\">1996-01-22</td></tr><tr><td style=\"text-align:left;white-space:pre\">Usual Suspects, The (1995)</td><td style=\"text-align:left;white-space:pre\">1995-08-14</td></tr><tr><td style=\"text-align:left;white-space:pre\">Mighty Aphrodite (1995)</td><td style=\"text-align:left;white-space:pre\">1995-10-30</td></tr><tr><td style=\"text-align:left;white-space:pre\">Mr. Holland's Opus (1995)</td><td style=\"text-align:left;white-space:pre\">1996-01-29</td></tr><tr><td style=\"text-align:left;white-space:pre\">From Dusk Till Dawn (1996)</td><td style=\"text-align:left;white-space:pre\">1996-02-05</td></tr><tr><td style=\"text-align:left;white-space:pre\">Muppet Treasure Island (1996)</td><td style=\"text-align:left;white-space:pre\">1996-02-16</td></tr><tr><td style=\"text-align:left;white-space:pre\">Braveheart (1995)</td><td style=\"text-align:left;white-space:pre\">1996-02-16</td></tr><tr><td style=\"text-align:left;white-space:pre\">Taxi Driver (1976)</td><td style=\"text-align:left;white-space:pre\">1996-02-16</td></tr><tr><td style=\"text-align:left;white-space:pre\">Rumble in the Bronx (1995)</td><td style=\"text-align:left;white-space:pre\">1996-02-23</td></tr><tr><td style=\"text-align:left;white-space:pre\">Birdcage, The (1996)</td><td style=\"text-align:left;white-space:pre\">1996-03-08</td></tr><tr><td style=\"text-align:left;white-space:pre\">Welcome to the Dollhouse (1995)</td><td style=\"text-align:left;white-space:pre\">1996-05-24</td></tr><tr><td style=\"text-align:left;white-space:pre\">Fargo (1996)</td><td style=\"text-align:left;white-space:pre\">1997-02-14</td></tr><tr><td style=\"text-align:left;white-space:pre\">All Dogs Go to Heaven 2 (1996)</td><td style=\"text-align:left;white-space:pre\">1996-03-29</td></tr><tr><td style=\"text-align:left;white-space:pre\">Theodore Rex (1995)</td><td style=\"text-align:left;white-space:pre\">1996-03-29</td></tr><tr><td style=\"text-align:left;white-space:pre\">Sgt. Bilko (1996)</td><td style=\"text-align:left;white-space:pre\">1996-03-29</td></tr><tr><td style=\"text-align:left;white-space:pre\">Diabolique (1996)</td><td style=\"text-align:left;white-space:pre\">1996-01-01</td></tr><tr><td style=\"text-align:left;white-space:pre\">Moll Flanders (1996)</td><td style=\"text-align:left;white-space:pre\">1996-06-14</td></tr><tr><td style=\"text-align:left;white-space:pre\">Kids in the Hall: Brain Candy (1996)</td><td style=\"text-align:left;white-space:pre\">1996-04-12</td></tr><tr><td style=\"text-align:left;white-space:pre\">Mystery Science Theater 3000: The Movie (1996)</td><td style=\"text-align:left;white-space:pre\">1996-04-19</td></tr><tr><td style=\"text-align:left;white-space:pre\">Truth About Cats &amp; Dogs, The (1996)</td><td style=\"text-align:left;white-space:pre\">1996-04-26</td></tr></table></body></html>"
      ]
     },
     "metadata": {},
     "output_type": "display_data"
    }
   ],
   "source": [
    "SELECT title, release_date FROM movies WHERE release_date > \"1995-07-07\" LIMIT 20;"
   ]
  },
  {
   "cell_type": "markdown",
   "id": "attempted-friday",
   "metadata": {},
   "source": [
    "## [Questão 5] Liste todos os usuários e o nome de suas profissões "
   ]
  },
  {
   "cell_type": "code",
   "execution_count": 23,
   "id": "considerable-catalyst",
   "metadata": {},
   "outputs": [
    {
     "data": {
      "text/html": [
       "<html><body><table border=\"1\"><tr><th style=\"text-align:left;white-space:pre\">user_id</th><th style=\"text-align:left;white-space:pre\">occupation</th></tr><tr><td style=\"text-align:left;white-space:pre\">1</td><td style=\"text-align:left;white-space:pre\">Technician</td></tr><tr><td style=\"text-align:left;white-space:pre\">2</td><td style=\"text-align:left;white-space:pre\">Other</td></tr><tr><td style=\"text-align:left;white-space:pre\">3</td><td style=\"text-align:left;white-space:pre\">Writer</td></tr><tr><td style=\"text-align:left;white-space:pre\">4</td><td style=\"text-align:left;white-space:pre\">Technician</td></tr><tr><td style=\"text-align:left;white-space:pre\">5</td><td style=\"text-align:left;white-space:pre\">Other</td></tr><tr><td style=\"text-align:left;white-space:pre\">6</td><td style=\"text-align:left;white-space:pre\">Executive</td></tr><tr><td style=\"text-align:left;white-space:pre\">7</td><td style=\"text-align:left;white-space:pre\">Administrator</td></tr><tr><td style=\"text-align:left;white-space:pre\">8</td><td style=\"text-align:left;white-space:pre\">Administrator</td></tr><tr><td style=\"text-align:left;white-space:pre\">9</td><td style=\"text-align:left;white-space:pre\">Student</td></tr><tr><td style=\"text-align:left;white-space:pre\">10</td><td style=\"text-align:left;white-space:pre\">Lawyer</td></tr></table></body></html>"
      ]
     },
     "metadata": {},
     "output_type": "display_data"
    }
   ],
   "source": [
    "SELECT u.id as user_id, o.name as occupation FROM users u JOIN occupations o ON u.occupation_id = o.id  LIMIT 10; "
   ]
  },
  {
   "cell_type": "markdown",
   "id": "korean-mixer",
   "metadata": {},
   "source": [
    "## [Questão 6] Liste o título dos filmes que contenham a palavra \"Treasure\" em seu título"
   ]
  },
  {
   "cell_type": "code",
   "execution_count": 27,
   "id": "forced-utilization",
   "metadata": {},
   "outputs": [
    {
     "data": {
      "text/html": [
       "<html><body><table border=\"1\"><tr><th style=\"text-align:left;white-space:pre\">title</th></tr><tr><td style=\"text-align:left;white-space:pre\">Muppet Treasure Island (1996)</td></tr><tr><td style=\"text-align:left;white-space:pre\">Treasure of the Sierra Madre, The (1948)</td></tr></table></body></html>"
      ]
     },
     "metadata": {},
     "output_type": "display_data"
    }
   ],
   "source": [
    "SELECT title FROM movies WHERE title LIKE '%Treasure%'; "
   ]
  },
  {
   "cell_type": "markdown",
   "id": "binding-retrieval",
   "metadata": {},
   "source": [
    "## [Questão 7] Liste todos as ocupações com \"o\" na penultima posição"
   ]
  },
  {
   "cell_type": "code",
   "execution_count": 6,
   "id": "duplicate-intake",
   "metadata": {},
   "outputs": [
    {
     "data": {
      "text/html": [
       "<html><body><table border=\"1\"><tr><th style=\"text-align:left;white-space:pre\">id</th><th style=\"text-align:left;white-space:pre\">name</th></tr><tr><td style=\"text-align:left;white-space:pre\">1</td><td style=\"text-align:left;white-space:pre\">Administrator</td></tr><tr><td style=\"text-align:left;white-space:pre\">2</td><td style=\"text-align:left;white-space:pre\">Artist</td></tr><tr><td style=\"text-align:left;white-space:pre\">3</td><td style=\"text-align:left;white-space:pre\">Doctor</td></tr><tr><td style=\"text-align:left;white-space:pre\">4</td><td style=\"text-align:left;white-space:pre\">Educator</td></tr><tr><td style=\"text-align:left;white-space:pre\">5</td><td style=\"text-align:left;white-space:pre\">Engineer</td></tr><tr><td style=\"text-align:left;white-space:pre\">6</td><td style=\"text-align:left;white-space:pre\">Entertainment</td></tr><tr><td style=\"text-align:left;white-space:pre\">7</td><td style=\"text-align:left;white-space:pre\">Executive</td></tr><tr><td style=\"text-align:left;white-space:pre\">8</td><td style=\"text-align:left;white-space:pre\">Healthcare</td></tr><tr><td style=\"text-align:left;white-space:pre\">9</td><td style=\"text-align:left;white-space:pre\">Homemaker</td></tr><tr><td style=\"text-align:left;white-space:pre\">10</td><td style=\"text-align:left;white-space:pre\">Lawyer</td></tr><tr><td style=\"text-align:left;white-space:pre\">11</td><td style=\"text-align:left;white-space:pre\">Librarian</td></tr><tr><td style=\"text-align:left;white-space:pre\">12</td><td style=\"text-align:left;white-space:pre\">Marketing</td></tr><tr><td style=\"text-align:left;white-space:pre\">13</td><td style=\"text-align:left;white-space:pre\">None</td></tr><tr><td style=\"text-align:left;white-space:pre\">14</td><td style=\"text-align:left;white-space:pre\">Other</td></tr><tr><td style=\"text-align:left;white-space:pre\">15</td><td style=\"text-align:left;white-space:pre\">Programmer</td></tr><tr><td style=\"text-align:left;white-space:pre\">16</td><td style=\"text-align:left;white-space:pre\">Retired</td></tr><tr><td style=\"text-align:left;white-space:pre\">17</td><td style=\"text-align:left;white-space:pre\">Salesman</td></tr><tr><td style=\"text-align:left;white-space:pre\">18</td><td style=\"text-align:left;white-space:pre\">Scientist</td></tr><tr><td style=\"text-align:left;white-space:pre\">19</td><td style=\"text-align:left;white-space:pre\">Student</td></tr><tr><td style=\"text-align:left;white-space:pre\">20</td><td style=\"text-align:left;white-space:pre\">Technician</td></tr><tr><td style=\"text-align:left;white-space:pre\">21</td><td style=\"text-align:left;white-space:pre\">Writer</td></tr></table></body></html>"
      ]
     },
     "metadata": {},
     "output_type": "display_data"
    }
   ],
   "source": [
    "SELECT * FROM occupations WHERE name LIKE '%o_'; "
   ]
  },
  {
   "cell_type": "markdown",
   "id": "instrumental-central",
   "metadata": {},
   "source": [
    "## [Questão 8] Insira dois usuários com ids 2000 e 3000 com a profissão \"Programmer\". Escolha outros valores para os demais campos."
   ]
  },
  {
   "cell_type": "code",
   "execution_count": 9,
   "id": "indian-richardson",
   "metadata": {},
   "outputs": [
    {
     "data": {
      "text/html": [
       "Query OK"
      ]
     },
     "metadata": {},
     "output_type": "display_data"
    }
   ],
   "source": [
    "SELECT * FROM users WHERE id >= 2000;"
   ]
  },
  {
   "cell_type": "code",
   "execution_count": 10,
   "id": "increased-reach",
   "metadata": {},
   "outputs": [
    {
     "data": {
      "text/html": [
       "Query OK"
      ]
     },
     "metadata": {},
     "output_type": "display_data"
    }
   ],
   "source": [
    "INSERT INTO users VALUES(2000, 35, \"M\", 15, \"123456\");"
   ]
  },
  {
   "cell_type": "code",
   "execution_count": 11,
   "id": "dominican-teacher",
   "metadata": {},
   "outputs": [
    {
     "data": {
      "text/html": [
       "Query OK"
      ]
     },
     "metadata": {},
     "output_type": "display_data"
    }
   ],
   "source": [
    "INSERT INTO users VALUES(3000, 30, \"F\", 15, \"123456\");"
   ]
  },
  {
   "cell_type": "code",
   "execution_count": 12,
   "id": "biological-university",
   "metadata": {},
   "outputs": [
    {
     "data": {
      "text/html": [
       "<html><body><table border=\"1\"><tr><th style=\"text-align:left;white-space:pre\">id</th><th style=\"text-align:left;white-space:pre\">age</th><th style=\"text-align:left;white-space:pre\">gender</th><th style=\"text-align:left;white-space:pre\">occupation_id</th><th style=\"text-align:left;white-space:pre\">zip_code</th></tr><tr><td style=\"text-align:left;white-space:pre\">2000</td><td style=\"text-align:left;white-space:pre\">35</td><td style=\"text-align:left;white-space:pre\">M</td><td style=\"text-align:left;white-space:pre\">15</td><td style=\"text-align:left;white-space:pre\">123456</td></tr><tr><td style=\"text-align:left;white-space:pre\">3000</td><td style=\"text-align:left;white-space:pre\">30</td><td style=\"text-align:left;white-space:pre\">F</td><td style=\"text-align:left;white-space:pre\">15</td><td style=\"text-align:left;white-space:pre\">123456</td></tr></table></body></html>"
      ]
     },
     "metadata": {},
     "output_type": "display_data"
    }
   ],
   "source": [
    "SELECT * FROM users WHERE id >= 2000;"
   ]
  },
  {
   "cell_type": "markdown",
   "id": "blocked-affair",
   "metadata": {},
   "source": [
    "## [Questão 9] Altere a profissão do usuário de id 3000 para \"Scientist\""
   ]
  },
  {
   "cell_type": "code",
   "execution_count": 13,
   "id": "manual-tomato",
   "metadata": {},
   "outputs": [
    {
     "data": {
      "text/html": [
       "<html><body><table border=\"1\"><tr><th style=\"text-align:left;white-space:pre\">id</th><th style=\"text-align:left;white-space:pre\">age</th><th style=\"text-align:left;white-space:pre\">gender</th><th style=\"text-align:left;white-space:pre\">occupation_id</th><th style=\"text-align:left;white-space:pre\">zip_code</th></tr><tr><td style=\"text-align:left;white-space:pre\">3000</td><td style=\"text-align:left;white-space:pre\">30</td><td style=\"text-align:left;white-space:pre\">F</td><td style=\"text-align:left;white-space:pre\">15</td><td style=\"text-align:left;white-space:pre\">123456</td></tr></table></body></html>"
      ]
     },
     "metadata": {},
     "output_type": "display_data"
    }
   ],
   "source": [
    "SELECT * FROM users WHERE id = 3000;"
   ]
  },
  {
   "cell_type": "code",
   "execution_count": 14,
   "id": "ancient-arcade",
   "metadata": {},
   "outputs": [
    {
     "data": {
      "text/html": [
       "Query OK"
      ]
     },
     "metadata": {},
     "output_type": "display_data"
    }
   ],
   "source": [
    "UPDATE users\n",
    "       SET occupation_id = 18\n",
    "       WHERE id = 3000;"
   ]
  },
  {
   "cell_type": "code",
   "execution_count": 15,
   "id": "tough-stocks",
   "metadata": {},
   "outputs": [
    {
     "data": {
      "text/html": [
       "<html><body><table border=\"1\"><tr><th style=\"text-align:left;white-space:pre\">id</th><th style=\"text-align:left;white-space:pre\">age</th><th style=\"text-align:left;white-space:pre\">gender</th><th style=\"text-align:left;white-space:pre\">occupation_id</th><th style=\"text-align:left;white-space:pre\">zip_code</th></tr><tr><td style=\"text-align:left;white-space:pre\">3000</td><td style=\"text-align:left;white-space:pre\">30</td><td style=\"text-align:left;white-space:pre\">F</td><td style=\"text-align:left;white-space:pre\">18</td><td style=\"text-align:left;white-space:pre\">123456</td></tr></table></body></html>"
      ]
     },
     "metadata": {},
     "output_type": "display_data"
    }
   ],
   "source": [
    "SELECT * FROM users WHERE id = 3000;"
   ]
  },
  {
   "cell_type": "markdown",
   "id": "marked-cyprus",
   "metadata": {},
   "source": [
    "## [Questão 10] Delete o usuário de id 3000"
   ]
  },
  {
   "cell_type": "code",
   "execution_count": 16,
   "id": "emerging-pioneer",
   "metadata": {},
   "outputs": [
    {
     "data": {
      "text/html": [
       "<html><body><table border=\"1\"><tr><th style=\"text-align:left;white-space:pre\">id</th><th style=\"text-align:left;white-space:pre\">age</th><th style=\"text-align:left;white-space:pre\">gender</th><th style=\"text-align:left;white-space:pre\">occupation_id</th><th style=\"text-align:left;white-space:pre\">zip_code</th></tr><tr><td style=\"text-align:left;white-space:pre\">3000</td><td style=\"text-align:left;white-space:pre\">30</td><td style=\"text-align:left;white-space:pre\">F</td><td style=\"text-align:left;white-space:pre\">18</td><td style=\"text-align:left;white-space:pre\">123456</td></tr></table></body></html>"
      ]
     },
     "metadata": {},
     "output_type": "display_data"
    }
   ],
   "source": [
    "SELECT * FROM users WHERE id = 3000;"
   ]
  },
  {
   "cell_type": "code",
   "execution_count": 17,
   "id": "suspected-growing",
   "metadata": {},
   "outputs": [
    {
     "data": {
      "text/html": [
       "Query OK"
      ]
     },
     "metadata": {},
     "output_type": "display_data"
    }
   ],
   "source": [
    "DELETE FROM users WHERE id = 3000;"
   ]
  },
  {
   "cell_type": "code",
   "execution_count": 19,
   "id": "proved-intellectual",
   "metadata": {},
   "outputs": [
    {
     "data": {
      "text/html": [
       "<html><body><table border=\"1\"><tr><th style=\"text-align:left;white-space:pre\">id</th><th style=\"text-align:left;white-space:pre\">age</th><th style=\"text-align:left;white-space:pre\">gender</th><th style=\"text-align:left;white-space:pre\">occupation_id</th><th style=\"text-align:left;white-space:pre\">zip_code</th></tr><tr><td style=\"text-align:left;white-space:pre\">2000</td><td style=\"text-align:left;white-space:pre\">35</td><td style=\"text-align:left;white-space:pre\">M</td><td style=\"text-align:left;white-space:pre\">15</td><td style=\"text-align:left;white-space:pre\">123456</td></tr></table></body></html>"
      ]
     },
     "metadata": {},
     "output_type": "display_data"
    }
   ],
   "source": [
    "SELECT * FROM users WHERE id >= 2000;"
   ]
  },
  {
   "cell_type": "markdown",
   "id": "agreed-services",
   "metadata": {},
   "source": [
    "## [Questão 11] Liste todos os usuários que não fizeram nenhuma avaliação de filme"
   ]
  },
  {
   "cell_type": "code",
   "execution_count": 29,
   "id": "basic-guitar",
   "metadata": {},
   "outputs": [
    {
     "data": {
      "text/html": [
       "<html><body><table border=\"1\"><tr><th style=\"text-align:left;white-space:pre\">id</th></tr><tr><td style=\"text-align:left;white-space:pre\">2000</td></tr></table></body></html>"
      ]
     },
     "metadata": {},
     "output_type": "display_data"
    }
   ],
   "source": [
    "SELECT id FROM users WHERE id NOT IN (SELECT user_id FROM ratings);"
   ]
  },
  {
   "cell_type": "markdown",
   "id": "conceptual-telling",
   "metadata": {},
   "source": [
    "## [Questão 12] Liste o título dos filmes e seus gêneros"
   ]
  },
  {
   "cell_type": "code",
   "execution_count": 31,
   "id": "extensive-cause",
   "metadata": {},
   "outputs": [
    {
     "data": {
      "text/html": [
       "<html><body><table border=\"1\"><tr><th style=\"text-align:left;white-space:pre\">title</th><th style=\"text-align:left;white-space:pre\">name</th></tr><tr><td style=\"text-align:left;white-space:pre\">Toy Story (1995)</td><td style=\"text-align:left;white-space:pre\">Animation</td></tr><tr><td style=\"text-align:left;white-space:pre\">Toy Story (1995)</td><td style=\"text-align:left;white-space:pre\">Children's</td></tr><tr><td style=\"text-align:left;white-space:pre\">Toy Story (1995)</td><td style=\"text-align:left;white-space:pre\">Comedy</td></tr><tr><td style=\"text-align:left;white-space:pre\">GoldenEye (1995)</td><td style=\"text-align:left;white-space:pre\">Action</td></tr><tr><td style=\"text-align:left;white-space:pre\">GoldenEye (1995)</td><td style=\"text-align:left;white-space:pre\">Adventure</td></tr><tr><td style=\"text-align:left;white-space:pre\">GoldenEye (1995)</td><td style=\"text-align:left;white-space:pre\">Thriller</td></tr><tr><td style=\"text-align:left;white-space:pre\">Four Rooms (1995)</td><td style=\"text-align:left;white-space:pre\">Thriller</td></tr><tr><td style=\"text-align:left;white-space:pre\">Get Shorty (1995)</td><td style=\"text-align:left;white-space:pre\">Action</td></tr><tr><td style=\"text-align:left;white-space:pre\">Get Shorty (1995)</td><td style=\"text-align:left;white-space:pre\">Comedy</td></tr><tr><td style=\"text-align:left;white-space:pre\">Get Shorty (1995)</td><td style=\"text-align:left;white-space:pre\">Drama</td></tr></table></body></html>"
      ]
     },
     "metadata": {},
     "output_type": "display_data"
    }
   ],
   "source": [
    "SELECT m.title, g.name FROM movies m JOIN genres_movies gm ON m.id = gm.movie_id \n",
    "                                     JOIN genres g ON g.id = gm.genre_id \n",
    "                                     LIMIT 10;"
   ]
  },
  {
   "cell_type": "markdown",
   "id": "substantial-palestinian",
   "metadata": {},
   "source": [
    "## [Questão 13] Quantos usuários possuem a profissão \"Student\"?"
   ]
  },
  {
   "cell_type": "code",
   "execution_count": 2,
   "id": "assigned-cricket",
   "metadata": {},
   "outputs": [
    {
     "data": {
      "text/html": [
       "<html><body><table border=\"1\"><tr><th style=\"text-align:left;white-space:pre\">name</th><th style=\"text-align:left;white-space:pre\">COUNT(*)</th></tr><tr><td style=\"text-align:left;white-space:pre\">Student</td><td style=\"text-align:left;white-space:pre\">196</td></tr></table></body></html>"
      ]
     },
     "metadata": {},
     "output_type": "display_data"
    }
   ],
   "source": [
    "SELECT oc.name, COUNT(*) FROM users u JOIN occupations oc ON u.occupation_id = oc.id WHERE oc.name = 'Student' GROUP BY oc.name;"
   ]
  },
  {
   "cell_type": "markdown",
   "id": "laden-person",
   "metadata": {},
   "source": [
    "## [Questão 14] Quais estudantes avaliaram filmes que possuem a palavra \"Man\" em seu título?"
   ]
  },
  {
   "cell_type": "code",
   "execution_count": 11,
   "id": "discrete-shopper",
   "metadata": {},
   "outputs": [
    {
     "data": {
      "text/html": [
       "<html><body><table border=\"1\"><tr><th style=\"text-align:left;white-space:pre\">user_id</th><th style=\"text-align:left;white-space:pre\">occupation</th></tr><tr><td style=\"text-align:left;white-space:pre\">276</td><td style=\"text-align:left;white-space:pre\">Student</td></tr><tr><td style=\"text-align:left;white-space:pre\">110</td><td style=\"text-align:left;white-space:pre\">Student</td></tr><tr><td style=\"text-align:left;white-space:pre\">99</td><td style=\"text-align:left;white-space:pre\">Student</td></tr><tr><td style=\"text-align:left;white-space:pre\">37</td><td style=\"text-align:left;white-space:pre\">Student</td></tr><tr><td style=\"text-align:left;white-space:pre\">117</td><td style=\"text-align:left;white-space:pre\">Student</td></tr><tr><td style=\"text-align:left;white-space:pre\">303</td><td style=\"text-align:left;white-space:pre\">Student</td></tr><tr><td style=\"text-align:left;white-space:pre\">73</td><td style=\"text-align:left;white-space:pre\">Student</td></tr><tr><td style=\"text-align:left;white-space:pre\">286</td><td style=\"text-align:left;white-space:pre\">Student</td></tr><tr><td style=\"text-align:left;white-space:pre\">94</td><td style=\"text-align:left;white-space:pre\">Student</td></tr><tr><td style=\"text-align:left;white-space:pre\">291</td><td style=\"text-align:left;white-space:pre\">Student</td></tr><tr><td style=\"text-align:left;white-space:pre\">104</td><td style=\"text-align:left;white-space:pre\">Student</td></tr><tr><td style=\"text-align:left;white-space:pre\">66</td><td style=\"text-align:left;white-space:pre\">Student</td></tr><tr><td style=\"text-align:left;white-space:pre\">76</td><td style=\"text-align:left;white-space:pre\">Student</td></tr><tr><td style=\"text-align:left;white-space:pre\">246</td><td style=\"text-align:left;white-space:pre\">Student</td></tr><tr><td style=\"text-align:left;white-space:pre\">314</td><td style=\"text-align:left;white-space:pre\">Student</td></tr><tr><td style=\"text-align:left;white-space:pre\">49</td><td style=\"text-align:left;white-space:pre\">Student</td></tr><tr><td style=\"text-align:left;white-space:pre\">32</td><td style=\"text-align:left;white-space:pre\">Student</td></tr><tr><td style=\"text-align:left;white-space:pre\">323</td><td style=\"text-align:left;white-space:pre\">Student</td></tr><tr><td style=\"text-align:left;white-space:pre\">159</td><td style=\"text-align:left;white-space:pre\">Student</td></tr><tr><td style=\"text-align:left;white-space:pre\">327</td><td style=\"text-align:left;white-space:pre\">Student</td></tr><tr><td style=\"text-align:left;white-space:pre\">198</td><td style=\"text-align:left;white-space:pre\">Student</td></tr><tr><td style=\"text-align:left;white-space:pre\">301</td><td style=\"text-align:left;white-space:pre\">Student</td></tr><tr><td style=\"text-align:left;white-space:pre\">9</td><td style=\"text-align:left;white-space:pre\">Student</td></tr><tr><td style=\"text-align:left;white-space:pre\">221</td><td style=\"text-align:left;white-space:pre\">Student</td></tr><tr><td style=\"text-align:left;white-space:pre\">223</td><td style=\"text-align:left;white-space:pre\">Student</td></tr><tr><td style=\"text-align:left;white-space:pre\">206</td><td style=\"text-align:left;white-space:pre\">Student</td></tr><tr><td style=\"text-align:left;white-space:pre\">101</td><td style=\"text-align:left;white-space:pre\">Student</td></tr><tr><td style=\"text-align:left;white-space:pre\">124</td><td style=\"text-align:left;white-space:pre\">Student</td></tr><tr><td style=\"text-align:left;white-space:pre\">248</td><td style=\"text-align:left;white-space:pre\">Student</td></tr><tr><td style=\"text-align:left;white-space:pre\">52</td><td style=\"text-align:left;white-space:pre\">Student</td></tr><tr><td style=\"text-align:left;white-space:pre\">363</td><td style=\"text-align:left;white-space:pre\">Student</td></tr><tr><td style=\"text-align:left;white-space:pre\">262</td><td style=\"text-align:left;white-space:pre\">Student</td></tr><tr><td style=\"text-align:left;white-space:pre\">350</td><td style=\"text-align:left;white-space:pre\">Student</td></tr><tr><td style=\"text-align:left;white-space:pre\">30</td><td style=\"text-align:left;white-space:pre\">Student</td></tr><tr><td style=\"text-align:left;white-space:pre\">366</td><td style=\"text-align:left;white-space:pre\">Student</td></tr><tr><td style=\"text-align:left;white-space:pre\">322</td><td style=\"text-align:left;white-space:pre\">Student</td></tr><tr><td style=\"text-align:left;white-space:pre\">230</td><td style=\"text-align:left;white-space:pre\">Student</td></tr><tr><td style=\"text-align:left;white-space:pre\">226</td><td style=\"text-align:left;white-space:pre\">Student</td></tr><tr><td style=\"text-align:left;white-space:pre\">332</td><td style=\"text-align:left;white-space:pre\">Student</td></tr><tr><td style=\"text-align:left;white-space:pre\">372</td><td style=\"text-align:left;white-space:pre\">Student</td></tr><tr><td style=\"text-align:left;white-space:pre\">393</td><td style=\"text-align:left;white-space:pre\">Student</td></tr><tr><td style=\"text-align:left;white-space:pre\">188</td><td style=\"text-align:left;white-space:pre\">Student</td></tr><tr><td style=\"text-align:left;white-space:pre\">347</td><td style=\"text-align:left;white-space:pre\">Student</td></tr><tr><td style=\"text-align:left;white-space:pre\">378</td><td style=\"text-align:left;white-space:pre\">Student</td></tr><tr><td style=\"text-align:left;white-space:pre\">193</td><td style=\"text-align:left;white-space:pre\">Student</td></tr><tr><td style=\"text-align:left;white-space:pre\">416</td><td style=\"text-align:left;white-space:pre\">Student</td></tr><tr><td style=\"text-align:left;white-space:pre\">307</td><td style=\"text-align:left;white-space:pre\">Student</td></tr><tr><td style=\"text-align:left;white-space:pre\">320</td><td style=\"text-align:left;white-space:pre\">Student</td></tr><tr><td style=\"text-align:left;white-space:pre\">408</td><td style=\"text-align:left;white-space:pre\">Student</td></tr><tr><td style=\"text-align:left;white-space:pre\">249</td><td style=\"text-align:left;white-space:pre\">Student</td></tr><tr><td style=\"text-align:left;white-space:pre\">429</td><td style=\"text-align:left;white-space:pre\">Student</td></tr><tr><td style=\"text-align:left;white-space:pre\">361</td><td style=\"text-align:left;white-space:pre\">Student</td></tr><tr><td style=\"text-align:left;white-space:pre\">369</td><td style=\"text-align:left;white-space:pre\">Student</td></tr><tr><td style=\"text-align:left;white-space:pre\">391</td><td style=\"text-align:left;white-space:pre\">Student</td></tr><tr><td style=\"text-align:left;white-space:pre\">442</td><td style=\"text-align:left;white-space:pre\">Student</td></tr><tr><td style=\"text-align:left;white-space:pre\">324</td><td style=\"text-align:left;white-space:pre\">Student</td></tr><tr><td style=\"text-align:left;white-space:pre\">397</td><td style=\"text-align:left;white-space:pre\">Student</td></tr><tr><td style=\"text-align:left;white-space:pre\">453</td><td style=\"text-align:left;white-space:pre\">Student</td></tr><tr><td style=\"text-align:left;white-space:pre\">451</td><td style=\"text-align:left;white-space:pre\">Student</td></tr><tr><td style=\"text-align:left;white-space:pre\">484</td><td style=\"text-align:left;white-space:pre\">Student</td></tr><tr><td style=\"text-align:left;white-space:pre\">497</td><td style=\"text-align:left;white-space:pre\">Student</td></tr><tr><td style=\"text-align:left;white-space:pre\">270</td><td style=\"text-align:left;white-space:pre\">Student</td></tr><tr><td style=\"text-align:left;white-space:pre\">472</td><td style=\"text-align:left;white-space:pre\">Student</td></tr><tr><td style=\"text-align:left;white-space:pre\">425</td><td style=\"text-align:left;white-space:pre\">Student</td></tr><tr><td style=\"text-align:left;white-space:pre\">502</td><td style=\"text-align:left;white-space:pre\">Student</td></tr><tr><td style=\"text-align:left;white-space:pre\">476</td><td style=\"text-align:left;white-space:pre\">Student</td></tr><tr><td style=\"text-align:left;white-space:pre\">542</td><td style=\"text-align:left;white-space:pre\">Student</td></tr><tr><td style=\"text-align:left;white-space:pre\">367</td><td style=\"text-align:left;white-space:pre\">Student</td></tr><tr><td style=\"text-align:left;white-space:pre\">501</td><td style=\"text-align:left;white-space:pre\">Student</td></tr><tr><td style=\"text-align:left;white-space:pre\">368</td><td style=\"text-align:left;white-space:pre\">Student</td></tr><tr><td style=\"text-align:left;white-space:pre\">584</td><td style=\"text-align:left;white-space:pre\">Student</td></tr><tr><td style=\"text-align:left;white-space:pre\">434</td><td style=\"text-align:left;white-space:pre\">Student</td></tr><tr><td style=\"text-align:left;white-space:pre\">528</td><td style=\"text-align:left;white-space:pre\">Student</td></tr><tr><td style=\"text-align:left;white-space:pre\">532</td><td style=\"text-align:left;white-space:pre\">Student</td></tr><tr><td style=\"text-align:left;white-space:pre\">466</td><td style=\"text-align:left;white-space:pre\">Student</td></tr><tr><td style=\"text-align:left;white-space:pre\">257</td><td style=\"text-align:left;white-space:pre\">Student</td></tr><tr><td style=\"text-align:left;white-space:pre\">566</td><td style=\"text-align:left;white-space:pre\">Student</td></tr><tr><td style=\"text-align:left;white-space:pre\">550</td><td style=\"text-align:left;white-space:pre\">Student</td></tr><tr><td style=\"text-align:left;white-space:pre\">274</td><td style=\"text-align:left;white-space:pre\">Student</td></tr><tr><td style=\"text-align:left;white-space:pre\">534</td><td style=\"text-align:left;white-space:pre\">Student</td></tr><tr><td style=\"text-align:left;white-space:pre\">619</td><td style=\"text-align:left;white-space:pre\">Student</td></tr><tr><td style=\"text-align:left;white-space:pre\">521</td><td style=\"text-align:left;white-space:pre\">Student</td></tr><tr><td style=\"text-align:left;white-space:pre\">586</td><td style=\"text-align:left;white-space:pre\">Student</td></tr><tr><td style=\"text-align:left;white-space:pre\">618</td><td style=\"text-align:left;white-space:pre\">Student</td></tr><tr><td style=\"text-align:left;white-space:pre\">621</td><td style=\"text-align:left;white-space:pre\">Student</td></tr><tr><td style=\"text-align:left;white-space:pre\">660</td><td style=\"text-align:left;white-space:pre\">Student</td></tr><tr><td style=\"text-align:left;white-space:pre\">592</td><td style=\"text-align:left;white-space:pre\">Student</td></tr><tr><td style=\"text-align:left;white-space:pre\">646</td><td style=\"text-align:left;white-space:pre\">Student</td></tr><tr><td style=\"text-align:left;white-space:pre\">640</td><td style=\"text-align:left;white-space:pre\">Student</td></tr><tr><td style=\"text-align:left;white-space:pre\">624</td><td style=\"text-align:left;white-space:pre\">Student</td></tr><tr><td style=\"text-align:left;white-space:pre\">705</td><td style=\"text-align:left;white-space:pre\">Student</td></tr><tr><td style=\"text-align:left;white-space:pre\">642</td><td style=\"text-align:left;white-space:pre\">Student</td></tr><tr><td style=\"text-align:left;white-space:pre\">712</td><td style=\"text-align:left;white-space:pre\">Student</td></tr><tr><td style=\"text-align:left;white-space:pre\">565</td><td style=\"text-align:left;white-space:pre\">Student</td></tr><tr><td style=\"text-align:left;white-space:pre\">588</td><td style=\"text-align:left;white-space:pre\">Student</td></tr><tr><td style=\"text-align:left;white-space:pre\">473</td><td style=\"text-align:left;white-space:pre\">Student</td></tr><tr><td style=\"text-align:left;white-space:pre\">711</td><td style=\"text-align:left;white-space:pre\">Student</td></tr><tr><td style=\"text-align:left;white-space:pre\">758</td><td style=\"text-align:left;white-space:pre\">Student</td></tr><tr><td style=\"text-align:left;white-space:pre\">103</td><td style=\"text-align:left;white-space:pre\">Student</td></tr><tr><td style=\"text-align:left;white-space:pre\">577</td><td style=\"text-align:left;white-space:pre\">Student</td></tr><tr><td style=\"text-align:left;white-space:pre\">774</td><td style=\"text-align:left;white-space:pre\">Student</td></tr><tr><td style=\"text-align:left;white-space:pre\">541</td><td style=\"text-align:left;white-space:pre\">Student</td></tr><tr><td style=\"text-align:left;white-space:pre\">773</td><td style=\"text-align:left;white-space:pre\">Student</td></tr><tr><td style=\"text-align:left;white-space:pre\">654</td><td style=\"text-align:left;white-space:pre\">Student</td></tr><tr><td style=\"text-align:left;white-space:pre\">459</td><td style=\"text-align:left;white-space:pre\">Student</td></tr><tr><td style=\"text-align:left;white-space:pre\">729</td><td style=\"text-align:left;white-space:pre\">Student</td></tr><tr><td style=\"text-align:left;white-space:pre\">461</td><td style=\"text-align:left;white-space:pre\">Student</td></tr><tr><td style=\"text-align:left;white-space:pre\">580</td><td style=\"text-align:left;white-space:pre\">Student</td></tr><tr><td style=\"text-align:left;white-space:pre\">870</td><td style=\"text-align:left;white-space:pre\">Student</td></tr><tr><td style=\"text-align:left;white-space:pre\">281</td><td style=\"text-align:left;white-space:pre\">Student</td></tr><tr><td style=\"text-align:left;white-space:pre\">727</td><td style=\"text-align:left;white-space:pre\">Student</td></tr><tr><td style=\"text-align:left;white-space:pre\">813</td><td style=\"text-align:left;white-space:pre\">Student</td></tr><tr><td style=\"text-align:left;white-space:pre\">68</td><td style=\"text-align:left;white-space:pre\">Student</td></tr><tr><td style=\"text-align:left;white-space:pre\">880</td><td style=\"text-align:left;white-space:pre\">Student</td></tr><tr><td style=\"text-align:left;white-space:pre\">838</td><td style=\"text-align:left;white-space:pre\">Student</td></tr><tr><td style=\"text-align:left;white-space:pre\">787</td><td style=\"text-align:left;white-space:pre\">Student</td></tr><tr><td style=\"text-align:left;white-space:pre\">854</td><td style=\"text-align:left;white-space:pre\">Student</td></tr><tr><td style=\"text-align:left;white-space:pre\">904</td><td style=\"text-align:left;white-space:pre\">Student</td></tr><tr><td style=\"text-align:left;white-space:pre\">771</td><td style=\"text-align:left;white-space:pre\">Student</td></tr><tr><td style=\"text-align:left;white-space:pre\">817</td><td style=\"text-align:left;white-space:pre\">Student</td></tr><tr><td style=\"text-align:left;white-space:pre\">913</td><td style=\"text-align:left;white-space:pre\">Student</td></tr><tr><td style=\"text-align:left;white-space:pre\">610</td><td style=\"text-align:left;white-space:pre\">Student</td></tr><tr><td style=\"text-align:left;white-space:pre\">649</td><td style=\"text-align:left;white-space:pre\">Student</td></tr><tr><td style=\"text-align:left;white-space:pre\">863</td><td style=\"text-align:left;white-space:pre\">Student</td></tr><tr><td style=\"text-align:left;white-space:pre\">781</td><td style=\"text-align:left;white-space:pre\">Student</td></tr><tr><td style=\"text-align:left;white-space:pre\">928</td><td style=\"text-align:left;white-space:pre\">Student</td></tr><tr><td style=\"text-align:left;white-space:pre\">933</td><td style=\"text-align:left;white-space:pre\">Student</td></tr><tr><td style=\"text-align:left;white-space:pre\">641</td><td style=\"text-align:left;white-space:pre\">Student</td></tr><tr><td style=\"text-align:left;white-space:pre\">674</td><td style=\"text-align:left;white-space:pre\">Student</td></tr><tr><td style=\"text-align:left;white-space:pre\">886</td><td style=\"text-align:left;white-space:pre\">Student</td></tr><tr><td style=\"text-align:left;white-space:pre\">725</td><td style=\"text-align:left;white-space:pre\">Student</td></tr><tr><td style=\"text-align:left;white-space:pre\">632</td><td style=\"text-align:left;white-space:pre\">Student</td></tr><tr><td style=\"text-align:left;white-space:pre\">560</td><td style=\"text-align:left;white-space:pre\">Student</td></tr><tr><td style=\"text-align:left;white-space:pre\">921</td><td style=\"text-align:left;white-space:pre\">Student</td></tr><tr><td style=\"text-align:left;white-space:pre\">679</td><td style=\"text-align:left;white-space:pre\">Student</td></tr><tr><td style=\"text-align:left;white-space:pre\">757</td><td style=\"text-align:left;white-space:pre\">Student</td></tr><tr><td style=\"text-align:left;white-space:pre\">582</td><td style=\"text-align:left;white-space:pre\">Student</td></tr><tr><td style=\"text-align:left;white-space:pre\">706</td><td style=\"text-align:left;white-space:pre\">Student</td></tr><tr><td style=\"text-align:left;white-space:pre\">890</td><td style=\"text-align:left;white-space:pre\">Student</td></tr><tr><td style=\"text-align:left;white-space:pre\">778</td><td style=\"text-align:left;white-space:pre\">Student</td></tr><tr><td style=\"text-align:left;white-space:pre\">761</td><td style=\"text-align:left;white-space:pre\">Student</td></tr><tr><td style=\"text-align:left;white-space:pre\">477</td><td style=\"text-align:left;white-space:pre\">Student</td></tr><tr><td style=\"text-align:left;white-space:pre\">887</td><td style=\"text-align:left;white-space:pre\">Student</td></tr><tr><td style=\"text-align:left;white-space:pre\">847</td><td style=\"text-align:left;white-space:pre\">Student</td></tr><tr><td style=\"text-align:left;white-space:pre\">710</td><td style=\"text-align:left;white-space:pre\">Student</td></tr><tr><td style=\"text-align:left;white-space:pre\">943</td><td style=\"text-align:left;white-space:pre\">Student</td></tr><tr><td style=\"text-align:left;white-space:pre\">482</td><td style=\"text-align:left;white-space:pre\">Student</td></tr><tr><td style=\"text-align:left;white-space:pre\">861</td><td style=\"text-align:left;white-space:pre\">Student</td></tr><tr><td style=\"text-align:left;white-space:pre\">939</td><td style=\"text-align:left;white-space:pre\">Student</td></tr><tr><td style=\"text-align:left;white-space:pre\">517</td><td style=\"text-align:left;white-space:pre\">Student</td></tr><tr><td style=\"text-align:left;white-space:pre\">793</td><td style=\"text-align:left;white-space:pre\">Student</td></tr><tr><td style=\"text-align:left;white-space:pre\">923</td><td style=\"text-align:left;white-space:pre\">Student</td></tr><tr><td style=\"text-align:left;white-space:pre\">875</td><td style=\"text-align:left;white-space:pre\">Student</td></tr><tr><td style=\"text-align:left;white-space:pre\">869</td><td style=\"text-align:left;white-space:pre\">Student</td></tr><tr><td style=\"text-align:left;white-space:pre\">917</td><td style=\"text-align:left;white-space:pre\">Student</td></tr><tr><td style=\"text-align:left;white-space:pre\">941</td><td style=\"text-align:left;white-space:pre\">Student</td></tr></table></body></html>"
      ]
     },
     "metadata": {},
     "output_type": "display_data"
    }
   ],
   "source": [
    "SELECT DISTINCT u.id as user_id, oc.name as occupation FROM occupations oc JOIN users u ON u.occupation_id = oc.id \n",
    "                                                                  JOIN ratings r ON r.user_id = u.id\n",
    "                                                                  JOIN movies m ON m.id = r.movie_id\n",
    "                                                                  WHERE oc.name = \"Student\" AND m.title LIKE \"%Man%\"\n",
    "                                                                  LIMIT 10;"
   ]
  },
  {
   "cell_type": "markdown",
   "id": "civilian-shield",
   "metadata": {},
   "source": [
    "## [Questão 15] Quantos estudantes menores de 18 anos avaliaram filmes de terror ou crime"
   ]
  },
  {
   "cell_type": "code",
   "execution_count": 14,
   "id": "portable-salad",
   "metadata": {},
   "outputs": [
    {
     "data": {
      "text/html": [
       "<html><body><table border=\"1\"><tr><th style=\"text-align:left;white-space:pre\">Quantidade</th></tr><tr><td style=\"text-align:left;white-space:pre\">29</td></tr></table></body></html>"
      ]
     },
     "metadata": {},
     "output_type": "display_data"
    }
   ],
   "source": [
    "SELECT COUNT(DISTINCT u.id) as Quantidade FROM occupations oc JOIN users u ON u.occupation_id = oc.id \n",
    "                                                                  JOIN ratings r ON r.user_id = u.id\n",
    "                                                                  WHERE oc.name = \"Student\" AND u.age < 18 \n",
    "                                                                        AND r.movie_id IN\n",
    "                                                                          (SELECT DISTINCT m.id FROM movies m JOIN genres_movies gm ON m.id = gm.movie_id\n",
    "                                                                                                     JOIN genres g ON g.id = gm.genre_id  \n",
    "                                                                                       WHERE g.name = \"Horror\" OR g.name = \"Crime\");"
   ]
  },
  {
   "cell_type": "markdown",
   "id": "significant-kingdom",
   "metadata": {},
   "source": [
    "* Qual o filme com melhor média de avaliação\n",
    "* Qual o filme mais popular\n",
    "* Qual nome do filme mais popular\n",
    "* Qual o filme com melhor média de avaliação considerando filmes que possuem mais de 10 avaliações\n"
   ]
  }
 ],
 "metadata": {
  "kernelspec": {
   "display_name": "MariaDB",
   "language": "SQL",
   "name": "mariadb_kernel"
  },
  "language_info": {
   "file_extension": ".sql",
   "mimetype": "text/plain",
   "name": "SQL"
  }
 },
 "nbformat": 4,
 "nbformat_minor": 5
}
