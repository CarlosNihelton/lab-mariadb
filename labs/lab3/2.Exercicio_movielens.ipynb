{
 "cells": [
  {
   "cell_type": "markdown",
   "id": "fixed-outdoors",
   "metadata": {},
   "source": [
    "# Movielens"
   ]
  },
  {
   "cell_type": "markdown",
   "id": "purple-least",
   "metadata": {},
   "source": [
    "Este [dataset](https://grouplens.org/datasets/movielens/100k/) descreve as avaliações de filmes feitas por usuários no site [MovieLens](https://movielens.org/), um serviço de recomendação de filmes. As avaliações (ratings) variam de 1 a 5, cada usuário avaliou pelo menos 20 filmes e existem simples informações demográficas sobre os usuários. Existem no banco de dados, aproximadamente, 100,000 avaliações de 1000 usuários feitas a 1700 filmes."
   ]
  },
  {
   "cell_type": "markdown",
   "id": "stone-phenomenon",
   "metadata": {},
   "source": [
    "## Descrição das tabelas"
   ]
  },
  {
   "cell_type": "markdown",
   "id": "working-incentive",
   "metadata": {},
   "source": [
    "* **Occupations**: Armazena a lista de ocupações dos usuários;;\n",
    "* **Users**: Armazena informações sobre os usuários, por exemplo, idade e cep;\n",
    "* **Ratings**: Armazena as notas que os usuários atribuíram aos filmes e em qual momento esta nota foi atribuída;\n",
    "* **Movies**: Armazena informações dos filmes;\n",
    "* **Genres_movies**: Armazena o relacionamento dos gêneros e dos filmes;\n",
    "* **Genres**: Armazena a lista de gêneros."
   ]
  },
  {
   "cell_type": "markdown",
   "id": "middle-techno",
   "metadata": {},
   "source": [
    "## Modelo lógico"
   ]
  },
  {
   "cell_type": "markdown",
   "id": "laughing-device",
   "metadata": {},
   "source": [
    "<img src=\"../resources/images/movielens_diagram.png\" width=\"1000px\">\n"
   ]
  },
  {
   "cell_type": "code",
   "execution_count": 2,
   "id": "dense-frederick",
   "metadata": {},
   "outputs": [
    {
     "data": {
      "text/html": [
       "Query OK"
      ]
     },
     "metadata": {},
     "output_type": "display_data"
    }
   ],
   "source": [
    "USE movielens;"
   ]
  },
  {
   "cell_type": "markdown",
   "id": "allied-pasta",
   "metadata": {},
   "source": [
    "## [Questão Exemplo] Liste todos os usuários\n",
    "<!--\n",
    "SELECT * FROM users LIMIT 10;\n",
    "SELECT * FROM users; -->"
   ]
  },
  {
   "cell_type": "code",
   "execution_count": 5,
   "id": "thirty-humidity",
   "metadata": {},
   "outputs": [
    {
     "data": {
      "text/html": [
       "<html><body><table border=\"1\"><tr><th style=\"text-align:left;white-space:pre\">id</th><th style=\"text-align:left;white-space:pre\">age</th><th style=\"text-align:left;white-space:pre\">gender</th><th style=\"text-align:left;white-space:pre\">occupation_id</th><th style=\"text-align:left;white-space:pre\">zip_code</th></tr><tr><td style=\"text-align:left;white-space:pre\">1</td><td style=\"text-align:left;white-space:pre\">24</td><td style=\"text-align:left;white-space:pre\">M</td><td style=\"text-align:left;white-space:pre\">20</td><td style=\"text-align:left;white-space:pre\">85711</td></tr><tr><td style=\"text-align:left;white-space:pre\">2</td><td style=\"text-align:left;white-space:pre\">53</td><td style=\"text-align:left;white-space:pre\">F</td><td style=\"text-align:left;white-space:pre\">14</td><td style=\"text-align:left;white-space:pre\">94043</td></tr><tr><td style=\"text-align:left;white-space:pre\">3</td><td style=\"text-align:left;white-space:pre\">23</td><td style=\"text-align:left;white-space:pre\">M</td><td style=\"text-align:left;white-space:pre\">21</td><td style=\"text-align:left;white-space:pre\">32067</td></tr><tr><td style=\"text-align:left;white-space:pre\">4</td><td style=\"text-align:left;white-space:pre\">24</td><td style=\"text-align:left;white-space:pre\">M</td><td style=\"text-align:left;white-space:pre\">20</td><td style=\"text-align:left;white-space:pre\">43537</td></tr><tr><td style=\"text-align:left;white-space:pre\">5</td><td style=\"text-align:left;white-space:pre\">33</td><td style=\"text-align:left;white-space:pre\">F</td><td style=\"text-align:left;white-space:pre\">14</td><td style=\"text-align:left;white-space:pre\">15213</td></tr><tr><td style=\"text-align:left;white-space:pre\">6</td><td style=\"text-align:left;white-space:pre\">42</td><td style=\"text-align:left;white-space:pre\">M</td><td style=\"text-align:left;white-space:pre\">7</td><td style=\"text-align:left;white-space:pre\">98101</td></tr><tr><td style=\"text-align:left;white-space:pre\">7</td><td style=\"text-align:left;white-space:pre\">57</td><td style=\"text-align:left;white-space:pre\">M</td><td style=\"text-align:left;white-space:pre\">1</td><td style=\"text-align:left;white-space:pre\">91344</td></tr><tr><td style=\"text-align:left;white-space:pre\">8</td><td style=\"text-align:left;white-space:pre\">36</td><td style=\"text-align:left;white-space:pre\">M</td><td style=\"text-align:left;white-space:pre\">1</td><td style=\"text-align:left;white-space:pre\">05201</td></tr><tr><td style=\"text-align:left;white-space:pre\">9</td><td style=\"text-align:left;white-space:pre\">29</td><td style=\"text-align:left;white-space:pre\">M</td><td style=\"text-align:left;white-space:pre\">19</td><td style=\"text-align:left;white-space:pre\">01002</td></tr><tr><td style=\"text-align:left;white-space:pre\">10</td><td style=\"text-align:left;white-space:pre\">53</td><td style=\"text-align:left;white-space:pre\">M</td><td style=\"text-align:left;white-space:pre\">10</td><td style=\"text-align:left;white-space:pre\">90703</td></tr></table></body></html>"
      ]
     },
     "metadata": {},
     "output_type": "display_data"
    }
   ],
   "source": [
    "SELECT * FROM users LIMIT 10;"
   ]
  },
  {
   "cell_type": "markdown",
   "id": "decent-walter",
   "metadata": {},
   "source": [
    "## [Questão Exemplo] Liste o id e idade dos usuários\n",
    "<!-- SELECT id, age FROM users;\n",
    " SELECT id, age FROM users LIMIT 10;-->"
   ]
  },
  {
   "cell_type": "code",
   "execution_count": 6,
   "id": "instant-silence",
   "metadata": {},
   "outputs": [
    {
     "data": {
      "text/html": [
       "<html><body><table border=\"1\"><tr><th style=\"text-align:left;white-space:pre\">id</th><th style=\"text-align:left;white-space:pre\">age</th></tr><tr><td style=\"text-align:left;white-space:pre\">1</td><td style=\"text-align:left;white-space:pre\">24</td></tr><tr><td style=\"text-align:left;white-space:pre\">2</td><td style=\"text-align:left;white-space:pre\">53</td></tr><tr><td style=\"text-align:left;white-space:pre\">3</td><td style=\"text-align:left;white-space:pre\">23</td></tr><tr><td style=\"text-align:left;white-space:pre\">4</td><td style=\"text-align:left;white-space:pre\">24</td></tr><tr><td style=\"text-align:left;white-space:pre\">5</td><td style=\"text-align:left;white-space:pre\">33</td></tr><tr><td style=\"text-align:left;white-space:pre\">6</td><td style=\"text-align:left;white-space:pre\">42</td></tr><tr><td style=\"text-align:left;white-space:pre\">7</td><td style=\"text-align:left;white-space:pre\">57</td></tr><tr><td style=\"text-align:left;white-space:pre\">8</td><td style=\"text-align:left;white-space:pre\">36</td></tr><tr><td style=\"text-align:left;white-space:pre\">9</td><td style=\"text-align:left;white-space:pre\">29</td></tr><tr><td style=\"text-align:left;white-space:pre\">10</td><td style=\"text-align:left;white-space:pre\">53</td></tr></table></body></html>"
      ]
     },
     "metadata": {},
     "output_type": "display_data"
    }
   ],
   "source": [
    "SELECT id, age FROM users LIMIT 10;"
   ]
  },
  {
   "cell_type": "markdown",
   "id": "premium-quest",
   "metadata": {},
   "source": [
    "## [Questão Exemplo] Liste todos os ids das ocupações dos usuários sem repetição\n",
    "<!-- SELECT DISTINCT occupation_id FROM users; -->"
   ]
  },
  {
   "cell_type": "code",
   "execution_count": 8,
   "id": "compliant-minute",
   "metadata": {},
   "outputs": [
    {
     "data": {
      "text/html": [
       "<html><body><table border=\"1\"><tr><th style=\"text-align:left;white-space:pre\">occupation_id</th></tr><tr><td style=\"text-align:left;white-space:pre\">20</td></tr><tr><td style=\"text-align:left;white-space:pre\">14</td></tr><tr><td style=\"text-align:left;white-space:pre\">21</td></tr><tr><td style=\"text-align:left;white-space:pre\">7</td></tr><tr><td style=\"text-align:left;white-space:pre\">1</td></tr><tr><td style=\"text-align:left;white-space:pre\">19</td></tr><tr><td style=\"text-align:left;white-space:pre\">10</td></tr><tr><td style=\"text-align:left;white-space:pre\">4</td></tr><tr><td style=\"text-align:left;white-space:pre\">18</td></tr><tr><td style=\"text-align:left;white-space:pre\">6</td></tr><tr><td style=\"text-align:left;white-space:pre\">15</td></tr><tr><td style=\"text-align:left;white-space:pre\">11</td></tr><tr><td style=\"text-align:left;white-space:pre\">9</td></tr><tr><td style=\"text-align:left;white-space:pre\">2</td></tr><tr><td style=\"text-align:left;white-space:pre\">5</td></tr><tr><td style=\"text-align:left;white-space:pre\">12</td></tr><tr><td style=\"text-align:left;white-space:pre\">13</td></tr><tr><td style=\"text-align:left;white-space:pre\">8</td></tr><tr><td style=\"text-align:left;white-space:pre\">16</td></tr><tr><td style=\"text-align:left;white-space:pre\">17</td></tr><tr><td style=\"text-align:left;white-space:pre\">3</td></tr></table></body></html>"
      ]
     },
     "metadata": {},
     "output_type": "display_data"
    }
   ],
   "source": [
    "SELECT DISTINCT occupation_id FROM users;"
   ]
  },
  {
   "cell_type": "markdown",
   "id": "descending-authority",
   "metadata": {},
   "source": [
    "## [Questão Exemplo] Liste o id e a idade dos usuários que possuem mais de 25 anos\n",
    "<!-- SELECT id, age FROM users WHERE age > 25;-->"
   ]
  },
  {
   "cell_type": "code",
   "execution_count": 10,
   "id": "aggressive-digest",
   "metadata": {},
   "outputs": [
    {
     "data": {
      "text/html": [
       "<html><body><table border=\"1\"><tr><th style=\"text-align:left;white-space:pre\">id</th><th style=\"text-align:left;white-space:pre\">age</th></tr><tr><td style=\"text-align:left;white-space:pre\">2</td><td style=\"text-align:left;white-space:pre\">53</td></tr><tr><td style=\"text-align:left;white-space:pre\">5</td><td style=\"text-align:left;white-space:pre\">33</td></tr><tr><td style=\"text-align:left;white-space:pre\">6</td><td style=\"text-align:left;white-space:pre\">42</td></tr><tr><td style=\"text-align:left;white-space:pre\">7</td><td style=\"text-align:left;white-space:pre\">57</td></tr><tr><td style=\"text-align:left;white-space:pre\">8</td><td style=\"text-align:left;white-space:pre\">36</td></tr><tr><td style=\"text-align:left;white-space:pre\">9</td><td style=\"text-align:left;white-space:pre\">29</td></tr><tr><td style=\"text-align:left;white-space:pre\">10</td><td style=\"text-align:left;white-space:pre\">53</td></tr><tr><td style=\"text-align:left;white-space:pre\">11</td><td style=\"text-align:left;white-space:pre\">39</td></tr><tr><td style=\"text-align:left;white-space:pre\">12</td><td style=\"text-align:left;white-space:pre\">28</td></tr><tr><td style=\"text-align:left;white-space:pre\">13</td><td style=\"text-align:left;white-space:pre\">47</td></tr></table></body></html>"
      ]
     },
     "metadata": {},
     "output_type": "display_data"
    }
   ],
   "source": [
    "SELECT id, age FROM users WHERE age > 25 LIMIT 10;"
   ]
  },
  {
   "cell_type": "markdown",
   "id": "beneficial-privilege",
   "metadata": {},
   "source": [
    "## [Questão Exemplo] Liste o id e a idade dos usuários que possuem entre 25 anos e 35 anos\n",
    "<!-- SELECT id, age FROM users WHERE age > 25 AND age < 35 LIMIT 10;-->"
   ]
  },
  {
   "cell_type": "code",
   "execution_count": 13,
   "id": "wireless-publication",
   "metadata": {},
   "outputs": [
    {
     "data": {
      "text/html": [
       "<html><body><table border=\"1\"><tr><th style=\"text-align:left;white-space:pre\">id</th><th style=\"text-align:left;white-space:pre\">age</th></tr><tr><td style=\"text-align:left;white-space:pre\">5</td><td style=\"text-align:left;white-space:pre\">33</td></tr><tr><td style=\"text-align:left;white-space:pre\">9</td><td style=\"text-align:left;white-space:pre\">29</td></tr><tr><td style=\"text-align:left;white-space:pre\">12</td><td style=\"text-align:left;white-space:pre\">28</td></tr><tr><td style=\"text-align:left;white-space:pre\">17</td><td style=\"text-align:left;white-space:pre\">30</td></tr><tr><td style=\"text-align:left;white-space:pre\">21</td><td style=\"text-align:left;white-space:pre\">26</td></tr><tr><td style=\"text-align:left;white-space:pre\">23</td><td style=\"text-align:left;white-space:pre\">30</td></tr><tr><td style=\"text-align:left;white-space:pre\">28</td><td style=\"text-align:left;white-space:pre\">32</td></tr><tr><td style=\"text-align:left;white-space:pre\">32</td><td style=\"text-align:left;white-space:pre\">28</td></tr><tr><td style=\"text-align:left;white-space:pre\">38</td><td style=\"text-align:left;white-space:pre\">28</td></tr><tr><td style=\"text-align:left;white-space:pre\">41</td><td style=\"text-align:left;white-space:pre\">33</td></tr></table></body></html>"
      ]
     },
     "metadata": {},
     "output_type": "display_data"
    }
   ],
   "source": [
    "SELECT id, age FROM users WHERE age > 25 AND age < 35 LIMIT 10;"
   ]
  },
  {
   "cell_type": "markdown",
   "id": "accepted-likelihood",
   "metadata": {},
   "source": [
    "## [Questão Exemplo] Liste o id e o gênero dos usuários que fizeram pelo menos uma avaliação de filme"
   ]
  },
  {
   "cell_type": "code",
   "execution_count": 9,
   "id": "annual-oliver",
   "metadata": {},
   "outputs": [
    {
     "data": {
      "text/html": [
       "<html><body><table border=\"1\"><tr><th style=\"text-align:left;white-space:pre\">id</th><th style=\"text-align:left;white-space:pre\">gender</th></tr><tr><td style=\"text-align:left;white-space:pre\">1</td><td style=\"text-align:left;white-space:pre\">M</td></tr><tr><td style=\"text-align:left;white-space:pre\">2</td><td style=\"text-align:left;white-space:pre\">F</td></tr><tr><td style=\"text-align:left;white-space:pre\">3</td><td style=\"text-align:left;white-space:pre\">M</td></tr><tr><td style=\"text-align:left;white-space:pre\">4</td><td style=\"text-align:left;white-space:pre\">M</td></tr><tr><td style=\"text-align:left;white-space:pre\">5</td><td style=\"text-align:left;white-space:pre\">F</td></tr><tr><td style=\"text-align:left;white-space:pre\">6</td><td style=\"text-align:left;white-space:pre\">M</td></tr><tr><td style=\"text-align:left;white-space:pre\">7</td><td style=\"text-align:left;white-space:pre\">M</td></tr><tr><td style=\"text-align:left;white-space:pre\">8</td><td style=\"text-align:left;white-space:pre\">M</td></tr><tr><td style=\"text-align:left;white-space:pre\">9</td><td style=\"text-align:left;white-space:pre\">M</td></tr><tr><td style=\"text-align:left;white-space:pre\">10</td><td style=\"text-align:left;white-space:pre\">M</td></tr></table></body></html>"
      ]
     },
     "metadata": {},
     "output_type": "display_data"
    }
   ],
   "source": [
    "--Consulta aninhada\n",
    "SELECT id, gender FROM\n",
    " users\n",
    " WHERE id in\n",
    "(SELECT user_id FROM ratings) LIMIT 10;"
   ]
  },
  {
   "cell_type": "code",
   "execution_count": 8,
   "id": "generic-browse",
   "metadata": {},
   "outputs": [
    {
     "data": {
      "text/html": [
       "<html><body><table border=\"1\"><tr><th style=\"text-align:left;white-space:pre\">id</th><th style=\"text-align:left;white-space:pre\">gender</th></tr><tr><td style=\"text-align:left;white-space:pre\">196</td><td style=\"text-align:left;white-space:pre\">M</td></tr><tr><td style=\"text-align:left;white-space:pre\">186</td><td style=\"text-align:left;white-space:pre\">F</td></tr><tr><td style=\"text-align:left;white-space:pre\">22</td><td style=\"text-align:left;white-space:pre\">M</td></tr><tr><td style=\"text-align:left;white-space:pre\">244</td><td style=\"text-align:left;white-space:pre\">M</td></tr><tr><td style=\"text-align:left;white-space:pre\">166</td><td style=\"text-align:left;white-space:pre\">M</td></tr><tr><td style=\"text-align:left;white-space:pre\">298</td><td style=\"text-align:left;white-space:pre\">M</td></tr><tr><td style=\"text-align:left;white-space:pre\">115</td><td style=\"text-align:left;white-space:pre\">M</td></tr><tr><td style=\"text-align:left;white-space:pre\">253</td><td style=\"text-align:left;white-space:pre\">F</td></tr><tr><td style=\"text-align:left;white-space:pre\">305</td><td style=\"text-align:left;white-space:pre\">M</td></tr><tr><td style=\"text-align:left;white-space:pre\">6</td><td style=\"text-align:left;white-space:pre\">M</td></tr></table></body></html>"
      ]
     },
     "metadata": {},
     "output_type": "display_data"
    }
   ],
   "source": [
    "--Junção\n",
    "SELECT u.id, u.gender FROM\n",
    " users u JOIN ratings r on u.id = r.user_id\n",
    " LIMIT 10;"
   ]
  },
  {
   "cell_type": "markdown",
   "id": "active-cleveland",
   "metadata": {},
   "source": [
    "## [Questão Exemplo] Quantos usuários são do sexo masculino e quantos usuários são do sexo feminino?"
   ]
  },
  {
   "cell_type": "code",
   "execution_count": 10,
   "id": "coastal-facility",
   "metadata": {},
   "outputs": [
    {
     "data": {
      "text/html": [
       "<html><body><table border=\"1\"><tr><th style=\"text-align:left;white-space:pre\">gender</th><th style=\"text-align:left;white-space:pre\">COUNT(*)</th></tr><tr><td style=\"text-align:left;white-space:pre\">F</td><td style=\"text-align:left;white-space:pre\">273</td></tr><tr><td style=\"text-align:left;white-space:pre\">M</td><td style=\"text-align:left;white-space:pre\">670</td></tr></table></body></html>"
      ]
     },
     "metadata": {},
     "output_type": "display_data"
    }
   ],
   "source": [
    "SELECT gender, COUNT(*)\n",
    "FROM users\n",
    "GROUP BY gender;"
   ]
  },
  {
   "cell_type": "markdown",
   "id": "pharmaceutical-gossip",
   "metadata": {},
   "source": [
    "## [Questão Exemplo] Quantos usuários existem agrupados por idade e separados por gênero?"
   ]
  },
  {
   "cell_type": "code",
   "execution_count": 11,
   "id": "determined-venue",
   "metadata": {},
   "outputs": [
    {
     "data": {
      "text/html": [
       "<html><body><table border=\"1\"><tr><th style=\"text-align:left;white-space:pre\">age</th><th style=\"text-align:left;white-space:pre\">gender</th><th style=\"text-align:left;white-space:pre\">COUNT(*)</th></tr><tr><td style=\"text-align:left;white-space:pre\">7</td><td style=\"text-align:left;white-space:pre\">M</td><td style=\"text-align:left;white-space:pre\">1</td></tr><tr><td style=\"text-align:left;white-space:pre\">10</td><td style=\"text-align:left;white-space:pre\">M</td><td style=\"text-align:left;white-space:pre\">1</td></tr><tr><td style=\"text-align:left;white-space:pre\">11</td><td style=\"text-align:left;white-space:pre\">M</td><td style=\"text-align:left;white-space:pre\">1</td></tr><tr><td style=\"text-align:left;white-space:pre\">13</td><td style=\"text-align:left;white-space:pre\">F</td><td style=\"text-align:left;white-space:pre\">2</td></tr><tr><td style=\"text-align:left;white-space:pre\">13</td><td style=\"text-align:left;white-space:pre\">M</td><td style=\"text-align:left;white-space:pre\">3</td></tr><tr><td style=\"text-align:left;white-space:pre\">14</td><td style=\"text-align:left;white-space:pre\">F</td><td style=\"text-align:left;white-space:pre\">3</td></tr><tr><td style=\"text-align:left;white-space:pre\">15</td><td style=\"text-align:left;white-space:pre\">F</td><td style=\"text-align:left;white-space:pre\">3</td></tr><tr><td style=\"text-align:left;white-space:pre\">15</td><td style=\"text-align:left;white-space:pre\">M</td><td style=\"text-align:left;white-space:pre\">3</td></tr><tr><td style=\"text-align:left;white-space:pre\">16</td><td style=\"text-align:left;white-space:pre\">F</td><td style=\"text-align:left;white-space:pre\">2</td></tr><tr><td style=\"text-align:left;white-space:pre\">16</td><td style=\"text-align:left;white-space:pre\">M</td><td style=\"text-align:left;white-space:pre\">3</td></tr><tr><td style=\"text-align:left;white-space:pre\">17</td><td style=\"text-align:left;white-space:pre\">F</td><td style=\"text-align:left;white-space:pre\">3</td></tr><tr><td style=\"text-align:left;white-space:pre\">17</td><td style=\"text-align:left;white-space:pre\">M</td><td style=\"text-align:left;white-space:pre\">11</td></tr><tr><td style=\"text-align:left;white-space:pre\">18</td><td style=\"text-align:left;white-space:pre\">F</td><td style=\"text-align:left;white-space:pre\">11</td></tr><tr><td style=\"text-align:left;white-space:pre\">18</td><td style=\"text-align:left;white-space:pre\">M</td><td style=\"text-align:left;white-space:pre\">7</td></tr><tr><td style=\"text-align:left;white-space:pre\">19</td><td style=\"text-align:left;white-space:pre\">F</td><td style=\"text-align:left;white-space:pre\">8</td></tr><tr><td style=\"text-align:left;white-space:pre\">19</td><td style=\"text-align:left;white-space:pre\">M</td><td style=\"text-align:left;white-space:pre\">15</td></tr><tr><td style=\"text-align:left;white-space:pre\">20</td><td style=\"text-align:left;white-space:pre\">F</td><td style=\"text-align:left;white-space:pre\">10</td></tr><tr><td style=\"text-align:left;white-space:pre\">20</td><td style=\"text-align:left;white-space:pre\">M</td><td style=\"text-align:left;white-space:pre\">22</td></tr><tr><td style=\"text-align:left;white-space:pre\">21</td><td style=\"text-align:left;white-space:pre\">F</td><td style=\"text-align:left;white-space:pre\">7</td></tr><tr><td style=\"text-align:left;white-space:pre\">21</td><td style=\"text-align:left;white-space:pre\">M</td><td style=\"text-align:left;white-space:pre\">20</td></tr><tr><td style=\"text-align:left;white-space:pre\">22</td><td style=\"text-align:left;white-space:pre\">F</td><td style=\"text-align:left;white-space:pre\">7</td></tr><tr><td style=\"text-align:left;white-space:pre\">22</td><td style=\"text-align:left;white-space:pre\">M</td><td style=\"text-align:left;white-space:pre\">30</td></tr><tr><td style=\"text-align:left;white-space:pre\">23</td><td style=\"text-align:left;white-space:pre\">F</td><td style=\"text-align:left;white-space:pre\">6</td></tr><tr><td style=\"text-align:left;white-space:pre\">23</td><td style=\"text-align:left;white-space:pre\">M</td><td style=\"text-align:left;white-space:pre\">22</td></tr><tr><td style=\"text-align:left;white-space:pre\">24</td><td style=\"text-align:left;white-space:pre\">F</td><td style=\"text-align:left;white-space:pre\">6</td></tr><tr><td style=\"text-align:left;white-space:pre\">24</td><td style=\"text-align:left;white-space:pre\">M</td><td style=\"text-align:left;white-space:pre\">27</td></tr><tr><td style=\"text-align:left;white-space:pre\">25</td><td style=\"text-align:left;white-space:pre\">F</td><td style=\"text-align:left;white-space:pre\">8</td></tr><tr><td style=\"text-align:left;white-space:pre\">25</td><td style=\"text-align:left;white-space:pre\">M</td><td style=\"text-align:left;white-space:pre\">30</td></tr><tr><td style=\"text-align:left;white-space:pre\">26</td><td style=\"text-align:left;white-space:pre\">F</td><td style=\"text-align:left;white-space:pre\">9</td></tr><tr><td style=\"text-align:left;white-space:pre\">26</td><td style=\"text-align:left;white-space:pre\">M</td><td style=\"text-align:left;white-space:pre\">25</td></tr><tr><td style=\"text-align:left;white-space:pre\">27</td><td style=\"text-align:left;white-space:pre\">F</td><td style=\"text-align:left;white-space:pre\">10</td></tr><tr><td style=\"text-align:left;white-space:pre\">27</td><td style=\"text-align:left;white-space:pre\">M</td><td style=\"text-align:left;white-space:pre\">25</td></tr><tr><td style=\"text-align:left;white-space:pre\">28</td><td style=\"text-align:left;white-space:pre\">F</td><td style=\"text-align:left;white-space:pre\">10</td></tr><tr><td style=\"text-align:left;white-space:pre\">28</td><td style=\"text-align:left;white-space:pre\">M</td><td style=\"text-align:left;white-space:pre\">26</td></tr><tr><td style=\"text-align:left;white-space:pre\">29</td><td style=\"text-align:left;white-space:pre\">F</td><td style=\"text-align:left;white-space:pre\">12</td></tr><tr><td style=\"text-align:left;white-space:pre\">29</td><td style=\"text-align:left;white-space:pre\">M</td><td style=\"text-align:left;white-space:pre\">20</td></tr><tr><td style=\"text-align:left;white-space:pre\">30</td><td style=\"text-align:left;white-space:pre\">F</td><td style=\"text-align:left;white-space:pre\">12</td></tr><tr><td style=\"text-align:left;white-space:pre\">30</td><td style=\"text-align:left;white-space:pre\">M</td><td style=\"text-align:left;white-space:pre\">27</td></tr><tr><td style=\"text-align:left;white-space:pre\">31</td><td style=\"text-align:left;white-space:pre\">F</td><td style=\"text-align:left;white-space:pre\">6</td></tr><tr><td style=\"text-align:left;white-space:pre\">31</td><td style=\"text-align:left;white-space:pre\">M</td><td style=\"text-align:left;white-space:pre\">19</td></tr><tr><td style=\"text-align:left;white-space:pre\">32</td><td style=\"text-align:left;white-space:pre\">F</td><td style=\"text-align:left;white-space:pre\">5</td></tr><tr><td style=\"text-align:left;white-space:pre\">32</td><td style=\"text-align:left;white-space:pre\">M</td><td style=\"text-align:left;white-space:pre\">23</td></tr><tr><td style=\"text-align:left;white-space:pre\">33</td><td style=\"text-align:left;white-space:pre\">F</td><td style=\"text-align:left;white-space:pre\">6</td></tr><tr><td style=\"text-align:left;white-space:pre\">33</td><td style=\"text-align:left;white-space:pre\">M</td><td style=\"text-align:left;white-space:pre\">20</td></tr><tr><td style=\"text-align:left;white-space:pre\">34</td><td style=\"text-align:left;white-space:pre\">F</td><td style=\"text-align:left;white-space:pre\">1</td></tr><tr><td style=\"text-align:left;white-space:pre\">34</td><td style=\"text-align:left;white-space:pre\">M</td><td style=\"text-align:left;white-space:pre\">16</td></tr><tr><td style=\"text-align:left;white-space:pre\">35</td><td style=\"text-align:left;white-space:pre\">F</td><td style=\"text-align:left;white-space:pre\">11</td></tr><tr><td style=\"text-align:left;white-space:pre\">35</td><td style=\"text-align:left;white-space:pre\">M</td><td style=\"text-align:left;white-space:pre\">16</td></tr><tr><td style=\"text-align:left;white-space:pre\">36</td><td style=\"text-align:left;white-space:pre\">F</td><td style=\"text-align:left;white-space:pre\">7</td></tr><tr><td style=\"text-align:left;white-space:pre\">36</td><td style=\"text-align:left;white-space:pre\">M</td><td style=\"text-align:left;white-space:pre\">14</td></tr><tr><td style=\"text-align:left;white-space:pre\">37</td><td style=\"text-align:left;white-space:pre\">F</td><td style=\"text-align:left;white-space:pre\">6</td></tr><tr><td style=\"text-align:left;white-space:pre\">37</td><td style=\"text-align:left;white-space:pre\">M</td><td style=\"text-align:left;white-space:pre\">13</td></tr><tr><td style=\"text-align:left;white-space:pre\">38</td><td style=\"text-align:left;white-space:pre\">F</td><td style=\"text-align:left;white-space:pre\">7</td></tr><tr><td style=\"text-align:left;white-space:pre\">38</td><td style=\"text-align:left;white-space:pre\">M</td><td style=\"text-align:left;white-space:pre\">10</td></tr><tr><td style=\"text-align:left;white-space:pre\">39</td><td style=\"text-align:left;white-space:pre\">F</td><td style=\"text-align:left;white-space:pre\">5</td></tr><tr><td style=\"text-align:left;white-space:pre\">39</td><td style=\"text-align:left;white-space:pre\">M</td><td style=\"text-align:left;white-space:pre\">17</td></tr><tr><td style=\"text-align:left;white-space:pre\">40</td><td style=\"text-align:left;white-space:pre\">F</td><td style=\"text-align:left;white-space:pre\">7</td></tr><tr><td style=\"text-align:left;white-space:pre\">40</td><td style=\"text-align:left;white-space:pre\">M</td><td style=\"text-align:left;white-space:pre\">14</td></tr><tr><td style=\"text-align:left;white-space:pre\">41</td><td style=\"text-align:left;white-space:pre\">F</td><td style=\"text-align:left;white-space:pre\">3</td></tr><tr><td style=\"text-align:left;white-space:pre\">41</td><td style=\"text-align:left;white-space:pre\">M</td><td style=\"text-align:left;white-space:pre\">7</td></tr><tr><td style=\"text-align:left;white-space:pre\">42</td><td style=\"text-align:left;white-space:pre\">F</td><td style=\"text-align:left;white-space:pre\">5</td></tr><tr><td style=\"text-align:left;white-space:pre\">42</td><td style=\"text-align:left;white-space:pre\">M</td><td style=\"text-align:left;white-space:pre\">16</td></tr><tr><td style=\"text-align:left;white-space:pre\">43</td><td style=\"text-align:left;white-space:pre\">F</td><td style=\"text-align:left;white-space:pre\">6</td></tr><tr><td style=\"text-align:left;white-space:pre\">43</td><td style=\"text-align:left;white-space:pre\">M</td><td style=\"text-align:left;white-space:pre\">7</td></tr><tr><td style=\"text-align:left;white-space:pre\">44</td><td style=\"text-align:left;white-space:pre\">F</td><td style=\"text-align:left;white-space:pre\">12</td></tr><tr><td style=\"text-align:left;white-space:pre\">44</td><td style=\"text-align:left;white-space:pre\">M</td><td style=\"text-align:left;white-space:pre\">11</td></tr><tr><td style=\"text-align:left;white-space:pre\">45</td><td style=\"text-align:left;white-space:pre\">F</td><td style=\"text-align:left;white-space:pre\">2</td></tr><tr><td style=\"text-align:left;white-space:pre\">45</td><td style=\"text-align:left;white-space:pre\">M</td><td style=\"text-align:left;white-space:pre\">13</td></tr><tr><td style=\"text-align:left;white-space:pre\">46</td><td style=\"text-align:left;white-space:pre\">F</td><td style=\"text-align:left;white-space:pre\">2</td></tr><tr><td style=\"text-align:left;white-space:pre\">46</td><td style=\"text-align:left;white-space:pre\">M</td><td style=\"text-align:left;white-space:pre\">10</td></tr><tr><td style=\"text-align:left;white-space:pre\">47</td><td style=\"text-align:left;white-space:pre\">F</td><td style=\"text-align:left;white-space:pre\">3</td></tr><tr><td style=\"text-align:left;white-space:pre\">47</td><td style=\"text-align:left;white-space:pre\">M</td><td style=\"text-align:left;white-space:pre\">11</td></tr><tr><td style=\"text-align:left;white-space:pre\">48</td><td style=\"text-align:left;white-space:pre\">F</td><td style=\"text-align:left;white-space:pre\">7</td></tr><tr><td style=\"text-align:left;white-space:pre\">48</td><td style=\"text-align:left;white-space:pre\">M</td><td style=\"text-align:left;white-space:pre\">13</td></tr><tr><td style=\"text-align:left;white-space:pre\">49</td><td style=\"text-align:left;white-space:pre\">F</td><td style=\"text-align:left;white-space:pre\">9</td></tr><tr><td style=\"text-align:left;white-space:pre\">49</td><td style=\"text-align:left;white-space:pre\">M</td><td style=\"text-align:left;white-space:pre\">10</td></tr><tr><td style=\"text-align:left;white-space:pre\">50</td><td style=\"text-align:left;white-space:pre\">F</td><td style=\"text-align:left;white-space:pre\">9</td></tr><tr><td style=\"text-align:left;white-space:pre\">50</td><td style=\"text-align:left;white-space:pre\">M</td><td style=\"text-align:left;white-space:pre\">11</td></tr><tr><td style=\"text-align:left;white-space:pre\">51</td><td style=\"text-align:left;white-space:pre\">F</td><td style=\"text-align:left;white-space:pre\">7</td></tr><tr><td style=\"text-align:left;white-space:pre\">51</td><td style=\"text-align:left;white-space:pre\">M</td><td style=\"text-align:left;white-space:pre\">13</td></tr><tr><td style=\"text-align:left;white-space:pre\">52</td><td style=\"text-align:left;white-space:pre\">F</td><td style=\"text-align:left;white-space:pre\">2</td></tr><tr><td style=\"text-align:left;white-space:pre\">52</td><td style=\"text-align:left;white-space:pre\">M</td><td style=\"text-align:left;white-space:pre\">4</td></tr><tr><td style=\"text-align:left;white-space:pre\">53</td><td style=\"text-align:left;white-space:pre\">F</td><td style=\"text-align:left;white-space:pre\">5</td></tr><tr><td style=\"text-align:left;white-space:pre\">53</td><td style=\"text-align:left;white-space:pre\">M</td><td style=\"text-align:left;white-space:pre\">7</td></tr><tr><td style=\"text-align:left;white-space:pre\">54</td><td style=\"text-align:left;white-space:pre\">F</td><td style=\"text-align:left;white-space:pre\">2</td></tr><tr><td style=\"text-align:left;white-space:pre\">54</td><td style=\"text-align:left;white-space:pre\">M</td><td style=\"text-align:left;white-space:pre\">2</td></tr><tr><td style=\"text-align:left;white-space:pre\">55</td><td style=\"text-align:left;white-space:pre\">F</td><td style=\"text-align:left;white-space:pre\">2</td></tr><tr><td style=\"text-align:left;white-space:pre\">55</td><td style=\"text-align:left;white-space:pre\">M</td><td style=\"text-align:left;white-space:pre\">9</td></tr><tr><td style=\"text-align:left;white-space:pre\">56</td><td style=\"text-align:left;white-space:pre\">F</td><td style=\"text-align:left;white-space:pre\">2</td></tr><tr><td style=\"text-align:left;white-space:pre\">56</td><td style=\"text-align:left;white-space:pre\">M</td><td style=\"text-align:left;white-space:pre\">4</td></tr><tr><td style=\"text-align:left;white-space:pre\">57</td><td style=\"text-align:left;white-space:pre\">F</td><td style=\"text-align:left;white-space:pre\">1</td></tr><tr><td style=\"text-align:left;white-space:pre\">57</td><td style=\"text-align:left;white-space:pre\">M</td><td style=\"text-align:left;white-space:pre\">8</td></tr><tr><td style=\"text-align:left;white-space:pre\">58</td><td style=\"text-align:left;white-space:pre\">M</td><td style=\"text-align:left;white-space:pre\">3</td></tr><tr><td style=\"text-align:left;white-space:pre\">59</td><td style=\"text-align:left;white-space:pre\">F</td><td style=\"text-align:left;white-space:pre\">2</td></tr><tr><td style=\"text-align:left;white-space:pre\">59</td><td style=\"text-align:left;white-space:pre\">M</td><td style=\"text-align:left;white-space:pre\">1</td></tr><tr><td style=\"text-align:left;white-space:pre\">60</td><td style=\"text-align:left;white-space:pre\">M</td><td style=\"text-align:left;white-space:pre\">9</td></tr><tr><td style=\"text-align:left;white-space:pre\">61</td><td style=\"text-align:left;white-space:pre\">M</td><td style=\"text-align:left;white-space:pre\">3</td></tr><tr><td style=\"text-align:left;white-space:pre\">62</td><td style=\"text-align:left;white-space:pre\">F</td><td style=\"text-align:left;white-space:pre\">1</td></tr><tr><td style=\"text-align:left;white-space:pre\">62</td><td style=\"text-align:left;white-space:pre\">M</td><td style=\"text-align:left;white-space:pre\">1</td></tr><tr><td style=\"text-align:left;white-space:pre\">63</td><td style=\"text-align:left;white-space:pre\">M</td><td style=\"text-align:left;white-space:pre\">3</td></tr><tr><td style=\"text-align:left;white-space:pre\">64</td><td style=\"text-align:left;white-space:pre\">M</td><td style=\"text-align:left;white-space:pre\">2</td></tr><tr><td style=\"text-align:left;white-space:pre\">65</td><td style=\"text-align:left;white-space:pre\">M</td><td style=\"text-align:left;white-space:pre\">3</td></tr><tr><td style=\"text-align:left;white-space:pre\">66</td><td style=\"text-align:left;white-space:pre\">M</td><td style=\"text-align:left;white-space:pre\">1</td></tr><tr><td style=\"text-align:left;white-space:pre\">68</td><td style=\"text-align:left;white-space:pre\">M</td><td style=\"text-align:left;white-space:pre\">2</td></tr><tr><td style=\"text-align:left;white-space:pre\">69</td><td style=\"text-align:left;white-space:pre\">M</td><td style=\"text-align:left;white-space:pre\">2</td></tr><tr><td style=\"text-align:left;white-space:pre\">70</td><td style=\"text-align:left;white-space:pre\">F</td><td style=\"text-align:left;white-space:pre\">1</td></tr><tr><td style=\"text-align:left;white-space:pre\">70</td><td style=\"text-align:left;white-space:pre\">M</td><td style=\"text-align:left;white-space:pre\">2</td></tr><tr><td style=\"text-align:left;white-space:pre\">73</td><td style=\"text-align:left;white-space:pre\">M</td><td style=\"text-align:left;white-space:pre\">1</td></tr></table></body></html>"
      ]
     },
     "metadata": {},
     "output_type": "display_data"
    }
   ],
   "source": [
    "SELECT age, gender, COUNT(*)\n",
    "FROM users\n",
    "GROUP BY age, gender;"
   ]
  }
 ],
 "metadata": {
  "kernelspec": {
   "display_name": "MariaDB",
   "language": "SQL",
   "name": "mariadb_kernel"
  },
  "language_info": {
   "file_extension": ".sql",
   "mimetype": "text/plain",
   "name": "SQL"
  }
 },
 "nbformat": 4,
 "nbformat_minor": 5
}
