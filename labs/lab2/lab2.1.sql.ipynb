{
 "cells": [
  {
   "cell_type": "markdown",
   "metadata": {},
   "source": [
    "# MariaDB SQL"
   ]
  },
  {
   "cell_type": "markdown",
   "metadata": {},
   "source": [
    "## Comandos Administrativos\n",
    "\n",
    "Documentação oficial MariaDB: https://mariadb.com/kb/en/about-show/\n",
    "\n",
    "### Show databases"
   ]
  },
  {
   "cell_type": "code",
   "execution_count": 1,
   "metadata": {},
   "outputs": [
    {
     "data": {
      "text/html": [
       "<html><body><table border=\"1\"><tr><th style=\"text-align:left;white-space:pre\">Database</th></tr><tr><td style=\"text-align:left;white-space:pre\">information_schema</td></tr><tr><td style=\"text-align:left;white-space:pre\">movielens</td></tr></table></body></html>"
      ]
     },
     "metadata": {},
     "output_type": "display_data"
    }
   ],
   "source": [
    "SHOW databases;"
   ]
  },
  {
   "cell_type": "markdown",
   "metadata": {},
   "source": [
    "### Use"
   ]
  },
  {
   "cell_type": "code",
   "execution_count": 3,
   "metadata": {},
   "outputs": [
    {
     "data": {
      "text/html": [
       "Query OK"
      ]
     },
     "metadata": {},
     "output_type": "display_data"
    }
   ],
   "source": [
    "USE movielens;"
   ]
  },
  {
   "cell_type": "markdown",
   "metadata": {},
   "source": [
    "### Show tables"
   ]
  },
  {
   "cell_type": "code",
   "execution_count": 4,
   "metadata": {},
   "outputs": [
    {
     "data": {
      "text/html": [
       "<html><body><table border=\"1\"><tr><th style=\"text-align:left;white-space:pre\">Tables_in_movielens</th></tr><tr><td style=\"text-align:left;white-space:pre\">genres</td></tr><tr><td style=\"text-align:left;white-space:pre\">genres_movies</td></tr><tr><td style=\"text-align:left;white-space:pre\">movies</td></tr><tr><td style=\"text-align:left;white-space:pre\">occupations</td></tr><tr><td style=\"text-align:left;white-space:pre\">ratings</td></tr><tr><td style=\"text-align:left;white-space:pre\">users</td></tr></table></body></html>"
      ]
     },
     "metadata": {},
     "output_type": "display_data"
    }
   ],
   "source": [
    "SHOW tables;"
   ]
  },
  {
   "cell_type": "markdown",
   "metadata": {},
   "source": [
    "O modificador `FULL` retorna uma segunda coluna `Table_type`. Os valores desta coluna podem ser: `BASE TABLE` para uma tabela, `VIEW` para uma view ou `SEQUENCE` para uma sequência."
   ]
  },
  {
   "cell_type": "code",
   "execution_count": 5,
   "metadata": {},
   "outputs": [
    {
     "data": {
      "text/html": [
       "<html><body><table border=\"1\"><tr><th style=\"text-align:left;white-space:pre\">Tables_in_movielens</th><th style=\"text-align:left;white-space:pre\">Table_type</th></tr><tr><td style=\"text-align:left;white-space:pre\">genres</td><td style=\"text-align:left;white-space:pre\">BASE TABLE</td></tr><tr><td style=\"text-align:left;white-space:pre\">genres_movies</td><td style=\"text-align:left;white-space:pre\">BASE TABLE</td></tr><tr><td style=\"text-align:left;white-space:pre\">movies</td><td style=\"text-align:left;white-space:pre\">BASE TABLE</td></tr><tr><td style=\"text-align:left;white-space:pre\">occupations</td><td style=\"text-align:left;white-space:pre\">BASE TABLE</td></tr><tr><td style=\"text-align:left;white-space:pre\">ratings</td><td style=\"text-align:left;white-space:pre\">BASE TABLE</td></tr><tr><td style=\"text-align:left;white-space:pre\">users</td><td style=\"text-align:left;white-space:pre\">BASE TABLE</td></tr></table></body></html>"
      ]
     },
     "metadata": {},
     "output_type": "display_data"
    }
   ],
   "source": [
    "SHOW FULL TABLES;"
   ]
  },
  {
   "cell_type": "code",
   "execution_count": null,
   "metadata": {},
   "outputs": [],
   "source": [
    "SHOW FULL TABLES WHERE Tables_in_movielens LIKE 'g%';"
   ]
  },
  {
   "cell_type": "code",
   "execution_count": 6,
   "metadata": {},
   "outputs": [
    {
     "data": {
      "text/html": [
       "<html><body><table border=\"1\"><tr><th style=\"text-align:left;white-space:pre\">Name</th><th style=\"text-align:left;white-space:pre\">Engine</th><th style=\"text-align:left;white-space:pre\">Version</th><th style=\"text-align:left;white-space:pre\">Row_format</th><th style=\"text-align:left;white-space:pre\">Rows</th><th style=\"text-align:left;white-space:pre\">Avg_row_length</th><th style=\"text-align:left;white-space:pre\">Data_length</th><th style=\"text-align:left;white-space:pre\">Max_data_length</th><th style=\"text-align:left;white-space:pre\">Index_length</th><th style=\"text-align:left;white-space:pre\">Data_free</th><th style=\"text-align:left;white-space:pre\">Auto_increment</th><th style=\"text-align:left;white-space:pre\">Create_time</th><th style=\"text-align:left;white-space:pre\">Update_time</th><th style=\"text-align:left;white-space:pre\">Check_time</th><th style=\"text-align:left;white-space:pre\">Collation</th><th style=\"text-align:left;white-space:pre\">Checksum</th><th style=\"text-align:left;white-space:pre\">Create_options</th><th style=\"text-align:left;white-space:pre\">Comment</th><th style=\"text-align:left;white-space:pre\">Max_index_length</th><th style=\"text-align:left;white-space:pre\">Temporary</th></tr><tr><td style=\"text-align:left;white-space:pre\">genres</td><td style=\"text-align:left;white-space:pre\">InnoDB</td><td style=\"text-align:left;white-space:pre\">10</td><td style=\"text-align:left;white-space:pre\">Dynamic</td><td style=\"text-align:left;white-space:pre\">18</td><td style=\"text-align:left;white-space:pre\">910</td><td style=\"text-align:left;white-space:pre\">16384</td><td style=\"text-align:left;white-space:pre\">0</td><td style=\"text-align:left;white-space:pre\">0</td><td style=\"text-align:left;white-space:pre\">0</td><td style=\"text-align:left;white-space:pre\">NULL</td><td style=\"text-align:left;white-space:pre\">2021-07-09 21:17:15</td><td style=\"text-align:left;white-space:pre\">2021-07-09 21:17:15</td><td style=\"text-align:left;white-space:pre\">NULL</td><td style=\"text-align:left;white-space:pre\">latin1_swedish_ci</td><td style=\"text-align:left;white-space:pre\">NULL</td><td style=\"text-align:left;white-space:pre\"></td><td style=\"text-align:left;white-space:pre\"></td><td style=\"text-align:left;white-space:pre\">0</td><td style=\"text-align:left;white-space:pre\">N</td></tr><tr><td style=\"text-align:left;white-space:pre\">genres_movies</td><td style=\"text-align:left;white-space:pre\">InnoDB</td><td style=\"text-align:left;white-space:pre\">10</td><td style=\"text-align:left;white-space:pre\">Dynamic</td><td style=\"text-align:left;white-space:pre\">2307</td><td style=\"text-align:left;white-space:pre\">56</td><td style=\"text-align:left;white-space:pre\">131072</td><td style=\"text-align:left;white-space:pre\">0</td><td style=\"text-align:left;white-space:pre\">0</td><td style=\"text-align:left;white-space:pre\">0</td><td style=\"text-align:left;white-space:pre\">NULL</td><td style=\"text-align:left;white-space:pre\">2021-07-09 21:17:15</td><td style=\"text-align:left;white-space:pre\">2021-07-09 21:17:15</td><td style=\"text-align:left;white-space:pre\">NULL</td><td style=\"text-align:left;white-space:pre\">latin1_swedish_ci</td><td style=\"text-align:left;white-space:pre\">NULL</td><td style=\"text-align:left;white-space:pre\"></td><td style=\"text-align:left;white-space:pre\"></td><td style=\"text-align:left;white-space:pre\">0</td><td style=\"text-align:left;white-space:pre\">N</td></tr><tr><td style=\"text-align:left;white-space:pre\">movies</td><td style=\"text-align:left;white-space:pre\">InnoDB</td><td style=\"text-align:left;white-space:pre\">10</td><td style=\"text-align:left;white-space:pre\">Dynamic</td><td style=\"text-align:left;white-space:pre\">1503</td><td style=\"text-align:left;white-space:pre\">87</td><td style=\"text-align:left;white-space:pre\">131072</td><td style=\"text-align:left;white-space:pre\">0</td><td style=\"text-align:left;white-space:pre\">0</td><td style=\"text-align:left;white-space:pre\">0</td><td style=\"text-align:left;white-space:pre\">NULL</td><td style=\"text-align:left;white-space:pre\">2021-07-09 21:17:15</td><td style=\"text-align:left;white-space:pre\">2021-07-09 21:17:15</td><td style=\"text-align:left;white-space:pre\">NULL</td><td style=\"text-align:left;white-space:pre\">latin1_swedish_ci</td><td style=\"text-align:left;white-space:pre\">NULL</td><td style=\"text-align:left;white-space:pre\"></td><td style=\"text-align:left;white-space:pre\"></td><td style=\"text-align:left;white-space:pre\">0</td><td style=\"text-align:left;white-space:pre\">N</td></tr><tr><td style=\"text-align:left;white-space:pre\">occupations</td><td style=\"text-align:left;white-space:pre\">InnoDB</td><td style=\"text-align:left;white-space:pre\">10</td><td style=\"text-align:left;white-space:pre\">Dynamic</td><td style=\"text-align:left;white-space:pre\">21</td><td style=\"text-align:left;white-space:pre\">780</td><td style=\"text-align:left;white-space:pre\">16384</td><td style=\"text-align:left;white-space:pre\">0</td><td style=\"text-align:left;white-space:pre\">0</td><td style=\"text-align:left;white-space:pre\">0</td><td style=\"text-align:left;white-space:pre\">NULL</td><td style=\"text-align:left;white-space:pre\">2021-07-09 21:17:14</td><td style=\"text-align:left;white-space:pre\">2021-07-09 21:17:14</td><td style=\"text-align:left;white-space:pre\">NULL</td><td style=\"text-align:left;white-space:pre\">latin1_swedish_ci</td><td style=\"text-align:left;white-space:pre\">NULL</td><td style=\"text-align:left;white-space:pre\"></td><td style=\"text-align:left;white-space:pre\"></td><td style=\"text-align:left;white-space:pre\">0</td><td style=\"text-align:left;white-space:pre\">N</td></tr><tr><td style=\"text-align:left;white-space:pre\">ratings</td><td style=\"text-align:left;white-space:pre\">InnoDB</td><td style=\"text-align:left;white-space:pre\">10</td><td style=\"text-align:left;white-space:pre\">Dynamic</td><td style=\"text-align:left;white-space:pre\">100489</td><td style=\"text-align:left;white-space:pre\">47</td><td style=\"text-align:left;white-space:pre\">4734976</td><td style=\"text-align:left;white-space:pre\">0</td><td style=\"text-align:left;white-space:pre\">0</td><td style=\"text-align:left;white-space:pre\">4194304</td><td style=\"text-align:left;white-space:pre\">NULL</td><td style=\"text-align:left;white-space:pre\">2021-07-09 21:17:14</td><td style=\"text-align:left;white-space:pre\">2021-07-09 21:17:15</td><td style=\"text-align:left;white-space:pre\">NULL</td><td style=\"text-align:left;white-space:pre\">latin1_swedish_ci</td><td style=\"text-align:left;white-space:pre\">NULL</td><td style=\"text-align:left;white-space:pre\"></td><td style=\"text-align:left;white-space:pre\"></td><td style=\"text-align:left;white-space:pre\">0</td><td style=\"text-align:left;white-space:pre\">N</td></tr><tr><td style=\"text-align:left;white-space:pre\">users</td><td style=\"text-align:left;white-space:pre\">InnoDB</td><td style=\"text-align:left;white-space:pre\">10</td><td style=\"text-align:left;white-space:pre\">Dynamic</td><td style=\"text-align:left;white-space:pre\">1037</td><td style=\"text-align:left;white-space:pre\">63</td><td style=\"text-align:left;white-space:pre\">65536</td><td style=\"text-align:left;white-space:pre\">0</td><td style=\"text-align:left;white-space:pre\">0</td><td style=\"text-align:left;white-space:pre\">0</td><td style=\"text-align:left;white-space:pre\">NULL</td><td style=\"text-align:left;white-space:pre\">2021-07-09 21:17:14</td><td style=\"text-align:left;white-space:pre\">2021-07-09 21:17:15</td><td style=\"text-align:left;white-space:pre\">NULL</td><td style=\"text-align:left;white-space:pre\">latin1_swedish_ci</td><td style=\"text-align:left;white-space:pre\">NULL</td><td style=\"text-align:left;white-space:pre\"></td><td style=\"text-align:left;white-space:pre\"></td><td style=\"text-align:left;white-space:pre\">0</td><td style=\"text-align:left;white-space:pre\">N</td></tr></table></body></html>"
      ]
     },
     "metadata": {},
     "output_type": "display_data"
    }
   ],
   "source": [
    "SHOW TABLE STATUS;"
   ]
  },
  {
   "cell_type": "markdown",
   "metadata": {},
   "source": [
    "### Show create table"
   ]
  },
  {
   "cell_type": "code",
   "execution_count": 8,
   "metadata": {},
   "outputs": [
    {
     "data": {
      "text/html": [
       "<html><body><table border=\"1\"><tr><th style=\"text-align:left;white-space:pre\">Table</th><th style=\"text-align:left;white-space:pre\">Create Table</th></tr><tr><td style=\"text-align:left;white-space:pre\">ratings</td><td style=\"text-align:left;white-space:pre\">CREATE TABLE `ratings` (\r\n",
       "  `id` int(11) NOT NULL,\r\n",
       "  `user_id` int(11) DEFAULT NULL,\r\n",
       "  `movie_id` int(11) DEFAULT NULL,\r\n",
       "  `rating` int(11) DEFAULT NULL,\r\n",
       "  `rated_at` timestamp NOT NULL DEFAULT current_timestamp() ON UPDATE current_timestamp(),\r\n",
       "  PRIMARY KEY (`id`)\r\n",
       ") ENGINE=InnoDB DEFAULT CHARSET=latin1</td></tr></table></body></html>"
      ]
     },
     "metadata": {},
     "output_type": "display_data"
    }
   ],
   "source": [
    "SHOW CREATE TABLE ratings;"
   ]
  },
  {
   "cell_type": "code",
   "execution_count": 9,
   "metadata": {},
   "outputs": [
    {
     "data": {
      "text/html": [
       "Query OK"
      ]
     },
     "metadata": {},
     "output_type": "display_data"
    }
   ],
   "source": [
    "USE information_schema;"
   ]
  },
  {
   "cell_type": "code",
   "execution_count": null,
   "metadata": {},
   "outputs": [],
   "source": [
    "SHOW FULL TABLES;"
   ]
  },
  {
   "cell_type": "code",
   "execution_count": 13,
   "metadata": {},
   "outputs": [
    {
     "data": {
      "text/html": [
       "<html><body><table border=\"1\"><tr><th style=\"text-align:left;white-space:pre\">TABLE_CATALOG</th><th style=\"text-align:left;white-space:pre\">TABLE_SCHEMA</th><th style=\"text-align:left;white-space:pre\">TABLE_NAME</th><th style=\"text-align:left;white-space:pre\">TABLE_TYPE</th><th style=\"text-align:left;white-space:pre\">ENGINE</th><th style=\"text-align:left;white-space:pre\">VERSION</th><th style=\"text-align:left;white-space:pre\">ROW_FORMAT</th><th style=\"text-align:left;white-space:pre\">TABLE_ROWS</th><th style=\"text-align:left;white-space:pre\">AVG_ROW_LENGTH</th><th style=\"text-align:left;white-space:pre\">DATA_LENGTH</th><th style=\"text-align:left;white-space:pre\">MAX_DATA_LENGTH</th><th style=\"text-align:left;white-space:pre\">INDEX_LENGTH</th><th style=\"text-align:left;white-space:pre\">DATA_FREE</th><th style=\"text-align:left;white-space:pre\">AUTO_INCREMENT</th><th style=\"text-align:left;white-space:pre\">CREATE_TIME</th><th style=\"text-align:left;white-space:pre\">UPDATE_TIME</th><th style=\"text-align:left;white-space:pre\">CHECK_TIME</th><th style=\"text-align:left;white-space:pre\">TABLE_COLLATION</th><th style=\"text-align:left;white-space:pre\">CHECKSUM</th><th style=\"text-align:left;white-space:pre\">CREATE_OPTIONS</th><th style=\"text-align:left;white-space:pre\">TABLE_COMMENT</th><th style=\"text-align:left;white-space:pre\">MAX_INDEX_LENGTH</th><th style=\"text-align:left;white-space:pre\">TEMPORARY</th></tr><tr><td style=\"text-align:left;white-space:pre\">def</td><td style=\"text-align:left;white-space:pre\">information_schema</td><td style=\"text-align:left;white-space:pre\">ALL_PLUGINS</td><td style=\"text-align:left;white-space:pre\">SYSTEM VIEW</td><td style=\"text-align:left;white-space:pre\">Aria</td><td style=\"text-align:left;white-space:pre\">11</td><td style=\"text-align:left;white-space:pre\">Page</td><td style=\"text-align:left;white-space:pre\">NULL</td><td style=\"text-align:left;white-space:pre\">0</td><td style=\"text-align:left;white-space:pre\">8192</td><td style=\"text-align:left;white-space:pre\">4503599627288576</td><td style=\"text-align:left;white-space:pre\">8192</td><td style=\"text-align:left;white-space:pre\">0</td><td style=\"text-align:left;white-space:pre\">NULL</td><td style=\"text-align:left;white-space:pre\">2021-07-09 22:09:33</td><td style=\"text-align:left;white-space:pre\">2021-07-09 22:09:33</td><td style=\"text-align:left;white-space:pre\">NULL</td><td style=\"text-align:left;white-space:pre\">utf8_general_ci</td><td style=\"text-align:left;white-space:pre\">NULL</td><td style=\"text-align:left;white-space:pre\">max_rows=9441</td><td style=\"text-align:left;white-space:pre\"></td><td style=\"text-align:left;white-space:pre\">137438945280</td><td style=\"text-align:left;white-space:pre\">Y</td></tr><tr><td style=\"text-align:left;white-space:pre\">def</td><td style=\"text-align:left;white-space:pre\">information_schema</td><td style=\"text-align:left;white-space:pre\">APPLICABLE_ROLES</td><td style=\"text-align:left;white-space:pre\">SYSTEM VIEW</td><td style=\"text-align:left;white-space:pre\">MEMORY</td><td style=\"text-align:left;white-space:pre\">11</td><td style=\"text-align:left;white-space:pre\">Fixed</td><td style=\"text-align:left;white-space:pre\">NULL</td><td style=\"text-align:left;white-space:pre\">979</td><td style=\"text-align:left;white-space:pre\">0</td><td style=\"text-align:left;white-space:pre\">16691950</td><td style=\"text-align:left;white-space:pre\">0</td><td style=\"text-align:left;white-space:pre\">0</td><td style=\"text-align:left;white-space:pre\">NULL</td><td style=\"text-align:left;white-space:pre\">2021-07-09 22:09:33</td><td style=\"text-align:left;white-space:pre\">NULL</td><td style=\"text-align:left;white-space:pre\">NULL</td><td style=\"text-align:left;white-space:pre\">utf8_general_ci</td><td style=\"text-align:left;white-space:pre\">NULL</td><td style=\"text-align:left;white-space:pre\">max_rows=17137</td><td style=\"text-align:left;white-space:pre\"></td><td style=\"text-align:left;white-space:pre\">0</td><td style=\"text-align:left;white-space:pre\">Y</td></tr><tr><td style=\"text-align:left;white-space:pre\">def</td><td style=\"text-align:left;white-space:pre\">information_schema</td><td style=\"text-align:left;white-space:pre\">CHARACTER_SETS</td><td style=\"text-align:left;white-space:pre\">SYSTEM VIEW</td><td style=\"text-align:left;white-space:pre\">MEMORY</td><td style=\"text-align:left;white-space:pre\">11</td><td style=\"text-align:left;white-space:pre\">Fixed</td><td style=\"text-align:left;white-space:pre\">NULL</td><td style=\"text-align:left;white-space:pre\">384</td><td style=\"text-align:left;white-space:pre\">0</td><td style=\"text-align:left;white-space:pre\">16434816</td><td style=\"text-align:left;white-space:pre\">0</td><td style=\"text-align:left;white-space:pre\">0</td><td style=\"text-align:left;white-space:pre\">NULL</td><td style=\"text-align:left;white-space:pre\">2021-07-09 22:09:33</td><td style=\"text-align:left;white-space:pre\">NULL</td><td style=\"text-align:left;white-space:pre\">NULL</td><td style=\"text-align:left;white-space:pre\">utf8_general_ci</td><td style=\"text-align:left;white-space:pre\">NULL</td><td style=\"text-align:left;white-space:pre\">max_rows=43690</td><td style=\"text-align:left;white-space:pre\"></td><td style=\"text-align:left;white-space:pre\">0</td><td style=\"text-align:left;white-space:pre\">Y</td></tr><tr><td style=\"text-align:left;white-space:pre\">def</td><td style=\"text-align:left;white-space:pre\">information_schema</td><td style=\"text-align:left;white-space:pre\">CHECK_CONSTRAINTS</td><td style=\"text-align:left;white-space:pre\">SYSTEM VIEW</td><td style=\"text-align:left;white-space:pre\">Aria</td><td style=\"text-align:left;white-space:pre\">11</td><td style=\"text-align:left;white-space:pre\">Page</td><td style=\"text-align:left;white-space:pre\">NULL</td><td style=\"text-align:left;white-space:pre\">0</td><td style=\"text-align:left;white-space:pre\">8192</td><td style=\"text-align:left;white-space:pre\">4503599627288576</td><td style=\"text-align:left;white-space:pre\">8192</td><td style=\"text-align:left;white-space:pre\">0</td><td style=\"text-align:left;white-space:pre\">NULL</td><td style=\"text-align:left;white-space:pre\">2021-07-09 22:09:33</td><td style=\"text-align:left;white-space:pre\">2021-07-09 22:09:33</td><td style=\"text-align:left;white-space:pre\">NULL</td><td style=\"text-align:left;white-space:pre\">utf8_general_ci</td><td style=\"text-align:left;white-space:pre\">NULL</td><td style=\"text-align:left;white-space:pre\">max_rows=7880</td><td style=\"text-align:left;white-space:pre\"></td><td style=\"text-align:left;white-space:pre\">137438945280</td><td style=\"text-align:left;white-space:pre\">Y</td></tr><tr><td style=\"text-align:left;white-space:pre\">def</td><td style=\"text-align:left;white-space:pre\">information_schema</td><td style=\"text-align:left;white-space:pre\">COLLATIONS</td><td style=\"text-align:left;white-space:pre\">SYSTEM VIEW</td><td style=\"text-align:left;white-space:pre\">MEMORY</td><td style=\"text-align:left;white-space:pre\">11</td><td style=\"text-align:left;white-space:pre\">Fixed</td><td style=\"text-align:left;white-space:pre\">NULL</td><td style=\"text-align:left;white-space:pre\">231</td><td style=\"text-align:left;white-space:pre\">0</td><td style=\"text-align:left;white-space:pre\">16704765</td><td style=\"text-align:left;white-space:pre\">0</td><td style=\"text-align:left;white-space:pre\">0</td><td style=\"text-align:left;white-space:pre\">NULL</td><td style=\"text-align:left;white-space:pre\">2021-07-09 22:09:33</td><td style=\"text-align:left;white-space:pre\">NULL</td><td style=\"text-align:left;white-space:pre\">NULL</td><td style=\"text-align:left;white-space:pre\">utf8_general_ci</td><td style=\"text-align:left;white-space:pre\">NULL</td><td style=\"text-align:left;white-space:pre\">max_rows=72628</td><td style=\"text-align:left;white-space:pre\"></td><td style=\"text-align:left;white-space:pre\">0</td><td style=\"text-align:left;white-space:pre\">Y</td></tr><tr><td style=\"text-align:left;white-space:pre\">def</td><td style=\"text-align:left;white-space:pre\">information_schema</td><td style=\"text-align:left;white-space:pre\">COLLATION_CHARACTER_SET_APPLICABILITY</td><td style=\"text-align:left;white-space:pre\">SYSTEM VIEW</td><td style=\"text-align:left;white-space:pre\">MEMORY</td><td style=\"text-align:left;white-space:pre\">11</td><td style=\"text-align:left;white-space:pre\">Fixed</td><td style=\"text-align:left;white-space:pre\">NULL</td><td style=\"text-align:left;white-space:pre\">195</td><td style=\"text-align:left;white-space:pre\">0</td><td style=\"text-align:left;white-space:pre\">16357770</td><td style=\"text-align:left;white-space:pre\">0</td><td style=\"text-align:left;white-space:pre\">0</td><td style=\"text-align:left;white-space:pre\">NULL</td><td style=\"text-align:left;white-space:pre\">2021-07-09 22:09:33</td><td style=\"text-align:left;white-space:pre\">NULL</td><td style=\"text-align:left;white-space:pre\">NULL</td><td style=\"text-align:left;white-space:pre\">utf8_general_ci</td><td style=\"text-align:left;white-space:pre\">NULL</td><td style=\"text-align:left;white-space:pre\">max_rows=86037</td><td style=\"text-align:left;white-space:pre\"></td><td style=\"text-align:left;white-space:pre\">0</td><td style=\"text-align:left;white-space:pre\">Y</td></tr><tr><td style=\"text-align:left;white-space:pre\">def</td><td style=\"text-align:left;white-space:pre\">information_schema</td><td style=\"text-align:left;white-space:pre\">COLUMNS</td><td style=\"text-align:left;white-space:pre\">SYSTEM VIEW</td><td style=\"text-align:left;white-space:pre\">Aria</td><td style=\"text-align:left;white-space:pre\">11</td><td style=\"text-align:left;white-space:pre\">Page</td><td style=\"text-align:left;white-space:pre\">NULL</td><td style=\"text-align:left;white-space:pre\">0</td><td style=\"text-align:left;white-space:pre\">8192</td><td style=\"text-align:left;white-space:pre\">4503599627288576</td><td style=\"text-align:left;white-space:pre\">8192</td><td style=\"text-align:left;white-space:pre\">0</td><td style=\"text-align:left;white-space:pre\">NULL</td><td style=\"text-align:left;white-space:pre\">2021-07-09 22:09:33</td><td style=\"text-align:left;white-space:pre\">2021-07-09 22:09:33</td><td style=\"text-align:left;white-space:pre\">NULL</td><td style=\"text-align:left;white-space:pre\">utf8_general_ci</td><td style=\"text-align:left;white-space:pre\">NULL</td><td style=\"text-align:left;white-space:pre\">max_rows=2779</td><td style=\"text-align:left;white-space:pre\"></td><td style=\"text-align:left;white-space:pre\">137438945280</td><td style=\"text-align:left;white-space:pre\">Y</td></tr><tr><td style=\"text-align:left;white-space:pre\">def</td><td style=\"text-align:left;white-space:pre\">information_schema</td><td style=\"text-align:left;white-space:pre\">COLUMN_PRIVILEGES</td><td style=\"text-align:left;white-space:pre\">SYSTEM VIEW</td><td style=\"text-align:left;white-space:pre\">MEMORY</td><td style=\"text-align:left;white-space:pre\">11</td><td style=\"text-align:left;white-space:pre\">Fixed</td><td style=\"text-align:left;white-space:pre\">NULL</td><td style=\"text-align:left;white-space:pre\">2893</td><td style=\"text-align:left;white-space:pre\">0</td><td style=\"text-align:left;white-space:pre\">16759149</td><td style=\"text-align:left;white-space:pre\">0</td><td style=\"text-align:left;white-space:pre\">0</td><td style=\"text-align:left;white-space:pre\">NULL</td><td style=\"text-align:left;white-space:pre\">2021-07-09 22:09:33</td><td style=\"text-align:left;white-space:pre\">NULL</td><td style=\"text-align:left;white-space:pre\">NULL</td><td style=\"text-align:left;white-space:pre\">utf8_general_ci</td><td style=\"text-align:left;white-space:pre\">NULL</td><td style=\"text-align:left;white-space:pre\">max_rows=5799</td><td style=\"text-align:left;white-space:pre\"></td><td style=\"text-align:left;white-space:pre\">0</td><td style=\"text-align:left;white-space:pre\">Y</td></tr><tr><td style=\"text-align:left;white-space:pre\">def</td><td style=\"text-align:left;white-space:pre\">information_schema</td><td style=\"text-align:left;white-space:pre\">ENABLED_ROLES</td><td style=\"text-align:left;white-space:pre\">SYSTEM VIEW</td><td style=\"text-align:left;white-space:pre\">MEMORY</td><td style=\"text-align:left;white-space:pre\">11</td><td style=\"text-align:left;white-space:pre\">Fixed</td><td style=\"text-align:left;white-space:pre\">NULL</td><td style=\"text-align:left;white-space:pre\">387</td><td style=\"text-align:left;white-space:pre\">0</td><td style=\"text-align:left;white-space:pre\">16563213</td><td style=\"text-align:left;white-space:pre\">0</td><td style=\"text-align:left;white-space:pre\">0</td><td style=\"text-align:left;white-space:pre\">NULL</td><td style=\"text-align:left;white-space:pre\">2021-07-09 22:09:33</td><td style=\"text-align:left;white-space:pre\">NULL</td><td style=\"text-align:left;white-space:pre\">NULL</td><td style=\"text-align:left;white-space:pre\">utf8_general_ci</td><td style=\"text-align:left;white-space:pre\">NULL</td><td style=\"text-align:left;white-space:pre\">max_rows=43351</td><td style=\"text-align:left;white-space:pre\"></td><td style=\"text-align:left;white-space:pre\">0</td><td style=\"text-align:left;white-space:pre\">Y</td></tr><tr><td style=\"text-align:left;white-space:pre\">def</td><td style=\"text-align:left;white-space:pre\">information_schema</td><td style=\"text-align:left;white-space:pre\">ENGINES</td><td style=\"text-align:left;white-space:pre\">SYSTEM VIEW</td><td style=\"text-align:left;white-space:pre\">MEMORY</td><td style=\"text-align:left;white-space:pre\">11</td><td style=\"text-align:left;white-space:pre\">Fixed</td><td style=\"text-align:left;white-space:pre\">NULL</td><td style=\"text-align:left;white-space:pre\">731</td><td style=\"text-align:left;white-space:pre\">0</td><td style=\"text-align:left;white-space:pre\">16663145</td><td style=\"text-align:left;white-space:pre\">0</td><td style=\"text-align:left;white-space:pre\">0</td><td style=\"text-align:left;white-space:pre\">NULL</td><td style=\"text-align:left;white-space:pre\">2021-07-09 22:09:33</td><td style=\"text-align:left;white-space:pre\">NULL</td><td style=\"text-align:left;white-space:pre\">NULL</td><td style=\"text-align:left;white-space:pre\">utf8_general_ci</td><td style=\"text-align:left;white-space:pre\">NULL</td><td style=\"text-align:left;white-space:pre\">max_rows=22951</td><td style=\"text-align:left;white-space:pre\"></td><td style=\"text-align:left;white-space:pre\">0</td><td style=\"text-align:left;white-space:pre\">Y</td></tr><tr><td style=\"text-align:left;white-space:pre\">def</td><td style=\"text-align:left;white-space:pre\">information_schema</td><td style=\"text-align:left;white-space:pre\">EVENTS</td><td style=\"text-align:left;white-space:pre\">SYSTEM VIEW</td><td style=\"text-align:left;white-space:pre\">Aria</td><td style=\"text-align:left;white-space:pre\">11</td><td style=\"text-align:left;white-space:pre\">Page</td><td style=\"text-align:left;white-space:pre\">NULL</td><td style=\"text-align:left;white-space:pre\">0</td><td style=\"text-align:left;white-space:pre\">8192</td><td style=\"text-align:left;white-space:pre\">4503599627288576</td><td style=\"text-align:left;white-space:pre\">8192</td><td style=\"text-align:left;white-space:pre\">0</td><td style=\"text-align:left;white-space:pre\">NULL</td><td style=\"text-align:left;white-space:pre\">2021-07-09 22:09:33</td><td style=\"text-align:left;white-space:pre\">2021-07-09 22:09:33</td><td style=\"text-align:left;white-space:pre\">NULL</td><td style=\"text-align:left;white-space:pre\">utf8_general_ci</td><td style=\"text-align:left;white-space:pre\">NULL</td><td style=\"text-align:left;white-space:pre\">max_rows=611</td><td style=\"text-align:left;white-space:pre\"></td><td style=\"text-align:left;white-space:pre\">137438945280</td><td style=\"text-align:left;white-space:pre\">Y</td></tr><tr><td style=\"text-align:left;white-space:pre\">def</td><td style=\"text-align:left;white-space:pre\">information_schema</td><td style=\"text-align:left;white-space:pre\">FILES</td><td style=\"text-align:left;white-space:pre\">SYSTEM VIEW</td><td style=\"text-align:left;white-space:pre\">MEMORY</td><td style=\"text-align:left;white-space:pre\">11</td><td style=\"text-align:left;white-space:pre\">Fixed</td><td style=\"text-align:left;white-space:pre\">NULL</td><td style=\"text-align:left;white-space:pre\">4022</td><td style=\"text-align:left;white-space:pre\">0</td><td style=\"text-align:left;white-space:pre\">16767718</td><td style=\"text-align:left;white-space:pre\">0</td><td style=\"text-align:left;white-space:pre\">0</td><td style=\"text-align:left;white-space:pre\">NULL</td><td style=\"text-align:left;white-space:pre\">2021-07-09 22:09:33</td><td style=\"text-align:left;white-space:pre\">NULL</td><td style=\"text-align:left;white-space:pre\">NULL</td><td style=\"text-align:left;white-space:pre\">utf8_general_ci</td><td style=\"text-align:left;white-space:pre\">NULL</td><td style=\"text-align:left;white-space:pre\">max_rows=4171</td><td style=\"text-align:left;white-space:pre\"></td><td style=\"text-align:left;white-space:pre\">0</td><td style=\"text-align:left;white-space:pre\">Y</td></tr><tr><td style=\"text-align:left;white-space:pre\">def</td><td style=\"text-align:left;white-space:pre\">information_schema</td><td style=\"text-align:left;white-space:pre\">GLOBAL_STATUS</td><td style=\"text-align:left;white-space:pre\">SYSTEM VIEW</td><td style=\"text-align:left;white-space:pre\">MEMORY</td><td style=\"text-align:left;white-space:pre\">11</td><td style=\"text-align:left;white-space:pre\">Fixed</td><td style=\"text-align:left;white-space:pre\">NULL</td><td style=\"text-align:left;white-space:pre\">6340</td><td style=\"text-align:left;white-space:pre\">0</td><td style=\"text-align:left;white-space:pre\">16762960</td><td style=\"text-align:left;white-space:pre\">0</td><td style=\"text-align:left;white-space:pre\">0</td><td style=\"text-align:left;white-space:pre\">NULL</td><td style=\"text-align:left;white-space:pre\">2021-07-09 22:09:33</td><td style=\"text-align:left;white-space:pre\">NULL</td><td style=\"text-align:left;white-space:pre\">NULL</td><td style=\"text-align:left;white-space:pre\">utf8_general_ci</td><td style=\"text-align:left;white-space:pre\">NULL</td><td style=\"text-align:left;white-space:pre\">max_rows=2646</td><td style=\"text-align:left;white-space:pre\"></td><td style=\"text-align:left;white-space:pre\">0</td><td style=\"text-align:left;white-space:pre\">Y</td></tr><tr><td style=\"text-align:left;white-space:pre\">def</td><td style=\"text-align:left;white-space:pre\">information_schema</td><td style=\"text-align:left;white-space:pre\">GLOBAL_VARIABLES</td><td style=\"text-align:left;white-space:pre\">SYSTEM VIEW</td><td style=\"text-align:left;white-space:pre\">MEMORY</td><td style=\"text-align:left;white-space:pre\">11</td><td style=\"text-align:left;white-space:pre\">Fixed</td><td style=\"text-align:left;white-space:pre\">NULL</td><td style=\"text-align:left;white-space:pre\">6340</td><td style=\"text-align:left;white-space:pre\">0</td><td style=\"text-align:left;white-space:pre\">16762960</td><td style=\"text-align:left;white-space:pre\">0</td><td style=\"text-align:left;white-space:pre\">0</td><td style=\"text-align:left;white-space:pre\">NULL</td><td style=\"text-align:left;white-space:pre\">2021-07-09 22:09:33</td><td style=\"text-align:left;white-space:pre\">NULL</td><td style=\"text-align:left;white-space:pre\">NULL</td><td style=\"text-align:left;white-space:pre\">utf8_general_ci</td><td style=\"text-align:left;white-space:pre\">NULL</td><td style=\"text-align:left;white-space:pre\">max_rows=2646</td><td style=\"text-align:left;white-space:pre\"></td><td style=\"text-align:left;white-space:pre\">0</td><td style=\"text-align:left;white-space:pre\">Y</td></tr><tr><td style=\"text-align:left;white-space:pre\">def</td><td style=\"text-align:left;white-space:pre\">information_schema</td><td style=\"text-align:left;white-space:pre\">KEY_CACHES</td><td style=\"text-align:left;white-space:pre\">SYSTEM VIEW</td><td style=\"text-align:left;white-space:pre\">MEMORY</td><td style=\"text-align:left;white-space:pre\">11</td><td style=\"text-align:left;white-space:pre\">Fixed</td><td style=\"text-align:left;white-space:pre\">NULL</td><td style=\"text-align:left;white-space:pre\">659</td><td style=\"text-align:left;white-space:pre\">0</td><td style=\"text-align:left;white-space:pre\">16650294</td><td style=\"text-align:left;white-space:pre\">0</td><td style=\"text-align:left;white-space:pre\">0</td><td style=\"text-align:left;white-space:pre\">NULL</td><td style=\"text-align:left;white-space:pre\">2021-07-09 22:09:33</td><td style=\"text-align:left;white-space:pre\">NULL</td><td style=\"text-align:left;white-space:pre\">NULL</td><td style=\"text-align:left;white-space:pre\">utf8_general_ci</td><td style=\"text-align:left;white-space:pre\">NULL</td><td style=\"text-align:left;white-space:pre\">max_rows=25458</td><td style=\"text-align:left;white-space:pre\"></td><td style=\"text-align:left;white-space:pre\">0</td><td style=\"text-align:left;white-space:pre\">Y</td></tr><tr><td style=\"text-align:left;white-space:pre\">def</td><td style=\"text-align:left;white-space:pre\">information_schema</td><td style=\"text-align:left;white-space:pre\">KEY_COLUMN_USAGE</td><td style=\"text-align:left;white-space:pre\">SYSTEM VIEW</td><td style=\"text-align:left;white-space:pre\">MEMORY</td><td style=\"text-align:left;white-space:pre\">11</td><td style=\"text-align:left;white-space:pre\">Fixed</td><td style=\"text-align:left;white-space:pre\">NULL</td><td style=\"text-align:left;white-space:pre\">4637</td><td style=\"text-align:left;white-space:pre\">0</td><td style=\"text-align:left;white-space:pre\">16762755</td><td style=\"text-align:left;white-space:pre\">0</td><td style=\"text-align:left;white-space:pre\">0</td><td style=\"text-align:left;white-space:pre\">NULL</td><td style=\"text-align:left;white-space:pre\">2021-07-09 22:09:33</td><td style=\"text-align:left;white-space:pre\">NULL</td><td style=\"text-align:left;white-space:pre\">NULL</td><td style=\"text-align:left;white-space:pre\">utf8_general_ci</td><td style=\"text-align:left;white-space:pre\">NULL</td><td style=\"text-align:left;white-space:pre\">max_rows=3618</td><td style=\"text-align:left;white-space:pre\"></td><td style=\"text-align:left;white-space:pre\">0</td><td style=\"text-align:left;white-space:pre\">Y</td></tr><tr><td style=\"text-align:left;white-space:pre\">def</td><td style=\"text-align:left;white-space:pre\">information_schema</td><td style=\"text-align:left;white-space:pre\">OPTIMIZER_TRACE</td><td style=\"text-align:left;white-space:pre\">SYSTEM VIEW</td><td style=\"text-align:left;white-space:pre\">Aria</td><td style=\"text-align:left;white-space:pre\">11</td><td style=\"text-align:left;white-space:pre\">Page</td><td style=\"text-align:left;white-space:pre\">NULL</td><td style=\"text-align:left;white-space:pre\">0</td><td style=\"text-align:left;white-space:pre\">8192</td><td style=\"text-align:left;white-space:pre\">4503599627288576</td><td style=\"text-align:left;white-space:pre\">8192</td><td style=\"text-align:left;white-space:pre\">0</td><td style=\"text-align:left;white-space:pre\">NULL</td><td style=\"text-align:left;white-space:pre\">2021-07-09 22:09:33</td><td style=\"text-align:left;white-space:pre\">2021-07-09 22:09:33</td><td style=\"text-align:left;white-space:pre\">NULL</td><td style=\"text-align:left;white-space:pre\">utf8_general_ci</td><td style=\"text-align:left;white-space:pre\">NULL</td><td style=\"text-align:left;white-space:pre\">max_rows=578524</td><td style=\"text-align:left;white-space:pre\"></td><td style=\"text-align:left;white-space:pre\">137438945280</td><td style=\"text-align:left;white-space:pre\">Y</td></tr><tr><td style=\"text-align:left;white-space:pre\">def</td><td style=\"text-align:left;white-space:pre\">information_schema</td><td style=\"text-align:left;white-space:pre\">PARAMETERS</td><td style=\"text-align:left;white-space:pre\">SYSTEM VIEW</td><td style=\"text-align:left;white-space:pre\">Aria</td><td style=\"text-align:left;white-space:pre\">11</td><td style=\"text-align:left;white-space:pre\">Page</td><td style=\"text-align:left;white-space:pre\">NULL</td><td style=\"text-align:left;white-space:pre\">0</td><td style=\"text-align:left;white-space:pre\">8192</td><td style=\"text-align:left;white-space:pre\">4503599627288576</td><td style=\"text-align:left;white-space:pre\">8192</td><td style=\"text-align:left;white-space:pre\">0</td><td style=\"text-align:left;white-space:pre\">NULL</td><td style=\"text-align:left;white-space:pre\">2021-07-09 22:09:33</td><td style=\"text-align:left;white-space:pre\">2021-07-09 22:09:33</td><td style=\"text-align:left;white-space:pre\">NULL</td><td style=\"text-align:left;white-space:pre\">utf8_general_ci</td><td style=\"text-align:left;white-space:pre\">NULL</td><td style=\"text-align:left;white-space:pre\">max_rows=6030</td><td style=\"text-align:left;white-space:pre\"></td><td style=\"text-align:left;white-space:pre\">137438945280</td><td style=\"text-align:left;white-space:pre\">Y</td></tr><tr><td style=\"text-align:left;white-space:pre\">def</td><td style=\"text-align:left;white-space:pre\">information_schema</td><td style=\"text-align:left;white-space:pre\">PARTITIONS</td><td style=\"text-align:left;white-space:pre\">SYSTEM VIEW</td><td style=\"text-align:left;white-space:pre\">Aria</td><td style=\"text-align:left;white-space:pre\">11</td><td style=\"text-align:left;white-space:pre\">Page</td><td style=\"text-align:left;white-space:pre\">NULL</td><td style=\"text-align:left;white-space:pre\">0</td><td style=\"text-align:left;white-space:pre\">8192</td><td style=\"text-align:left;white-space:pre\">4503599627288576</td><td style=\"text-align:left;white-space:pre\">8192</td><td style=\"text-align:left;white-space:pre\">0</td><td style=\"text-align:left;white-space:pre\">NULL</td><td style=\"text-align:left;white-space:pre\">2021-07-09 22:09:33</td><td style=\"text-align:left;white-space:pre\">2021-07-09 22:09:33</td><td style=\"text-align:left;white-space:pre\">NULL</td><td style=\"text-align:left;white-space:pre\">utf8_general_ci</td><td style=\"text-align:left;white-space:pre\">NULL</td><td style=\"text-align:left;white-space:pre\">max_rows=5579</td><td style=\"text-align:left;white-space:pre\"></td><td style=\"text-align:left;white-space:pre\">137438945280</td><td style=\"text-align:left;white-space:pre\">Y</td></tr><tr><td style=\"text-align:left;white-space:pre\">def</td><td style=\"text-align:left;white-space:pre\">information_schema</td><td style=\"text-align:left;white-space:pre\">PLUGINS</td><td style=\"text-align:left;white-space:pre\">SYSTEM VIEW</td><td style=\"text-align:left;white-space:pre\">Aria</td><td style=\"text-align:left;white-space:pre\">11</td><td style=\"text-align:left;white-space:pre\">Page</td><td style=\"text-align:left;white-space:pre\">NULL</td><td style=\"text-align:left;white-space:pre\">0</td><td style=\"text-align:left;white-space:pre\">8192</td><td style=\"text-align:left;white-space:pre\">4503599627288576</td><td style=\"text-align:left;white-space:pre\">8192</td><td style=\"text-align:left;white-space:pre\">0</td><td style=\"text-align:left;white-space:pre\">NULL</td><td style=\"text-align:left;white-space:pre\">2021-07-09 22:09:33</td><td style=\"text-align:left;white-space:pre\">2021-07-09 22:09:33</td><td style=\"text-align:left;white-space:pre\">NULL</td><td style=\"text-align:left;white-space:pre\">utf8_general_ci</td><td style=\"text-align:left;white-space:pre\">NULL</td><td style=\"text-align:left;white-space:pre\">max_rows=9441</td><td style=\"text-align:left;white-space:pre\"></td><td style=\"text-align:left;white-space:pre\">137438945280</td><td style=\"text-align:left;white-space:pre\">Y</td></tr><tr><td style=\"text-align:left;white-space:pre\">def</td><td style=\"text-align:left;white-space:pre\">information_schema</td><td style=\"text-align:left;white-space:pre\">PROCESSLIST</td><td style=\"text-align:left;white-space:pre\">SYSTEM VIEW</td><td style=\"text-align:left;white-space:pre\">Aria</td><td style=\"text-align:left;white-space:pre\">11</td><td style=\"text-align:left;white-space:pre\">Page</td><td style=\"text-align:left;white-space:pre\">NULL</td><td style=\"text-align:left;white-space:pre\">0</td><td style=\"text-align:left;white-space:pre\">8192</td><td style=\"text-align:left;white-space:pre\">4503599627288576</td><td style=\"text-align:left;white-space:pre\">8192</td><td style=\"text-align:left;white-space:pre\">0</td><td style=\"text-align:left;white-space:pre\">NULL</td><td style=\"text-align:left;white-space:pre\">2021-07-09 22:09:33</td><td style=\"text-align:left;white-space:pre\">2021-07-09 22:09:33</td><td style=\"text-align:left;white-space:pre\">NULL</td><td style=\"text-align:left;white-space:pre\">utf8_general_ci</td><td style=\"text-align:left;white-space:pre\">NULL</td><td style=\"text-align:left;white-space:pre\">max_rows=15224</td><td style=\"text-align:left;white-space:pre\"></td><td style=\"text-align:left;white-space:pre\">137438945280</td><td style=\"text-align:left;white-space:pre\">Y</td></tr><tr><td style=\"text-align:left;white-space:pre\">def</td><td style=\"text-align:left;white-space:pre\">information_schema</td><td style=\"text-align:left;white-space:pre\">PROFILING</td><td style=\"text-align:left;white-space:pre\">SYSTEM VIEW</td><td style=\"text-align:left;white-space:pre\">MEMORY</td><td style=\"text-align:left;white-space:pre\">11</td><td style=\"text-align:left;white-space:pre\">Fixed</td><td style=\"text-align:left;white-space:pre\">NULL</td><td style=\"text-align:left;white-space:pre\">308</td><td style=\"text-align:left;white-space:pre\">0</td><td style=\"text-align:left;white-space:pre\">16562084</td><td style=\"text-align:left;white-space:pre\">0</td><td style=\"text-align:left;white-space:pre\">0</td><td style=\"text-align:left;white-space:pre\">NULL</td><td style=\"text-align:left;white-space:pre\">2021-07-09 22:09:33</td><td style=\"text-align:left;white-space:pre\">NULL</td><td style=\"text-align:left;white-space:pre\">NULL</td><td style=\"text-align:left;white-space:pre\">utf8_general_ci</td><td style=\"text-align:left;white-space:pre\">NULL</td><td style=\"text-align:left;white-space:pre\">max_rows=54471</td><td style=\"text-align:left;white-space:pre\"></td><td style=\"text-align:left;white-space:pre\">0</td><td style=\"text-align:left;white-space:pre\">Y</td></tr><tr><td style=\"text-align:left;white-space:pre\">def</td><td style=\"text-align:left;white-space:pre\">information_schema</td><td style=\"text-align:left;white-space:pre\">REFERENTIAL_CONSTRAINTS</td><td style=\"text-align:left;white-space:pre\">SYSTEM VIEW</td><td style=\"text-align:left;white-space:pre\">MEMORY</td><td style=\"text-align:left;white-space:pre\">11</td><td style=\"text-align:left;white-space:pre\">Fixed</td><td style=\"text-align:left;white-space:pre\">NULL</td><td style=\"text-align:left;white-space:pre\">4814</td><td style=\"text-align:left;white-space:pre\">0</td><td style=\"text-align:left;white-space:pre\">16767162</td><td style=\"text-align:left;white-space:pre\">0</td><td style=\"text-align:left;white-space:pre\">0</td><td style=\"text-align:left;white-space:pre\">NULL</td><td style=\"text-align:left;white-space:pre\">2021-07-09 22:09:33</td><td style=\"text-align:left;white-space:pre\">NULL</td><td style=\"text-align:left;white-space:pre\">NULL</td><td style=\"text-align:left;white-space:pre\">utf8_general_ci</td><td style=\"text-align:left;white-space:pre\">NULL</td><td style=\"text-align:left;white-space:pre\">max_rows=3485</td><td style=\"text-align:left;white-space:pre\"></td><td style=\"text-align:left;white-space:pre\">0</td><td style=\"text-align:left;white-space:pre\">Y</td></tr><tr><td style=\"text-align:left;white-space:pre\">def</td><td style=\"text-align:left;white-space:pre\">information_schema</td><td style=\"text-align:left;white-space:pre\">ROUTINES</td><td style=\"text-align:left;white-space:pre\">SYSTEM VIEW</td><td style=\"text-align:left;white-space:pre\">Aria</td><td style=\"text-align:left;white-space:pre\">11</td><td style=\"text-align:left;white-space:pre\">Page</td><td style=\"text-align:left;white-space:pre\">NULL</td><td style=\"text-align:left;white-space:pre\">0</td><td style=\"text-align:left;white-space:pre\">8192</td><td style=\"text-align:left;white-space:pre\">4503599627288576</td><td style=\"text-align:left;white-space:pre\">8192</td><td style=\"text-align:left;white-space:pre\">0</td><td style=\"text-align:left;white-space:pre\">NULL</td><td style=\"text-align:left;white-space:pre\">2021-07-09 22:09:33</td><td style=\"text-align:left;white-space:pre\">2021-07-09 22:09:33</td><td style=\"text-align:left;white-space:pre\">NULL</td><td style=\"text-align:left;white-space:pre\">utf8_general_ci</td><td style=\"text-align:left;white-space:pre\">NULL</td><td style=\"text-align:left;white-space:pre\">max_rows=576</td><td style=\"text-align:left;white-space:pre\"></td><td style=\"text-align:left;white-space:pre\">137438945280</td><td style=\"text-align:left;white-space:pre\">Y</td></tr><tr><td style=\"text-align:left;white-space:pre\">def</td><td style=\"text-align:left;white-space:pre\">information_schema</td><td style=\"text-align:left;white-space:pre\">SCHEMATA</td><td style=\"text-align:left;white-space:pre\">SYSTEM VIEW</td><td style=\"text-align:left;white-space:pre\">MEMORY</td><td style=\"text-align:left;white-space:pre\">11</td><td style=\"text-align:left;white-space:pre\">Fixed</td><td style=\"text-align:left;white-space:pre\">NULL</td><td style=\"text-align:left;white-space:pre\">3464</td><td style=\"text-align:left;white-space:pre\">0</td><td style=\"text-align:left;white-space:pre\">16738048</td><td style=\"text-align:left;white-space:pre\">0</td><td style=\"text-align:left;white-space:pre\">0</td><td style=\"text-align:left;white-space:pre\">NULL</td><td style=\"text-align:left;white-space:pre\">2021-07-09 22:09:33</td><td style=\"text-align:left;white-space:pre\">NULL</td><td style=\"text-align:left;white-space:pre\">NULL</td><td style=\"text-align:left;white-space:pre\">utf8_general_ci</td><td style=\"text-align:left;white-space:pre\">NULL</td><td style=\"text-align:left;white-space:pre\">max_rows=4843</td><td style=\"text-align:left;white-space:pre\"></td><td style=\"text-align:left;white-space:pre\">0</td><td style=\"text-align:left;white-space:pre\">Y</td></tr><tr><td style=\"text-align:left;white-space:pre\">def</td><td style=\"text-align:left;white-space:pre\">information_schema</td><td style=\"text-align:left;white-space:pre\">SCHEMA_PRIVILEGES</td><td style=\"text-align:left;white-space:pre\">SYSTEM VIEW</td><td style=\"text-align:left;white-space:pre\">MEMORY</td><td style=\"text-align:left;white-space:pre\">11</td><td style=\"text-align:left;white-space:pre\">Fixed</td><td style=\"text-align:left;white-space:pre\">NULL</td><td style=\"text-align:left;white-space:pre\">2507</td><td style=\"text-align:left;white-space:pre\">0</td><td style=\"text-align:left;white-space:pre\">16741746</td><td style=\"text-align:left;white-space:pre\">0</td><td style=\"text-align:left;white-space:pre\">0</td><td style=\"text-align:left;white-space:pre\">NULL</td><td style=\"text-align:left;white-space:pre\">2021-07-09 22:09:33</td><td style=\"text-align:left;white-space:pre\">NULL</td><td style=\"text-align:left;white-space:pre\">NULL</td><td style=\"text-align:left;white-space:pre\">utf8_general_ci</td><td style=\"text-align:left;white-space:pre\">NULL</td><td style=\"text-align:left;white-space:pre\">max_rows=6692</td><td style=\"text-align:left;white-space:pre\"></td><td style=\"text-align:left;white-space:pre\">0</td><td style=\"text-align:left;white-space:pre\">Y</td></tr><tr><td style=\"text-align:left;white-space:pre\">def</td><td style=\"text-align:left;white-space:pre\">information_schema</td><td style=\"text-align:left;white-space:pre\">SESSION_STATUS</td><td style=\"text-align:left;white-space:pre\">SYSTEM VIEW</td><td style=\"text-align:left;white-space:pre\">MEMORY</td><td style=\"text-align:left;white-space:pre\">11</td><td style=\"text-align:left;white-space:pre\">Fixed</td><td style=\"text-align:left;white-space:pre\">NULL</td><td style=\"text-align:left;white-space:pre\">6340</td><td style=\"text-align:left;white-space:pre\">0</td><td style=\"text-align:left;white-space:pre\">16762960</td><td style=\"text-align:left;white-space:pre\">0</td><td style=\"text-align:left;white-space:pre\">0</td><td style=\"text-align:left;white-space:pre\">NULL</td><td style=\"text-align:left;white-space:pre\">2021-07-09 22:09:33</td><td style=\"text-align:left;white-space:pre\">NULL</td><td style=\"text-align:left;white-space:pre\">NULL</td><td style=\"text-align:left;white-space:pre\">utf8_general_ci</td><td style=\"text-align:left;white-space:pre\">NULL</td><td style=\"text-align:left;white-space:pre\">max_rows=2646</td><td style=\"text-align:left;white-space:pre\"></td><td style=\"text-align:left;white-space:pre\">0</td><td style=\"text-align:left;white-space:pre\">Y</td></tr><tr><td style=\"text-align:left;white-space:pre\">def</td><td style=\"text-align:left;white-space:pre\">information_schema</td><td style=\"text-align:left;white-space:pre\">SESSION_VARIABLES</td><td style=\"text-align:left;white-space:pre\">SYSTEM VIEW</td><td style=\"text-align:left;white-space:pre\">MEMORY</td><td style=\"text-align:left;white-space:pre\">11</td><td style=\"text-align:left;white-space:pre\">Fixed</td><td style=\"text-align:left;white-space:pre\">NULL</td><td style=\"text-align:left;white-space:pre\">6340</td><td style=\"text-align:left;white-space:pre\">0</td><td style=\"text-align:left;white-space:pre\">16762960</td><td style=\"text-align:left;white-space:pre\">0</td><td style=\"text-align:left;white-space:pre\">0</td><td style=\"text-align:left;white-space:pre\">NULL</td><td style=\"text-align:left;white-space:pre\">2021-07-09 22:09:33</td><td style=\"text-align:left;white-space:pre\">NULL</td><td style=\"text-align:left;white-space:pre\">NULL</td><td style=\"text-align:left;white-space:pre\">utf8_general_ci</td><td style=\"text-align:left;white-space:pre\">NULL</td><td style=\"text-align:left;white-space:pre\">max_rows=2646</td><td style=\"text-align:left;white-space:pre\"></td><td style=\"text-align:left;white-space:pre\">0</td><td style=\"text-align:left;white-space:pre\">Y</td></tr><tr><td style=\"text-align:left;white-space:pre\">def</td><td style=\"text-align:left;white-space:pre\">information_schema</td><td style=\"text-align:left;white-space:pre\">STATISTICS</td><td style=\"text-align:left;white-space:pre\">SYSTEM VIEW</td><td style=\"text-align:left;white-space:pre\">MEMORY</td><td style=\"text-align:left;white-space:pre\">11</td><td style=\"text-align:left;white-space:pre\">Fixed</td><td style=\"text-align:left;white-space:pre\">NULL</td><td style=\"text-align:left;white-space:pre\">5753</td><td style=\"text-align:left;white-space:pre\">0</td><td style=\"text-align:left;white-space:pre\">16752736</td><td style=\"text-align:left;white-space:pre\">0</td><td style=\"text-align:left;white-space:pre\">0</td><td style=\"text-align:left;white-space:pre\">NULL</td><td style=\"text-align:left;white-space:pre\">2021-07-09 22:09:33</td><td style=\"text-align:left;white-space:pre\">NULL</td><td style=\"text-align:left;white-space:pre\">NULL</td><td style=\"text-align:left;white-space:pre\">utf8_general_ci</td><td style=\"text-align:left;white-space:pre\">NULL</td><td style=\"text-align:left;white-space:pre\">max_rows=2916</td><td style=\"text-align:left;white-space:pre\"></td><td style=\"text-align:left;white-space:pre\">0</td><td style=\"text-align:left;white-space:pre\">Y</td></tr><tr><td style=\"text-align:left;white-space:pre\">def</td><td style=\"text-align:left;white-space:pre\">information_schema</td><td style=\"text-align:left;white-space:pre\">SYSTEM_VARIABLES</td><td style=\"text-align:left;white-space:pre\">SYSTEM VIEW</td><td style=\"text-align:left;white-space:pre\">Aria</td><td style=\"text-align:left;white-space:pre\">11</td><td style=\"text-align:left;white-space:pre\">Page</td><td style=\"text-align:left;white-space:pre\">NULL</td><td style=\"text-align:left;white-space:pre\">0</td><td style=\"text-align:left;white-space:pre\">8192</td><td style=\"text-align:left;white-space:pre\">4503599627288576</td><td style=\"text-align:left;white-space:pre\">8192</td><td style=\"text-align:left;white-space:pre\">0</td><td style=\"text-align:left;white-space:pre\">NULL</td><td style=\"text-align:left;white-space:pre\">2021-07-09 22:09:33</td><td style=\"text-align:left;white-space:pre\">2021-07-09 22:09:33</td><td style=\"text-align:left;white-space:pre\">NULL</td><td style=\"text-align:left;white-space:pre\">utf8_general_ci</td><td style=\"text-align:left;white-space:pre\">NULL</td><td style=\"text-align:left;white-space:pre\">max_rows=651</td><td style=\"text-align:left;white-space:pre\"></td><td style=\"text-align:left;white-space:pre\">137438945280</td><td style=\"text-align:left;white-space:pre\">Y</td></tr><tr><td style=\"text-align:left;white-space:pre\">def</td><td style=\"text-align:left;white-space:pre\">information_schema</td><td style=\"text-align:left;white-space:pre\">TABLES</td><td style=\"text-align:left;white-space:pre\">SYSTEM VIEW</td><td style=\"text-align:left;white-space:pre\">MEMORY</td><td style=\"text-align:left;white-space:pre\">11</td><td style=\"text-align:left;white-space:pre\">Fixed</td><td style=\"text-align:left;white-space:pre\">NULL</td><td style=\"text-align:left;white-space:pre\">14841</td><td style=\"text-align:left;white-space:pre\">0</td><td style=\"text-align:left;white-space:pre\">16755489</td><td style=\"text-align:left;white-space:pre\">0</td><td style=\"text-align:left;white-space:pre\">0</td><td style=\"text-align:left;white-space:pre\">NULL</td><td style=\"text-align:left;white-space:pre\">2021-07-09 22:09:33</td><td style=\"text-align:left;white-space:pre\">NULL</td><td style=\"text-align:left;white-space:pre\">NULL</td><td style=\"text-align:left;white-space:pre\">utf8_general_ci</td><td style=\"text-align:left;white-space:pre\">NULL</td><td style=\"text-align:left;white-space:pre\">max_rows=1130</td><td style=\"text-align:left;white-space:pre\"></td><td style=\"text-align:left;white-space:pre\">0</td><td style=\"text-align:left;white-space:pre\">Y</td></tr><tr><td style=\"text-align:left;white-space:pre\">def</td><td style=\"text-align:left;white-space:pre\">information_schema</td><td style=\"text-align:left;white-space:pre\">TABLESPACES</td><td style=\"text-align:left;white-space:pre\">SYSTEM VIEW</td><td style=\"text-align:left;white-space:pre\">MEMORY</td><td style=\"text-align:left;white-space:pre\">11</td><td style=\"text-align:left;white-space:pre\">Fixed</td><td style=\"text-align:left;white-space:pre\">NULL</td><td style=\"text-align:left;white-space:pre\">6951</td><td style=\"text-align:left;white-space:pre\">0</td><td style=\"text-align:left;white-space:pre\">16772763</td><td style=\"text-align:left;white-space:pre\">0</td><td style=\"text-align:left;white-space:pre\">0</td><td style=\"text-align:left;white-space:pre\">NULL</td><td style=\"text-align:left;white-space:pre\">2021-07-09 22:09:33</td><td style=\"text-align:left;white-space:pre\">NULL</td><td style=\"text-align:left;white-space:pre\">NULL</td><td style=\"text-align:left;white-space:pre\">utf8_general_ci</td><td style=\"text-align:left;white-space:pre\">NULL</td><td style=\"text-align:left;white-space:pre\">max_rows=2413</td><td style=\"text-align:left;white-space:pre\"></td><td style=\"text-align:left;white-space:pre\">0</td><td style=\"text-align:left;white-space:pre\">Y</td></tr><tr><td style=\"text-align:left;white-space:pre\">def</td><td style=\"text-align:left;white-space:pre\">information_schema</td><td style=\"text-align:left;white-space:pre\">TABLE_CONSTRAINTS</td><td style=\"text-align:left;white-space:pre\">SYSTEM VIEW</td><td style=\"text-align:left;white-space:pre\">MEMORY</td><td style=\"text-align:left;white-space:pre\">11</td><td style=\"text-align:left;white-space:pre\">Fixed</td><td style=\"text-align:left;white-space:pre\">NULL</td><td style=\"text-align:left;white-space:pre\">2504</td><td style=\"text-align:left;white-space:pre\">0</td><td style=\"text-align:left;white-space:pre\">16721712</td><td style=\"text-align:left;white-space:pre\">0</td><td style=\"text-align:left;white-space:pre\">0</td><td style=\"text-align:left;white-space:pre\">NULL</td><td style=\"text-align:left;white-space:pre\">2021-07-09 22:09:33</td><td style=\"text-align:left;white-space:pre\">NULL</td><td style=\"text-align:left;white-space:pre\">NULL</td><td style=\"text-align:left;white-space:pre\">utf8_general_ci</td><td style=\"text-align:left;white-space:pre\">NULL</td><td style=\"text-align:left;white-space:pre\">max_rows=6700</td><td style=\"text-align:left;white-space:pre\"></td><td style=\"text-align:left;white-space:pre\">0</td><td style=\"text-align:left;white-space:pre\">Y</td></tr><tr><td style=\"text-align:left;white-space:pre\">def</td><td style=\"text-align:left;white-space:pre\">information_schema</td><td style=\"text-align:left;white-space:pre\">TABLE_PRIVILEGES</td><td style=\"text-align:left;white-space:pre\">SYSTEM VIEW</td><td style=\"text-align:left;white-space:pre\">MEMORY</td><td style=\"text-align:left;white-space:pre\">11</td><td style=\"text-align:left;white-space:pre\">Fixed</td><td style=\"text-align:left;white-space:pre\">NULL</td><td style=\"text-align:left;white-space:pre\">2700</td><td style=\"text-align:left;white-space:pre\">0</td><td style=\"text-align:left;white-space:pre\">16750800</td><td style=\"text-align:left;white-space:pre\">0</td><td style=\"text-align:left;white-space:pre\">0</td><td style=\"text-align:left;white-space:pre\">NULL</td><td style=\"text-align:left;white-space:pre\">2021-07-09 22:09:33</td><td style=\"text-align:left;white-space:pre\">NULL</td><td style=\"text-align:left;white-space:pre\">NULL</td><td style=\"text-align:left;white-space:pre\">utf8_general_ci</td><td style=\"text-align:left;white-space:pre\">NULL</td><td style=\"text-align:left;white-space:pre\">max_rows=6213</td><td style=\"text-align:left;white-space:pre\"></td><td style=\"text-align:left;white-space:pre\">0</td><td style=\"text-align:left;white-space:pre\">Y</td></tr><tr><td style=\"text-align:left;white-space:pre\">def</td><td style=\"text-align:left;white-space:pre\">information_schema</td><td style=\"text-align:left;white-space:pre\">TRIGGERS</td><td style=\"text-align:left;white-space:pre\">SYSTEM VIEW</td><td style=\"text-align:left;white-space:pre\">Aria</td><td style=\"text-align:left;white-space:pre\">11</td><td style=\"text-align:left;white-space:pre\">Page</td><td style=\"text-align:left;white-space:pre\">NULL</td><td style=\"text-align:left;white-space:pre\">0</td><td style=\"text-align:left;white-space:pre\">8192</td><td style=\"text-align:left;white-space:pre\">4503599627288576</td><td style=\"text-align:left;white-space:pre\">8192</td><td style=\"text-align:left;white-space:pre\">0</td><td style=\"text-align:left;white-space:pre\">NULL</td><td style=\"text-align:left;white-space:pre\">2021-07-09 22:09:33</td><td style=\"text-align:left;white-space:pre\">2021-07-09 22:09:33</td><td style=\"text-align:left;white-space:pre\">NULL</td><td style=\"text-align:left;white-space:pre\">utf8_general_ci</td><td style=\"text-align:left;white-space:pre\">NULL</td><td style=\"text-align:left;white-space:pre\">max_rows=563</td><td style=\"text-align:left;white-space:pre\"></td><td style=\"text-align:left;white-space:pre\">137438945280</td><td style=\"text-align:left;white-space:pre\">Y</td></tr><tr><td style=\"text-align:left;white-space:pre\">def</td><td style=\"text-align:left;white-space:pre\">information_schema</td><td style=\"text-align:left;white-space:pre\">USER_PRIVILEGES</td><td style=\"text-align:left;white-space:pre\">SYSTEM VIEW</td><td style=\"text-align:left;white-space:pre\">MEMORY</td><td style=\"text-align:left;white-space:pre\">11</td><td style=\"text-align:left;white-space:pre\">Fixed</td><td style=\"text-align:left;white-space:pre\">NULL</td><td style=\"text-align:left;white-space:pre\">2314</td><td style=\"text-align:left;white-space:pre\">0</td><td style=\"text-align:left;white-space:pre\">16732534</td><td style=\"text-align:left;white-space:pre\">0</td><td style=\"text-align:left;white-space:pre\">0</td><td style=\"text-align:left;white-space:pre\">NULL</td><td style=\"text-align:left;white-space:pre\">2021-07-09 22:09:33</td><td style=\"text-align:left;white-space:pre\">NULL</td><td style=\"text-align:left;white-space:pre\">NULL</td><td style=\"text-align:left;white-space:pre\">utf8_general_ci</td><td style=\"text-align:left;white-space:pre\">NULL</td><td style=\"text-align:left;white-space:pre\">max_rows=7250</td><td style=\"text-align:left;white-space:pre\"></td><td style=\"text-align:left;white-space:pre\">0</td><td style=\"text-align:left;white-space:pre\">Y</td></tr><tr><td style=\"text-align:left;white-space:pre\">def</td><td style=\"text-align:left;white-space:pre\">information_schema</td><td style=\"text-align:left;white-space:pre\">VIEWS</td><td style=\"text-align:left;white-space:pre\">SYSTEM VIEW</td><td style=\"text-align:left;white-space:pre\">Aria</td><td style=\"text-align:left;white-space:pre\">11</td><td style=\"text-align:left;white-space:pre\">Page</td><td style=\"text-align:left;white-space:pre\">NULL</td><td style=\"text-align:left;white-space:pre\">0</td><td style=\"text-align:left;white-space:pre\">8192</td><td style=\"text-align:left;white-space:pre\">4503599627288576</td><td style=\"text-align:left;white-space:pre\">8192</td><td style=\"text-align:left;white-space:pre\">0</td><td style=\"text-align:left;white-space:pre\">NULL</td><td style=\"text-align:left;white-space:pre\">2021-07-09 22:09:33</td><td style=\"text-align:left;white-space:pre\">2021-07-09 22:09:33</td><td style=\"text-align:left;white-space:pre\">NULL</td><td style=\"text-align:left;white-space:pre\">utf8_general_ci</td><td style=\"text-align:left;white-space:pre\">NULL</td><td style=\"text-align:left;white-space:pre\">max_rows=6019</td><td style=\"text-align:left;white-space:pre\"></td><td style=\"text-align:left;white-space:pre\">137438945280</td><td style=\"text-align:left;white-space:pre\">Y</td></tr><tr><td style=\"text-align:left;white-space:pre\">def</td><td style=\"text-align:left;white-space:pre\">information_schema</td><td style=\"text-align:left;white-space:pre\">GEOMETRY_COLUMNS</td><td style=\"text-align:left;white-space:pre\">SYSTEM VIEW</td><td style=\"text-align:left;white-space:pre\">MEMORY</td><td style=\"text-align:left;white-space:pre\">11</td><td style=\"text-align:left;white-space:pre\">Fixed</td><td style=\"text-align:left;white-space:pre\">NULL</td><td style=\"text-align:left;white-space:pre\">4244</td><td style=\"text-align:left;white-space:pre\">0</td><td style=\"text-align:left;white-space:pre\">16759556</td><td style=\"text-align:left;white-space:pre\">0</td><td style=\"text-align:left;white-space:pre\">0</td><td style=\"text-align:left;white-space:pre\">NULL</td><td style=\"text-align:left;white-space:pre\">2021-07-09 22:09:33</td><td style=\"text-align:left;white-space:pre\">NULL</td><td style=\"text-align:left;white-space:pre\">NULL</td><td style=\"text-align:left;white-space:pre\">utf8_general_ci</td><td style=\"text-align:left;white-space:pre\">NULL</td><td style=\"text-align:left;white-space:pre\">max_rows=3953</td><td style=\"text-align:left;white-space:pre\"></td><td style=\"text-align:left;white-space:pre\">0</td><td style=\"text-align:left;white-space:pre\">Y</td></tr><tr><td style=\"text-align:left;white-space:pre\">def</td><td style=\"text-align:left;white-space:pre\">information_schema</td><td style=\"text-align:left;white-space:pre\">SPATIAL_REF_SYS</td><td style=\"text-align:left;white-space:pre\">SYSTEM VIEW</td><td style=\"text-align:left;white-space:pre\">MEMORY</td><td style=\"text-align:left;white-space:pre\">11</td><td style=\"text-align:left;white-space:pre\">Fixed</td><td style=\"text-align:left;white-space:pre\">NULL</td><td style=\"text-align:left;white-space:pre\">7691</td><td style=\"text-align:left;white-space:pre\">0</td><td style=\"text-align:left;white-space:pre\">16758689</td><td style=\"text-align:left;white-space:pre\">0</td><td style=\"text-align:left;white-space:pre\">0</td><td style=\"text-align:left;white-space:pre\">NULL</td><td style=\"text-align:left;white-space:pre\">2021-07-09 22:09:33</td><td style=\"text-align:left;white-space:pre\">NULL</td><td style=\"text-align:left;white-space:pre\">NULL</td><td style=\"text-align:left;white-space:pre\">utf8_general_ci</td><td style=\"text-align:left;white-space:pre\">NULL</td><td style=\"text-align:left;white-space:pre\">max_rows=2181</td><td style=\"text-align:left;white-space:pre\"></td><td style=\"text-align:left;white-space:pre\">0</td><td style=\"text-align:left;white-space:pre\">Y</td></tr><tr><td style=\"text-align:left;white-space:pre\">def</td><td style=\"text-align:left;white-space:pre\">information_schema</td><td style=\"text-align:left;white-space:pre\">CLIENT_STATISTICS</td><td style=\"text-align:left;white-space:pre\">SYSTEM VIEW</td><td style=\"text-align:left;white-space:pre\">MEMORY</td><td style=\"text-align:left;white-space:pre\">11</td><td style=\"text-align:left;white-space:pre\">Fixed</td><td style=\"text-align:left;white-space:pre\">NULL</td><td style=\"text-align:left;white-space:pre\">386</td><td style=\"text-align:left;white-space:pre\">0</td><td style=\"text-align:left;white-space:pre\">16520414</td><td style=\"text-align:left;white-space:pre\">0</td><td style=\"text-align:left;white-space:pre\">0</td><td style=\"text-align:left;white-space:pre\">NULL</td><td style=\"text-align:left;white-space:pre\">2021-07-09 22:09:33</td><td style=\"text-align:left;white-space:pre\">NULL</td><td style=\"text-align:left;white-space:pre\">NULL</td><td style=\"text-align:left;white-space:pre\">utf8_general_ci</td><td style=\"text-align:left;white-space:pre\">NULL</td><td style=\"text-align:left;white-space:pre\">max_rows=43464</td><td style=\"text-align:left;white-space:pre\"></td><td style=\"text-align:left;white-space:pre\">0</td><td style=\"text-align:left;white-space:pre\">Y</td></tr><tr><td style=\"text-align:left;white-space:pre\">def</td><td style=\"text-align:left;white-space:pre\">information_schema</td><td style=\"text-align:left;white-space:pre\">INDEX_STATISTICS</td><td style=\"text-align:left;white-space:pre\">SYSTEM VIEW</td><td style=\"text-align:left;white-space:pre\">MEMORY</td><td style=\"text-align:left;white-space:pre\">11</td><td style=\"text-align:left;white-space:pre\">Fixed</td><td style=\"text-align:left;white-space:pre\">NULL</td><td style=\"text-align:left;white-space:pre\">1743</td><td style=\"text-align:left;white-space:pre\">0</td><td style=\"text-align:left;white-space:pre\">16765917</td><td style=\"text-align:left;white-space:pre\">0</td><td style=\"text-align:left;white-space:pre\">0</td><td style=\"text-align:left;white-space:pre\">NULL</td><td style=\"text-align:left;white-space:pre\">2021-07-09 22:09:33</td><td style=\"text-align:left;white-space:pre\">NULL</td><td style=\"text-align:left;white-space:pre\">NULL</td><td style=\"text-align:left;white-space:pre\">utf8_general_ci</td><td style=\"text-align:left;white-space:pre\">NULL</td><td style=\"text-align:left;white-space:pre\">max_rows=9625</td><td style=\"text-align:left;white-space:pre\"></td><td style=\"text-align:left;white-space:pre\">0</td><td style=\"text-align:left;white-space:pre\">Y</td></tr><tr><td style=\"text-align:left;white-space:pre\">def</td><td style=\"text-align:left;white-space:pre\">information_schema</td><td style=\"text-align:left;white-space:pre\">INNODB_SYS_DATAFILES</td><td style=\"text-align:left;white-space:pre\">SYSTEM VIEW</td><td style=\"text-align:left;white-space:pre\">MEMORY</td><td style=\"text-align:left;white-space:pre\">11</td><td style=\"text-align:left;white-space:pre\">Fixed</td><td style=\"text-align:left;white-space:pre\">NULL</td><td style=\"text-align:left;white-space:pre\">12007</td><td style=\"text-align:left;white-space:pre\">0</td><td style=\"text-align:left;white-space:pre\">16773779</td><td style=\"text-align:left;white-space:pre\">0</td><td style=\"text-align:left;white-space:pre\">0</td><td style=\"text-align:left;white-space:pre\">NULL</td><td style=\"text-align:left;white-space:pre\">2021-07-09 22:09:33</td><td style=\"text-align:left;white-space:pre\">NULL</td><td style=\"text-align:left;white-space:pre\">NULL</td><td style=\"text-align:left;white-space:pre\">utf8_general_ci</td><td style=\"text-align:left;white-space:pre\">NULL</td><td style=\"text-align:left;white-space:pre\">max_rows=1397</td><td style=\"text-align:left;white-space:pre\"></td><td style=\"text-align:left;white-space:pre\">0</td><td style=\"text-align:left;white-space:pre\">Y</td></tr><tr><td style=\"text-align:left;white-space:pre\">def</td><td style=\"text-align:left;white-space:pre\">information_schema</td><td style=\"text-align:left;white-space:pre\">USER_STATISTICS</td><td style=\"text-align:left;white-space:pre\">SYSTEM VIEW</td><td style=\"text-align:left;white-space:pre\">MEMORY</td><td style=\"text-align:left;white-space:pre\">11</td><td style=\"text-align:left;white-space:pre\">Fixed</td><td style=\"text-align:left;white-space:pre\">NULL</td><td style=\"text-align:left;white-space:pre\">567</td><td style=\"text-align:left;white-space:pre\">0</td><td style=\"text-align:left;white-space:pre\">16747479</td><td style=\"text-align:left;white-space:pre\">0</td><td style=\"text-align:left;white-space:pre\">0</td><td style=\"text-align:left;white-space:pre\">NULL</td><td style=\"text-align:left;white-space:pre\">2021-07-09 22:09:33</td><td style=\"text-align:left;white-space:pre\">NULL</td><td style=\"text-align:left;white-space:pre\">NULL</td><td style=\"text-align:left;white-space:pre\">utf8_general_ci</td><td style=\"text-align:left;white-space:pre\">NULL</td><td style=\"text-align:left;white-space:pre\">max_rows=29589</td><td style=\"text-align:left;white-space:pre\"></td><td style=\"text-align:left;white-space:pre\">0</td><td style=\"text-align:left;white-space:pre\">Y</td></tr><tr><td style=\"text-align:left;white-space:pre\">def</td><td style=\"text-align:left;white-space:pre\">information_schema</td><td style=\"text-align:left;white-space:pre\">INNODB_SYS_TABLESTATS</td><td style=\"text-align:left;white-space:pre\">SYSTEM VIEW</td><td style=\"text-align:left;white-space:pre\">MEMORY</td><td style=\"text-align:left;white-space:pre\">11</td><td style=\"text-align:left;white-space:pre\">Fixed</td><td style=\"text-align:left;white-space:pre\">NULL</td><td style=\"text-align:left;white-space:pre\">1215</td><td style=\"text-align:left;white-space:pre\">0</td><td style=\"text-align:left;white-space:pre\">16763355</td><td style=\"text-align:left;white-space:pre\">0</td><td style=\"text-align:left;white-space:pre\">0</td><td style=\"text-align:left;white-space:pre\">NULL</td><td style=\"text-align:left;white-space:pre\">2021-07-09 22:09:33</td><td style=\"text-align:left;white-space:pre\">NULL</td><td style=\"text-align:left;white-space:pre\">NULL</td><td style=\"text-align:left;white-space:pre\">utf8_general_ci</td><td style=\"text-align:left;white-space:pre\">NULL</td><td style=\"text-align:left;white-space:pre\">max_rows=13808</td><td style=\"text-align:left;white-space:pre\"></td><td style=\"text-align:left;white-space:pre\">0</td><td style=\"text-align:left;white-space:pre\">Y</td></tr><tr><td style=\"text-align:left;white-space:pre\">def</td><td style=\"text-align:left;white-space:pre\">information_schema</td><td style=\"text-align:left;white-space:pre\">INNODB_LOCKS</td><td style=\"text-align:left;white-space:pre\">SYSTEM VIEW</td><td style=\"text-align:left;white-space:pre\">MEMORY</td><td style=\"text-align:left;white-space:pre\">11</td><td style=\"text-align:left;white-space:pre\">Fixed</td><td style=\"text-align:left;white-space:pre\">NULL</td><td style=\"text-align:left;white-space:pre\">31244</td><td style=\"text-align:left;white-space:pre\">0</td><td style=\"text-align:left;white-space:pre\">16746784</td><td style=\"text-align:left;white-space:pre\">0</td><td style=\"text-align:left;white-space:pre\">0</td><td style=\"text-align:left;white-space:pre\">NULL</td><td style=\"text-align:left;white-space:pre\">2021-07-09 22:09:33</td><td style=\"text-align:left;white-space:pre\">NULL</td><td style=\"text-align:left;white-space:pre\">NULL</td><td style=\"text-align:left;white-space:pre\">utf8_general_ci</td><td style=\"text-align:left;white-space:pre\">NULL</td><td style=\"text-align:left;white-space:pre\">max_rows=536</td><td style=\"text-align:left;white-space:pre\"></td><td style=\"text-align:left;white-space:pre\">0</td><td style=\"text-align:left;white-space:pre\">Y</td></tr><tr><td style=\"text-align:left;white-space:pre\">def</td><td style=\"text-align:left;white-space:pre\">information_schema</td><td style=\"text-align:left;white-space:pre\">INNODB_MUTEXES</td><td style=\"text-align:left;white-space:pre\">SYSTEM VIEW</td><td style=\"text-align:left;white-space:pre\">MEMORY</td><td style=\"text-align:left;white-space:pre\">11</td><td style=\"text-align:left;white-space:pre\">Fixed</td><td style=\"text-align:left;white-space:pre\">NULL</td><td style=\"text-align:left;white-space:pre\">24017</td><td style=\"text-align:left;white-space:pre\">0</td><td style=\"text-align:left;white-space:pre\">16763866</td><td style=\"text-align:left;white-space:pre\">0</td><td style=\"text-align:left;white-space:pre\">0</td><td style=\"text-align:left;white-space:pre\">NULL</td><td style=\"text-align:left;white-space:pre\">2021-07-09 22:09:33</td><td style=\"text-align:left;white-space:pre\">NULL</td><td style=\"text-align:left;white-space:pre\">NULL</td><td style=\"text-align:left;white-space:pre\">utf8_general_ci</td><td style=\"text-align:left;white-space:pre\">NULL</td><td style=\"text-align:left;white-space:pre\">max_rows=698</td><td style=\"text-align:left;white-space:pre\"></td><td style=\"text-align:left;white-space:pre\">0</td><td style=\"text-align:left;white-space:pre\">Y</td></tr><tr><td style=\"text-align:left;white-space:pre\">def</td><td style=\"text-align:left;white-space:pre\">information_schema</td><td style=\"text-align:left;white-space:pre\">INNODB_CMPMEM</td><td style=\"text-align:left;white-space:pre\">SYSTEM VIEW</td><td style=\"text-align:left;white-space:pre\">MEMORY</td><td style=\"text-align:left;white-space:pre\">11</td><td style=\"text-align:left;white-space:pre\">Fixed</td><td style=\"text-align:left;white-space:pre\">NULL</td><td style=\"text-align:left;white-space:pre\">29</td><td style=\"text-align:left;white-space:pre\">0</td><td style=\"text-align:left;white-space:pre\">15204352</td><td style=\"text-align:left;white-space:pre\">0</td><td style=\"text-align:left;white-space:pre\">0</td><td style=\"text-align:left;white-space:pre\">NULL</td><td style=\"text-align:left;white-space:pre\">2021-07-09 22:09:33</td><td style=\"text-align:left;white-space:pre\">NULL</td><td style=\"text-align:left;white-space:pre\">NULL</td><td style=\"text-align:left;white-space:pre\">utf8_general_ci</td><td style=\"text-align:left;white-space:pre\">NULL</td><td style=\"text-align:left;white-space:pre\">max_rows=578524</td><td style=\"text-align:left;white-space:pre\"></td><td style=\"text-align:left;white-space:pre\">0</td><td style=\"text-align:left;white-space:pre\">Y</td></tr><tr><td style=\"text-align:left;white-space:pre\">def</td><td style=\"text-align:left;white-space:pre\">information_schema</td><td style=\"text-align:left;white-space:pre\">INNODB_CMP_PER_INDEX</td><td style=\"text-align:left;white-space:pre\">SYSTEM VIEW</td><td style=\"text-align:left;white-space:pre\">MEMORY</td><td style=\"text-align:left;white-space:pre\">11</td><td style=\"text-align:left;white-space:pre\">Fixed</td><td style=\"text-align:left;white-space:pre\">NULL</td><td style=\"text-align:left;white-space:pre\">1755</td><td style=\"text-align:left;white-space:pre\">0</td><td style=\"text-align:left;white-space:pre\">16728660</td><td style=\"text-align:left;white-space:pre\">0</td><td style=\"text-align:left;white-space:pre\">0</td><td style=\"text-align:left;white-space:pre\">NULL</td><td style=\"text-align:left;white-space:pre\">2021-07-09 22:09:33</td><td style=\"text-align:left;white-space:pre\">NULL</td><td style=\"text-align:left;white-space:pre\">NULL</td><td style=\"text-align:left;white-space:pre\">utf8_general_ci</td><td style=\"text-align:left;white-space:pre\">NULL</td><td style=\"text-align:left;white-space:pre\">max_rows=9559</td><td style=\"text-align:left;white-space:pre\"></td><td style=\"text-align:left;white-space:pre\">0</td><td style=\"text-align:left;white-space:pre\">Y</td></tr><tr><td style=\"text-align:left;white-space:pre\">def</td><td style=\"text-align:left;white-space:pre\">information_schema</td><td style=\"text-align:left;white-space:pre\">INNODB_CMP</td><td style=\"text-align:left;white-space:pre\">SYSTEM VIEW</td><td style=\"text-align:left;white-space:pre\">MEMORY</td><td style=\"text-align:left;white-space:pre\">11</td><td style=\"text-align:left;white-space:pre\">Fixed</td><td style=\"text-align:left;white-space:pre\">NULL</td><td style=\"text-align:left;white-space:pre\">25</td><td style=\"text-align:left;white-space:pre\">0</td><td style=\"text-align:left;white-space:pre\">13107200</td><td style=\"text-align:left;white-space:pre\">0</td><td style=\"text-align:left;white-space:pre\">0</td><td style=\"text-align:left;white-space:pre\">NULL</td><td style=\"text-align:left;white-space:pre\">2021-07-09 22:09:33</td><td style=\"text-align:left;white-space:pre\">NULL</td><td style=\"text-align:left;white-space:pre\">NULL</td><td style=\"text-align:left;white-space:pre\">utf8_general_ci</td><td style=\"text-align:left;white-space:pre\">NULL</td><td style=\"text-align:left;white-space:pre\">max_rows=671088</td><td style=\"text-align:left;white-space:pre\"></td><td style=\"text-align:left;white-space:pre\">0</td><td style=\"text-align:left;white-space:pre\">Y</td></tr><tr><td style=\"text-align:left;white-space:pre\">def</td><td style=\"text-align:left;white-space:pre\">information_schema</td><td style=\"text-align:left;white-space:pre\">INNODB_FT_DELETED</td><td style=\"text-align:left;white-space:pre\">SYSTEM VIEW</td><td style=\"text-align:left;white-space:pre\">MEMORY</td><td style=\"text-align:left;white-space:pre\">11</td><td style=\"text-align:left;white-space:pre\">Fixed</td><td style=\"text-align:left;white-space:pre\">NULL</td><td style=\"text-align:left;white-space:pre\">9</td><td style=\"text-align:left;white-space:pre\">0</td><td style=\"text-align:left;white-space:pre\">9437184</td><td style=\"text-align:left;white-space:pre\">0</td><td style=\"text-align:left;white-space:pre\">0</td><td style=\"text-align:left;white-space:pre\">NULL</td><td style=\"text-align:left;white-space:pre\">2021-07-09 22:09:33</td><td style=\"text-align:left;white-space:pre\">NULL</td><td style=\"text-align:left;white-space:pre\">NULL</td><td style=\"text-align:left;white-space:pre\">utf8_general_ci</td><td style=\"text-align:left;white-space:pre\">NULL</td><td style=\"text-align:left;white-space:pre\">max_rows=1864135</td><td style=\"text-align:left;white-space:pre\"></td><td style=\"text-align:left;white-space:pre\">0</td><td style=\"text-align:left;white-space:pre\">Y</td></tr><tr><td style=\"text-align:left;white-space:pre\">def</td><td style=\"text-align:left;white-space:pre\">information_schema</td><td style=\"text-align:left;white-space:pre\">INNODB_CMP_RESET</td><td style=\"text-align:left;white-space:pre\">SYSTEM VIEW</td><td style=\"text-align:left;white-space:pre\">MEMORY</td><td style=\"text-align:left;white-space:pre\">11</td><td style=\"text-align:left;white-space:pre\">Fixed</td><td style=\"text-align:left;white-space:pre\">NULL</td><td style=\"text-align:left;white-space:pre\">25</td><td style=\"text-align:left;white-space:pre\">0</td><td style=\"text-align:left;white-space:pre\">13107200</td><td style=\"text-align:left;white-space:pre\">0</td><td style=\"text-align:left;white-space:pre\">0</td><td style=\"text-align:left;white-space:pre\">NULL</td><td style=\"text-align:left;white-space:pre\">2021-07-09 22:09:33</td><td style=\"text-align:left;white-space:pre\">NULL</td><td style=\"text-align:left;white-space:pre\">NULL</td><td style=\"text-align:left;white-space:pre\">utf8_general_ci</td><td style=\"text-align:left;white-space:pre\">NULL</td><td style=\"text-align:left;white-space:pre\">max_rows=671088</td><td style=\"text-align:left;white-space:pre\"></td><td style=\"text-align:left;white-space:pre\">0</td><td style=\"text-align:left;white-space:pre\">Y</td></tr><tr><td style=\"text-align:left;white-space:pre\">def</td><td style=\"text-align:left;white-space:pre\">information_schema</td><td style=\"text-align:left;white-space:pre\">INNODB_LOCK_WAITS</td><td style=\"text-align:left;white-space:pre\">SYSTEM VIEW</td><td style=\"text-align:left;white-space:pre\">MEMORY</td><td style=\"text-align:left;white-space:pre\">11</td><td style=\"text-align:left;white-space:pre\">Fixed</td><td style=\"text-align:left;white-space:pre\">NULL</td><td style=\"text-align:left;white-space:pre\">599</td><td style=\"text-align:left;white-space:pre\">0</td><td style=\"text-align:left;white-space:pre\">16749238</td><td style=\"text-align:left;white-space:pre\">0</td><td style=\"text-align:left;white-space:pre\">0</td><td style=\"text-align:left;white-space:pre\">NULL</td><td style=\"text-align:left;white-space:pre\">2021-07-09 22:09:33</td><td style=\"text-align:left;white-space:pre\">NULL</td><td style=\"text-align:left;white-space:pre\">NULL</td><td style=\"text-align:left;white-space:pre\">utf8_general_ci</td><td style=\"text-align:left;white-space:pre\">NULL</td><td style=\"text-align:left;white-space:pre\">max_rows=28008</td><td style=\"text-align:left;white-space:pre\"></td><td style=\"text-align:left;white-space:pre\">0</td><td style=\"text-align:left;white-space:pre\">Y</td></tr><tr><td style=\"text-align:left;white-space:pre\">def</td><td style=\"text-align:left;white-space:pre\">information_schema</td><td style=\"text-align:left;white-space:pre\">TABLE_STATISTICS</td><td style=\"text-align:left;white-space:pre\">SYSTEM VIEW</td><td style=\"text-align:left;white-space:pre\">MEMORY</td><td style=\"text-align:left;white-space:pre\">11</td><td style=\"text-align:left;white-space:pre\">Fixed</td><td style=\"text-align:left;white-space:pre\">NULL</td><td style=\"text-align:left;white-space:pre\">1181</td><td style=\"text-align:left;white-space:pre\">0</td><td style=\"text-align:left;white-space:pre\">16733589</td><td style=\"text-align:left;white-space:pre\">0</td><td style=\"text-align:left;white-space:pre\">0</td><td style=\"text-align:left;white-space:pre\">NULL</td><td style=\"text-align:left;white-space:pre\">2021-07-09 22:09:33</td><td style=\"text-align:left;white-space:pre\">NULL</td><td style=\"text-align:left;white-space:pre\">NULL</td><td style=\"text-align:left;white-space:pre\">utf8_general_ci</td><td style=\"text-align:left;white-space:pre\">NULL</td><td style=\"text-align:left;white-space:pre\">max_rows=14205</td><td style=\"text-align:left;white-space:pre\"></td><td style=\"text-align:left;white-space:pre\">0</td><td style=\"text-align:left;white-space:pre\">Y</td></tr><tr><td style=\"text-align:left;white-space:pre\">def</td><td style=\"text-align:left;white-space:pre\">information_schema</td><td style=\"text-align:left;white-space:pre\">INNODB_TABLESPACES_ENCRYPTION</td><td style=\"text-align:left;white-space:pre\">SYSTEM VIEW</td><td style=\"text-align:left;white-space:pre\">MEMORY</td><td style=\"text-align:left;white-space:pre\">11</td><td style=\"text-align:left;white-space:pre\">Fixed</td><td style=\"text-align:left;white-space:pre\">NULL</td><td style=\"text-align:left;white-space:pre\">2012</td><td style=\"text-align:left;white-space:pre\">0</td><td style=\"text-align:left;white-space:pre\">16743864</td><td style=\"text-align:left;white-space:pre\">0</td><td style=\"text-align:left;white-space:pre\">0</td><td style=\"text-align:left;white-space:pre\">NULL</td><td style=\"text-align:left;white-space:pre\">2021-07-09 22:09:33</td><td style=\"text-align:left;white-space:pre\">NULL</td><td style=\"text-align:left;white-space:pre\">NULL</td><td style=\"text-align:left;white-space:pre\">utf8_general_ci</td><td style=\"text-align:left;white-space:pre\">NULL</td><td style=\"text-align:left;white-space:pre\">max_rows=8338</td><td style=\"text-align:left;white-space:pre\"></td><td style=\"text-align:left;white-space:pre\">0</td><td style=\"text-align:left;white-space:pre\">Y</td></tr><tr><td style=\"text-align:left;white-space:pre\">def</td><td style=\"text-align:left;white-space:pre\">information_schema</td><td style=\"text-align:left;white-space:pre\">INNODB_BUFFER_PAGE_LRU</td><td style=\"text-align:left;white-space:pre\">SYSTEM VIEW</td><td style=\"text-align:left;white-space:pre\">MEMORY</td><td style=\"text-align:left;white-space:pre\">11</td><td style=\"text-align:left;white-space:pre\">Fixed</td><td style=\"text-align:left;white-space:pre\">NULL</td><td style=\"text-align:left;white-space:pre\">6669</td><td style=\"text-align:left;white-space:pre\">0</td><td style=\"text-align:left;white-space:pre\">16765866</td><td style=\"text-align:left;white-space:pre\">0</td><td style=\"text-align:left;white-space:pre\">0</td><td style=\"text-align:left;white-space:pre\">NULL</td><td style=\"text-align:left;white-space:pre\">2021-07-09 22:09:33</td><td style=\"text-align:left;white-space:pre\">NULL</td><td style=\"text-align:left;white-space:pre\">NULL</td><td style=\"text-align:left;white-space:pre\">utf8_general_ci</td><td style=\"text-align:left;white-space:pre\">NULL</td><td style=\"text-align:left;white-space:pre\">max_rows=2515</td><td style=\"text-align:left;white-space:pre\"></td><td style=\"text-align:left;white-space:pre\">0</td><td style=\"text-align:left;white-space:pre\">Y</td></tr><tr><td style=\"text-align:left;white-space:pre\">def</td><td style=\"text-align:left;white-space:pre\">information_schema</td><td style=\"text-align:left;white-space:pre\">INNODB_SYS_FIELDS</td><td style=\"text-align:left;white-space:pre\">SYSTEM VIEW</td><td style=\"text-align:left;white-space:pre\">MEMORY</td><td style=\"text-align:left;white-space:pre\">11</td><td style=\"text-align:left;white-space:pre\">Fixed</td><td style=\"text-align:left;white-space:pre\">NULL</td><td style=\"text-align:left;white-space:pre\">594</td><td style=\"text-align:left;white-space:pre\">0</td><td style=\"text-align:left;white-space:pre\">16609428</td><td style=\"text-align:left;white-space:pre\">0</td><td style=\"text-align:left;white-space:pre\">0</td><td style=\"text-align:left;white-space:pre\">NULL</td><td style=\"text-align:left;white-space:pre\">2021-07-09 22:09:33</td><td style=\"text-align:left;white-space:pre\">NULL</td><td style=\"text-align:left;white-space:pre\">NULL</td><td style=\"text-align:left;white-space:pre\">utf8_general_ci</td><td style=\"text-align:left;white-space:pre\">NULL</td><td style=\"text-align:left;white-space:pre\">max_rows=28244</td><td style=\"text-align:left;white-space:pre\"></td><td style=\"text-align:left;white-space:pre\">0</td><td style=\"text-align:left;white-space:pre\">Y</td></tr><tr><td style=\"text-align:left;white-space:pre\">def</td><td style=\"text-align:left;white-space:pre\">information_schema</td><td style=\"text-align:left;white-space:pre\">INNODB_CMPMEM_RESET</td><td style=\"text-align:left;white-space:pre\">SYSTEM VIEW</td><td style=\"text-align:left;white-space:pre\">MEMORY</td><td style=\"text-align:left;white-space:pre\">11</td><td style=\"text-align:left;white-space:pre\">Fixed</td><td style=\"text-align:left;white-space:pre\">NULL</td><td style=\"text-align:left;white-space:pre\">29</td><td style=\"text-align:left;white-space:pre\">0</td><td style=\"text-align:left;white-space:pre\">15204352</td><td style=\"text-align:left;white-space:pre\">0</td><td style=\"text-align:left;white-space:pre\">0</td><td style=\"text-align:left;white-space:pre\">NULL</td><td style=\"text-align:left;white-space:pre\">2021-07-09 22:09:33</td><td style=\"text-align:left;white-space:pre\">NULL</td><td style=\"text-align:left;white-space:pre\">NULL</td><td style=\"text-align:left;white-space:pre\">utf8_general_ci</td><td style=\"text-align:left;white-space:pre\">NULL</td><td style=\"text-align:left;white-space:pre\">max_rows=578524</td><td style=\"text-align:left;white-space:pre\"></td><td style=\"text-align:left;white-space:pre\">0</td><td style=\"text-align:left;white-space:pre\">Y</td></tr><tr><td style=\"text-align:left;white-space:pre\">def</td><td style=\"text-align:left;white-space:pre\">information_schema</td><td style=\"text-align:left;white-space:pre\">INNODB_SYS_COLUMNS</td><td style=\"text-align:left;white-space:pre\">SYSTEM VIEW</td><td style=\"text-align:left;white-space:pre\">MEMORY</td><td style=\"text-align:left;white-space:pre\">11</td><td style=\"text-align:left;white-space:pre\">Fixed</td><td style=\"text-align:left;white-space:pre\">NULL</td><td style=\"text-align:left;white-space:pre\">610</td><td style=\"text-align:left;white-space:pre\">0</td><td style=\"text-align:left;white-space:pre\">16613350</td><td style=\"text-align:left;white-space:pre\">0</td><td style=\"text-align:left;white-space:pre\">0</td><td style=\"text-align:left;white-space:pre\">NULL</td><td style=\"text-align:left;white-space:pre\">2021-07-09 22:09:33</td><td style=\"text-align:left;white-space:pre\">NULL</td><td style=\"text-align:left;white-space:pre\">NULL</td><td style=\"text-align:left;white-space:pre\">utf8_general_ci</td><td style=\"text-align:left;white-space:pre\">NULL</td><td style=\"text-align:left;white-space:pre\">max_rows=27503</td><td style=\"text-align:left;white-space:pre\"></td><td style=\"text-align:left;white-space:pre\">0</td><td style=\"text-align:left;white-space:pre\">Y</td></tr><tr><td style=\"text-align:left;white-space:pre\">def</td><td style=\"text-align:left;white-space:pre\">information_schema</td><td style=\"text-align:left;white-space:pre\">INNODB_FT_INDEX_TABLE</td><td style=\"text-align:left;white-space:pre\">SYSTEM VIEW</td><td style=\"text-align:left;white-space:pre\">MEMORY</td><td style=\"text-align:left;white-space:pre\">11</td><td style=\"text-align:left;white-space:pre\">Fixed</td><td style=\"text-align:left;white-space:pre\">NULL</td><td style=\"text-align:left;white-space:pre\">1054</td><td style=\"text-align:left;white-space:pre\">0</td><td style=\"text-align:left;white-space:pre\">16744898</td><td style=\"text-align:left;white-space:pre\">0</td><td style=\"text-align:left;white-space:pre\">0</td><td style=\"text-align:left;white-space:pre\">NULL</td><td style=\"text-align:left;white-space:pre\">2021-07-09 22:09:33</td><td style=\"text-align:left;white-space:pre\">NULL</td><td style=\"text-align:left;white-space:pre\">NULL</td><td style=\"text-align:left;white-space:pre\">utf8_general_ci</td><td style=\"text-align:left;white-space:pre\">NULL</td><td style=\"text-align:left;white-space:pre\">max_rows=15917</td><td style=\"text-align:left;white-space:pre\"></td><td style=\"text-align:left;white-space:pre\">0</td><td style=\"text-align:left;white-space:pre\">Y</td></tr><tr><td style=\"text-align:left;white-space:pre\">def</td><td style=\"text-align:left;white-space:pre\">information_schema</td><td style=\"text-align:left;white-space:pre\">INNODB_CMP_PER_INDEX_RESET</td><td style=\"text-align:left;white-space:pre\">SYSTEM VIEW</td><td style=\"text-align:left;white-space:pre\">MEMORY</td><td style=\"text-align:left;white-space:pre\">11</td><td style=\"text-align:left;white-space:pre\">Fixed</td><td style=\"text-align:left;white-space:pre\">NULL</td><td style=\"text-align:left;white-space:pre\">1755</td><td style=\"text-align:left;white-space:pre\">0</td><td style=\"text-align:left;white-space:pre\">16728660</td><td style=\"text-align:left;white-space:pre\">0</td><td style=\"text-align:left;white-space:pre\">0</td><td style=\"text-align:left;white-space:pre\">NULL</td><td style=\"text-align:left;white-space:pre\">2021-07-09 22:09:33</td><td style=\"text-align:left;white-space:pre\">NULL</td><td style=\"text-align:left;white-space:pre\">NULL</td><td style=\"text-align:left;white-space:pre\">utf8_general_ci</td><td style=\"text-align:left;white-space:pre\">NULL</td><td style=\"text-align:left;white-space:pre\">max_rows=9559</td><td style=\"text-align:left;white-space:pre\"></td><td style=\"text-align:left;white-space:pre\">0</td><td style=\"text-align:left;white-space:pre\">Y</td></tr><tr><td style=\"text-align:left;white-space:pre\">def</td><td style=\"text-align:left;white-space:pre\">information_schema</td><td style=\"text-align:left;white-space:pre\">user_variables</td><td style=\"text-align:left;white-space:pre\">SYSTEM VIEW</td><td style=\"text-align:left;white-space:pre\">MEMORY</td><td style=\"text-align:left;white-space:pre\">11</td><td style=\"text-align:left;white-space:pre\">Fixed</td><td style=\"text-align:left;white-space:pre\">NULL</td><td style=\"text-align:left;white-space:pre\">6630</td><td style=\"text-align:left;white-space:pre\">0</td><td style=\"text-align:left;white-space:pre\">16767270</td><td style=\"text-align:left;white-space:pre\">0</td><td style=\"text-align:left;white-space:pre\">0</td><td style=\"text-align:left;white-space:pre\">NULL</td><td style=\"text-align:left;white-space:pre\">2021-07-09 22:09:33</td><td style=\"text-align:left;white-space:pre\">NULL</td><td style=\"text-align:left;white-space:pre\">NULL</td><td style=\"text-align:left;white-space:pre\">utf8_general_ci</td><td style=\"text-align:left;white-space:pre\">NULL</td><td style=\"text-align:left;white-space:pre\">max_rows=2530</td><td style=\"text-align:left;white-space:pre\"></td><td style=\"text-align:left;white-space:pre\">0</td><td style=\"text-align:left;white-space:pre\">Y</td></tr><tr><td style=\"text-align:left;white-space:pre\">def</td><td style=\"text-align:left;white-space:pre\">information_schema</td><td style=\"text-align:left;white-space:pre\">INNODB_FT_INDEX_CACHE</td><td style=\"text-align:left;white-space:pre\">SYSTEM VIEW</td><td style=\"text-align:left;white-space:pre\">MEMORY</td><td style=\"text-align:left;white-space:pre\">11</td><td style=\"text-align:left;white-space:pre\">Fixed</td><td style=\"text-align:left;white-space:pre\">NULL</td><td style=\"text-align:left;white-space:pre\">1054</td><td style=\"text-align:left;white-space:pre\">0</td><td style=\"text-align:left;white-space:pre\">16744898</td><td style=\"text-align:left;white-space:pre\">0</td><td style=\"text-align:left;white-space:pre\">0</td><td style=\"text-align:left;white-space:pre\">NULL</td><td style=\"text-align:left;white-space:pre\">2021-07-09 22:09:33</td><td style=\"text-align:left;white-space:pre\">NULL</td><td style=\"text-align:left;white-space:pre\">NULL</td><td style=\"text-align:left;white-space:pre\">utf8_general_ci</td><td style=\"text-align:left;white-space:pre\">NULL</td><td style=\"text-align:left;white-space:pre\">max_rows=15917</td><td style=\"text-align:left;white-space:pre\"></td><td style=\"text-align:left;white-space:pre\">0</td><td style=\"text-align:left;white-space:pre\">Y</td></tr><tr><td style=\"text-align:left;white-space:pre\">def</td><td style=\"text-align:left;white-space:pre\">information_schema</td><td style=\"text-align:left;white-space:pre\">INNODB_SYS_FOREIGN_COLS</td><td style=\"text-align:left;white-space:pre\">SYSTEM VIEW</td><td style=\"text-align:left;white-space:pre\">MEMORY</td><td style=\"text-align:left;white-space:pre\">11</td><td style=\"text-align:left;white-space:pre\">Fixed</td><td style=\"text-align:left;white-space:pre\">NULL</td><td style=\"text-align:left;white-space:pre\">1748</td><td style=\"text-align:left;white-space:pre\">0</td><td style=\"text-align:left;white-space:pre\">16738848</td><td style=\"text-align:left;white-space:pre\">0</td><td style=\"text-align:left;white-space:pre\">0</td><td style=\"text-align:left;white-space:pre\">NULL</td><td style=\"text-align:left;white-space:pre\">2021-07-09 22:09:33</td><td style=\"text-align:left;white-space:pre\">NULL</td><td style=\"text-align:left;white-space:pre\">NULL</td><td style=\"text-align:left;white-space:pre\">utf8_general_ci</td><td style=\"text-align:left;white-space:pre\">NULL</td><td style=\"text-align:left;white-space:pre\">max_rows=9597</td><td style=\"text-align:left;white-space:pre\"></td><td style=\"text-align:left;white-space:pre\">0</td><td style=\"text-align:left;white-space:pre\">Y</td></tr><tr><td style=\"text-align:left;white-space:pre\">def</td><td style=\"text-align:left;white-space:pre\">information_schema</td><td style=\"text-align:left;white-space:pre\">INNODB_FT_BEING_DELETED</td><td style=\"text-align:left;white-space:pre\">SYSTEM VIEW</td><td style=\"text-align:left;white-space:pre\">MEMORY</td><td style=\"text-align:left;white-space:pre\">11</td><td style=\"text-align:left;white-space:pre\">Fixed</td><td style=\"text-align:left;white-space:pre\">NULL</td><td style=\"text-align:left;white-space:pre\">9</td><td style=\"text-align:left;white-space:pre\">0</td><td style=\"text-align:left;white-space:pre\">9437184</td><td style=\"text-align:left;white-space:pre\">0</td><td style=\"text-align:left;white-space:pre\">0</td><td style=\"text-align:left;white-space:pre\">NULL</td><td style=\"text-align:left;white-space:pre\">2021-07-09 22:09:33</td><td style=\"text-align:left;white-space:pre\">NULL</td><td style=\"text-align:left;white-space:pre\">NULL</td><td style=\"text-align:left;white-space:pre\">utf8_general_ci</td><td style=\"text-align:left;white-space:pre\">NULL</td><td style=\"text-align:left;white-space:pre\">max_rows=1864135</td><td style=\"text-align:left;white-space:pre\"></td><td style=\"text-align:left;white-space:pre\">0</td><td style=\"text-align:left;white-space:pre\">Y</td></tr><tr><td style=\"text-align:left;white-space:pre\">def</td><td style=\"text-align:left;white-space:pre\">information_schema</td><td style=\"text-align:left;white-space:pre\">INNODB_BUFFER_POOL_STATS</td><td style=\"text-align:left;white-space:pre\">SYSTEM VIEW</td><td style=\"text-align:left;white-space:pre\">MEMORY</td><td style=\"text-align:left;white-space:pre\">11</td><td style=\"text-align:left;white-space:pre\">Fixed</td><td style=\"text-align:left;white-space:pre\">NULL</td><td style=\"text-align:left;white-space:pre\">257</td><td style=\"text-align:left;white-space:pre\">0</td><td style=\"text-align:left;white-space:pre\">16332350</td><td style=\"text-align:left;white-space:pre\">0</td><td style=\"text-align:left;white-space:pre\">0</td><td style=\"text-align:left;white-space:pre\">NULL</td><td style=\"text-align:left;white-space:pre\">2021-07-09 22:09:33</td><td style=\"text-align:left;white-space:pre\">NULL</td><td style=\"text-align:left;white-space:pre\">NULL</td><td style=\"text-align:left;white-space:pre\">utf8_general_ci</td><td style=\"text-align:left;white-space:pre\">NULL</td><td style=\"text-align:left;white-space:pre\">max_rows=65280</td><td style=\"text-align:left;white-space:pre\"></td><td style=\"text-align:left;white-space:pre\">0</td><td style=\"text-align:left;white-space:pre\">Y</td></tr><tr><td style=\"text-align:left;white-space:pre\">def</td><td style=\"text-align:left;white-space:pre\">information_schema</td><td style=\"text-align:left;white-space:pre\">INNODB_TRX</td><td style=\"text-align:left;white-space:pre\">SYSTEM VIEW</td><td style=\"text-align:left;white-space:pre\">MEMORY</td><td style=\"text-align:left;white-space:pre\">11</td><td style=\"text-align:left;white-space:pre\">Fixed</td><td style=\"text-align:left;white-space:pre\">NULL</td><td style=\"text-align:left;white-space:pre\">4530</td><td style=\"text-align:left;white-space:pre\">0</td><td style=\"text-align:left;white-space:pre\">16751940</td><td style=\"text-align:left;white-space:pre\">0</td><td style=\"text-align:left;white-space:pre\">0</td><td style=\"text-align:left;white-space:pre\">NULL</td><td style=\"text-align:left;white-space:pre\">2021-07-09 22:09:33</td><td style=\"text-align:left;white-space:pre\">NULL</td><td style=\"text-align:left;white-space:pre\">NULL</td><td style=\"text-align:left;white-space:pre\">utf8_general_ci</td><td style=\"text-align:left;white-space:pre\">NULL</td><td style=\"text-align:left;white-space:pre\">max_rows=3703</td><td style=\"text-align:left;white-space:pre\"></td><td style=\"text-align:left;white-space:pre\">0</td><td style=\"text-align:left;white-space:pre\">Y</td></tr><tr><td style=\"text-align:left;white-space:pre\">def</td><td style=\"text-align:left;white-space:pre\">information_schema</td><td style=\"text-align:left;white-space:pre\">INNODB_SYS_FOREIGN</td><td style=\"text-align:left;white-space:pre\">SYSTEM VIEW</td><td style=\"text-align:left;white-space:pre\">MEMORY</td><td style=\"text-align:left;white-space:pre\">11</td><td style=\"text-align:left;white-space:pre\">Fixed</td><td style=\"text-align:left;white-space:pre\">NULL</td><td style=\"text-align:left;white-space:pre\">1752</td><td style=\"text-align:left;white-space:pre\">0</td><td style=\"text-align:left;white-space:pre\">16700064</td><td style=\"text-align:left;white-space:pre\">0</td><td style=\"text-align:left;white-space:pre\">0</td><td style=\"text-align:left;white-space:pre\">NULL</td><td style=\"text-align:left;white-space:pre\">2021-07-09 22:09:33</td><td style=\"text-align:left;white-space:pre\">NULL</td><td style=\"text-align:left;white-space:pre\">NULL</td><td style=\"text-align:left;white-space:pre\">utf8_general_ci</td><td style=\"text-align:left;white-space:pre\">NULL</td><td style=\"text-align:left;white-space:pre\">max_rows=9576</td><td style=\"text-align:left;white-space:pre\"></td><td style=\"text-align:left;white-space:pre\">0</td><td style=\"text-align:left;white-space:pre\">Y</td></tr><tr><td style=\"text-align:left;white-space:pre\">def</td><td style=\"text-align:left;white-space:pre\">information_schema</td><td style=\"text-align:left;white-space:pre\">INNODB_SYS_TABLES</td><td style=\"text-align:left;white-space:pre\">SYSTEM VIEW</td><td style=\"text-align:left;white-space:pre\">MEMORY</td><td style=\"text-align:left;white-space:pre\">11</td><td style=\"text-align:left;white-space:pre\">Fixed</td><td style=\"text-align:left;white-space:pre\">NULL</td><td style=\"text-align:left;white-space:pre\">2060</td><td style=\"text-align:left;white-space:pre\">0</td><td style=\"text-align:left;white-space:pre\">16743680</td><td style=\"text-align:left;white-space:pre\">0</td><td style=\"text-align:left;white-space:pre\">0</td><td style=\"text-align:left;white-space:pre\">NULL</td><td style=\"text-align:left;white-space:pre\">2021-07-09 22:09:33</td><td style=\"text-align:left;white-space:pre\">NULL</td><td style=\"text-align:left;white-space:pre\">NULL</td><td style=\"text-align:left;white-space:pre\">utf8_general_ci</td><td style=\"text-align:left;white-space:pre\">NULL</td><td style=\"text-align:left;white-space:pre\">max_rows=8144</td><td style=\"text-align:left;white-space:pre\"></td><td style=\"text-align:left;white-space:pre\">0</td><td style=\"text-align:left;white-space:pre\">Y</td></tr><tr><td style=\"text-align:left;white-space:pre\">def</td><td style=\"text-align:left;white-space:pre\">information_schema</td><td style=\"text-align:left;white-space:pre\">INNODB_FT_DEFAULT_STOPWORD</td><td style=\"text-align:left;white-space:pre\">SYSTEM VIEW</td><td style=\"text-align:left;white-space:pre\">MEMORY</td><td style=\"text-align:left;white-space:pre\">11</td><td style=\"text-align:left;white-space:pre\">Fixed</td><td style=\"text-align:left;white-space:pre\">NULL</td><td style=\"text-align:left;white-space:pre\">56</td><td style=\"text-align:left;white-space:pre\">0</td><td style=\"text-align:left;white-space:pre\">14680064</td><td style=\"text-align:left;white-space:pre\">0</td><td style=\"text-align:left;white-space:pre\">0</td><td style=\"text-align:left;white-space:pre\">NULL</td><td style=\"text-align:left;white-space:pre\">2021-07-09 22:09:33</td><td style=\"text-align:left;white-space:pre\">NULL</td><td style=\"text-align:left;white-space:pre\">NULL</td><td style=\"text-align:left;white-space:pre\">utf8_general_ci</td><td style=\"text-align:left;white-space:pre\">NULL</td><td style=\"text-align:left;white-space:pre\">max_rows=299593</td><td style=\"text-align:left;white-space:pre\"></td><td style=\"text-align:left;white-space:pre\">0</td><td style=\"text-align:left;white-space:pre\">Y</td></tr><tr><td style=\"text-align:left;white-space:pre\">def</td><td style=\"text-align:left;white-space:pre\">information_schema</td><td style=\"text-align:left;white-space:pre\">INNODB_FT_CONFIG</td><td style=\"text-align:left;white-space:pre\">SYSTEM VIEW</td><td style=\"text-align:left;white-space:pre\">MEMORY</td><td style=\"text-align:left;white-space:pre\">11</td><td style=\"text-align:left;white-space:pre\">Fixed</td><td style=\"text-align:left;white-space:pre\">NULL</td><td style=\"text-align:left;white-space:pre\">1163</td><td style=\"text-align:left;white-space:pre\">0</td><td style=\"text-align:left;white-space:pre\">16705332</td><td style=\"text-align:left;white-space:pre\">0</td><td style=\"text-align:left;white-space:pre\">0</td><td style=\"text-align:left;white-space:pre\">NULL</td><td style=\"text-align:left;white-space:pre\">2021-07-09 22:09:33</td><td style=\"text-align:left;white-space:pre\">NULL</td><td style=\"text-align:left;white-space:pre\">NULL</td><td style=\"text-align:left;white-space:pre\">utf8_general_ci</td><td style=\"text-align:left;white-space:pre\">NULL</td><td style=\"text-align:left;white-space:pre\">max_rows=14425</td><td style=\"text-align:left;white-space:pre\"></td><td style=\"text-align:left;white-space:pre\">0</td><td style=\"text-align:left;white-space:pre\">Y</td></tr><tr><td style=\"text-align:left;white-space:pre\">def</td><td style=\"text-align:left;white-space:pre\">information_schema</td><td style=\"text-align:left;white-space:pre\">INNODB_BUFFER_PAGE</td><td style=\"text-align:left;white-space:pre\">SYSTEM VIEW</td><td style=\"text-align:left;white-space:pre\">MEMORY</td><td style=\"text-align:left;white-space:pre\">11</td><td style=\"text-align:left;white-space:pre\">Fixed</td><td style=\"text-align:left;white-space:pre\">NULL</td><td style=\"text-align:left;white-space:pre\">6852</td><td style=\"text-align:left;white-space:pre\">0</td><td style=\"text-align:left;white-space:pre\">16766844</td><td style=\"text-align:left;white-space:pre\">0</td><td style=\"text-align:left;white-space:pre\">0</td><td style=\"text-align:left;white-space:pre\">NULL</td><td style=\"text-align:left;white-space:pre\">2021-07-09 22:09:33</td><td style=\"text-align:left;white-space:pre\">NULL</td><td style=\"text-align:left;white-space:pre\">NULL</td><td style=\"text-align:left;white-space:pre\">utf8_general_ci</td><td style=\"text-align:left;white-space:pre\">NULL</td><td style=\"text-align:left;white-space:pre\">max_rows=2448</td><td style=\"text-align:left;white-space:pre\"></td><td style=\"text-align:left;white-space:pre\">0</td><td style=\"text-align:left;white-space:pre\">Y</td></tr><tr><td style=\"text-align:left;white-space:pre\">def</td><td style=\"text-align:left;white-space:pre\">information_schema</td><td style=\"text-align:left;white-space:pre\">INNODB_SYS_TABLESPACES</td><td style=\"text-align:left;white-space:pre\">SYSTEM VIEW</td><td style=\"text-align:left;white-space:pre\">MEMORY</td><td style=\"text-align:left;white-space:pre\">11</td><td style=\"text-align:left;white-space:pre\">Fixed</td><td style=\"text-align:left;white-space:pre\">NULL</td><td style=\"text-align:left;white-space:pre\">2102</td><td style=\"text-align:left;white-space:pre\">0</td><td style=\"text-align:left;white-space:pre\">16759246</td><td style=\"text-align:left;white-space:pre\">0</td><td style=\"text-align:left;white-space:pre\">0</td><td style=\"text-align:left;white-space:pre\">NULL</td><td style=\"text-align:left;white-space:pre\">2021-07-09 22:09:33</td><td style=\"text-align:left;white-space:pre\">NULL</td><td style=\"text-align:left;white-space:pre\">NULL</td><td style=\"text-align:left;white-space:pre\">utf8_general_ci</td><td style=\"text-align:left;white-space:pre\">NULL</td><td style=\"text-align:left;white-space:pre\">max_rows=7981</td><td style=\"text-align:left;white-space:pre\"></td><td style=\"text-align:left;white-space:pre\">0</td><td style=\"text-align:left;white-space:pre\">Y</td></tr><tr><td style=\"text-align:left;white-space:pre\">def</td><td style=\"text-align:left;white-space:pre\">information_schema</td><td style=\"text-align:left;white-space:pre\">INNODB_METRICS</td><td style=\"text-align:left;white-space:pre\">SYSTEM VIEW</td><td style=\"text-align:left;white-space:pre\">MEMORY</td><td style=\"text-align:left;white-space:pre\">11</td><td style=\"text-align:left;white-space:pre\">Fixed</td><td style=\"text-align:left;white-space:pre\">NULL</td><td style=\"text-align:left;white-space:pre\">3003</td><td style=\"text-align:left;white-space:pre\">0</td><td style=\"text-align:left;white-space:pre\">16747731</td><td style=\"text-align:left;white-space:pre\">0</td><td style=\"text-align:left;white-space:pre\">0</td><td style=\"text-align:left;white-space:pre\">NULL</td><td style=\"text-align:left;white-space:pre\">2021-07-09 22:09:33</td><td style=\"text-align:left;white-space:pre\">NULL</td><td style=\"text-align:left;white-space:pre\">NULL</td><td style=\"text-align:left;white-space:pre\">utf8_general_ci</td><td style=\"text-align:left;white-space:pre\">NULL</td><td style=\"text-align:left;white-space:pre\">max_rows=5586</td><td style=\"text-align:left;white-space:pre\"></td><td style=\"text-align:left;white-space:pre\">0</td><td style=\"text-align:left;white-space:pre\">Y</td></tr><tr><td style=\"text-align:left;white-space:pre\">def</td><td style=\"text-align:left;white-space:pre\">information_schema</td><td style=\"text-align:left;white-space:pre\">INNODB_SYS_INDEXES</td><td style=\"text-align:left;white-space:pre\">SYSTEM VIEW</td><td style=\"text-align:left;white-space:pre\">MEMORY</td><td style=\"text-align:left;white-space:pre\">11</td><td style=\"text-align:left;white-space:pre\">Fixed</td><td style=\"text-align:left;white-space:pre\">NULL</td><td style=\"text-align:left;white-space:pre\">618</td><td style=\"text-align:left;white-space:pre\">0</td><td style=\"text-align:left;white-space:pre\">16615548</td><td style=\"text-align:left;white-space:pre\">0</td><td style=\"text-align:left;white-space:pre\">0</td><td style=\"text-align:left;white-space:pre\">NULL</td><td style=\"text-align:left;white-space:pre\">2021-07-09 22:09:33</td><td style=\"text-align:left;white-space:pre\">NULL</td><td style=\"text-align:left;white-space:pre\">NULL</td><td style=\"text-align:left;white-space:pre\">utf8_general_ci</td><td style=\"text-align:left;white-space:pre\">NULL</td><td style=\"text-align:left;white-space:pre\">max_rows=27147</td><td style=\"text-align:left;white-space:pre\"></td><td style=\"text-align:left;white-space:pre\">0</td><td style=\"text-align:left;white-space:pre\">Y</td></tr><tr><td style=\"text-align:left;white-space:pre\">def</td><td style=\"text-align:left;white-space:pre\">information_schema</td><td style=\"text-align:left;white-space:pre\">INNODB_SYS_VIRTUAL</td><td style=\"text-align:left;white-space:pre\">SYSTEM VIEW</td><td style=\"text-align:left;white-space:pre\">MEMORY</td><td style=\"text-align:left;white-space:pre\">11</td><td style=\"text-align:left;white-space:pre\">Fixed</td><td style=\"text-align:left;white-space:pre\">NULL</td><td style=\"text-align:left;white-space:pre\">17</td><td style=\"text-align:left;white-space:pre\">0</td><td style=\"text-align:left;white-space:pre\">11883850</td><td style=\"text-align:left;white-space:pre\">0</td><td style=\"text-align:left;white-space:pre\">0</td><td style=\"text-align:left;white-space:pre\">NULL</td><td style=\"text-align:left;white-space:pre\">2021-07-09 22:09:33</td><td style=\"text-align:left;white-space:pre\">NULL</td><td style=\"text-align:left;white-space:pre\">NULL</td><td style=\"text-align:left;white-space:pre\">utf8_general_ci</td><td style=\"text-align:left;white-space:pre\">NULL</td><td style=\"text-align:left;white-space:pre\">max_rows=986895</td><td style=\"text-align:left;white-space:pre\"></td><td style=\"text-align:left;white-space:pre\">0</td><td style=\"text-align:left;white-space:pre\">Y</td></tr><tr><td style=\"text-align:left;white-space:pre\">def</td><td style=\"text-align:left;white-space:pre\">information_schema</td><td style=\"text-align:left;white-space:pre\">INNODB_TABLESPACES_SCRUBBING</td><td style=\"text-align:left;white-space:pre\">SYSTEM VIEW</td><td style=\"text-align:left;white-space:pre\">MEMORY</td><td style=\"text-align:left;white-space:pre\">11</td><td style=\"text-align:left;white-space:pre\">Fixed</td><td style=\"text-align:left;white-space:pre\">NULL</td><td style=\"text-align:left;white-space:pre\">2020</td><td style=\"text-align:left;white-space:pre\">0</td><td style=\"text-align:left;white-space:pre\">16743780</td><td style=\"text-align:left;white-space:pre\">0</td><td style=\"text-align:left;white-space:pre\">0</td><td style=\"text-align:left;white-space:pre\">NULL</td><td style=\"text-align:left;white-space:pre\">2021-07-09 22:09:33</td><td style=\"text-align:left;white-space:pre\">NULL</td><td style=\"text-align:left;white-space:pre\">NULL</td><td style=\"text-align:left;white-space:pre\">utf8_general_ci</td><td style=\"text-align:left;white-space:pre\">NULL</td><td style=\"text-align:left;white-space:pre\">max_rows=8305</td><td style=\"text-align:left;white-space:pre\"></td><td style=\"text-align:left;white-space:pre\">0</td><td style=\"text-align:left;white-space:pre\">Y</td></tr><tr><td style=\"text-align:left;white-space:pre\">def</td><td style=\"text-align:left;white-space:pre\">information_schema</td><td style=\"text-align:left;white-space:pre\">INNODB_SYS_SEMAPHORE_WAITS</td><td style=\"text-align:left;white-space:pre\">SYSTEM VIEW</td><td style=\"text-align:left;white-space:pre\">MEMORY</td><td style=\"text-align:left;white-space:pre\">11</td><td style=\"text-align:left;white-space:pre\">Fixed</td><td style=\"text-align:left;white-space:pre\">NULL</td><td style=\"text-align:left;white-space:pre\">60189</td><td style=\"text-align:left;white-space:pre\">0</td><td style=\"text-align:left;white-space:pre\">16732542</td><td style=\"text-align:left;white-space:pre\">0</td><td style=\"text-align:left;white-space:pre\">0</td><td style=\"text-align:left;white-space:pre\">NULL</td><td style=\"text-align:left;white-space:pre\">2021-07-09 22:09:33</td><td style=\"text-align:left;white-space:pre\">NULL</td><td style=\"text-align:left;white-space:pre\">NULL</td><td style=\"text-align:left;white-space:pre\">utf8_general_ci</td><td style=\"text-align:left;white-space:pre\">NULL</td><td style=\"text-align:left;white-space:pre\">max_rows=278</td><td style=\"text-align:left;white-space:pre\"></td><td style=\"text-align:left;white-space:pre\">0</td><td style=\"text-align:left;white-space:pre\">Y</td></tr><tr><td style=\"text-align:left;white-space:pre\">def</td><td style=\"text-align:left;white-space:pre\">movielens</td><td style=\"text-align:left;white-space:pre\">ratings</td><td style=\"text-align:left;white-space:pre\">BASE TABLE</td><td style=\"text-align:left;white-space:pre\">InnoDB</td><td style=\"text-align:left;white-space:pre\">10</td><td style=\"text-align:left;white-space:pre\">Dynamic</td><td style=\"text-align:left;white-space:pre\">100489</td><td style=\"text-align:left;white-space:pre\">47</td><td style=\"text-align:left;white-space:pre\">4734976</td><td style=\"text-align:left;white-space:pre\">0</td><td style=\"text-align:left;white-space:pre\">0</td><td style=\"text-align:left;white-space:pre\">4194304</td><td style=\"text-align:left;white-space:pre\">NULL</td><td style=\"text-align:left;white-space:pre\">2021-07-09 21:17:14</td><td style=\"text-align:left;white-space:pre\">2021-07-09 21:17:15</td><td style=\"text-align:left;white-space:pre\">NULL</td><td style=\"text-align:left;white-space:pre\">latin1_swedish_ci</td><td style=\"text-align:left;white-space:pre\">NULL</td><td style=\"text-align:left;white-space:pre\"></td><td style=\"text-align:left;white-space:pre\"></td><td style=\"text-align:left;white-space:pre\">0</td><td style=\"text-align:left;white-space:pre\">N</td></tr><tr><td style=\"text-align:left;white-space:pre\">def</td><td style=\"text-align:left;white-space:pre\">movielens</td><td style=\"text-align:left;white-space:pre\">occupations</td><td style=\"text-align:left;white-space:pre\">BASE TABLE</td><td style=\"text-align:left;white-space:pre\">InnoDB</td><td style=\"text-align:left;white-space:pre\">10</td><td style=\"text-align:left;white-space:pre\">Dynamic</td><td style=\"text-align:left;white-space:pre\">21</td><td style=\"text-align:left;white-space:pre\">780</td><td style=\"text-align:left;white-space:pre\">16384</td><td style=\"text-align:left;white-space:pre\">0</td><td style=\"text-align:left;white-space:pre\">0</td><td style=\"text-align:left;white-space:pre\">0</td><td style=\"text-align:left;white-space:pre\">NULL</td><td style=\"text-align:left;white-space:pre\">2021-07-09 21:17:14</td><td style=\"text-align:left;white-space:pre\">2021-07-09 21:17:14</td><td style=\"text-align:left;white-space:pre\">NULL</td><td style=\"text-align:left;white-space:pre\">latin1_swedish_ci</td><td style=\"text-align:left;white-space:pre\">NULL</td><td style=\"text-align:left;white-space:pre\"></td><td style=\"text-align:left;white-space:pre\"></td><td style=\"text-align:left;white-space:pre\">0</td><td style=\"text-align:left;white-space:pre\">N</td></tr><tr><td style=\"text-align:left;white-space:pre\">def</td><td style=\"text-align:left;white-space:pre\">movielens</td><td style=\"text-align:left;white-space:pre\">users</td><td style=\"text-align:left;white-space:pre\">BASE TABLE</td><td style=\"text-align:left;white-space:pre\">InnoDB</td><td style=\"text-align:left;white-space:pre\">10</td><td style=\"text-align:left;white-space:pre\">Dynamic</td><td style=\"text-align:left;white-space:pre\">1037</td><td style=\"text-align:left;white-space:pre\">63</td><td style=\"text-align:left;white-space:pre\">65536</td><td style=\"text-align:left;white-space:pre\">0</td><td style=\"text-align:left;white-space:pre\">0</td><td style=\"text-align:left;white-space:pre\">0</td><td style=\"text-align:left;white-space:pre\">NULL</td><td style=\"text-align:left;white-space:pre\">2021-07-09 21:17:14</td><td style=\"text-align:left;white-space:pre\">2021-07-09 21:17:15</td><td style=\"text-align:left;white-space:pre\">NULL</td><td style=\"text-align:left;white-space:pre\">latin1_swedish_ci</td><td style=\"text-align:left;white-space:pre\">NULL</td><td style=\"text-align:left;white-space:pre\"></td><td style=\"text-align:left;white-space:pre\"></td><td style=\"text-align:left;white-space:pre\">0</td><td style=\"text-align:left;white-space:pre\">N</td></tr><tr><td style=\"text-align:left;white-space:pre\">def</td><td style=\"text-align:left;white-space:pre\">movielens</td><td style=\"text-align:left;white-space:pre\">genres</td><td style=\"text-align:left;white-space:pre\">BASE TABLE</td><td style=\"text-align:left;white-space:pre\">InnoDB</td><td style=\"text-align:left;white-space:pre\">10</td><td style=\"text-align:left;white-space:pre\">Dynamic</td><td style=\"text-align:left;white-space:pre\">18</td><td style=\"text-align:left;white-space:pre\">910</td><td style=\"text-align:left;white-space:pre\">16384</td><td style=\"text-align:left;white-space:pre\">0</td><td style=\"text-align:left;white-space:pre\">0</td><td style=\"text-align:left;white-space:pre\">0</td><td style=\"text-align:left;white-space:pre\">NULL</td><td style=\"text-align:left;white-space:pre\">2021-07-09 21:17:15</td><td style=\"text-align:left;white-space:pre\">2021-07-09 21:17:15</td><td style=\"text-align:left;white-space:pre\">NULL</td><td style=\"text-align:left;white-space:pre\">latin1_swedish_ci</td><td style=\"text-align:left;white-space:pre\">NULL</td><td style=\"text-align:left;white-space:pre\"></td><td style=\"text-align:left;white-space:pre\"></td><td style=\"text-align:left;white-space:pre\">0</td><td style=\"text-align:left;white-space:pre\">N</td></tr><tr><td style=\"text-align:left;white-space:pre\">def</td><td style=\"text-align:left;white-space:pre\">movielens</td><td style=\"text-align:left;white-space:pre\">movies</td><td style=\"text-align:left;white-space:pre\">BASE TABLE</td><td style=\"text-align:left;white-space:pre\">InnoDB</td><td style=\"text-align:left;white-space:pre\">10</td><td style=\"text-align:left;white-space:pre\">Dynamic</td><td style=\"text-align:left;white-space:pre\">1503</td><td style=\"text-align:left;white-space:pre\">87</td><td style=\"text-align:left;white-space:pre\">131072</td><td style=\"text-align:left;white-space:pre\">0</td><td style=\"text-align:left;white-space:pre\">0</td><td style=\"text-align:left;white-space:pre\">0</td><td style=\"text-align:left;white-space:pre\">NULL</td><td style=\"text-align:left;white-space:pre\">2021-07-09 21:17:15</td><td style=\"text-align:left;white-space:pre\">2021-07-09 21:17:15</td><td style=\"text-align:left;white-space:pre\">NULL</td><td style=\"text-align:left;white-space:pre\">latin1_swedish_ci</td><td style=\"text-align:left;white-space:pre\">NULL</td><td style=\"text-align:left;white-space:pre\"></td><td style=\"text-align:left;white-space:pre\"></td><td style=\"text-align:left;white-space:pre\">0</td><td style=\"text-align:left;white-space:pre\">N</td></tr><tr><td style=\"text-align:left;white-space:pre\">def</td><td style=\"text-align:left;white-space:pre\">movielens</td><td style=\"text-align:left;white-space:pre\">genres_movies</td><td style=\"text-align:left;white-space:pre\">BASE TABLE</td><td style=\"text-align:left;white-space:pre\">InnoDB</td><td style=\"text-align:left;white-space:pre\">10</td><td style=\"text-align:left;white-space:pre\">Dynamic</td><td style=\"text-align:left;white-space:pre\">2307</td><td style=\"text-align:left;white-space:pre\">56</td><td style=\"text-align:left;white-space:pre\">131072</td><td style=\"text-align:left;white-space:pre\">0</td><td style=\"text-align:left;white-space:pre\">0</td><td style=\"text-align:left;white-space:pre\">0</td><td style=\"text-align:left;white-space:pre\">NULL</td><td style=\"text-align:left;white-space:pre\">2021-07-09 21:17:15</td><td style=\"text-align:left;white-space:pre\">2021-07-09 21:17:15</td><td style=\"text-align:left;white-space:pre\">NULL</td><td style=\"text-align:left;white-space:pre\">latin1_swedish_ci</td><td style=\"text-align:left;white-space:pre\">NULL</td><td style=\"text-align:left;white-space:pre\"></td><td style=\"text-align:left;white-space:pre\"></td><td style=\"text-align:left;white-space:pre\">0</td><td style=\"text-align:left;white-space:pre\">N</td></tr></table></body></html>"
      ]
     },
     "metadata": {},
     "output_type": "display_data"
    }
   ],
   "source": [
    "select * from TABLES;"
   ]
  },
  {
   "cell_type": "code",
   "execution_count": 22,
   "metadata": {},
   "outputs": [
    {
     "data": {
      "text/html": [
       "<html><body><table border=\"1\"><tr><th style=\"text-align:left;white-space:pre\">TABLE_CATALOG</th><th style=\"text-align:left;white-space:pre\">TABLE_SCHEMA</th><th style=\"text-align:left;white-space:pre\">TABLE_NAME</th><th style=\"text-align:left;white-space:pre\">COLUMN_NAME</th><th style=\"text-align:left;white-space:pre\">ORDINAL_POSITION</th><th style=\"text-align:left;white-space:pre\">COLUMN_DEFAULT</th><th style=\"text-align:left;white-space:pre\">IS_NULLABLE</th><th style=\"text-align:left;white-space:pre\">DATA_TYPE</th><th style=\"text-align:left;white-space:pre\">CHARACTER_MAXIMUM_LENGTH</th><th style=\"text-align:left;white-space:pre\">CHARACTER_OCTET_LENGTH</th><th style=\"text-align:left;white-space:pre\">NUMERIC_PRECISION</th><th style=\"text-align:left;white-space:pre\">NUMERIC_SCALE</th><th style=\"text-align:left;white-space:pre\">DATETIME_PRECISION</th><th style=\"text-align:left;white-space:pre\">CHARACTER_SET_NAME</th><th style=\"text-align:left;white-space:pre\">COLLATION_NAME</th><th style=\"text-align:left;white-space:pre\">COLUMN_TYPE</th><th style=\"text-align:left;white-space:pre\">COLUMN_KEY</th><th style=\"text-align:left;white-space:pre\">EXTRA</th><th style=\"text-align:left;white-space:pre\">PRIVILEGES</th><th style=\"text-align:left;white-space:pre\">COLUMN_COMMENT</th><th style=\"text-align:left;white-space:pre\">IS_GENERATED</th><th style=\"text-align:left;white-space:pre\">GENERATION_EXPRESSION</th></tr><tr><td style=\"text-align:left;white-space:pre\">def</td><td style=\"text-align:left;white-space:pre\">movielens</td><td style=\"text-align:left;white-space:pre\">users</td><td style=\"text-align:left;white-space:pre\">id</td><td style=\"text-align:left;white-space:pre\">1</td><td style=\"text-align:left;white-space:pre\">NULL</td><td style=\"text-align:left;white-space:pre\">NO</td><td style=\"text-align:left;white-space:pre\">int</td><td style=\"text-align:left;white-space:pre\">NULL</td><td style=\"text-align:left;white-space:pre\">NULL</td><td style=\"text-align:left;white-space:pre\">10</td><td style=\"text-align:left;white-space:pre\">0</td><td style=\"text-align:left;white-space:pre\">NULL</td><td style=\"text-align:left;white-space:pre\">NULL</td><td style=\"text-align:left;white-space:pre\">NULL</td><td style=\"text-align:left;white-space:pre\">int(11)</td><td style=\"text-align:left;white-space:pre\">PRI</td><td style=\"text-align:left;white-space:pre\"></td><td style=\"text-align:left;white-space:pre\">select,insert,update,references</td><td style=\"text-align:left;white-space:pre\"></td><td style=\"text-align:left;white-space:pre\">NEVER</td><td style=\"text-align:left;white-space:pre\">NULL</td></tr><tr><td style=\"text-align:left;white-space:pre\">def</td><td style=\"text-align:left;white-space:pre\">movielens</td><td style=\"text-align:left;white-space:pre\">users</td><td style=\"text-align:left;white-space:pre\">age</td><td style=\"text-align:left;white-space:pre\">2</td><td style=\"text-align:left;white-space:pre\">NULL</td><td style=\"text-align:left;white-space:pre\">YES</td><td style=\"text-align:left;white-space:pre\">int</td><td style=\"text-align:left;white-space:pre\">NULL</td><td style=\"text-align:left;white-space:pre\">NULL</td><td style=\"text-align:left;white-space:pre\">10</td><td style=\"text-align:left;white-space:pre\">0</td><td style=\"text-align:left;white-space:pre\">NULL</td><td style=\"text-align:left;white-space:pre\">NULL</td><td style=\"text-align:left;white-space:pre\">NULL</td><td style=\"text-align:left;white-space:pre\">int(11)</td><td style=\"text-align:left;white-space:pre\"></td><td style=\"text-align:left;white-space:pre\"></td><td style=\"text-align:left;white-space:pre\">select,insert,update,references</td><td style=\"text-align:left;white-space:pre\"></td><td style=\"text-align:left;white-space:pre\">NEVER</td><td style=\"text-align:left;white-space:pre\">NULL</td></tr><tr><td style=\"text-align:left;white-space:pre\">def</td><td style=\"text-align:left;white-space:pre\">movielens</td><td style=\"text-align:left;white-space:pre\">users</td><td style=\"text-align:left;white-space:pre\">gender</td><td style=\"text-align:left;white-space:pre\">3</td><td style=\"text-align:left;white-space:pre\">NULL</td><td style=\"text-align:left;white-space:pre\">YES</td><td style=\"text-align:left;white-space:pre\">char</td><td style=\"text-align:left;white-space:pre\">1</td><td style=\"text-align:left;white-space:pre\">1</td><td style=\"text-align:left;white-space:pre\">NULL</td><td style=\"text-align:left;white-space:pre\">NULL</td><td style=\"text-align:left;white-space:pre\">NULL</td><td style=\"text-align:left;white-space:pre\">latin1</td><td style=\"text-align:left;white-space:pre\">latin1_swedish_ci</td><td style=\"text-align:left;white-space:pre\">char(1)</td><td style=\"text-align:left;white-space:pre\"></td><td style=\"text-align:left;white-space:pre\"></td><td style=\"text-align:left;white-space:pre\">select,insert,update,references</td><td style=\"text-align:left;white-space:pre\"></td><td style=\"text-align:left;white-space:pre\">NEVER</td><td style=\"text-align:left;white-space:pre\">NULL</td></tr><tr><td style=\"text-align:left;white-space:pre\">def</td><td style=\"text-align:left;white-space:pre\">movielens</td><td style=\"text-align:left;white-space:pre\">users</td><td style=\"text-align:left;white-space:pre\">occupation_id</td><td style=\"text-align:left;white-space:pre\">4</td><td style=\"text-align:left;white-space:pre\">NULL</td><td style=\"text-align:left;white-space:pre\">YES</td><td style=\"text-align:left;white-space:pre\">int</td><td style=\"text-align:left;white-space:pre\">NULL</td><td style=\"text-align:left;white-space:pre\">NULL</td><td style=\"text-align:left;white-space:pre\">10</td><td style=\"text-align:left;white-space:pre\">0</td><td style=\"text-align:left;white-space:pre\">NULL</td><td style=\"text-align:left;white-space:pre\">NULL</td><td style=\"text-align:left;white-space:pre\">NULL</td><td style=\"text-align:left;white-space:pre\">int(11)</td><td style=\"text-align:left;white-space:pre\"></td><td style=\"text-align:left;white-space:pre\"></td><td style=\"text-align:left;white-space:pre\">select,insert,update,references</td><td style=\"text-align:left;white-space:pre\"></td><td style=\"text-align:left;white-space:pre\">NEVER</td><td style=\"text-align:left;white-space:pre\">NULL</td></tr><tr><td style=\"text-align:left;white-space:pre\">def</td><td style=\"text-align:left;white-space:pre\">movielens</td><td style=\"text-align:left;white-space:pre\">users</td><td style=\"text-align:left;white-space:pre\">zip_code</td><td style=\"text-align:left;white-space:pre\">5</td><td style=\"text-align:left;white-space:pre\">NULL</td><td style=\"text-align:left;white-space:pre\">YES</td><td style=\"text-align:left;white-space:pre\">varchar</td><td style=\"text-align:left;white-space:pre\">255</td><td style=\"text-align:left;white-space:pre\">255</td><td style=\"text-align:left;white-space:pre\">NULL</td><td style=\"text-align:left;white-space:pre\">NULL</td><td style=\"text-align:left;white-space:pre\">NULL</td><td style=\"text-align:left;white-space:pre\">latin1</td><td style=\"text-align:left;white-space:pre\">latin1_swedish_ci</td><td style=\"text-align:left;white-space:pre\">varchar(255)</td><td style=\"text-align:left;white-space:pre\"></td><td style=\"text-align:left;white-space:pre\"></td><td style=\"text-align:left;white-space:pre\">select,insert,update,references</td><td style=\"text-align:left;white-space:pre\"></td><td style=\"text-align:left;white-space:pre\">NEVER</td><td style=\"text-align:left;white-space:pre\">NULL</td></tr></table></body></html>"
      ]
     },
     "metadata": {},
     "output_type": "display_data"
    }
   ],
   "source": [
    "SELECT * FROM COLUMNS\n",
    "WHERE table_schema = 'movielens'\n",
    "  AND   table_name = 'users';"
   ]
  },
  {
   "cell_type": "markdown",
   "metadata": {},
   "source": [
    "### Data Definition - Databases\n",
    "\n",
    "#### Create Database"
   ]
  },
  {
   "cell_type": "code",
   "execution_count": null,
   "metadata": {},
   "outputs": [],
   "source": [
    "CREATE database if NOT exists taxis;"
   ]
  },
  {
   "cell_type": "code",
   "execution_count": null,
   "metadata": {},
   "outputs": [],
   "source": [
    "show databases;"
   ]
  },
  {
   "cell_type": "markdown",
   "metadata": {},
   "source": [
    "#### Drop Database"
   ]
  },
  {
   "cell_type": "code",
   "execution_count": null,
   "metadata": {},
   "outputs": [],
   "source": [
    "DROP database if exists taxis;"
   ]
  },
  {
   "cell_type": "code",
   "execution_count": null,
   "metadata": {},
   "outputs": [],
   "source": [
    "show databases;"
   ]
  },
  {
   "cell_type": "code",
   "execution_count": null,
   "metadata": {},
   "outputs": [],
   "source": [
    "CREATE database if NOT exists taxis;\n",
    "USE taxis;"
   ]
  },
  {
   "cell_type": "markdown",
   "metadata": {},
   "source": [
    "### Data Definition - Tables\n",
    "\n",
    "#### Create Table"
   ]
  },
  {
   "cell_type": "markdown",
   "metadata": {},
   "source": [
    "**Exemplo dos Táxis**\n",
    "\n",
    "<img src=\"../../resources/images/TaxiER.png\" width=\"1000px\">\n",
    "\n",
    "Baseado no exemplo criado por prof. Geovane Cayres Magalhães http://www.ic.unicamp.br/~geovane/mo410-091/caso.html"
   ]
  },
  {
   "cell_type": "code",
   "execution_count": null,
   "metadata": {},
   "outputs": [],
   "source": [
    "SHOW tables;"
   ]
  },
  {
   "cell_type": "code",
   "execution_count": null,
   "metadata": {},
   "outputs": [],
   "source": [
    "CREATE TABLE Taxi (\n",
    "  Placa VARCHAR(7) NOT NULL,\n",
    "  Marca VARCHAR(30) NOT NULL,\n",
    "  Modelo VARCHAR(30) NOT NULL,\n",
    "  AnoFab INTEGER,\n",
    "  Licenca VARCHAR(9),\n",
    "  PRIMARY KEY(Placa)\n",
    ");"
   ]
  },
  {
   "cell_type": "code",
   "execution_count": null,
   "metadata": {},
   "outputs": [],
   "source": [
    "SHOW tables;"
   ]
  },
  {
   "cell_type": "code",
   "execution_count": null,
   "metadata": {},
   "outputs": [],
   "source": [
    "CREATE TABLE IF NOT EXISTS Taxi (\n",
    "  Placa VARCHAR(7) NOT NULL,\n",
    "  Marca VARCHAR(30) NOT NULL,\n",
    "  Modelo VARCHAR(30) NOT NULL,\n",
    "  AnoFab INTEGER,\n",
    "  Licenca VARCHAR(9),\n",
    "  PRIMARY KEY(Placa)\n",
    ");"
   ]
  },
  {
   "cell_type": "code",
   "execution_count": null,
   "metadata": {},
   "outputs": [],
   "source": [
    "CREATE TABLE Cliente (\n",
    "  CliId VARCHAR(4) NOT NULL,\n",
    "  Nome VARCHAR(80) NOT NULL,\n",
    "  CPF VARCHAR(14) NOT NULL,\n",
    "  PRIMARY KEY(CliId)\n",
    ");\n",
    "\n",
    "CREATE TABLE Corrida (\n",
    "  CliId VARCHAR(4) NOT NULL,\n",
    "  Placa VARCHAR(7) NOT NULL,\n",
    "  DataPedido DATE NOT NULL,\n",
    "  PRIMARY KEY(CliId, Placa, DataPedido),\n",
    "  FOREIGN KEY(CliId)\n",
    "    REFERENCES Cliente(CliId)\n",
    "      ON DELETE NO ACTION\n",
    "      ON UPDATE NO ACTION,\n",
    "  FOREIGN KEY(Placa)\n",
    "    REFERENCES Taxi(Placa)\n",
    "      ON DELETE NO ACTION\n",
    "      ON UPDATE NO ACTION\n",
    ");"
   ]
  },
  {
   "cell_type": "code",
   "execution_count": null,
   "metadata": {},
   "outputs": [],
   "source": [
    "SHOW tables;"
   ]
  },
  {
   "cell_type": "markdown",
   "metadata": {},
   "source": [
    "#### Rename Table"
   ]
  },
  {
   "cell_type": "code",
   "execution_count": null,
   "metadata": {},
   "outputs": [],
   "source": [
    "RENAME TABLE Cliente TO Cliente_new;"
   ]
  },
  {
   "cell_type": "code",
   "execution_count": null,
   "metadata": {},
   "outputs": [],
   "source": [
    "SHOW tables;"
   ]
  },
  {
   "cell_type": "markdown",
   "metadata": {},
   "source": [
    "#### Alter Table"
   ]
  },
  {
   "cell_type": "code",
   "execution_count": null,
   "metadata": {},
   "outputs": [],
   "source": [
    "SHOW COLUMNS FROM Cliente_new;"
   ]
  },
  {
   "cell_type": "code",
   "execution_count": null,
   "metadata": {},
   "outputs": [],
   "source": [
    "ALTER TABLE Cliente_new ADD Rg INT;"
   ]
  },
  {
   "cell_type": "code",
   "execution_count": null,
   "metadata": {},
   "outputs": [],
   "source": [
    "SHOW COLUMNS FROM Cliente_new;"
   ]
  },
  {
   "cell_type": "code",
   "execution_count": null,
   "metadata": {},
   "outputs": [],
   "source": [
    "ALTER TABLE Cliente_new MODIFY Rg BIGINT;"
   ]
  },
  {
   "cell_type": "code",
   "execution_count": null,
   "metadata": {},
   "outputs": [],
   "source": [
    "SHOW COLUMNS FROM Cliente_new;"
   ]
  },
  {
   "cell_type": "code",
   "execution_count": null,
   "metadata": {},
   "outputs": [],
   "source": [
    "ALTER TABLE Cliente_new DROP Rg;"
   ]
  },
  {
   "cell_type": "code",
   "execution_count": null,
   "metadata": {},
   "outputs": [],
   "source": [
    "SHOW COLUMNS FROM Cliente_new;"
   ]
  },
  {
   "cell_type": "markdown",
   "metadata": {},
   "source": [
    "#### Drop Table"
   ]
  },
  {
   "cell_type": "markdown",
   "metadata": {},
   "source": [
    "Erro por motivo de relação com outras tabelas (chave estrangeira)"
   ]
  },
  {
   "cell_type": "code",
   "execution_count": null,
   "metadata": {},
   "outputs": [],
   "source": [
    "DROP TABLE IF EXISTS Cliente_new;"
   ]
  },
  {
   "cell_type": "code",
   "execution_count": null,
   "metadata": {},
   "outputs": [],
   "source": [
    "DROP TABLE IF EXISTS Corrida;\n",
    "DROP TABLE IF EXISTS Taxi;\n",
    "DROP TABLE IF EXISTS Cliente_new;"
   ]
  },
  {
   "cell_type": "code",
   "execution_count": null,
   "metadata": {},
   "outputs": [],
   "source": [
    "CREATE TABLE IF NOT EXISTS Taxi (\n",
    "  Placa VARCHAR(7) NOT NULL,\n",
    "  Marca VARCHAR(30) NOT NULL,\n",
    "  Modelo VARCHAR(30) NOT NULL,\n",
    "  AnoFab INTEGER,\n",
    "  Licenca VARCHAR(9),\n",
    "  PRIMARY KEY(Placa)\n",
    ");\n",
    "\n",
    "CREATE TABLE IF NOT EXISTS Cliente (\n",
    "  CliId VARCHAR(4) NOT NULL,\n",
    "  Nome VARCHAR(80) NOT NULL,\n",
    "  CPF VARCHAR(14) NOT NULL,\n",
    "  PRIMARY KEY(CliId)\n",
    ");\n",
    "\n",
    "CREATE TABLE IF NOT EXISTS Corrida (\n",
    "  CliId VARCHAR(4) NOT NULL,\n",
    "  Placa VARCHAR(7) NOT NULL,\n",
    "  DataPedido DATE NOT NULL,\n",
    "  PRIMARY KEY(CliId, Placa, DataPedido),\n",
    "  FOREIGN KEY(CliId)\n",
    "    REFERENCES Cliente(CliId)\n",
    "      ON DELETE NO ACTION\n",
    "      ON UPDATE NO ACTION,\n",
    "  FOREIGN KEY(Placa)\n",
    "    REFERENCES Taxi(Placa)\n",
    "      ON DELETE NO ACTION\n",
    "      ON UPDATE NO ACTION\n",
    ");"
   ]
  },
  {
   "cell_type": "markdown",
   "metadata": {},
   "source": [
    "### Data Manipulation (CRUD)\n",
    "\n",
    "#### Insert"
   ]
  },
  {
   "cell_type": "code",
   "execution_count": null,
   "metadata": {},
   "outputs": [],
   "source": [
    "SHOW TABLE STATUS;"
   ]
  },
  {
   "cell_type": "code",
   "execution_count": null,
   "metadata": {},
   "outputs": [],
   "source": [
    "INSERT INTO Cliente VALUES ('1532', 'Asdrúbal', '448.754.253-65');\n",
    "INSERT INTO Cliente VALUES ('1755', 'Doriana', '567.387.387-44');\n",
    "INSERT INTO Cliente VALUES ('1780', 'Quincas', '546.373.762-02');\n",
    "INSERT INTO Cliente VALUES ('1888', 'Melissa', '123.456.789-10');\n",
    "\n",
    "INSERT INTO Taxi VALUES ('DAE6534', 'Ford', 'Fiesta', 1999, 'MN572345');\n",
    "INSERT INTO Taxi VALUES ('DKL4598', 'Wolkswagen', 'Gol', 2001, 'AU876543');\n",
    "INSERT INTO Taxi VALUES ('DKL7878', 'Ford', 'Fiesta', 2001, 'OP102938');\n",
    "INSERT INTO Taxi VALUES ('JDM8776', 'Wolkswagen', 'Santana', 2002, 'QM365923');\n",
    "INSERT INTO Taxi VALUES ('JJM3692', 'Chevrolet', 'Corsa', 1999, 'UU335577');\n",
    "\n",
    "INSERT INTO Corrida VALUES ('1755', 'DAE6534', '2003-02-15');\n",
    "INSERT INTO Corrida VALUES ('1780', 'JDM8776', '2003-02-18');\n",
    "INSERT INTO Corrida VALUES ('1755', 'DKL7878', '2003-02-16');\n",
    "INSERT INTO Corrida VALUES ('1780', 'DKL4598', '2003-02-17');\n",
    "INSERT INTO Corrida VALUES ('1532', 'DKL4598', '2003-02-18');\n",
    "INSERT INTO Corrida VALUES ('1780', 'DAE6534', '2003-02-16');\n",
    "INSERT INTO Corrida VALUES ('1755', 'DAE6534', '2003-02-18');\n",
    "INSERT INTO Corrida VALUES ('1532', 'DKL4598', '2003-02-20');"
   ]
  },
  {
   "cell_type": "code",
   "execution_count": null,
   "metadata": {},
   "outputs": [],
   "source": [
    "SHOW TABLE STATUS;"
   ]
  },
  {
   "cell_type": "markdown",
   "metadata": {},
   "source": [
    "#### Select"
   ]
  },
  {
   "cell_type": "markdown",
   "metadata": {},
   "source": [
    "##### Todos os Táxis com todos os atributos"
   ]
  },
  {
   "cell_type": "code",
   "execution_count": null,
   "metadata": {},
   "outputs": [],
   "source": [
    "SELECT * FROM Taxi;"
   ]
  },
  {
   "cell_type": "markdown",
   "metadata": {},
   "source": [
    "##### Taxis fabricados depois do ano 2000"
   ]
  },
  {
   "cell_type": "code",
   "execution_count": null,
   "metadata": {},
   "outputs": [],
   "source": [
    "SELECT * FROM Taxi WHERE AnoFab > 2000;"
   ]
  },
  {
   "cell_type": "markdown",
   "metadata": {},
   "source": [
    "#### Update\n"
   ]
  },
  {
   "cell_type": "code",
   "execution_count": null,
   "metadata": {},
   "outputs": [],
   "source": [
    "SELECT * FROM Taxi;"
   ]
  },
  {
   "cell_type": "code",
   "execution_count": null,
   "metadata": {},
   "outputs": [],
   "source": [
    "UPDATE Taxi T\n",
    "       SET T.AnoFab = 2002\n",
    "       WHERE T.Placa = 'DKL4598';\n",
    "       "
   ]
  },
  {
   "cell_type": "code",
   "execution_count": null,
   "metadata": {},
   "outputs": [],
   "source": [
    "SELECT * FROM Taxi;"
   ]
  },
  {
   "cell_type": "markdown",
   "metadata": {},
   "source": [
    "#### Delete"
   ]
  },
  {
   "cell_type": "markdown",
   "metadata": {},
   "source": [
    "##### Apagando o Táxi de placa `DAE6534`"
   ]
  },
  {
   "cell_type": "code",
   "execution_count": null,
   "metadata": {},
   "outputs": [],
   "source": [
    "SELECT * FROM Corrida;"
   ]
  },
  {
   "cell_type": "code",
   "execution_count": null,
   "metadata": {},
   "outputs": [],
   "source": [
    "DELETE FROM Corrida WHERE Corrida.Placa = \"DAE6534\";"
   ]
  },
  {
   "cell_type": "code",
   "execution_count": null,
   "metadata": {},
   "outputs": [],
   "source": [
    "SELECT * FROM Corrida;"
   ]
  },
  {
   "cell_type": "markdown",
   "metadata": {},
   "source": [
    "##### Violação de Integridade\n",
    "\n",
    "Apagando um Táxi que possui corridas associadas\n",
    "\n",
    "Este exemplo irá gerar um erro de violação de chave estrangeira."
   ]
  },
  {
   "cell_type": "code",
   "execution_count": null,
   "metadata": {},
   "outputs": [],
   "source": [
    "SELECT * FROM Taxi;"
   ]
  },
  {
   "cell_type": "code",
   "execution_count": null,
   "metadata": {},
   "outputs": [],
   "source": [
    "DELETE FROM Taxi WHERE Taxi.Placa = 'DKL4598';"
   ]
  },
  {
   "cell_type": "code",
   "execution_count": null,
   "metadata": {},
   "outputs": [],
   "source": []
  }
 ],
 "metadata": {
  "kernelspec": {
   "display_name": "MariaDB",
   "language": "SQL",
   "name": "mariadb_kernel"
  },
  "language_info": {
   "file_extension": ".sql",
   "mimetype": "text/plain",
   "name": "SQL"
  },
  "toc": {
   "base_numbering": 1,
   "nav_menu": {},
   "number_sections": false,
   "sideBar": false,
   "skip_h1_title": false,
   "title_cell": "Table of Contents",
   "title_sidebar": "Contents",
   "toc_cell": false,
   "toc_position": {},
   "toc_section_display": false,
   "toc_window_display": false
  },
  "toc-autonumbering": true,
  "toc-showmarkdowntxt": false
 },
 "nbformat": 4,
 "nbformat_minor": 4
}
