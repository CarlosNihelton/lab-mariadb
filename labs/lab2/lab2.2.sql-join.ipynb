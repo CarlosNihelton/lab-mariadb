{
 "cells": [
  {
   "cell_type": "markdown",
   "metadata": {},
   "source": [
    "# MariaDB SQL"
   ]
  },
  {
   "cell_type": "markdown",
   "metadata": {},
   "source": [
    "## Administrative SQL Statements \n",
    "\n",
    "Documentação oficial MariaDB: https://mariadb.com/kb/en/about-show/\n",
    "\n",
    "### Show databases"
   ]
  },
  {
   "cell_type": "code",
   "execution_count": 1,
   "metadata": {},
   "outputs": [
    {
     "data": {
      "text/html": [
       "<html><body><table border=\"1\"><tr><th style=\"text-align:left;white-space:pre\">Database</th></tr><tr><td style=\"text-align:left;white-space:pre\">information_schema</td></tr><tr><td style=\"text-align:left;white-space:pre\">movielens</td></tr><tr><td style=\"text-align:left;white-space:pre\">taxis</td></tr></table></body></html>"
      ]
     },
     "metadata": {},
     "output_type": "display_data"
    }
   ],
   "source": [
    "SHOW databases;"
   ]
  },
  {
   "cell_type": "markdown",
   "metadata": {},
   "source": [
    "### Use"
   ]
  },
  {
   "cell_type": "code",
   "execution_count": 2,
   "metadata": {},
   "outputs": [
    {
     "data": {
      "text/html": [
       "Query OK"
      ]
     },
     "metadata": {},
     "output_type": "display_data"
    }
   ],
   "source": [
    "USE movielens;"
   ]
  },
  {
   "cell_type": "markdown",
   "metadata": {},
   "source": [
    "### Show tables"
   ]
  },
  {
   "cell_type": "code",
   "execution_count": 3,
   "metadata": {},
   "outputs": [
    {
     "data": {
      "text/html": [
       "<html><body><table border=\"1\"><tr><th style=\"text-align:left;white-space:pre\">Tables_in_movielens</th></tr><tr><td style=\"text-align:left;white-space:pre\">genres</td></tr><tr><td style=\"text-align:left;white-space:pre\">genres_movies</td></tr><tr><td style=\"text-align:left;white-space:pre\">movies</td></tr><tr><td style=\"text-align:left;white-space:pre\">occupations</td></tr><tr><td style=\"text-align:left;white-space:pre\">ratings</td></tr><tr><td style=\"text-align:left;white-space:pre\">users</td></tr></table></body></html>"
      ]
     },
     "metadata": {},
     "output_type": "display_data"
    }
   ],
   "source": [
    "SHOW tables;"
   ]
  },
  {
   "cell_type": "markdown",
   "metadata": {},
   "source": [
    "O modificador `FULL` retorna uma segunda coluna `Table_type`. Os valores desta coluna podem ser: `BASE TABLE` para uma tabela, `VIEW` para uma view ou `SEQUENCE` para uma sequência."
   ]
  },
  {
   "cell_type": "code",
   "execution_count": 4,
   "metadata": {},
   "outputs": [
    {
     "data": {
      "text/html": [
       "<html><body><table border=\"1\"><tr><th style=\"text-align:left;white-space:pre\">Tables_in_movielens</th><th style=\"text-align:left;white-space:pre\">Table_type</th></tr><tr><td style=\"text-align:left;white-space:pre\">genres</td><td style=\"text-align:left;white-space:pre\">BASE TABLE</td></tr><tr><td style=\"text-align:left;white-space:pre\">genres_movies</td><td style=\"text-align:left;white-space:pre\">BASE TABLE</td></tr><tr><td style=\"text-align:left;white-space:pre\">movies</td><td style=\"text-align:left;white-space:pre\">BASE TABLE</td></tr><tr><td style=\"text-align:left;white-space:pre\">occupations</td><td style=\"text-align:left;white-space:pre\">BASE TABLE</td></tr><tr><td style=\"text-align:left;white-space:pre\">ratings</td><td style=\"text-align:left;white-space:pre\">BASE TABLE</td></tr><tr><td style=\"text-align:left;white-space:pre\">users</td><td style=\"text-align:left;white-space:pre\">BASE TABLE</td></tr></table></body></html>"
      ]
     },
     "metadata": {},
     "output_type": "display_data"
    }
   ],
   "source": [
    "SHOW FULL TABLES;"
   ]
  },
  {
   "cell_type": "code",
   "execution_count": 5,
   "metadata": {},
   "outputs": [
    {
     "data": {
      "text/html": [
       "<html><body><table border=\"1\"><tr><th style=\"text-align:left;white-space:pre\">Tables_in_movielens</th><th style=\"text-align:left;white-space:pre\">Table_type</th></tr><tr><td style=\"text-align:left;white-space:pre\">genres</td><td style=\"text-align:left;white-space:pre\">BASE TABLE</td></tr><tr><td style=\"text-align:left;white-space:pre\">genres_movies</td><td style=\"text-align:left;white-space:pre\">BASE TABLE</td></tr></table></body></html>"
      ]
     },
     "metadata": {},
     "output_type": "display_data"
    }
   ],
   "source": [
    "SHOW FULL TABLES WHERE Tables_in_movielens LIKE 'g%';"
   ]
  },
  {
   "cell_type": "code",
   "execution_count": 6,
   "metadata": {},
   "outputs": [
    {
     "data": {
      "text/html": [
       "<html><body><table border=\"1\"><tr><th style=\"text-align:left;white-space:pre\">Name</th><th style=\"text-align:left;white-space:pre\">Engine</th><th style=\"text-align:left;white-space:pre\">Version</th><th style=\"text-align:left;white-space:pre\">Row_format</th><th style=\"text-align:left;white-space:pre\">Rows</th><th style=\"text-align:left;white-space:pre\">Avg_row_length</th><th style=\"text-align:left;white-space:pre\">Data_length</th><th style=\"text-align:left;white-space:pre\">Max_data_length</th><th style=\"text-align:left;white-space:pre\">Index_length</th><th style=\"text-align:left;white-space:pre\">Data_free</th><th style=\"text-align:left;white-space:pre\">Auto_increment</th><th style=\"text-align:left;white-space:pre\">Create_time</th><th style=\"text-align:left;white-space:pre\">Update_time</th><th style=\"text-align:left;white-space:pre\">Check_time</th><th style=\"text-align:left;white-space:pre\">Collation</th><th style=\"text-align:left;white-space:pre\">Checksum</th><th style=\"text-align:left;white-space:pre\">Create_options</th><th style=\"text-align:left;white-space:pre\">Comment</th><th style=\"text-align:left;white-space:pre\">Max_index_length</th><th style=\"text-align:left;white-space:pre\">Temporary</th></tr><tr><td style=\"text-align:left;white-space:pre\">genres</td><td style=\"text-align:left;white-space:pre\">InnoDB</td><td style=\"text-align:left;white-space:pre\">10</td><td style=\"text-align:left;white-space:pre\">Dynamic</td><td style=\"text-align:left;white-space:pre\">18</td><td style=\"text-align:left;white-space:pre\">910</td><td style=\"text-align:left;white-space:pre\">16384</td><td style=\"text-align:left;white-space:pre\">0</td><td style=\"text-align:left;white-space:pre\">0</td><td style=\"text-align:left;white-space:pre\">0</td><td style=\"text-align:left;white-space:pre\">NULL</td><td style=\"text-align:left;white-space:pre\">2021-07-03 01:35:32</td><td style=\"text-align:left;white-space:pre\">2021-07-03 01:35:32</td><td style=\"text-align:left;white-space:pre\">NULL</td><td style=\"text-align:left;white-space:pre\">latin1_swedish_ci</td><td style=\"text-align:left;white-space:pre\">NULL</td><td style=\"text-align:left;white-space:pre\"></td><td style=\"text-align:left;white-space:pre\"></td><td style=\"text-align:left;white-space:pre\">0</td><td style=\"text-align:left;white-space:pre\">N</td></tr><tr><td style=\"text-align:left;white-space:pre\">genres_movies</td><td style=\"text-align:left;white-space:pre\">InnoDB</td><td style=\"text-align:left;white-space:pre\">10</td><td style=\"text-align:left;white-space:pre\">Dynamic</td><td style=\"text-align:left;white-space:pre\">3165</td><td style=\"text-align:left;white-space:pre\">41</td><td style=\"text-align:left;white-space:pre\">131072</td><td style=\"text-align:left;white-space:pre\">0</td><td style=\"text-align:left;white-space:pre\">0</td><td style=\"text-align:left;white-space:pre\">0</td><td style=\"text-align:left;white-space:pre\">NULL</td><td style=\"text-align:left;white-space:pre\">2021-07-03 01:35:32</td><td style=\"text-align:left;white-space:pre\">2021-07-03 01:35:32</td><td style=\"text-align:left;white-space:pre\">NULL</td><td style=\"text-align:left;white-space:pre\">latin1_swedish_ci</td><td style=\"text-align:left;white-space:pre\">NULL</td><td style=\"text-align:left;white-space:pre\"></td><td style=\"text-align:left;white-space:pre\"></td><td style=\"text-align:left;white-space:pre\">0</td><td style=\"text-align:left;white-space:pre\">N</td></tr><tr><td style=\"text-align:left;white-space:pre\">movies</td><td style=\"text-align:left;white-space:pre\">InnoDB</td><td style=\"text-align:left;white-space:pre\">10</td><td style=\"text-align:left;white-space:pre\">Dynamic</td><td style=\"text-align:left;white-space:pre\">1637</td><td style=\"text-align:left;white-space:pre\">80</td><td style=\"text-align:left;white-space:pre\">131072</td><td style=\"text-align:left;white-space:pre\">0</td><td style=\"text-align:left;white-space:pre\">0</td><td style=\"text-align:left;white-space:pre\">0</td><td style=\"text-align:left;white-space:pre\">NULL</td><td style=\"text-align:left;white-space:pre\">2021-07-03 01:35:31</td><td style=\"text-align:left;white-space:pre\">2021-07-03 01:35:32</td><td style=\"text-align:left;white-space:pre\">NULL</td><td style=\"text-align:left;white-space:pre\">latin1_swedish_ci</td><td style=\"text-align:left;white-space:pre\">NULL</td><td style=\"text-align:left;white-space:pre\"></td><td style=\"text-align:left;white-space:pre\"></td><td style=\"text-align:left;white-space:pre\">0</td><td style=\"text-align:left;white-space:pre\">N</td></tr><tr><td style=\"text-align:left;white-space:pre\">occupations</td><td style=\"text-align:left;white-space:pre\">InnoDB</td><td style=\"text-align:left;white-space:pre\">10</td><td style=\"text-align:left;white-space:pre\">Dynamic</td><td style=\"text-align:left;white-space:pre\">21</td><td style=\"text-align:left;white-space:pre\">780</td><td style=\"text-align:left;white-space:pre\">16384</td><td style=\"text-align:left;white-space:pre\">0</td><td style=\"text-align:left;white-space:pre\">0</td><td style=\"text-align:left;white-space:pre\">0</td><td style=\"text-align:left;white-space:pre\">NULL</td><td style=\"text-align:left;white-space:pre\">2021-07-03 01:35:31</td><td style=\"text-align:left;white-space:pre\">2021-07-03 01:35:31</td><td style=\"text-align:left;white-space:pre\">NULL</td><td style=\"text-align:left;white-space:pre\">latin1_swedish_ci</td><td style=\"text-align:left;white-space:pre\">NULL</td><td style=\"text-align:left;white-space:pre\"></td><td style=\"text-align:left;white-space:pre\"></td><td style=\"text-align:left;white-space:pre\">0</td><td style=\"text-align:left;white-space:pre\">N</td></tr><tr><td style=\"text-align:left;white-space:pre\">ratings</td><td style=\"text-align:left;white-space:pre\">InnoDB</td><td style=\"text-align:left;white-space:pre\">10</td><td style=\"text-align:left;white-space:pre\">Dynamic</td><td style=\"text-align:left;white-space:pre\">100489</td><td style=\"text-align:left;white-space:pre\">47</td><td style=\"text-align:left;white-space:pre\">4734976</td><td style=\"text-align:left;white-space:pre\">0</td><td style=\"text-align:left;white-space:pre\">0</td><td style=\"text-align:left;white-space:pre\">4194304</td><td style=\"text-align:left;white-space:pre\">NULL</td><td style=\"text-align:left;white-space:pre\">2021-07-03 01:35:31</td><td style=\"text-align:left;white-space:pre\">2021-07-03 01:35:31</td><td style=\"text-align:left;white-space:pre\">NULL</td><td style=\"text-align:left;white-space:pre\">latin1_swedish_ci</td><td style=\"text-align:left;white-space:pre\">NULL</td><td style=\"text-align:left;white-space:pre\"></td><td style=\"text-align:left;white-space:pre\"></td><td style=\"text-align:left;white-space:pre\">0</td><td style=\"text-align:left;white-space:pre\">N</td></tr><tr><td style=\"text-align:left;white-space:pre\">users</td><td style=\"text-align:left;white-space:pre\">InnoDB</td><td style=\"text-align:left;white-space:pre\">10</td><td style=\"text-align:left;white-space:pre\">Dynamic</td><td style=\"text-align:left;white-space:pre\">1054</td><td style=\"text-align:left;white-space:pre\">62</td><td style=\"text-align:left;white-space:pre\">65536</td><td style=\"text-align:left;white-space:pre\">0</td><td style=\"text-align:left;white-space:pre\">0</td><td style=\"text-align:left;white-space:pre\">0</td><td style=\"text-align:left;white-space:pre\">NULL</td><td style=\"text-align:left;white-space:pre\">2021-07-03 01:35:31</td><td style=\"text-align:left;white-space:pre\">2021-07-03 01:35:31</td><td style=\"text-align:left;white-space:pre\">NULL</td><td style=\"text-align:left;white-space:pre\">latin1_swedish_ci</td><td style=\"text-align:left;white-space:pre\">NULL</td><td style=\"text-align:left;white-space:pre\"></td><td style=\"text-align:left;white-space:pre\"></td><td style=\"text-align:left;white-space:pre\">0</td><td style=\"text-align:left;white-space:pre\">N</td></tr></table></body></html>"
      ]
     },
     "metadata": {},
     "output_type": "display_data"
    }
   ],
   "source": [
    "SHOW TABLE STATUS;"
   ]
  },
  {
   "cell_type": "markdown",
   "metadata": {},
   "source": [
    "### Show create table"
   ]
  },
  {
   "cell_type": "code",
   "execution_count": 7,
   "metadata": {},
   "outputs": [
    {
     "data": {
      "text/html": [
       "<html><body><table border=\"1\"><tr><th style=\"text-align:left;white-space:pre\">Table</th><th style=\"text-align:left;white-space:pre\">Create Table</th></tr><tr><td style=\"text-align:left;white-space:pre\">ratings</td><td style=\"text-align:left;white-space:pre\">CREATE TABLE `ratings` (\r\n",
       "  `id` int(11) NOT NULL,\r\n",
       "  `user_id` int(11) DEFAULT NULL,\r\n",
       "  `movie_id` int(11) DEFAULT NULL,\r\n",
       "  `rating` int(11) DEFAULT NULL,\r\n",
       "  `rated_at` timestamp NOT NULL DEFAULT current_timestamp() ON UPDATE current_timestamp(),\r\n",
       "  PRIMARY KEY (`id`)\r\n",
       ") ENGINE=InnoDB DEFAULT CHARSET=latin1</td></tr></table></body></html>"
      ]
     },
     "metadata": {},
     "output_type": "display_data"
    }
   ],
   "source": [
    "SHOW CREATE table ratings;"
   ]
  },
  {
   "cell_type": "markdown",
   "metadata": {},
   "source": [
    "### Data Definition - Databases\n",
    "\n",
    "#### Create Database"
   ]
  },
  {
   "cell_type": "markdown",
   "metadata": {},
   "source": [
    "**Exemplo dos Táxis**\n",
    "\n",
    "<img src=\"../../resources/images/TaxiER.png\" width=\"1000px\">\n",
    "\n",
    "Baseado no exemplo criado por prof. Geovane Cayres Magalhães http://www.ic.unicamp.br/~geovane/mo410-091/caso.html"
   ]
  },
  {
   "cell_type": "code",
   "execution_count": 8,
   "metadata": {},
   "outputs": [
    {
     "data": {
      "text/html": [
       "Query OK"
      ]
     },
     "metadata": {},
     "output_type": "display_data"
    }
   ],
   "source": [
    "CREATE database if NOT exists taxis;"
   ]
  },
  {
   "cell_type": "code",
   "execution_count": 9,
   "metadata": {},
   "outputs": [
    {
     "data": {
      "text/html": [
       "<html><body><table border=\"1\"><tr><th style=\"text-align:left;white-space:pre\">Database</th></tr><tr><td style=\"text-align:left;white-space:pre\">information_schema</td></tr><tr><td style=\"text-align:left;white-space:pre\">movielens</td></tr><tr><td style=\"text-align:left;white-space:pre\">taxis</td></tr></table></body></html>"
      ]
     },
     "metadata": {},
     "output_type": "display_data"
    }
   ],
   "source": [
    "show databases;"
   ]
  },
  {
   "cell_type": "markdown",
   "metadata": {},
   "source": [
    "#### Drop Database"
   ]
  },
  {
   "cell_type": "code",
   "execution_count": null,
   "metadata": {},
   "outputs": [],
   "source": [
    "DROP database if exists taxis;"
   ]
  },
  {
   "cell_type": "code",
   "execution_count": null,
   "metadata": {},
   "outputs": [],
   "source": [
    "show databases;"
   ]
  },
  {
   "cell_type": "code",
   "execution_count": null,
   "metadata": {},
   "outputs": [],
   "source": [
    "CREATE database if NOT exists taxis;\n",
    "USE taxis;"
   ]
  },
  {
   "cell_type": "markdown",
   "metadata": {},
   "source": [
    "### Data Definition - Tables\n",
    "\n",
    "#### Create Table"
   ]
  },
  {
   "cell_type": "code",
   "execution_count": null,
   "metadata": {},
   "outputs": [],
   "source": [
    "SHOW tables;"
   ]
  },
  {
   "cell_type": "code",
   "execution_count": null,
   "metadata": {},
   "outputs": [],
   "source": [
    "CREATE TABLE Taxi (\n",
    "  Placa VARCHAR(7) NOT NULL,\n",
    "  Marca VARCHAR(30) NOT NULL,\n",
    "  Modelo VARCHAR(30) NOT NULL,\n",
    "  AnoFab INTEGER,\n",
    "  Licenca VARCHAR(9),\n",
    "  PRIMARY KEY(Placa)\n",
    ");"
   ]
  },
  {
   "cell_type": "code",
   "execution_count": null,
   "metadata": {},
   "outputs": [],
   "source": [
    "SHOW tables;"
   ]
  },
  {
   "cell_type": "code",
   "execution_count": null,
   "metadata": {},
   "outputs": [],
   "source": [
    "CREATE TABLE IF NOT EXISTS Taxi (\n",
    "  Placa VARCHAR(7) NOT NULL,\n",
    "  Marca VARCHAR(30) NOT NULL,\n",
    "  Modelo VARCHAR(30) NOT NULL,\n",
    "  AnoFab INTEGER,\n",
    "  Licenca VARCHAR(9),\n",
    "  PRIMARY KEY(Placa)\n",
    ");\n",
    "\n",
    "CREATE TABLE Cliente (\n",
    "  CliId VARCHAR(4) NOT NULL,\n",
    "  Nome VARCHAR(80) NOT NULL,\n",
    "  CPF VARCHAR(14) NOT NULL,\n",
    "  PRIMARY KEY(CliId)\n",
    ");\n",
    "\n",
    "CREATE TABLE Corrida (\n",
    "  CliId VARCHAR(4) NOT NULL,\n",
    "  Placa VARCHAR(7) NOT NULL,\n",
    "  DataPedido DATE NOT NULL,\n",
    "  PRIMARY KEY(CliId, Placa, DataPedido),\n",
    "  FOREIGN KEY(CliId)\n",
    "    REFERENCES Cliente(CliId)\n",
    "      ON DELETE NO ACTION\n",
    "      ON UPDATE NO ACTION,\n",
    "  FOREIGN KEY(Placa)\n",
    "    REFERENCES Taxi(Placa)\n",
    "      ON DELETE NO ACTION\n",
    "      ON UPDATE NO ACTION\n",
    ");"
   ]
  },
  {
   "cell_type": "code",
   "execution_count": null,
   "metadata": {},
   "outputs": [],
   "source": [
    "SHOW tables;"
   ]
  },
  {
   "cell_type": "markdown",
   "metadata": {},
   "source": [
    "#### Rename Table"
   ]
  },
  {
   "cell_type": "code",
   "execution_count": null,
   "metadata": {},
   "outputs": [],
   "source": [
    "RENAME TABLE Cliente TO Cliente_new;"
   ]
  },
  {
   "cell_type": "code",
   "execution_count": null,
   "metadata": {},
   "outputs": [],
   "source": [
    "SHOW tables;"
   ]
  },
  {
   "cell_type": "markdown",
   "metadata": {},
   "source": [
    "#### Alter Table"
   ]
  },
  {
   "cell_type": "code",
   "execution_count": null,
   "metadata": {},
   "outputs": [],
   "source": [
    "SHOW COLUMNS FROM Cliente_new;"
   ]
  },
  {
   "cell_type": "code",
   "execution_count": null,
   "metadata": {},
   "outputs": [],
   "source": [
    "ALTER TABLE Cliente_new ADD Rg INT;"
   ]
  },
  {
   "cell_type": "code",
   "execution_count": null,
   "metadata": {},
   "outputs": [],
   "source": [
    "SHOW COLUMNS FROM Cliente_new;"
   ]
  },
  {
   "cell_type": "code",
   "execution_count": null,
   "metadata": {},
   "outputs": [],
   "source": [
    "ALTER TABLE Cliente_new MODIFY Rg BIGINT;"
   ]
  },
  {
   "cell_type": "code",
   "execution_count": null,
   "metadata": {},
   "outputs": [],
   "source": [
    "SHOW COLUMNS FROM Cliente_new;"
   ]
  },
  {
   "cell_type": "code",
   "execution_count": null,
   "metadata": {},
   "outputs": [],
   "source": [
    "ALTER TABLE Cliente_new DROP Rg;"
   ]
  },
  {
   "cell_type": "code",
   "execution_count": null,
   "metadata": {},
   "outputs": [],
   "source": [
    "SHOW COLUMNS FROM Cliente_new;"
   ]
  },
  {
   "cell_type": "markdown",
   "metadata": {},
   "source": [
    "#### Drop Table"
   ]
  },
  {
   "cell_type": "markdown",
   "metadata": {},
   "source": [
    "Erro por motivo de relação com outras tabelas (chave estrangeira)"
   ]
  },
  {
   "cell_type": "code",
   "execution_count": null,
   "metadata": {},
   "outputs": [],
   "source": [
    "DROP TABLE IF EXISTS Cliente_new;"
   ]
  },
  {
   "cell_type": "code",
   "execution_count": null,
   "metadata": {},
   "outputs": [],
   "source": [
    "DROP TABLE IF EXISTS Corrida;\n",
    "DROP TABLE IF EXISTS Taxi;\n",
    "DROP TABLE IF EXISTS Cliente_new;"
   ]
  },
  {
   "cell_type": "code",
   "execution_count": null,
   "metadata": {},
   "outputs": [],
   "source": [
    "CREATE TABLE IF NOT EXISTS Taxi (\n",
    "  Placa VARCHAR(7) NOT NULL,\n",
    "  Marca VARCHAR(30) NOT NULL,\n",
    "  Modelo VARCHAR(30) NOT NULL,\n",
    "  AnoFab INTEGER,\n",
    "  Licenca VARCHAR(9),\n",
    "  PRIMARY KEY(Placa)\n",
    ");\n",
    "\n",
    "CREATE TABLE Cliente (\n",
    "  CliId VARCHAR(4) NOT NULL,\n",
    "  Nome VARCHAR(80) NOT NULL,\n",
    "  CPF VARCHAR(14) NOT NULL,\n",
    "  PRIMARY KEY(CliId)\n",
    ");\n",
    "\n",
    "CREATE TABLE Corrida (\n",
    "  CliId VARCHAR(4) NOT NULL,\n",
    "  Placa VARCHAR(7) NOT NULL,\n",
    "  DataPedido DATE NOT NULL,\n",
    "  PRIMARY KEY(CliId, Placa, DataPedido),\n",
    "  FOREIGN KEY(CliId)\n",
    "    REFERENCES Cliente(CliId)\n",
    "      ON DELETE NO ACTION\n",
    "      ON UPDATE NO ACTION,\n",
    "  FOREIGN KEY(Placa)\n",
    "    REFERENCES Taxi(Placa)\n",
    "      ON DELETE NO ACTION\n",
    "      ON UPDATE NO ACTION\n",
    ");"
   ]
  },
  {
   "cell_type": "markdown",
   "metadata": {},
   "source": [
    "### Data Manipulation (CRUD)\n",
    "\n",
    "#### Insert"
   ]
  },
  {
   "cell_type": "code",
   "execution_count": null,
   "metadata": {},
   "outputs": [],
   "source": [
    "SHOW TABLE STATUS;"
   ]
  },
  {
   "cell_type": "code",
   "execution_count": null,
   "metadata": {},
   "outputs": [],
   "source": [
    "INSERT INTO Cliente VALUES ('1532', 'Asdrúbal', '448.754.253-65');\n",
    "INSERT INTO Cliente VALUES ('1755', 'Doriana', '567.387.387-44');\n",
    "INSERT INTO Cliente VALUES ('1780', 'Quincas', '546.373.762-02');\n",
    "INSERT INTO Cliente VALUES ('1888', 'Melissa', '123.456.789-10');\n",
    "\n",
    "INSERT INTO Taxi VALUES ('DAE6534', 'Ford', 'Fiesta', 1999, 'MN572345');\n",
    "INSERT INTO Taxi VALUES ('DKL4598', 'Wolkswagen', 'Gol', 2001, 'AU876543');\n",
    "INSERT INTO Taxi VALUES ('DKL7878', 'Ford', 'Fiesta', 2001, 'OP102938');\n",
    "INSERT INTO Taxi VALUES ('JDM8776', 'Wolkswagen', 'Santana', 2002, 'QM365923');\n",
    "INSERT INTO Taxi VALUES ('JJM3692', 'Chevrolet', 'Corsa', 1999, 'UU335577');\n",
    "\n",
    "INSERT INTO Corrida VALUES ('1755', 'DAE6534', '2003-02-15');\n",
    "INSERT INTO Corrida VALUES ('1780', 'JDM8776', '2003-02-18');\n",
    "INSERT INTO Corrida VALUES ('1755', 'DKL7878', '2003-02-16');\n",
    "INSERT INTO Corrida VALUES ('1780', 'DKL4598', '2003-02-17');\n",
    "INSERT INTO Corrida VALUES ('1532', 'DKL4598', '2003-02-18');\n",
    "INSERT INTO Corrida VALUES ('1780', 'DAE6534', '2003-02-16');\n",
    "INSERT INTO Corrida VALUES ('1755', 'DAE6534', '2003-02-18');\n",
    "INSERT INTO Corrida VALUES ('1532', 'DKL4598', '2003-02-20');"
   ]
  },
  {
   "cell_type": "code",
   "execution_count": null,
   "metadata": {},
   "outputs": [],
   "source": [
    "SHOW TABLE STATUS;"
   ]
  },
  {
   "cell_type": "markdown",
   "metadata": {},
   "source": [
    "#### Select"
   ]
  },
  {
   "cell_type": "markdown",
   "metadata": {},
   "source": [
    "##### Todos os Táxis com todos os atributos"
   ]
  },
  {
   "cell_type": "code",
   "execution_count": null,
   "metadata": {},
   "outputs": [],
   "source": [
    "SELECT * FROM Taxi;"
   ]
  },
  {
   "cell_type": "markdown",
   "metadata": {},
   "source": [
    "##### Taxis fabricados depois do ano 2000"
   ]
  },
  {
   "cell_type": "code",
   "execution_count": null,
   "metadata": {},
   "outputs": [],
   "source": [
    "SELECT * FROM Taxi WHERE AnoFab > 2000;"
   ]
  },
  {
   "cell_type": "markdown",
   "metadata": {},
   "source": [
    "#### Update\n"
   ]
  },
  {
   "cell_type": "code",
   "execution_count": null,
   "metadata": {},
   "outputs": [],
   "source": [
    "SELECT * FROM Taxi;"
   ]
  },
  {
   "cell_type": "code",
   "execution_count": null,
   "metadata": {},
   "outputs": [],
   "source": [
    "UPDATE Taxi T\n",
    "       SET T.AnoFab = 2002\n",
    "       WHERE T.Placa = 'DKL4598';\n",
    "       "
   ]
  },
  {
   "cell_type": "code",
   "execution_count": null,
   "metadata": {},
   "outputs": [],
   "source": [
    "SELECT * FROM Taxi;"
   ]
  },
  {
   "cell_type": "markdown",
   "metadata": {},
   "source": [
    "#### Delete"
   ]
  },
  {
   "cell_type": "markdown",
   "metadata": {},
   "source": [
    "##### Apagando o Táxi de placa `DAE6534`"
   ]
  },
  {
   "cell_type": "code",
   "execution_count": null,
   "metadata": {},
   "outputs": [],
   "source": [
    "SELECT * FROM Corrida;"
   ]
  },
  {
   "cell_type": "code",
   "execution_count": null,
   "metadata": {},
   "outputs": [],
   "source": [
    "DELETE FROM Corrida WHERE Corrida.Placa = \"DAE6534\";"
   ]
  },
  {
   "cell_type": "code",
   "execution_count": null,
   "metadata": {},
   "outputs": [],
   "source": [
    "SELECT * FROM Corrida;"
   ]
  },
  {
   "cell_type": "markdown",
   "metadata": {},
   "source": [
    "##### Violação de Integridade\n",
    "\n",
    "Apagando um Táxi que possui corridas associadas\n",
    "\n",
    "Este exemplo irá gerar um erro de violação de chave estrangeira."
   ]
  },
  {
   "cell_type": "code",
   "execution_count": null,
   "metadata": {},
   "outputs": [],
   "source": [
    "SELECT * FROM Taxi;"
   ]
  },
  {
   "cell_type": "code",
   "execution_count": null,
   "metadata": {},
   "outputs": [],
   "source": [
    "DELETE FROM Taxi WHERE Taxi.Placa = 'DKL4598';"
   ]
  },
  {
   "cell_type": "markdown",
   "metadata": {},
   "source": [
    "# SELECT Básico"
   ]
  },
  {
   "cell_type": "markdown",
   "metadata": {},
   "source": [
    "### Todos os Táxis com todos os atributos"
   ]
  },
  {
   "cell_type": "code",
   "execution_count": 14,
   "metadata": {},
   "outputs": [
    {
     "data": {
      "text/html": [
       "<html><body><table border=\"1\"><tr><th style=\"text-align:left;white-space:pre\">Placa</th><th style=\"text-align:left;white-space:pre\">Marca</th><th style=\"text-align:left;white-space:pre\">Modelo</th><th style=\"text-align:left;white-space:pre\">AnoFab</th><th style=\"text-align:left;white-space:pre\">Licenca</th></tr><tr><td style=\"text-align:left;white-space:pre\">DAE6534</td><td style=\"text-align:left;white-space:pre\">Ford</td><td style=\"text-align:left;white-space:pre\">Fiesta</td><td style=\"text-align:left;white-space:pre\">1999</td><td style=\"text-align:left;white-space:pre\">MN572345</td></tr><tr><td style=\"text-align:left;white-space:pre\">DKL4598</td><td style=\"text-align:left;white-space:pre\">Wolkswagen</td><td style=\"text-align:left;white-space:pre\">Gol</td><td style=\"text-align:left;white-space:pre\">2001</td><td style=\"text-align:left;white-space:pre\">AU876543</td></tr><tr><td style=\"text-align:left;white-space:pre\">DKL7878</td><td style=\"text-align:left;white-space:pre\">Ford</td><td style=\"text-align:left;white-space:pre\">Fiesta</td><td style=\"text-align:left;white-space:pre\">2001</td><td style=\"text-align:left;white-space:pre\">OP102938</td></tr><tr><td style=\"text-align:left;white-space:pre\">JDM8776</td><td style=\"text-align:left;white-space:pre\">Wolkswagen</td><td style=\"text-align:left;white-space:pre\">Santana</td><td style=\"text-align:left;white-space:pre\">2002</td><td style=\"text-align:left;white-space:pre\">QM365923</td></tr><tr><td style=\"text-align:left;white-space:pre\">JJM3692</td><td style=\"text-align:left;white-space:pre\">Chevrolet</td><td style=\"text-align:left;white-space:pre\">Corsa</td><td style=\"text-align:left;white-space:pre\">1999</td><td style=\"text-align:left;white-space:pre\">UU335577</td></tr></table></body></html>"
      ]
     },
     "metadata": {},
     "output_type": "display_data"
    }
   ],
   "source": [
    "SELECT * FROM Taxi;"
   ]
  },
  {
   "cell_type": "markdown",
   "metadata": {},
   "source": [
    "### Marca e Modelo dos Taxis disponíveis"
   ]
  },
  {
   "cell_type": "code",
   "execution_count": 15,
   "metadata": {
    "scrolled": true
   },
   "outputs": [
    {
     "data": {
      "text/html": [
       "<html><body><table border=\"1\"><tr><th style=\"text-align:left;white-space:pre\">Marca</th><th style=\"text-align:left;white-space:pre\">Modelo</th></tr><tr><td style=\"text-align:left;white-space:pre\">Ford</td><td style=\"text-align:left;white-space:pre\">Fiesta</td></tr><tr><td style=\"text-align:left;white-space:pre\">Wolkswagen</td><td style=\"text-align:left;white-space:pre\">Gol</td></tr><tr><td style=\"text-align:left;white-space:pre\">Ford</td><td style=\"text-align:left;white-space:pre\">Fiesta</td></tr><tr><td style=\"text-align:left;white-space:pre\">Wolkswagen</td><td style=\"text-align:left;white-space:pre\">Santana</td></tr><tr><td style=\"text-align:left;white-space:pre\">Chevrolet</td><td style=\"text-align:left;white-space:pre\">Corsa</td></tr></table></body></html>"
      ]
     },
     "metadata": {},
     "output_type": "display_data"
    }
   ],
   "source": [
    "SELECT Marca, Modelo FROM Taxi;"
   ]
  },
  {
   "cell_type": "markdown",
   "metadata": {},
   "source": [
    "### Taxis fabricados depois do ano 2000"
   ]
  },
  {
   "cell_type": "code",
   "execution_count": 16,
   "metadata": {},
   "outputs": [
    {
     "data": {
      "text/html": [
       "<html><body><table border=\"1\"><tr><th style=\"text-align:left;white-space:pre\">Placa</th><th style=\"text-align:left;white-space:pre\">Marca</th><th style=\"text-align:left;white-space:pre\">Modelo</th><th style=\"text-align:left;white-space:pre\">AnoFab</th><th style=\"text-align:left;white-space:pre\">Licenca</th></tr><tr><td style=\"text-align:left;white-space:pre\">DKL4598</td><td style=\"text-align:left;white-space:pre\">Wolkswagen</td><td style=\"text-align:left;white-space:pre\">Gol</td><td style=\"text-align:left;white-space:pre\">2001</td><td style=\"text-align:left;white-space:pre\">AU876543</td></tr><tr><td style=\"text-align:left;white-space:pre\">DKL7878</td><td style=\"text-align:left;white-space:pre\">Ford</td><td style=\"text-align:left;white-space:pre\">Fiesta</td><td style=\"text-align:left;white-space:pre\">2001</td><td style=\"text-align:left;white-space:pre\">OP102938</td></tr><tr><td style=\"text-align:left;white-space:pre\">JDM8776</td><td style=\"text-align:left;white-space:pre\">Wolkswagen</td><td style=\"text-align:left;white-space:pre\">Santana</td><td style=\"text-align:left;white-space:pre\">2002</td><td style=\"text-align:left;white-space:pre\">QM365923</td></tr></table></body></html>"
      ]
     },
     "metadata": {},
     "output_type": "display_data"
    }
   ],
   "source": [
    "SELECT * FROM Taxi WHERE AnoFab > 2000;"
   ]
  },
  {
   "cell_type": "markdown",
   "metadata": {},
   "source": [
    "### Placas que comecem com DK"
   ]
  },
  {
   "cell_type": "code",
   "execution_count": 17,
   "metadata": {},
   "outputs": [
    {
     "data": {
      "text/html": [
       "<html><body><table border=\"1\"><tr><th style=\"text-align:left;white-space:pre\">Placa</th><th style=\"text-align:left;white-space:pre\">Marca</th><th style=\"text-align:left;white-space:pre\">Modelo</th><th style=\"text-align:left;white-space:pre\">AnoFab</th><th style=\"text-align:left;white-space:pre\">Licenca</th></tr><tr><td style=\"text-align:left;white-space:pre\">DKL4598</td><td style=\"text-align:left;white-space:pre\">Wolkswagen</td><td style=\"text-align:left;white-space:pre\">Gol</td><td style=\"text-align:left;white-space:pre\">2001</td><td style=\"text-align:left;white-space:pre\">AU876543</td></tr><tr><td style=\"text-align:left;white-space:pre\">DKL7878</td><td style=\"text-align:left;white-space:pre\">Ford</td><td style=\"text-align:left;white-space:pre\">Fiesta</td><td style=\"text-align:left;white-space:pre\">2001</td><td style=\"text-align:left;white-space:pre\">OP102938</td></tr></table></body></html>"
      ]
     },
     "metadata": {},
     "output_type": "display_data"
    }
   ],
   "source": [
    "SELECT * FROM Taxi WHERE placa LIKE 'DK%';"
   ]
  },
  {
   "cell_type": "markdown",
   "metadata": {},
   "source": [
    "### Placas com '7' na penultima posicao"
   ]
  },
  {
   "cell_type": "code",
   "execution_count": 18,
   "metadata": {},
   "outputs": [
    {
     "data": {
      "text/html": [
       "<html><body><table border=\"1\"><tr><th style=\"text-align:left;white-space:pre\">Placa</th><th style=\"text-align:left;white-space:pre\">Marca</th><th style=\"text-align:left;white-space:pre\">Modelo</th><th style=\"text-align:left;white-space:pre\">AnoFab</th><th style=\"text-align:left;white-space:pre\">Licenca</th></tr><tr><td style=\"text-align:left;white-space:pre\">DKL7878</td><td style=\"text-align:left;white-space:pre\">Ford</td><td style=\"text-align:left;white-space:pre\">Fiesta</td><td style=\"text-align:left;white-space:pre\">2001</td><td style=\"text-align:left;white-space:pre\">OP102938</td></tr><tr><td style=\"text-align:left;white-space:pre\">JDM8776</td><td style=\"text-align:left;white-space:pre\">Wolkswagen</td><td style=\"text-align:left;white-space:pre\">Santana</td><td style=\"text-align:left;white-space:pre\">2002</td><td style=\"text-align:left;white-space:pre\">QM365923</td></tr></table></body></html>"
      ]
     },
     "metadata": {},
     "output_type": "display_data"
    }
   ],
   "source": [
    "SELECT * FROM Taxi WHERE placa LIKE '%7_';"
   ]
  },
  {
   "cell_type": "markdown",
   "metadata": {},
   "source": [
    "# Produto Cartesiano"
   ]
  },
  {
   "cell_type": "markdown",
   "metadata": {},
   "source": [
    "### Produto Cartesiano entre Clientes e Corridas"
   ]
  },
  {
   "cell_type": "code",
   "execution_count": 19,
   "metadata": {},
   "outputs": [
    {
     "data": {
      "text/html": [
       "<html><body><table border=\"1\"><tr><th style=\"text-align:left;white-space:pre\">CliId</th><th style=\"text-align:left;white-space:pre\">Nome</th><th style=\"text-align:left;white-space:pre\">Placa</th><th style=\"text-align:left;white-space:pre\">DataPedido</th></tr><tr><td style=\"text-align:left;white-space:pre\">1532</td><td style=\"text-align:left;white-space:pre\">Asdrúbal</td><td style=\"text-align:left;white-space:pre\">DKL4598</td><td style=\"text-align:left;white-space:pre\">2003-02-18</td></tr><tr><td style=\"text-align:left;white-space:pre\">1755</td><td style=\"text-align:left;white-space:pre\">Doriana</td><td style=\"text-align:left;white-space:pre\">DKL4598</td><td style=\"text-align:left;white-space:pre\">2003-02-18</td></tr><tr><td style=\"text-align:left;white-space:pre\">1780</td><td style=\"text-align:left;white-space:pre\">Quincas</td><td style=\"text-align:left;white-space:pre\">DKL4598</td><td style=\"text-align:left;white-space:pre\">2003-02-18</td></tr><tr><td style=\"text-align:left;white-space:pre\">1888</td><td style=\"text-align:left;white-space:pre\">Melissa</td><td style=\"text-align:left;white-space:pre\">DKL4598</td><td style=\"text-align:left;white-space:pre\">2003-02-18</td></tr><tr><td style=\"text-align:left;white-space:pre\">1532</td><td style=\"text-align:left;white-space:pre\">Asdrúbal</td><td style=\"text-align:left;white-space:pre\">DKL4598</td><td style=\"text-align:left;white-space:pre\">2003-02-20</td></tr><tr><td style=\"text-align:left;white-space:pre\">1755</td><td style=\"text-align:left;white-space:pre\">Doriana</td><td style=\"text-align:left;white-space:pre\">DKL4598</td><td style=\"text-align:left;white-space:pre\">2003-02-20</td></tr><tr><td style=\"text-align:left;white-space:pre\">1780</td><td style=\"text-align:left;white-space:pre\">Quincas</td><td style=\"text-align:left;white-space:pre\">DKL4598</td><td style=\"text-align:left;white-space:pre\">2003-02-20</td></tr><tr><td style=\"text-align:left;white-space:pre\">1888</td><td style=\"text-align:left;white-space:pre\">Melissa</td><td style=\"text-align:left;white-space:pre\">DKL4598</td><td style=\"text-align:left;white-space:pre\">2003-02-20</td></tr><tr><td style=\"text-align:left;white-space:pre\">1532</td><td style=\"text-align:left;white-space:pre\">Asdrúbal</td><td style=\"text-align:left;white-space:pre\">DAE6534</td><td style=\"text-align:left;white-space:pre\">2003-02-15</td></tr><tr><td style=\"text-align:left;white-space:pre\">1755</td><td style=\"text-align:left;white-space:pre\">Doriana</td><td style=\"text-align:left;white-space:pre\">DAE6534</td><td style=\"text-align:left;white-space:pre\">2003-02-15</td></tr><tr><td style=\"text-align:left;white-space:pre\">1780</td><td style=\"text-align:left;white-space:pre\">Quincas</td><td style=\"text-align:left;white-space:pre\">DAE6534</td><td style=\"text-align:left;white-space:pre\">2003-02-15</td></tr><tr><td style=\"text-align:left;white-space:pre\">1888</td><td style=\"text-align:left;white-space:pre\">Melissa</td><td style=\"text-align:left;white-space:pre\">DAE6534</td><td style=\"text-align:left;white-space:pre\">2003-02-15</td></tr><tr><td style=\"text-align:left;white-space:pre\">1532</td><td style=\"text-align:left;white-space:pre\">Asdrúbal</td><td style=\"text-align:left;white-space:pre\">DAE6534</td><td style=\"text-align:left;white-space:pre\">2003-02-18</td></tr><tr><td style=\"text-align:left;white-space:pre\">1755</td><td style=\"text-align:left;white-space:pre\">Doriana</td><td style=\"text-align:left;white-space:pre\">DAE6534</td><td style=\"text-align:left;white-space:pre\">2003-02-18</td></tr><tr><td style=\"text-align:left;white-space:pre\">1780</td><td style=\"text-align:left;white-space:pre\">Quincas</td><td style=\"text-align:left;white-space:pre\">DAE6534</td><td style=\"text-align:left;white-space:pre\">2003-02-18</td></tr><tr><td style=\"text-align:left;white-space:pre\">1888</td><td style=\"text-align:left;white-space:pre\">Melissa</td><td style=\"text-align:left;white-space:pre\">DAE6534</td><td style=\"text-align:left;white-space:pre\">2003-02-18</td></tr><tr><td style=\"text-align:left;white-space:pre\">1532</td><td style=\"text-align:left;white-space:pre\">Asdrúbal</td><td style=\"text-align:left;white-space:pre\">DKL7878</td><td style=\"text-align:left;white-space:pre\">2003-02-16</td></tr><tr><td style=\"text-align:left;white-space:pre\">1755</td><td style=\"text-align:left;white-space:pre\">Doriana</td><td style=\"text-align:left;white-space:pre\">DKL7878</td><td style=\"text-align:left;white-space:pre\">2003-02-16</td></tr><tr><td style=\"text-align:left;white-space:pre\">1780</td><td style=\"text-align:left;white-space:pre\">Quincas</td><td style=\"text-align:left;white-space:pre\">DKL7878</td><td style=\"text-align:left;white-space:pre\">2003-02-16</td></tr><tr><td style=\"text-align:left;white-space:pre\">1888</td><td style=\"text-align:left;white-space:pre\">Melissa</td><td style=\"text-align:left;white-space:pre\">DKL7878</td><td style=\"text-align:left;white-space:pre\">2003-02-16</td></tr><tr><td style=\"text-align:left;white-space:pre\">1532</td><td style=\"text-align:left;white-space:pre\">Asdrúbal</td><td style=\"text-align:left;white-space:pre\">DAE6534</td><td style=\"text-align:left;white-space:pre\">2003-02-16</td></tr><tr><td style=\"text-align:left;white-space:pre\">1755</td><td style=\"text-align:left;white-space:pre\">Doriana</td><td style=\"text-align:left;white-space:pre\">DAE6534</td><td style=\"text-align:left;white-space:pre\">2003-02-16</td></tr><tr><td style=\"text-align:left;white-space:pre\">1780</td><td style=\"text-align:left;white-space:pre\">Quincas</td><td style=\"text-align:left;white-space:pre\">DAE6534</td><td style=\"text-align:left;white-space:pre\">2003-02-16</td></tr><tr><td style=\"text-align:left;white-space:pre\">1888</td><td style=\"text-align:left;white-space:pre\">Melissa</td><td style=\"text-align:left;white-space:pre\">DAE6534</td><td style=\"text-align:left;white-space:pre\">2003-02-16</td></tr><tr><td style=\"text-align:left;white-space:pre\">1532</td><td style=\"text-align:left;white-space:pre\">Asdrúbal</td><td style=\"text-align:left;white-space:pre\">DKL4598</td><td style=\"text-align:left;white-space:pre\">2003-02-17</td></tr><tr><td style=\"text-align:left;white-space:pre\">1755</td><td style=\"text-align:left;white-space:pre\">Doriana</td><td style=\"text-align:left;white-space:pre\">DKL4598</td><td style=\"text-align:left;white-space:pre\">2003-02-17</td></tr><tr><td style=\"text-align:left;white-space:pre\">1780</td><td style=\"text-align:left;white-space:pre\">Quincas</td><td style=\"text-align:left;white-space:pre\">DKL4598</td><td style=\"text-align:left;white-space:pre\">2003-02-17</td></tr><tr><td style=\"text-align:left;white-space:pre\">1888</td><td style=\"text-align:left;white-space:pre\">Melissa</td><td style=\"text-align:left;white-space:pre\">DKL4598</td><td style=\"text-align:left;white-space:pre\">2003-02-17</td></tr><tr><td style=\"text-align:left;white-space:pre\">1532</td><td style=\"text-align:left;white-space:pre\">Asdrúbal</td><td style=\"text-align:left;white-space:pre\">JDM8776</td><td style=\"text-align:left;white-space:pre\">2003-02-18</td></tr><tr><td style=\"text-align:left;white-space:pre\">1755</td><td style=\"text-align:left;white-space:pre\">Doriana</td><td style=\"text-align:left;white-space:pre\">JDM8776</td><td style=\"text-align:left;white-space:pre\">2003-02-18</td></tr><tr><td style=\"text-align:left;white-space:pre\">1780</td><td style=\"text-align:left;white-space:pre\">Quincas</td><td style=\"text-align:left;white-space:pre\">JDM8776</td><td style=\"text-align:left;white-space:pre\">2003-02-18</td></tr><tr><td style=\"text-align:left;white-space:pre\">1888</td><td style=\"text-align:left;white-space:pre\">Melissa</td><td style=\"text-align:left;white-space:pre\">JDM8776</td><td style=\"text-align:left;white-space:pre\">2003-02-18</td></tr></table></body></html>"
      ]
     },
     "metadata": {},
     "output_type": "display_data"
    }
   ],
   "source": [
    "SELECT Cliente.CliId, Cliente.Nome, Corrida.Placa, Corrida.DataPedido\n",
    "FROM Cliente, Corrida;"
   ]
  },
  {
   "cell_type": "markdown",
   "metadata": {},
   "source": [
    "# JOIN Implícito"
   ]
  },
  {
   "cell_type": "markdown",
   "metadata": {},
   "source": [
    "### Cientes e as respectivas corridas - Join Implícito"
   ]
  },
  {
   "cell_type": "code",
   "execution_count": 20,
   "metadata": {},
   "outputs": [
    {
     "data": {
      "text/html": [
       "<html><body><table border=\"1\"><tr><th style=\"text-align:left;white-space:pre\">CliId</th><th style=\"text-align:left;white-space:pre\">Nome</th><th style=\"text-align:left;white-space:pre\">Placa</th><th style=\"text-align:left;white-space:pre\">DataPedido</th></tr><tr><td style=\"text-align:left;white-space:pre\">1532</td><td style=\"text-align:left;white-space:pre\">Asdrúbal</td><td style=\"text-align:left;white-space:pre\">DKL4598</td><td style=\"text-align:left;white-space:pre\">2003-02-18</td></tr><tr><td style=\"text-align:left;white-space:pre\">1532</td><td style=\"text-align:left;white-space:pre\">Asdrúbal</td><td style=\"text-align:left;white-space:pre\">DKL4598</td><td style=\"text-align:left;white-space:pre\">2003-02-20</td></tr><tr><td style=\"text-align:left;white-space:pre\">1755</td><td style=\"text-align:left;white-space:pre\">Doriana</td><td style=\"text-align:left;white-space:pre\">DAE6534</td><td style=\"text-align:left;white-space:pre\">2003-02-15</td></tr><tr><td style=\"text-align:left;white-space:pre\">1755</td><td style=\"text-align:left;white-space:pre\">Doriana</td><td style=\"text-align:left;white-space:pre\">DAE6534</td><td style=\"text-align:left;white-space:pre\">2003-02-18</td></tr><tr><td style=\"text-align:left;white-space:pre\">1755</td><td style=\"text-align:left;white-space:pre\">Doriana</td><td style=\"text-align:left;white-space:pre\">DKL7878</td><td style=\"text-align:left;white-space:pre\">2003-02-16</td></tr><tr><td style=\"text-align:left;white-space:pre\">1780</td><td style=\"text-align:left;white-space:pre\">Quincas</td><td style=\"text-align:left;white-space:pre\">DAE6534</td><td style=\"text-align:left;white-space:pre\">2003-02-16</td></tr><tr><td style=\"text-align:left;white-space:pre\">1780</td><td style=\"text-align:left;white-space:pre\">Quincas</td><td style=\"text-align:left;white-space:pre\">DKL4598</td><td style=\"text-align:left;white-space:pre\">2003-02-17</td></tr><tr><td style=\"text-align:left;white-space:pre\">1780</td><td style=\"text-align:left;white-space:pre\">Quincas</td><td style=\"text-align:left;white-space:pre\">JDM8776</td><td style=\"text-align:left;white-space:pre\">2003-02-18</td></tr></table></body></html>"
      ]
     },
     "metadata": {},
     "output_type": "display_data"
    }
   ],
   "source": [
    "SELECT Cliente.CliId, Cliente.Nome, Corrida.Placa, Corrida.DataPedido\n",
    "FROM Cliente, Corrida\n",
    "WHERE Cliente.CliId = Corrida.CliId;"
   ]
  },
  {
   "cell_type": "markdown",
   "metadata": {},
   "source": [
    "### Modelo de taxi para cada corrida"
   ]
  },
  {
   "cell_type": "code",
   "execution_count": 21,
   "metadata": {},
   "outputs": [
    {
     "data": {
      "text/html": [
       "<html><body><table border=\"1\"><tr><th style=\"text-align:left;white-space:pre\">DataPedido</th><th style=\"text-align:left;white-space:pre\">Placa</th><th style=\"text-align:left;white-space:pre\">Modelo</th></tr><tr><td style=\"text-align:left;white-space:pre\">2003-02-15</td><td style=\"text-align:left;white-space:pre\">DAE6534</td><td style=\"text-align:left;white-space:pre\">Fiesta</td></tr><tr><td style=\"text-align:left;white-space:pre\">2003-02-18</td><td style=\"text-align:left;white-space:pre\">DAE6534</td><td style=\"text-align:left;white-space:pre\">Fiesta</td></tr><tr><td style=\"text-align:left;white-space:pre\">2003-02-16</td><td style=\"text-align:left;white-space:pre\">DAE6534</td><td style=\"text-align:left;white-space:pre\">Fiesta</td></tr><tr><td style=\"text-align:left;white-space:pre\">2003-02-18</td><td style=\"text-align:left;white-space:pre\">DKL4598</td><td style=\"text-align:left;white-space:pre\">Gol</td></tr><tr><td style=\"text-align:left;white-space:pre\">2003-02-20</td><td style=\"text-align:left;white-space:pre\">DKL4598</td><td style=\"text-align:left;white-space:pre\">Gol</td></tr><tr><td style=\"text-align:left;white-space:pre\">2003-02-17</td><td style=\"text-align:left;white-space:pre\">DKL4598</td><td style=\"text-align:left;white-space:pre\">Gol</td></tr><tr><td style=\"text-align:left;white-space:pre\">2003-02-16</td><td style=\"text-align:left;white-space:pre\">DKL7878</td><td style=\"text-align:left;white-space:pre\">Fiesta</td></tr><tr><td style=\"text-align:left;white-space:pre\">2003-02-18</td><td style=\"text-align:left;white-space:pre\">JDM8776</td><td style=\"text-align:left;white-space:pre\">Santana</td></tr></table></body></html>"
      ]
     },
     "metadata": {},
     "output_type": "display_data"
    }
   ],
   "source": [
    "SELECT Corrida.DataPedido, Corrida.Placa, Taxi.Modelo\n",
    "       FROM Corrida, Taxi\n",
    "       WHERE Corrida.Placa = Taxi.Placa;"
   ]
  },
  {
   "cell_type": "markdown",
   "metadata": {},
   "source": [
    "### Modelos de Táxi por Cliente (estágio 1)"
   ]
  },
  {
   "cell_type": "code",
   "execution_count": 22,
   "metadata": {},
   "outputs": [
    {
     "data": {
      "text/html": [
       "<html><body><table border=\"1\"><tr><th style=\"text-align:left;white-space:pre\">Nome</th><th style=\"text-align:left;white-space:pre\">DataPedido</th><th style=\"text-align:left;white-space:pre\">Placa</th><th style=\"text-align:left;white-space:pre\">Modelo</th></tr><tr><td style=\"text-align:left;white-space:pre\">Asdrúbal</td><td style=\"text-align:left;white-space:pre\">2003-02-18</td><td style=\"text-align:left;white-space:pre\">DKL4598</td><td style=\"text-align:left;white-space:pre\">Gol</td></tr><tr><td style=\"text-align:left;white-space:pre\">Asdrúbal</td><td style=\"text-align:left;white-space:pre\">2003-02-20</td><td style=\"text-align:left;white-space:pre\">DKL4598</td><td style=\"text-align:left;white-space:pre\">Gol</td></tr><tr><td style=\"text-align:left;white-space:pre\">Doriana</td><td style=\"text-align:left;white-space:pre\">2003-02-15</td><td style=\"text-align:left;white-space:pre\">DAE6534</td><td style=\"text-align:left;white-space:pre\">Fiesta</td></tr><tr><td style=\"text-align:left;white-space:pre\">Doriana</td><td style=\"text-align:left;white-space:pre\">2003-02-18</td><td style=\"text-align:left;white-space:pre\">DAE6534</td><td style=\"text-align:left;white-space:pre\">Fiesta</td></tr><tr><td style=\"text-align:left;white-space:pre\">Doriana</td><td style=\"text-align:left;white-space:pre\">2003-02-16</td><td style=\"text-align:left;white-space:pre\">DKL7878</td><td style=\"text-align:left;white-space:pre\">Fiesta</td></tr><tr><td style=\"text-align:left;white-space:pre\">Quincas</td><td style=\"text-align:left;white-space:pre\">2003-02-16</td><td style=\"text-align:left;white-space:pre\">DAE6534</td><td style=\"text-align:left;white-space:pre\">Fiesta</td></tr><tr><td style=\"text-align:left;white-space:pre\">Quincas</td><td style=\"text-align:left;white-space:pre\">2003-02-17</td><td style=\"text-align:left;white-space:pre\">DKL4598</td><td style=\"text-align:left;white-space:pre\">Gol</td></tr><tr><td style=\"text-align:left;white-space:pre\">Quincas</td><td style=\"text-align:left;white-space:pre\">2003-02-18</td><td style=\"text-align:left;white-space:pre\">JDM8776</td><td style=\"text-align:left;white-space:pre\">Santana</td></tr></table></body></html>"
      ]
     },
     "metadata": {},
     "output_type": "display_data"
    }
   ],
   "source": [
    "SELECT Cliente.Nome, Corrida.DataPedido, Corrida.Placa, Taxi.Modelo\n",
    "       FROM Cliente, Corrida, Taxi\n",
    "       WHERE Cliente.CliId = Corrida.CliId AND Corrida.Placa = Taxi.Placa;"
   ]
  },
  {
   "cell_type": "markdown",
   "metadata": {},
   "source": [
    "### Modelos de Táxi por Cliente (estágio 2)"
   ]
  },
  {
   "cell_type": "code",
   "execution_count": 23,
   "metadata": {},
   "outputs": [
    {
     "data": {
      "text/html": [
       "<html><body><table border=\"1\"><tr><th style=\"text-align:left;white-space:pre\">Nome</th><th style=\"text-align:left;white-space:pre\">Modelo</th></tr><tr><td style=\"text-align:left;white-space:pre\">Asdrúbal</td><td style=\"text-align:left;white-space:pre\">Gol</td></tr><tr><td style=\"text-align:left;white-space:pre\">Doriana</td><td style=\"text-align:left;white-space:pre\">Fiesta</td></tr><tr><td style=\"text-align:left;white-space:pre\">Quincas</td><td style=\"text-align:left;white-space:pre\">Fiesta</td></tr><tr><td style=\"text-align:left;white-space:pre\">Quincas</td><td style=\"text-align:left;white-space:pre\">Gol</td></tr><tr><td style=\"text-align:left;white-space:pre\">Quincas</td><td style=\"text-align:left;white-space:pre\">Santana</td></tr></table></body></html>"
      ]
     },
     "metadata": {},
     "output_type": "display_data"
    }
   ],
   "source": [
    "SELECT DISTINCT Cliente.Nome, Taxi.Modelo\n",
    "       FROM Cliente, Corrida, Taxi\n",
    "       WHERE Cliente.CliId = Corrida.CliId AND Corrida.Placa = Taxi.Placa;"
   ]
  },
  {
   "cell_type": "markdown",
   "metadata": {},
   "source": [
    "## ORDER BY"
   ]
  },
  {
   "cell_type": "markdown",
   "metadata": {},
   "source": [
    "### Nome dos clientes ordenado alfabeticamente"
   ]
  },
  {
   "cell_type": "code",
   "execution_count": 24,
   "metadata": {},
   "outputs": [
    {
     "data": {
      "text/html": [
       "<html><body><table border=\"1\"><tr><th style=\"text-align:left;white-space:pre\">Nome</th></tr><tr><td style=\"text-align:left;white-space:pre\">Asdrúbal</td></tr><tr><td style=\"text-align:left;white-space:pre\">Doriana</td></tr><tr><td style=\"text-align:left;white-space:pre\">Melissa</td></tr><tr><td style=\"text-align:left;white-space:pre\">Quincas</td></tr></table></body></html>"
      ]
     },
     "metadata": {},
     "output_type": "display_data"
    }
   ],
   "source": [
    "SELECT Nome\n",
    "       FROM Cliente\n",
    "       ORDER BY Nome;"
   ]
  },
  {
   "cell_type": "markdown",
   "metadata": {},
   "source": [
    "### Modelos de taxi e os clientes que os tomaram\n",
    "\n",
    "Ordena por Modelo, mas não por Cliente:"
   ]
  },
  {
   "cell_type": "code",
   "execution_count": 25,
   "metadata": {},
   "outputs": [
    {
     "data": {
      "text/html": [
       "<html><body><table border=\"1\"><tr><th style=\"text-align:left;white-space:pre\">Nome</th><th style=\"text-align:left;white-space:pre\">Modelo</th></tr><tr><td style=\"text-align:left;white-space:pre\">Quincas</td><td style=\"text-align:left;white-space:pre\">Fiesta</td></tr><tr><td style=\"text-align:left;white-space:pre\">Doriana</td><td style=\"text-align:left;white-space:pre\">Fiesta</td></tr><tr><td style=\"text-align:left;white-space:pre\">Asdrúbal</td><td style=\"text-align:left;white-space:pre\">Gol</td></tr><tr><td style=\"text-align:left;white-space:pre\">Quincas</td><td style=\"text-align:left;white-space:pre\">Gol</td></tr><tr><td style=\"text-align:left;white-space:pre\">Quincas</td><td style=\"text-align:left;white-space:pre\">Santana</td></tr></table></body></html>"
      ]
     },
     "metadata": {},
     "output_type": "display_data"
    }
   ],
   "source": [
    "SELECT DISTINCT Cl.Nome, T.Modelo\n",
    "       FROM Cliente Cl, Corrida Co, Taxi T\n",
    "       WHERE Cl.CliId = Co.CliId AND\n",
    "             Co.Placa = T.Placa\n",
    "       ORDER BY T.Modelo;"
   ]
  },
  {
   "cell_type": "markdown",
   "metadata": {},
   "source": [
    "Ordena por Modelo e, para cada Modelo, por Cliente:"
   ]
  },
  {
   "cell_type": "code",
   "execution_count": 26,
   "metadata": {},
   "outputs": [
    {
     "data": {
      "text/html": [
       "<html><body><table border=\"1\"><tr><th style=\"text-align:left;white-space:pre\">Nome</th><th style=\"text-align:left;white-space:pre\">Modelo</th></tr><tr><td style=\"text-align:left;white-space:pre\">Doriana</td><td style=\"text-align:left;white-space:pre\">Fiesta</td></tr><tr><td style=\"text-align:left;white-space:pre\">Quincas</td><td style=\"text-align:left;white-space:pre\">Fiesta</td></tr><tr><td style=\"text-align:left;white-space:pre\">Asdrúbal</td><td style=\"text-align:left;white-space:pre\">Gol</td></tr><tr><td style=\"text-align:left;white-space:pre\">Quincas</td><td style=\"text-align:left;white-space:pre\">Gol</td></tr><tr><td style=\"text-align:left;white-space:pre\">Quincas</td><td style=\"text-align:left;white-space:pre\">Santana</td></tr></table></body></html>"
      ]
     },
     "metadata": {},
     "output_type": "display_data"
    }
   ],
   "source": [
    "SELECT DISTINCT Cl.Nome, T.Modelo\n",
    "       FROM Cliente Cl, Corrida Co, Taxi T\n",
    "       WHERE Cl.CliId = Co.CliId AND\n",
    "             Co.Placa = T.Placa\n",
    "       ORDER BY T.Modelo, Cl.Nome;"
   ]
  },
  {
   "cell_type": "markdown",
   "metadata": {},
   "source": [
    "### Cliente e os modelos de taxi tomados\n",
    "Ordena por Cliente, mas não por Modelo:"
   ]
  },
  {
   "cell_type": "code",
   "execution_count": 27,
   "metadata": {},
   "outputs": [
    {
     "data": {
      "text/html": [
       "<html><body><table border=\"1\"><tr><th style=\"text-align:left;white-space:pre\">Nome</th><th style=\"text-align:left;white-space:pre\">Modelo</th></tr><tr><td style=\"text-align:left;white-space:pre\">Asdrúbal</td><td style=\"text-align:left;white-space:pre\">Gol</td></tr><tr><td style=\"text-align:left;white-space:pre\">Doriana</td><td style=\"text-align:left;white-space:pre\">Fiesta</td></tr><tr><td style=\"text-align:left;white-space:pre\">Quincas</td><td style=\"text-align:left;white-space:pre\">Fiesta</td></tr><tr><td style=\"text-align:left;white-space:pre\">Quincas</td><td style=\"text-align:left;white-space:pre\">Gol</td></tr><tr><td style=\"text-align:left;white-space:pre\">Quincas</td><td style=\"text-align:left;white-space:pre\">Santana</td></tr></table></body></html>"
      ]
     },
     "metadata": {},
     "output_type": "display_data"
    }
   ],
   "source": [
    "SELECT DISTINCT Cl.Nome, T.Modelo\n",
    "       FROM Cliente Cl, Corrida Co, Taxi T\n",
    "       WHERE Cl.CliId = Co.CliId AND\n",
    "             Co.Placa = T.Placa\n",
    "       ORDER BY Cl.Nome;"
   ]
  },
  {
   "cell_type": "markdown",
   "metadata": {},
   "source": [
    "Ordena por Cliente e, para cada Cliente, por Modelo"
   ]
  },
  {
   "cell_type": "code",
   "execution_count": 28,
   "metadata": {},
   "outputs": [
    {
     "data": {
      "text/html": [
       "<html><body><table border=\"1\"><tr><th style=\"text-align:left;white-space:pre\">Nome</th><th style=\"text-align:left;white-space:pre\">Modelo</th></tr><tr><td style=\"text-align:left;white-space:pre\">Asdrúbal</td><td style=\"text-align:left;white-space:pre\">Gol</td></tr><tr><td style=\"text-align:left;white-space:pre\">Doriana</td><td style=\"text-align:left;white-space:pre\">Fiesta</td></tr><tr><td style=\"text-align:left;white-space:pre\">Quincas</td><td style=\"text-align:left;white-space:pre\">Fiesta</td></tr><tr><td style=\"text-align:left;white-space:pre\">Quincas</td><td style=\"text-align:left;white-space:pre\">Gol</td></tr><tr><td style=\"text-align:left;white-space:pre\">Quincas</td><td style=\"text-align:left;white-space:pre\">Santana</td></tr></table></body></html>"
      ]
     },
     "metadata": {},
     "output_type": "display_data"
    }
   ],
   "source": [
    "SELECT DISTINCT Cl.Nome, T.Modelo\n",
    "       FROM Cliente Cl, Corrida Co, Taxi T\n",
    "       WHERE Cl.CliId = Co.CliId AND\n",
    "             Co.Placa = T.Placa\n",
    "       ORDER BY Cl.Nome, T.Modelo;"
   ]
  },
  {
   "cell_type": "markdown",
   "metadata": {},
   "source": [
    "## JOIN explícito"
   ]
  },
  {
   "cell_type": "markdown",
   "metadata": {},
   "source": [
    "### Taxis e respectivas corridas (para taxis que fizeram corrida)"
   ]
  },
  {
   "cell_type": "code",
   "execution_count": 29,
   "metadata": {},
   "outputs": [
    {
     "data": {
      "text/html": [
       "<html><body><table border=\"1\"><tr><th style=\"text-align:left;white-space:pre\">placa</th><th style=\"text-align:left;white-space:pre\">cliid</th></tr><tr><td style=\"text-align:left;white-space:pre\">DAE6534</td><td style=\"text-align:left;white-space:pre\">1755</td></tr><tr><td style=\"text-align:left;white-space:pre\">DAE6534</td><td style=\"text-align:left;white-space:pre\">1755</td></tr><tr><td style=\"text-align:left;white-space:pre\">DAE6534</td><td style=\"text-align:left;white-space:pre\">1780</td></tr><tr><td style=\"text-align:left;white-space:pre\">DKL4598</td><td style=\"text-align:left;white-space:pre\">1532</td></tr><tr><td style=\"text-align:left;white-space:pre\">DKL4598</td><td style=\"text-align:left;white-space:pre\">1532</td></tr><tr><td style=\"text-align:left;white-space:pre\">DKL4598</td><td style=\"text-align:left;white-space:pre\">1780</td></tr><tr><td style=\"text-align:left;white-space:pre\">DKL7878</td><td style=\"text-align:left;white-space:pre\">1755</td></tr><tr><td style=\"text-align:left;white-space:pre\">JDM8776</td><td style=\"text-align:left;white-space:pre\">1780</td></tr></table></body></html>"
      ]
     },
     "metadata": {},
     "output_type": "display_data"
    }
   ],
   "source": [
    "SELECT Tx.placa, Co.cliid\n",
    "       FROM Taxi Tx JOIN Corrida Co\n",
    "            ON Tx.placa = Co.placa;"
   ]
  },
  {
   "cell_type": "markdown",
   "metadata": {},
   "source": [
    "## NATURAL JOIN"
   ]
  },
  {
   "cell_type": "code",
   "execution_count": 30,
   "metadata": {},
   "outputs": [
    {
     "data": {
      "text/html": [
       "<html><body><table border=\"1\"><tr><th style=\"text-align:left;white-space:pre\">placa</th><th style=\"text-align:left;white-space:pre\">cliid</th></tr><tr><td style=\"text-align:left;white-space:pre\">DAE6534</td><td style=\"text-align:left;white-space:pre\">1755</td></tr><tr><td style=\"text-align:left;white-space:pre\">DAE6534</td><td style=\"text-align:left;white-space:pre\">1755</td></tr><tr><td style=\"text-align:left;white-space:pre\">DAE6534</td><td style=\"text-align:left;white-space:pre\">1780</td></tr><tr><td style=\"text-align:left;white-space:pre\">DKL4598</td><td style=\"text-align:left;white-space:pre\">1532</td></tr><tr><td style=\"text-align:left;white-space:pre\">DKL4598</td><td style=\"text-align:left;white-space:pre\">1532</td></tr><tr><td style=\"text-align:left;white-space:pre\">DKL4598</td><td style=\"text-align:left;white-space:pre\">1780</td></tr><tr><td style=\"text-align:left;white-space:pre\">DKL7878</td><td style=\"text-align:left;white-space:pre\">1755</td></tr><tr><td style=\"text-align:left;white-space:pre\">JDM8776</td><td style=\"text-align:left;white-space:pre\">1780</td></tr></table></body></html>"
      ]
     },
     "metadata": {},
     "output_type": "display_data"
    }
   ],
   "source": [
    "SELECT Tx.placa, Co.cliid\n",
    "       FROM Taxi Tx\n",
    "            NATURAL JOIN Corrida Co;"
   ]
  },
  {
   "cell_type": "markdown",
   "metadata": {},
   "source": [
    "## LEFT JOIN\n",
    "\n",
    "### Taxis e respectivas corridas (para todos os taxis)"
   ]
  },
  {
   "cell_type": "code",
   "execution_count": 31,
   "metadata": {},
   "outputs": [
    {
     "data": {
      "text/html": [
       "<html><body><table border=\"1\"><tr><th style=\"text-align:left;white-space:pre\">placa</th><th style=\"text-align:left;white-space:pre\">cliid</th></tr><tr><td style=\"text-align:left;white-space:pre\">DAE6534</td><td style=\"text-align:left;white-space:pre\">1755</td></tr><tr><td style=\"text-align:left;white-space:pre\">DAE6534</td><td style=\"text-align:left;white-space:pre\">1755</td></tr><tr><td style=\"text-align:left;white-space:pre\">DAE6534</td><td style=\"text-align:left;white-space:pre\">1780</td></tr><tr><td style=\"text-align:left;white-space:pre\">DKL4598</td><td style=\"text-align:left;white-space:pre\">1532</td></tr><tr><td style=\"text-align:left;white-space:pre\">DKL4598</td><td style=\"text-align:left;white-space:pre\">1532</td></tr><tr><td style=\"text-align:left;white-space:pre\">DKL4598</td><td style=\"text-align:left;white-space:pre\">1780</td></tr><tr><td style=\"text-align:left;white-space:pre\">DKL7878</td><td style=\"text-align:left;white-space:pre\">1755</td></tr><tr><td style=\"text-align:left;white-space:pre\">JDM8776</td><td style=\"text-align:left;white-space:pre\">1780</td></tr><tr><td style=\"text-align:left;white-space:pre\">JJM3692</td><td style=\"text-align:left;white-space:pre\">NULL</td></tr></table></body></html>"
      ]
     },
     "metadata": {},
     "output_type": "display_data"
    }
   ],
   "source": [
    "SELECT Tx.placa, Co.cliid\n",
    "       FROM Taxi Tx LEFT JOIN Corrida Co\n",
    "            ON Tx.placa = Co.placa;"
   ]
  },
  {
   "cell_type": "markdown",
   "metadata": {},
   "source": [
    "## RIGHT JOIN\n",
    "\n",
    "### Corridas e respectivos clientes (para todos os clientes)"
   ]
  },
  {
   "cell_type": "code",
   "execution_count": 32,
   "metadata": {},
   "outputs": [
    {
     "data": {
      "text/html": [
       "<html><body><table border=\"1\"><tr><th style=\"text-align:left;white-space:pre\">placa</th><th style=\"text-align:left;white-space:pre\">nome</th></tr><tr><td style=\"text-align:left;white-space:pre\">DKL4598</td><td style=\"text-align:left;white-space:pre\">Asdrúbal</td></tr><tr><td style=\"text-align:left;white-space:pre\">DKL4598</td><td style=\"text-align:left;white-space:pre\">Asdrúbal</td></tr><tr><td style=\"text-align:left;white-space:pre\">DAE6534</td><td style=\"text-align:left;white-space:pre\">Doriana</td></tr><tr><td style=\"text-align:left;white-space:pre\">DAE6534</td><td style=\"text-align:left;white-space:pre\">Doriana</td></tr><tr><td style=\"text-align:left;white-space:pre\">DKL7878</td><td style=\"text-align:left;white-space:pre\">Doriana</td></tr><tr><td style=\"text-align:left;white-space:pre\">DAE6534</td><td style=\"text-align:left;white-space:pre\">Quincas</td></tr><tr><td style=\"text-align:left;white-space:pre\">DKL4598</td><td style=\"text-align:left;white-space:pre\">Quincas</td></tr><tr><td style=\"text-align:left;white-space:pre\">JDM8776</td><td style=\"text-align:left;white-space:pre\">Quincas</td></tr><tr><td style=\"text-align:left;white-space:pre\">NULL</td><td style=\"text-align:left;white-space:pre\">Melissa</td></tr></table></body></html>"
      ]
     },
     "metadata": {},
     "output_type": "display_data"
    }
   ],
   "source": [
    "SELECT Co.placa, Cl.nome\n",
    "       FROM Corrida Co RIGHT JOIN Cliente Cl\n",
    "            ON Co.cliid = Cl.cliid;"
   ]
  },
  {
   "cell_type": "markdown",
   "metadata": {},
   "source": [
    "# DELETE"
   ]
  },
  {
   "cell_type": "markdown",
   "metadata": {},
   "source": [
    "### Apagando o Táxi de placa `DAE6534`"
   ]
  },
  {
   "cell_type": "code",
   "execution_count": 53,
   "metadata": {},
   "outputs": [
    {
     "data": {
      "text/html": [
       "<html><body><table border=\"1\"><tr><th style=\"text-align:left;white-space:pre\">CliId</th><th style=\"text-align:left;white-space:pre\">Placa</th><th style=\"text-align:left;white-space:pre\">DataPedido</th></tr><tr><td style=\"text-align:left;white-space:pre\">1532</td><td style=\"text-align:left;white-space:pre\">DKL4598</td><td style=\"text-align:left;white-space:pre\">2003-02-18</td></tr><tr><td style=\"text-align:left;white-space:pre\">1532</td><td style=\"text-align:left;white-space:pre\">DKL4598</td><td style=\"text-align:left;white-space:pre\">2003-02-20</td></tr><tr><td style=\"text-align:left;white-space:pre\">1755</td><td style=\"text-align:left;white-space:pre\">DAE6534</td><td style=\"text-align:left;white-space:pre\">2003-02-15</td></tr><tr><td style=\"text-align:left;white-space:pre\">1755</td><td style=\"text-align:left;white-space:pre\">DAE6534</td><td style=\"text-align:left;white-space:pre\">2003-02-18</td></tr><tr><td style=\"text-align:left;white-space:pre\">1755</td><td style=\"text-align:left;white-space:pre\">DKL7878</td><td style=\"text-align:left;white-space:pre\">2003-02-16</td></tr><tr><td style=\"text-align:left;white-space:pre\">1780</td><td style=\"text-align:left;white-space:pre\">DAE6534</td><td style=\"text-align:left;white-space:pre\">2003-02-16</td></tr><tr><td style=\"text-align:left;white-space:pre\">1780</td><td style=\"text-align:left;white-space:pre\">DKL4598</td><td style=\"text-align:left;white-space:pre\">2003-02-17</td></tr><tr><td style=\"text-align:left;white-space:pre\">1780</td><td style=\"text-align:left;white-space:pre\">JDM8776</td><td style=\"text-align:left;white-space:pre\">2003-02-18</td></tr></table></body></html>"
      ]
     },
     "metadata": {},
     "output_type": "display_data"
    }
   ],
   "source": [
    "SELECT * FROM Corrida;"
   ]
  },
  {
   "cell_type": "code",
   "execution_count": 57,
   "metadata": {},
   "outputs": [
    {
     "data": {
      "text/html": [
       "<html><body><table border=\"1\"><tr><th style=\"text-align:left;white-space:pre\">CliId</th><th style=\"text-align:left;white-space:pre\">Placa</th><th style=\"text-align:left;white-space:pre\">DataPedido</th></tr><tr><td style=\"text-align:left;white-space:pre\">1532</td><td style=\"text-align:left;white-space:pre\">DKL4598</td><td style=\"text-align:left;white-space:pre\">2003-02-18</td></tr><tr><td style=\"text-align:left;white-space:pre\">1532</td><td style=\"text-align:left;white-space:pre\">DKL4598</td><td style=\"text-align:left;white-space:pre\">2003-02-20</td></tr><tr><td style=\"text-align:left;white-space:pre\">1755</td><td style=\"text-align:left;white-space:pre\">DKL7878</td><td style=\"text-align:left;white-space:pre\">2003-02-16</td></tr><tr><td style=\"text-align:left;white-space:pre\">1780</td><td style=\"text-align:left;white-space:pre\">DKL4598</td><td style=\"text-align:left;white-space:pre\">2003-02-17</td></tr><tr><td style=\"text-align:left;white-space:pre\">1780</td><td style=\"text-align:left;white-space:pre\">JDM8776</td><td style=\"text-align:left;white-space:pre\">2003-02-18</td></tr></table></body></html>"
      ]
     },
     "metadata": {},
     "output_type": "display_data"
    }
   ],
   "source": [
    "DELETE FROM Corrida WHERE Corrida.Placa = \"DAE6534\";\n",
    "SELECT * FROM Corrida;"
   ]
  },
  {
   "cell_type": "markdown",
   "metadata": {},
   "source": [
    "## Violação de Integridade\n",
    "\n",
    "### Apagando um Táxi que possui corridas associadas\n",
    "\n",
    "Este exemplo irá gerar um erro de violação de chave estrangeira."
   ]
  },
  {
   "cell_type": "code",
   "execution_count": 58,
   "metadata": {},
   "outputs": [
    {
     "data": {
      "text/html": [
       "<html><body><table border=\"1\"><tr><th style=\"text-align:left;white-space:pre\">Placa</th><th style=\"text-align:left;white-space:pre\">Marca</th><th style=\"text-align:left;white-space:pre\">Modelo</th><th style=\"text-align:left;white-space:pre\">AnoFab</th><th style=\"text-align:left;white-space:pre\">Licenca</th></tr><tr><td style=\"text-align:left;white-space:pre\">DAE6534</td><td style=\"text-align:left;white-space:pre\">Ford</td><td style=\"text-align:left;white-space:pre\">Fiesta</td><td style=\"text-align:left;white-space:pre\">1999</td><td style=\"text-align:left;white-space:pre\">MN572345</td></tr><tr><td style=\"text-align:left;white-space:pre\">DKL4598</td><td style=\"text-align:left;white-space:pre\">Wolkswagen</td><td style=\"text-align:left;white-space:pre\">Gol</td><td style=\"text-align:left;white-space:pre\">2002</td><td style=\"text-align:left;white-space:pre\">AU876543</td></tr><tr><td style=\"text-align:left;white-space:pre\">DKL7878</td><td style=\"text-align:left;white-space:pre\">Ford</td><td style=\"text-align:left;white-space:pre\">Fiesta</td><td style=\"text-align:left;white-space:pre\">2001</td><td style=\"text-align:left;white-space:pre\">OP102938</td></tr><tr><td style=\"text-align:left;white-space:pre\">JDM8776</td><td style=\"text-align:left;white-space:pre\">Wolkswagen</td><td style=\"text-align:left;white-space:pre\">Santana</td><td style=\"text-align:left;white-space:pre\">2002</td><td style=\"text-align:left;white-space:pre\">QM365923</td></tr><tr><td style=\"text-align:left;white-space:pre\">JJM3692</td><td style=\"text-align:left;white-space:pre\">Chevrolet</td><td style=\"text-align:left;white-space:pre\">Corsa</td><td style=\"text-align:left;white-space:pre\">1999</td><td style=\"text-align:left;white-space:pre\">UU335577</td></tr><tr><td style=\"text-align:left;white-space:pre\">KMN3412</td><td style=\"text-align:left;white-space:pre\">Chevrolet</td><td style=\"text-align:left;white-space:pre\">Corsa</td><td style=\"text-align:left;white-space:pre\">2001</td><td style=\"text-align:left;white-space:pre\">QJ572345</td></tr></table></body></html>"
      ]
     },
     "metadata": {},
     "output_type": "display_data"
    }
   ],
   "source": [
    "SELECT * FROM Taxi;"
   ]
  },
  {
   "cell_type": "code",
   "execution_count": 59,
   "metadata": {},
   "outputs": [
    {
     "name": "stderr",
     "output_type": "stream",
     "text": [
      "Cannot delete or update a parent row: a foreign key constraint fails (`taxis`.`Corrida`, CONSTRAINT `Corrida_ibfk_2` FOREIGN KEY (`Placa`) REFERENCES `Taxi` (`Placa`) ON DELETE NO ACTION ON UPDATE NO ACTION)\n",
      "\u0007\u001b(B\u001b[0;7m\u001b(B\u001b[m\n"
     ]
    }
   ],
   "source": [
    "DELETE FROM Taxi WHERE Taxi.Placa = 'DKL4598';"
   ]
  },
  {
   "cell_type": "markdown",
   "metadata": {},
   "source": [
    "# UPDATE"
   ]
  },
  {
   "cell_type": "markdown",
   "metadata": {},
   "source": [
    "### Alterando o ano de fabricação (para 2002) do Táxi que possui placa `DKL4598`"
   ]
  },
  {
   "cell_type": "code",
   "execution_count": 36,
   "metadata": {},
   "outputs": [
    {
     "data": {
      "text/html": [
       "<html><body><table border=\"1\"><tr><th style=\"text-align:left;white-space:pre\">Placa</th><th style=\"text-align:left;white-space:pre\">Marca</th><th style=\"text-align:left;white-space:pre\">Modelo</th><th style=\"text-align:left;white-space:pre\">AnoFab</th><th style=\"text-align:left;white-space:pre\">Licenca</th></tr><tr><td style=\"text-align:left;white-space:pre\">DAE6534</td><td style=\"text-align:left;white-space:pre\">Ford</td><td style=\"text-align:left;white-space:pre\">Fiesta</td><td style=\"text-align:left;white-space:pre\">1999</td><td style=\"text-align:left;white-space:pre\">MN572345</td></tr><tr><td style=\"text-align:left;white-space:pre\">DKL4598</td><td style=\"text-align:left;white-space:pre\">Wolkswagen</td><td style=\"text-align:left;white-space:pre\">Gol</td><td style=\"text-align:left;white-space:pre\">2001</td><td style=\"text-align:left;white-space:pre\">AU876543</td></tr><tr><td style=\"text-align:left;white-space:pre\">DKL7878</td><td style=\"text-align:left;white-space:pre\">Ford</td><td style=\"text-align:left;white-space:pre\">Fiesta</td><td style=\"text-align:left;white-space:pre\">2001</td><td style=\"text-align:left;white-space:pre\">OP102938</td></tr><tr><td style=\"text-align:left;white-space:pre\">JDM8776</td><td style=\"text-align:left;white-space:pre\">Wolkswagen</td><td style=\"text-align:left;white-space:pre\">Santana</td><td style=\"text-align:left;white-space:pre\">2002</td><td style=\"text-align:left;white-space:pre\">QM365923</td></tr><tr><td style=\"text-align:left;white-space:pre\">JJM3692</td><td style=\"text-align:left;white-space:pre\">Chevrolet</td><td style=\"text-align:left;white-space:pre\">Corsa</td><td style=\"text-align:left;white-space:pre\">1999</td><td style=\"text-align:left;white-space:pre\">UU335577</td></tr></table><table border=\"1\"><tr><th style=\"text-align:left;white-space:pre\">Placa</th><th style=\"text-align:left;white-space:pre\">Marca</th><th style=\"text-align:left;white-space:pre\">Modelo</th><th style=\"text-align:left;white-space:pre\">AnoFab</th><th style=\"text-align:left;white-space:pre\">Licenca</th></tr><tr><td style=\"text-align:left;white-space:pre\">DAE6534</td><td style=\"text-align:left;white-space:pre\">Ford</td><td style=\"text-align:left;white-space:pre\">Fiesta</td><td style=\"text-align:left;white-space:pre\">1999</td><td style=\"text-align:left;white-space:pre\">MN572345</td></tr><tr><td style=\"text-align:left;white-space:pre\">DKL4598</td><td style=\"text-align:left;white-space:pre\">Wolkswagen</td><td style=\"text-align:left;white-space:pre\">Gol</td><td style=\"text-align:left;white-space:pre\">2002</td><td style=\"text-align:left;white-space:pre\">AU876543</td></tr><tr><td style=\"text-align:left;white-space:pre\">DKL7878</td><td style=\"text-align:left;white-space:pre\">Ford</td><td style=\"text-align:left;white-space:pre\">Fiesta</td><td style=\"text-align:left;white-space:pre\">2001</td><td style=\"text-align:left;white-space:pre\">OP102938</td></tr><tr><td style=\"text-align:left;white-space:pre\">JDM8776</td><td style=\"text-align:left;white-space:pre\">Wolkswagen</td><td style=\"text-align:left;white-space:pre\">Santana</td><td style=\"text-align:left;white-space:pre\">2002</td><td style=\"text-align:left;white-space:pre\">QM365923</td></tr><tr><td style=\"text-align:left;white-space:pre\">JJM3692</td><td style=\"text-align:left;white-space:pre\">Chevrolet</td><td style=\"text-align:left;white-space:pre\">Corsa</td><td style=\"text-align:left;white-space:pre\">1999</td><td style=\"text-align:left;white-space:pre\">UU335577</td></tr></table></body></html>"
      ]
     },
     "metadata": {},
     "output_type": "display_data"
    }
   ],
   "source": [
    "SELECT * FROM Taxi ORDER BY Placa;\n",
    "UPDATE Taxi T\n",
    "       SET T.AnoFab = 2002\n",
    "       WHERE T.Placa = 'DKL4598';\n",
    "SELECT * FROM Taxi ORDER BY Placa;"
   ]
  },
  {
   "cell_type": "markdown",
   "metadata": {},
   "source": [
    "# GROUP BY"
   ]
  },
  {
   "cell_type": "markdown",
   "metadata": {},
   "source": [
    "### Modelos de Táxi cadastrados"
   ]
  },
  {
   "cell_type": "code",
   "execution_count": 37,
   "metadata": {},
   "outputs": [
    {
     "data": {
      "text/html": [
       "<html><body><table border=\"1\"><tr><th style=\"text-align:left;white-space:pre\">Modelo</th></tr><tr><td style=\"text-align:left;white-space:pre\">Corsa</td></tr><tr><td style=\"text-align:left;white-space:pre\">Fiesta</td></tr><tr><td style=\"text-align:left;white-space:pre\">Gol</td></tr><tr><td style=\"text-align:left;white-space:pre\">Santana</td></tr></table></body></html>"
      ]
     },
     "metadata": {},
     "output_type": "display_data"
    }
   ],
   "source": [
    "SELECT T.Modelo\n",
    "       FROM Taxi T\n",
    "       GROUP BY T.Modelo;"
   ]
  },
  {
   "cell_type": "markdown",
   "metadata": {},
   "source": [
    "### Total de Táxis por Modelo\n",
    "\n",
    "Modelos de Táxi cadastrados e quantos táxis há em cada modelo:"
   ]
  },
  {
   "cell_type": "code",
   "execution_count": 38,
   "metadata": {},
   "outputs": [
    {
     "data": {
      "text/html": [
       "<html><body><table border=\"1\"><tr><th style=\"text-align:left;white-space:pre\">Modelo</th><th style=\"text-align:left;white-space:pre\">COUNT(*)</th></tr><tr><td style=\"text-align:left;white-space:pre\">Corsa</td><td style=\"text-align:left;white-space:pre\">1</td></tr><tr><td style=\"text-align:left;white-space:pre\">Fiesta</td><td style=\"text-align:left;white-space:pre\">2</td></tr><tr><td style=\"text-align:left;white-space:pre\">Gol</td><td style=\"text-align:left;white-space:pre\">1</td></tr><tr><td style=\"text-align:left;white-space:pre\">Santana</td><td style=\"text-align:left;white-space:pre\">1</td></tr></table></body></html>"
      ]
     },
     "metadata": {},
     "output_type": "display_data"
    }
   ],
   "source": [
    "SELECT T.Modelo, COUNT(*)\n",
    "       FROM Taxi T\n",
    "       GROUP BY T.Modelo;"
   ]
  },
  {
   "cell_type": "markdown",
   "metadata": {},
   "source": [
    "## Agregando em mais de um nível"
   ]
  },
  {
   "cell_type": "markdown",
   "metadata": {},
   "source": [
    "### Modelos de taxi tomados por cada cliente (agrupando por Cliente e por Modelo)"
   ]
  },
  {
   "cell_type": "code",
   "execution_count": 39,
   "metadata": {},
   "outputs": [
    {
     "data": {
      "text/html": [
       "<html><body><table border=\"1\"><tr><th style=\"text-align:left;white-space:pre\">Nome</th><th style=\"text-align:left;white-space:pre\">Modelo</th><th style=\"text-align:left;white-space:pre\">COUNT(*)</th></tr><tr><td style=\"text-align:left;white-space:pre\">Asdrúbal</td><td style=\"text-align:left;white-space:pre\">Gol</td><td style=\"text-align:left;white-space:pre\">2</td></tr><tr><td style=\"text-align:left;white-space:pre\">Doriana</td><td style=\"text-align:left;white-space:pre\">Fiesta</td><td style=\"text-align:left;white-space:pre\">3</td></tr><tr><td style=\"text-align:left;white-space:pre\">Quincas</td><td style=\"text-align:left;white-space:pre\">Fiesta</td><td style=\"text-align:left;white-space:pre\">1</td></tr><tr><td style=\"text-align:left;white-space:pre\">Quincas</td><td style=\"text-align:left;white-space:pre\">Gol</td><td style=\"text-align:left;white-space:pre\">1</td></tr><tr><td style=\"text-align:left;white-space:pre\">Quincas</td><td style=\"text-align:left;white-space:pre\">Santana</td><td style=\"text-align:left;white-space:pre\">1</td></tr></table></body></html>"
      ]
     },
     "metadata": {},
     "output_type": "display_data"
    }
   ],
   "source": [
    "SELECT Cl.Nome, T.Modelo, COUNT(*)\n",
    "       FROM Cliente Cl, Corrida Co, Taxi T \n",
    "       WHERE Cl.CliId = Co.CliId AND \n",
    "             Co.Placa = T.Placa\n",
    "       GROUP BY Cl.Nome, T.Modelo;"
   ]
  },
  {
   "cell_type": "markdown",
   "metadata": {},
   "source": [
    "## Funções de agregação sem agrupamento\n",
    "\n",
    "### Média de ano de fabricação para todos os Táxis\n",
    "\n",
    "Quando é usada função de agregação sem especificação de agrupamento, toda a tabela é agregada como se fosse um único grupo."
   ]
  },
  {
   "cell_type": "code",
   "execution_count": 40,
   "metadata": {},
   "outputs": [
    {
     "data": {
      "text/html": [
       "<html><body><table border=\"1\"><tr><th style=\"text-align:left;white-space:pre\">AnoFab</th></tr><tr><td style=\"text-align:left;white-space:pre\">1999</td></tr><tr><td style=\"text-align:left;white-space:pre\">2002</td></tr><tr><td style=\"text-align:left;white-space:pre\">2001</td></tr><tr><td style=\"text-align:left;white-space:pre\">2002</td></tr><tr><td style=\"text-align:left;white-space:pre\">1999</td></tr></table><table border=\"1\"><tr><th style=\"text-align:left;white-space:pre\">MAX(AnoFab)</th></tr><tr><td style=\"text-align:left;white-space:pre\">2002</td></tr></table></body></html>"
      ]
     },
     "metadata": {},
     "output_type": "display_data"
    }
   ],
   "source": [
    "-- Tabela completa\n",
    "SELECT AnoFab FROM Taxi;\n",
    "\n",
    "-- Media do ano de fabricação de toda a tabela\n",
    "SELECT MAX(AnoFab) FROM Taxi;"
   ]
  },
  {
   "cell_type": "markdown",
   "metadata": {},
   "source": [
    "## Campos mostrados devem corresponder a agregação\n",
    "\n",
    "Exemplo sem agregação:"
   ]
  },
  {
   "cell_type": "code",
   "execution_count": 41,
   "metadata": {},
   "outputs": [
    {
     "data": {
      "text/html": [
       "<html><body><table border=\"1\"><tr><th style=\"text-align:left;white-space:pre\">Modelo</th><th style=\"text-align:left;white-space:pre\">AnoFab</th></tr><tr><td style=\"text-align:left;white-space:pre\">Fiesta</td><td style=\"text-align:left;white-space:pre\">1999</td></tr><tr><td style=\"text-align:left;white-space:pre\">Gol</td><td style=\"text-align:left;white-space:pre\">2002</td></tr><tr><td style=\"text-align:left;white-space:pre\">Fiesta</td><td style=\"text-align:left;white-space:pre\">2001</td></tr><tr><td style=\"text-align:left;white-space:pre\">Santana</td><td style=\"text-align:left;white-space:pre\">2002</td></tr><tr><td style=\"text-align:left;white-space:pre\">Corsa</td><td style=\"text-align:left;white-space:pre\">1999</td></tr></table></body></html>"
      ]
     },
     "metadata": {},
     "output_type": "display_data"
    }
   ],
   "source": [
    "SELECT Modelo, AnoFab\n",
    "       FROM Taxi;"
   ]
  },
  {
   "cell_type": "markdown",
   "metadata": {},
   "source": [
    "### Modelo e Ano de Fabricação\n",
    "\n",
    "Este exemplo com agregação produzirá um erro pois `AnoFab` (ano de fabricação) não foi agregado, portanto, pode haver mais de um ano de fabricação para o mesmo modelo."
   ]
  },
  {
   "cell_type": "code",
   "execution_count": 42,
   "metadata": {},
   "outputs": [
    {
     "data": {
      "text/html": [
       "<html><body><table border=\"1\"><tr><th style=\"text-align:left;white-space:pre\">Modelo</th><th style=\"text-align:left;white-space:pre\">AnoFab</th></tr><tr><td style=\"text-align:left;white-space:pre\">Corsa</td><td style=\"text-align:left;white-space:pre\">1999</td></tr><tr><td style=\"text-align:left;white-space:pre\">Fiesta</td><td style=\"text-align:left;white-space:pre\">1999</td></tr><tr><td style=\"text-align:left;white-space:pre\">Gol</td><td style=\"text-align:left;white-space:pre\">2002</td></tr><tr><td style=\"text-align:left;white-space:pre\">Santana</td><td style=\"text-align:left;white-space:pre\">2002</td></tr></table></body></html>"
      ]
     },
     "metadata": {},
     "output_type": "display_data"
    }
   ],
   "source": [
    "SELECT Modelo, AnoFab\n",
    "       FROM Taxi\n",
    "       GROUP BY Modelo;"
   ]
  },
  {
   "cell_type": "markdown",
   "metadata": {},
   "source": [
    "### Modelo e Maior Ano de Fabricação\n",
    "#### Corrigindo com função de agregação\n",
    "\n",
    "Este exemplo escolhe o maior ano para cada Modelo agregado."
   ]
  },
  {
   "cell_type": "code",
   "execution_count": 43,
   "metadata": {},
   "outputs": [
    {
     "data": {
      "text/html": [
       "<html><body><table border=\"1\"><tr><th style=\"text-align:left;white-space:pre\">Modelo</th><th style=\"text-align:left;white-space:pre\">MAX(AnoFab)</th></tr><tr><td style=\"text-align:left;white-space:pre\">Corsa</td><td style=\"text-align:left;white-space:pre\">1999</td></tr><tr><td style=\"text-align:left;white-space:pre\">Fiesta</td><td style=\"text-align:left;white-space:pre\">2001</td></tr><tr><td style=\"text-align:left;white-space:pre\">Gol</td><td style=\"text-align:left;white-space:pre\">2002</td></tr><tr><td style=\"text-align:left;white-space:pre\">Santana</td><td style=\"text-align:left;white-space:pre\">2002</td></tr></table></body></html>"
      ]
     },
     "metadata": {},
     "output_type": "display_data"
    }
   ],
   "source": [
    "SELECT Modelo, MAX(AnoFab)\n",
    "       FROM Taxi\n",
    "       GROUP BY Modelo;"
   ]
  },
  {
   "cell_type": "markdown",
   "metadata": {},
   "source": [
    "# HAVING"
   ]
  },
  {
   "cell_type": "markdown",
   "metadata": {},
   "source": [
    "### Número de Táxis por Modelo somente para os Táxis com ano de fabricação acima de 2000\n",
    "\n",
    "Exemplo com `WHERE` em que a condição é aplicada antes de se agregar:"
   ]
  },
  {
   "cell_type": "code",
   "execution_count": 44,
   "metadata": {},
   "outputs": [
    {
     "data": {
      "text/html": [
       "<html><body><table border=\"1\"><tr><th style=\"text-align:left;white-space:pre\">Placa</th><th style=\"text-align:left;white-space:pre\">Marca</th><th style=\"text-align:left;white-space:pre\">Modelo</th><th style=\"text-align:left;white-space:pre\">AnoFab</th><th style=\"text-align:left;white-space:pre\">Licenca</th></tr><tr><td style=\"text-align:left;white-space:pre\">DAE6534</td><td style=\"text-align:left;white-space:pre\">Ford</td><td style=\"text-align:left;white-space:pre\">Fiesta</td><td style=\"text-align:left;white-space:pre\">1999</td><td style=\"text-align:left;white-space:pre\">MN572345</td></tr><tr><td style=\"text-align:left;white-space:pre\">DKL4598</td><td style=\"text-align:left;white-space:pre\">Wolkswagen</td><td style=\"text-align:left;white-space:pre\">Gol</td><td style=\"text-align:left;white-space:pre\">2002</td><td style=\"text-align:left;white-space:pre\">AU876543</td></tr><tr><td style=\"text-align:left;white-space:pre\">DKL7878</td><td style=\"text-align:left;white-space:pre\">Ford</td><td style=\"text-align:left;white-space:pre\">Fiesta</td><td style=\"text-align:left;white-space:pre\">2001</td><td style=\"text-align:left;white-space:pre\">OP102938</td></tr><tr><td style=\"text-align:left;white-space:pre\">JDM8776</td><td style=\"text-align:left;white-space:pre\">Wolkswagen</td><td style=\"text-align:left;white-space:pre\">Santana</td><td style=\"text-align:left;white-space:pre\">2002</td><td style=\"text-align:left;white-space:pre\">QM365923</td></tr><tr><td style=\"text-align:left;white-space:pre\">JJM3692</td><td style=\"text-align:left;white-space:pre\">Chevrolet</td><td style=\"text-align:left;white-space:pre\">Corsa</td><td style=\"text-align:left;white-space:pre\">1999</td><td style=\"text-align:left;white-space:pre\">UU335577</td></tr></table><table border=\"1\"><tr><th style=\"text-align:left;white-space:pre\">Modelo</th><th style=\"text-align:left;white-space:pre\">NUM</th></tr><tr><td style=\"text-align:left;white-space:pre\">Fiesta</td><td style=\"text-align:left;white-space:pre\">1</td></tr><tr><td style=\"text-align:left;white-space:pre\">Gol</td><td style=\"text-align:left;white-space:pre\">1</td></tr><tr><td style=\"text-align:left;white-space:pre\">Santana</td><td style=\"text-align:left;white-space:pre\">1</td></tr></table></body></html>"
      ]
     },
     "metadata": {},
     "output_type": "display_data"
    }
   ],
   "source": [
    "-- Todos os Táxis\n",
    "SELECT * FROM Taxi;\n",
    "\n",
    "-- Selecionados e Agregados\n",
    "SELECT Modelo, COUNT(*) NUM\n",
    "       FROM Taxi\n",
    "       WHERE AnoFab > 2000\n",
    "       GROUP BY Modelo;"
   ]
  },
  {
   "cell_type": "markdown",
   "metadata": {},
   "source": [
    "### Modelos de Táxi que têm mais de um Táxi do respectivo modelo\n",
    "\n",
    "Exemplo com `HAVING` em que a condição é aplicada após se agregar:"
   ]
  },
  {
   "cell_type": "code",
   "execution_count": 45,
   "metadata": {},
   "outputs": [
    {
     "data": {
      "text/html": [
       "<html><body><table border=\"1\"><tr><th style=\"text-align:left;white-space:pre\">Modelo</th><th style=\"text-align:left;white-space:pre\">NUM</th></tr><tr><td style=\"text-align:left;white-space:pre\">Corsa</td><td style=\"text-align:left;white-space:pre\">1</td></tr><tr><td style=\"text-align:left;white-space:pre\">Fiesta</td><td style=\"text-align:left;white-space:pre\">2</td></tr><tr><td style=\"text-align:left;white-space:pre\">Gol</td><td style=\"text-align:left;white-space:pre\">1</td></tr><tr><td style=\"text-align:left;white-space:pre\">Santana</td><td style=\"text-align:left;white-space:pre\">1</td></tr></table><table border=\"1\"><tr><th style=\"text-align:left;white-space:pre\">Modelo</th><th style=\"text-align:left;white-space:pre\">NUM</th></tr><tr><td style=\"text-align:left;white-space:pre\">Fiesta</td><td style=\"text-align:left;white-space:pre\">2</td></tr></table></body></html>"
      ]
     },
     "metadata": {},
     "output_type": "display_data"
    }
   ],
   "source": [
    "-- Agrupamento\n",
    "SELECT Modelo, COUNT(*) NUM\n",
    "       FROM Taxi\n",
    "       GROUP BY Modelo;\n",
    "\n",
    "-- Agrupamento com HAVING\n",
    "SELECT Modelo, COUNT(*) NUM\n",
    "       FROM Taxi\n",
    "       GROUP BY Modelo\n",
    "       HAVING NUM > 1;"
   ]
  },
  {
   "cell_type": "markdown",
   "metadata": {},
   "source": [
    "## `HAVING` apenas para campos agregados \n",
    "\n",
    "### Modelos daqueles Táxis com ano de fabricação acima de 2000\n",
    "\n",
    "A seleção a seguir produzirá um erro pois está se aplicando uma condição `HAVING` para um campo não agregado. Deveria ter sido usado `WHERE` como foi feito anteriormente."
   ]
  },
  {
   "cell_type": "code",
   "execution_count": 46,
   "metadata": {},
   "outputs": [
    {
     "name": "stderr",
     "output_type": "stream",
     "text": [
      "Unknown column 'AnoFab' in 'having clause'\n",
      "\u0007\u001b(B\u001b[0;7m\u001b(B\u001b[m\n"
     ]
    }
   ],
   "source": [
    "SELECT Modelo, COUNT(*) NUM\n",
    "       FROM Taxi\n",
    "       GROUP BY Modelo\n",
    "       HAVING AnoFab > 2000;"
   ]
  },
  {
   "cell_type": "markdown",
   "metadata": {},
   "source": [
    "## Exemplo de `HAVING` com média\n",
    "\n",
    "### Modelos de Táxi cujo maior Ano de Fabricação seja após 2000"
   ]
  },
  {
   "cell_type": "code",
   "execution_count": 47,
   "metadata": {},
   "outputs": [
    {
     "data": {
      "text/html": [
       "<html><body><table border=\"1\"><tr><th style=\"text-align:left;white-space:pre\">Modelo</th><th style=\"text-align:left;white-space:pre\">MaiorAno</th></tr><tr><td style=\"text-align:left;white-space:pre\">Fiesta</td><td style=\"text-align:left;white-space:pre\">2001</td></tr><tr><td style=\"text-align:left;white-space:pre\">Gol</td><td style=\"text-align:left;white-space:pre\">2002</td></tr><tr><td style=\"text-align:left;white-space:pre\">Santana</td><td style=\"text-align:left;white-space:pre\">2002</td></tr></table></body></html>"
      ]
     },
     "metadata": {},
     "output_type": "display_data"
    }
   ],
   "source": [
    "SELECT Modelo, MAX(AnoFab) MaiorAno\n",
    "       FROM Taxi\n",
    "       GROUP BY Modelo\n",
    "       HAVING MaiorAno > 2000;"
   ]
  },
  {
   "cell_type": "markdown",
   "metadata": {},
   "source": [
    "# VIEW\n",
    "\n",
    "### Total de Táxis por Modelo\n",
    "\n",
    "Agrupamento sem o uso de `VIEW`:"
   ]
  },
  {
   "cell_type": "code",
   "execution_count": 48,
   "metadata": {},
   "outputs": [
    {
     "name": "stderr",
     "output_type": "stream",
     "text": [
      "Table 'taxis.taxi' doesn't exist\n",
      "\u0007\u001b(B\u001b[0;7m\u001b(B\u001b[m\n"
     ]
    }
   ],
   "source": [
    "SELECT Modelo, COUNT(*) Numero_Taxis\n",
    "       FROM taxi\n",
    "       GROUP BY Modelo;"
   ]
  },
  {
   "cell_type": "markdown",
   "metadata": {},
   "source": [
    "### Tabela de Total de Táxis por Modelo\n",
    "\n",
    "Transformando o agrupamento na tabela `Contagem_Modelo` com o `VIEW`:"
   ]
  },
  {
   "cell_type": "code",
   "execution_count": 49,
   "metadata": {},
   "outputs": [
    {
     "name": "stderr",
     "output_type": "stream",
     "text": [
      "Table 'taxis.taxi' doesn't exist\n",
      "ERROR 1146 (42S02) at line 6 in file: '/home/matheus/local-home/git/github/org.thedatasociety/lab-mariadb/labs/.mariadb_statement': Table 'taxis.Contagem_Modelo' doesn't exist\n",
      "\u0007\u001b(B\u001b[0;7m\u001b(B\u001b[m\u0007\u001b(B\u001b[0;7m\u001b(B\u001b[m\n"
     ]
    }
   ],
   "source": [
    "CREATE VIEW Contagem_Modelo AS\n",
    "SELECT Modelo, COUNT(*) Numero_Taxis\n",
    "       FROM taxi\n",
    "       GROUP BY Modelo;\n",
    "\n",
    "SELECT * FROM Contagem_Modelo;"
   ]
  },
  {
   "cell_type": "markdown",
   "metadata": {},
   "source": [
    "Usando a tabela criada com a `VIEW`:"
   ]
  },
  {
   "cell_type": "code",
   "execution_count": 50,
   "metadata": {},
   "outputs": [
    {
     "name": "stderr",
     "output_type": "stream",
     "text": [
      "Table 'taxis.Contagem_Modelo' doesn't exist\n",
      "\u0007\u001b(B\u001b[0;7m\u001b(B\u001b[m\n"
     ]
    }
   ],
   "source": [
    "SELECT AVG(Numero_Taxis) FROM Contagem_Modelo;"
   ]
  },
  {
   "cell_type": "markdown",
   "metadata": {},
   "source": [
    "## VIEW se auto-atualiza\n",
    "\n",
    "A view é um recorte dinâmico, ela se auto-atualiza quando a tabela original é modificada."
   ]
  },
  {
   "cell_type": "code",
   "execution_count": 51,
   "metadata": {},
   "outputs": [
    {
     "name": "stderr",
     "output_type": "stream",
     "text": [
      "Table 'taxis.Contagem_Modelo' doesn't exist\n",
      "\u0007\u001b(B\u001b[0;7m\u001b(B\u001b[m\n"
     ]
    }
   ],
   "source": [
    "INSERT INTO Taxi VALUES ('KMN3412', 'Chevrolet', 'Corsa', 2001, 'QJ572345');\n",
    "SELECT * FROM Contagem_Modelo;"
   ]
  }
 ],
 "metadata": {
  "kernelspec": {
   "display_name": "MariaDB",
   "language": "SQL",
   "name": "mariadb_kernel"
  },
  "language_info": {
   "file_extension": ".sql",
   "mimetype": "text/plain",
   "name": "SQL"
  },
  "toc": {
   "base_numbering": 1,
   "nav_menu": {},
   "number_sections": false,
   "sideBar": false,
   "skip_h1_title": false,
   "title_cell": "Table of Contents",
   "title_sidebar": "Contents",
   "toc_cell": false,
   "toc_position": {},
   "toc_section_display": false,
   "toc_window_display": false
  },
  "toc-autonumbering": true
 },
 "nbformat": 4,
 "nbformat_minor": 4
}
