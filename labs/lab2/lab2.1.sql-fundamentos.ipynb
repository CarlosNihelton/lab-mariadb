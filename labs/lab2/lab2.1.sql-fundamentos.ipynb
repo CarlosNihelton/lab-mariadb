{
 "cells": [
  {
   "cell_type": "markdown",
   "metadata": {},
   "source": [
    "# MariaDB SQL"
   ]
  },
  {
   "cell_type": "markdown",
   "metadata": {},
   "source": [
    "## Administrative SQL Statements \n",
    "\n",
    "Documentação oficial MariaDB: https://mariadb.com/kb/en/about-show/\n",
    "\n",
    "### Show databases"
   ]
  },
  {
   "cell_type": "code",
   "execution_count": 12,
   "metadata": {},
   "outputs": [
    {
     "data": {
      "text/html": [
       "<html><body><table border=\"1\"><tr><th style=\"text-align:left;white-space:pre\">Database</th></tr><tr><td style=\"text-align:left;white-space:pre\">acme-company</td></tr><tr><td style=\"text-align:left;white-space:pre\">employees</td></tr><tr><td style=\"text-align:left;white-space:pre\">information_schema</td></tr><tr><td style=\"text-align:left;white-space:pre\">movielens</td></tr><tr><td style=\"text-align:left;white-space:pre\">sakila</td></tr><tr><td style=\"text-align:left;white-space:pre\">world</td></tr></table></body></html>"
      ]
     },
     "metadata": {},
     "output_type": "display_data"
    }
   ],
   "source": [
    "SHOW databases;"
   ]
  },
  {
   "cell_type": "markdown",
   "metadata": {},
   "source": [
    "### Use"
   ]
  },
  {
   "cell_type": "code",
   "execution_count": 13,
   "metadata": {},
   "outputs": [
    {
     "data": {
      "text/html": [
       "Query OK"
      ]
     },
     "metadata": {},
     "output_type": "display_data"
    }
   ],
   "source": [
    "USE employees;"
   ]
  },
  {
   "cell_type": "markdown",
   "metadata": {},
   "source": [
    "### Show tables"
   ]
  },
  {
   "cell_type": "code",
   "execution_count": 14,
   "metadata": {},
   "outputs": [
    {
     "data": {
      "text/html": [
       "<html><body><table border=\"1\"><tr><th style=\"text-align:left;white-space:pre\">Tables_in_employees</th></tr><tr><td style=\"text-align:left;white-space:pre\">current_dept_emp</td></tr><tr><td style=\"text-align:left;white-space:pre\">departments</td></tr><tr><td style=\"text-align:left;white-space:pre\">dept_emp</td></tr><tr><td style=\"text-align:left;white-space:pre\">dept_emp_latest_date</td></tr><tr><td style=\"text-align:left;white-space:pre\">dept_manager</td></tr><tr><td style=\"text-align:left;white-space:pre\">employees</td></tr><tr><td style=\"text-align:left;white-space:pre\">salaries</td></tr><tr><td style=\"text-align:left;white-space:pre\">titles</td></tr></table></body></html>"
      ]
     },
     "metadata": {},
     "output_type": "display_data"
    }
   ],
   "source": [
    "SHOW tables;"
   ]
  },
  {
   "cell_type": "markdown",
   "metadata": {},
   "source": [
    "O modificador `FULL` retorna uma segunda coluna `Table_type`. Os valores desta coluna podem ser: `BASE TABLE` para uma tabela, `VIEW` para uma view ou `SEQUENCE` para uma sequência."
   ]
  },
  {
   "cell_type": "code",
   "execution_count": 15,
   "metadata": {},
   "outputs": [
    {
     "data": {
      "text/html": [
       "<html><body><table border=\"1\"><tr><th style=\"text-align:left;white-space:pre\">Tables_in_employees</th><th style=\"text-align:left;white-space:pre\">Table_type</th></tr><tr><td style=\"text-align:left;white-space:pre\">current_dept_emp</td><td style=\"text-align:left;white-space:pre\">VIEW</td></tr><tr><td style=\"text-align:left;white-space:pre\">departments</td><td style=\"text-align:left;white-space:pre\">BASE TABLE</td></tr><tr><td style=\"text-align:left;white-space:pre\">dept_emp</td><td style=\"text-align:left;white-space:pre\">BASE TABLE</td></tr><tr><td style=\"text-align:left;white-space:pre\">dept_emp_latest_date</td><td style=\"text-align:left;white-space:pre\">VIEW</td></tr><tr><td style=\"text-align:left;white-space:pre\">dept_manager</td><td style=\"text-align:left;white-space:pre\">BASE TABLE</td></tr><tr><td style=\"text-align:left;white-space:pre\">employees</td><td style=\"text-align:left;white-space:pre\">BASE TABLE</td></tr><tr><td style=\"text-align:left;white-space:pre\">salaries</td><td style=\"text-align:left;white-space:pre\">BASE TABLE</td></tr><tr><td style=\"text-align:left;white-space:pre\">titles</td><td style=\"text-align:left;white-space:pre\">BASE TABLE</td></tr></table></body></html>"
      ]
     },
     "metadata": {},
     "output_type": "display_data"
    }
   ],
   "source": [
    "SHOW FULL TABLES;"
   ]
  },
  {
   "cell_type": "code",
   "execution_count": 18,
   "metadata": {},
   "outputs": [
    {
     "data": {
      "text/html": [
       "<html><body><table border=\"1\"><tr><th style=\"text-align:left;white-space:pre\">Tables_in_employees</th><th style=\"text-align:left;white-space:pre\">Table_type</th></tr><tr><td style=\"text-align:left;white-space:pre\">departments</td><td style=\"text-align:left;white-space:pre\">BASE TABLE</td></tr><tr><td style=\"text-align:left;white-space:pre\">dept_emp</td><td style=\"text-align:left;white-space:pre\">BASE TABLE</td></tr><tr><td style=\"text-align:left;white-space:pre\">dept_emp_latest_date</td><td style=\"text-align:left;white-space:pre\">VIEW</td></tr><tr><td style=\"text-align:left;white-space:pre\">dept_manager</td><td style=\"text-align:left;white-space:pre\">BASE TABLE</td></tr></table></body></html>"
      ]
     },
     "metadata": {},
     "output_type": "display_data"
    }
   ],
   "source": [
    "SHOW FULL TABLES WHERE Tables_in_employees LIKE 'd%';"
   ]
  },
  {
   "cell_type": "code",
   "execution_count": 19,
   "metadata": {},
   "outputs": [
    {
     "data": {
      "text/html": [
       "<html><body><table border=\"1\"><tr><th style=\"text-align:left;white-space:pre\">Name</th><th style=\"text-align:left;white-space:pre\">Engine</th><th style=\"text-align:left;white-space:pre\">Version</th><th style=\"text-align:left;white-space:pre\">Row_format</th><th style=\"text-align:left;white-space:pre\">Rows</th><th style=\"text-align:left;white-space:pre\">Avg_row_length</th><th style=\"text-align:left;white-space:pre\">Data_length</th><th style=\"text-align:left;white-space:pre\">Max_data_length</th><th style=\"text-align:left;white-space:pre\">Index_length</th><th style=\"text-align:left;white-space:pre\">Data_free</th><th style=\"text-align:left;white-space:pre\">Auto_increment</th><th style=\"text-align:left;white-space:pre\">Create_time</th><th style=\"text-align:left;white-space:pre\">Update_time</th><th style=\"text-align:left;white-space:pre\">Check_time</th><th style=\"text-align:left;white-space:pre\">Collation</th><th style=\"text-align:left;white-space:pre\">Checksum</th><th style=\"text-align:left;white-space:pre\">Create_options</th><th style=\"text-align:left;white-space:pre\">Comment</th><th style=\"text-align:left;white-space:pre\">Max_index_length</th><th style=\"text-align:left;white-space:pre\">Temporary</th></tr><tr><td style=\"text-align:left;white-space:pre\">current_dept_emp</td><td style=\"text-align:left;white-space:pre\">NULL</td><td style=\"text-align:left;white-space:pre\">NULL</td><td style=\"text-align:left;white-space:pre\">NULL</td><td style=\"text-align:left;white-space:pre\">NULL</td><td style=\"text-align:left;white-space:pre\">NULL</td><td style=\"text-align:left;white-space:pre\">NULL</td><td style=\"text-align:left;white-space:pre\">NULL</td><td style=\"text-align:left;white-space:pre\">NULL</td><td style=\"text-align:left;white-space:pre\">NULL</td><td style=\"text-align:left;white-space:pre\">NULL</td><td style=\"text-align:left;white-space:pre\">NULL</td><td style=\"text-align:left;white-space:pre\">NULL</td><td style=\"text-align:left;white-space:pre\">NULL</td><td style=\"text-align:left;white-space:pre\">NULL</td><td style=\"text-align:left;white-space:pre\">NULL</td><td style=\"text-align:left;white-space:pre\">NULL</td><td style=\"text-align:left;white-space:pre\">VIEW</td><td style=\"text-align:left;white-space:pre\">NULL</td><td style=\"text-align:left;white-space:pre\">NULL</td></tr><tr><td style=\"text-align:left;white-space:pre\">departments</td><td style=\"text-align:left;white-space:pre\">InnoDB</td><td style=\"text-align:left;white-space:pre\">10</td><td style=\"text-align:left;white-space:pre\">Dynamic</td><td style=\"text-align:left;white-space:pre\">9</td><td style=\"text-align:left;white-space:pre\">1820</td><td style=\"text-align:left;white-space:pre\">16384</td><td style=\"text-align:left;white-space:pre\">0</td><td style=\"text-align:left;white-space:pre\">16384</td><td style=\"text-align:left;white-space:pre\">0</td><td style=\"text-align:left;white-space:pre\">NULL</td><td style=\"text-align:left;white-space:pre\">2021-07-10 03:35:27</td><td style=\"text-align:left;white-space:pre\">2021-07-10 03:35:28</td><td style=\"text-align:left;white-space:pre\">NULL</td><td style=\"text-align:left;white-space:pre\">latin1_swedish_ci</td><td style=\"text-align:left;white-space:pre\">NULL</td><td style=\"text-align:left;white-space:pre\"></td><td style=\"text-align:left;white-space:pre\"></td><td style=\"text-align:left;white-space:pre\">0</td><td style=\"text-align:left;white-space:pre\">N</td></tr><tr><td style=\"text-align:left;white-space:pre\">dept_emp</td><td style=\"text-align:left;white-space:pre\">InnoDB</td><td style=\"text-align:left;white-space:pre\">10</td><td style=\"text-align:left;white-space:pre\">Dynamic</td><td style=\"text-align:left;white-space:pre\">332289</td><td style=\"text-align:left;white-space:pre\">36</td><td style=\"text-align:left;white-space:pre\">12075008</td><td style=\"text-align:left;white-space:pre\">0</td><td style=\"text-align:left;white-space:pre\">5783552</td><td style=\"text-align:left;white-space:pre\">4194304</td><td style=\"text-align:left;white-space:pre\">NULL</td><td style=\"text-align:left;white-space:pre\">2021-07-10 03:35:28</td><td style=\"text-align:left;white-space:pre\">2021-07-10 03:35:33</td><td style=\"text-align:left;white-space:pre\">NULL</td><td style=\"text-align:left;white-space:pre\">latin1_swedish_ci</td><td style=\"text-align:left;white-space:pre\">NULL</td><td style=\"text-align:left;white-space:pre\"></td><td style=\"text-align:left;white-space:pre\"></td><td style=\"text-align:left;white-space:pre\">0</td><td style=\"text-align:left;white-space:pre\">N</td></tr><tr><td style=\"text-align:left;white-space:pre\">dept_emp_latest_date</td><td style=\"text-align:left;white-space:pre\">NULL</td><td style=\"text-align:left;white-space:pre\">NULL</td><td style=\"text-align:left;white-space:pre\">NULL</td><td style=\"text-align:left;white-space:pre\">NULL</td><td style=\"text-align:left;white-space:pre\">NULL</td><td style=\"text-align:left;white-space:pre\">NULL</td><td style=\"text-align:left;white-space:pre\">NULL</td><td style=\"text-align:left;white-space:pre\">NULL</td><td style=\"text-align:left;white-space:pre\">NULL</td><td style=\"text-align:left;white-space:pre\">NULL</td><td style=\"text-align:left;white-space:pre\">NULL</td><td style=\"text-align:left;white-space:pre\">NULL</td><td style=\"text-align:left;white-space:pre\">NULL</td><td style=\"text-align:left;white-space:pre\">NULL</td><td style=\"text-align:left;white-space:pre\">NULL</td><td style=\"text-align:left;white-space:pre\">NULL</td><td style=\"text-align:left;white-space:pre\">VIEW</td><td style=\"text-align:left;white-space:pre\">NULL</td><td style=\"text-align:left;white-space:pre\">NULL</td></tr><tr><td style=\"text-align:left;white-space:pre\">dept_manager</td><td style=\"text-align:left;white-space:pre\">InnoDB</td><td style=\"text-align:left;white-space:pre\">10</td><td style=\"text-align:left;white-space:pre\">Dynamic</td><td style=\"text-align:left;white-space:pre\">24</td><td style=\"text-align:left;white-space:pre\">682</td><td style=\"text-align:left;white-space:pre\">16384</td><td style=\"text-align:left;white-space:pre\">0</td><td style=\"text-align:left;white-space:pre\">16384</td><td style=\"text-align:left;white-space:pre\">0</td><td style=\"text-align:left;white-space:pre\">NULL</td><td style=\"text-align:left;white-space:pre\">2021-07-10 03:35:27</td><td style=\"text-align:left;white-space:pre\">2021-07-10 03:35:33</td><td style=\"text-align:left;white-space:pre\">NULL</td><td style=\"text-align:left;white-space:pre\">latin1_swedish_ci</td><td style=\"text-align:left;white-space:pre\">NULL</td><td style=\"text-align:left;white-space:pre\"></td><td style=\"text-align:left;white-space:pre\"></td><td style=\"text-align:left;white-space:pre\">0</td><td style=\"text-align:left;white-space:pre\">N</td></tr><tr><td style=\"text-align:left;white-space:pre\">employees</td><td style=\"text-align:left;white-space:pre\">InnoDB</td><td style=\"text-align:left;white-space:pre\">10</td><td style=\"text-align:left;white-space:pre\">Dynamic</td><td style=\"text-align:left;white-space:pre\">300141</td><td style=\"text-align:left;white-space:pre\">50</td><td style=\"text-align:left;white-space:pre\">15220736</td><td style=\"text-align:left;white-space:pre\">0</td><td style=\"text-align:left;white-space:pre\">0</td><td style=\"text-align:left;white-space:pre\">4194304</td><td style=\"text-align:left;white-space:pre\">NULL</td><td style=\"text-align:left;white-space:pre\">2021-07-10 03:35:27</td><td style=\"text-align:left;white-space:pre\">2021-07-10 03:35:30</td><td style=\"text-align:left;white-space:pre\">NULL</td><td style=\"text-align:left;white-space:pre\">latin1_swedish_ci</td><td style=\"text-align:left;white-space:pre\">NULL</td><td style=\"text-align:left;white-space:pre\"></td><td style=\"text-align:left;white-space:pre\"></td><td style=\"text-align:left;white-space:pre\">0</td><td style=\"text-align:left;white-space:pre\">N</td></tr><tr><td style=\"text-align:left;white-space:pre\">salaries</td><td style=\"text-align:left;white-space:pre\">InnoDB</td><td style=\"text-align:left;white-space:pre\">10</td><td style=\"text-align:left;white-space:pre\">Dynamic</td><td style=\"text-align:left;white-space:pre\">2844513</td><td style=\"text-align:left;white-space:pre\">35</td><td style=\"text-align:left;white-space:pre\">100270080</td><td style=\"text-align:left;white-space:pre\">0</td><td style=\"text-align:left;white-space:pre\">0</td><td style=\"text-align:left;white-space:pre\">4194304</td><td style=\"text-align:left;white-space:pre\">NULL</td><td style=\"text-align:left;white-space:pre\">2021-07-10 03:35:28</td><td style=\"text-align:left;white-space:pre\">2021-07-10 03:35:55</td><td style=\"text-align:left;white-space:pre\">NULL</td><td style=\"text-align:left;white-space:pre\">latin1_swedish_ci</td><td style=\"text-align:left;white-space:pre\">NULL</td><td style=\"text-align:left;white-space:pre\"></td><td style=\"text-align:left;white-space:pre\"></td><td style=\"text-align:left;white-space:pre\">0</td><td style=\"text-align:left;white-space:pre\">N</td></tr><tr><td style=\"text-align:left;white-space:pre\">titles</td><td style=\"text-align:left;white-space:pre\">InnoDB</td><td style=\"text-align:left;white-space:pre\">10</td><td style=\"text-align:left;white-space:pre\">Dynamic</td><td style=\"text-align:left;white-space:pre\">443357</td><td style=\"text-align:left;white-space:pre\">46</td><td style=\"text-align:left;white-space:pre\">20512768</td><td style=\"text-align:left;white-space:pre\">0</td><td style=\"text-align:left;white-space:pre\">0</td><td style=\"text-align:left;white-space:pre\">4194304</td><td style=\"text-align:left;white-space:pre\">NULL</td><td style=\"text-align:left;white-space:pre\">2021-07-10 03:35:28</td><td style=\"text-align:left;white-space:pre\">2021-07-10 03:35:35</td><td style=\"text-align:left;white-space:pre\">NULL</td><td style=\"text-align:left;white-space:pre\">latin1_swedish_ci</td><td style=\"text-align:left;white-space:pre\">NULL</td><td style=\"text-align:left;white-space:pre\"></td><td style=\"text-align:left;white-space:pre\"></td><td style=\"text-align:left;white-space:pre\">0</td><td style=\"text-align:left;white-space:pre\">N</td></tr></table></body></html>"
      ]
     },
     "metadata": {},
     "output_type": "display_data"
    }
   ],
   "source": [
    "SHOW TABLE STATUS;"
   ]
  },
  {
   "cell_type": "markdown",
   "metadata": {},
   "source": [
    "### Show create table"
   ]
  },
  {
   "cell_type": "code",
   "execution_count": 20,
   "metadata": {},
   "outputs": [
    {
     "data": {
      "text/html": [
       "<html><body><table border=\"1\"><tr><th style=\"text-align:left;white-space:pre\">Table</th><th style=\"text-align:left;white-space:pre\">Create Table</th></tr><tr><td style=\"text-align:left;white-space:pre\">salaries</td><td style=\"text-align:left;white-space:pre\">CREATE TABLE `salaries` (\r\n",
       "  `emp_no` int(11) NOT NULL,\r\n",
       "  `salary` int(11) NOT NULL,\r\n",
       "  `from_date` date NOT NULL,\r\n",
       "  `to_date` date NOT NULL,\r\n",
       "  PRIMARY KEY (`emp_no`,`from_date`),\r\n",
       "  CONSTRAINT `salaries_ibfk_1` FOREIGN KEY (`emp_no`) REFERENCES `employees` (`emp_no`) ON DELETE CASCADE\r\n",
       ") ENGINE=InnoDB DEFAULT CHARSET=latin1</td></tr></table></body></html>"
      ]
     },
     "metadata": {},
     "output_type": "display_data"
    }
   ],
   "source": [
    "SHOW CREATE TABLE salaries;"
   ]
  },
  {
   "cell_type": "markdown",
   "metadata": {},
   "source": [
    "### Data Definition - Databases\n",
    "\n",
    "#### Create Database"
   ]
  },
  {
   "cell_type": "markdown",
   "metadata": {},
   "source": [
    "**Exemplo dos Táxis**\n",
    "\n",
    "<img src=\"../../resources/images/TaxiER.png\" width=\"1000px\">\n",
    "\n",
    "Baseado no exemplo criado por prof. Geovane Cayres Magalhães http://www.ic.unicamp.br/~geovane/mo410-091/caso.html"
   ]
  },
  {
   "cell_type": "code",
   "execution_count": 24,
   "metadata": {},
   "outputs": [
    {
     "data": {
      "text/html": [
       "Query OK"
      ]
     },
     "metadata": {},
     "output_type": "display_data"
    }
   ],
   "source": [
    "CREATE database if NOT exists taxis;"
   ]
  },
  {
   "cell_type": "code",
   "execution_count": 25,
   "metadata": {},
   "outputs": [
    {
     "data": {
      "text/html": [
       "Query OK"
      ]
     },
     "metadata": {},
     "output_type": "display_data"
    }
   ],
   "source": [
    "USE taxis;"
   ]
  },
  {
   "cell_type": "code",
   "execution_count": 26,
   "metadata": {},
   "outputs": [
    {
     "data": {
      "text/html": [
       "Query OK"
      ]
     },
     "metadata": {},
     "output_type": "display_data"
    }
   ],
   "source": [
    "show tables;"
   ]
  },
  {
   "cell_type": "code",
   "execution_count": 22,
   "metadata": {},
   "outputs": [
    {
     "data": {
      "text/html": [
       "<html><body><table border=\"1\"><tr><th style=\"text-align:left;white-space:pre\">Database</th></tr><tr><td style=\"text-align:left;white-space:pre\">acme-company</td></tr><tr><td style=\"text-align:left;white-space:pre\">employees</td></tr><tr><td style=\"text-align:left;white-space:pre\">information_schema</td></tr><tr><td style=\"text-align:left;white-space:pre\">movielens</td></tr><tr><td style=\"text-align:left;white-space:pre\">sakila</td></tr><tr><td style=\"text-align:left;white-space:pre\">taxis</td></tr><tr><td style=\"text-align:left;white-space:pre\">world</td></tr></table></body></html>"
      ]
     },
     "metadata": {},
     "output_type": "display_data"
    }
   ],
   "source": [
    "show databases;"
   ]
  },
  {
   "cell_type": "markdown",
   "metadata": {},
   "source": [
    "#### Drop Database"
   ]
  },
  {
   "cell_type": "code",
   "execution_count": 27,
   "metadata": {},
   "outputs": [
    {
     "data": {
      "text/html": [
       "Query OK"
      ]
     },
     "metadata": {},
     "output_type": "display_data"
    }
   ],
   "source": [
    "DROP database if exists taxis;"
   ]
  },
  {
   "cell_type": "code",
   "execution_count": 28,
   "metadata": {},
   "outputs": [
    {
     "data": {
      "text/html": [
       "<html><body><table border=\"1\"><tr><th style=\"text-align:left;white-space:pre\">Database</th></tr><tr><td style=\"text-align:left;white-space:pre\">acme-company</td></tr><tr><td style=\"text-align:left;white-space:pre\">employees</td></tr><tr><td style=\"text-align:left;white-space:pre\">information_schema</td></tr><tr><td style=\"text-align:left;white-space:pre\">movielens</td></tr><tr><td style=\"text-align:left;white-space:pre\">sakila</td></tr><tr><td style=\"text-align:left;white-space:pre\">world</td></tr></table></body></html>"
      ]
     },
     "metadata": {},
     "output_type": "display_data"
    }
   ],
   "source": [
    "show databases;"
   ]
  },
  {
   "cell_type": "code",
   "execution_count": 29,
   "metadata": {},
   "outputs": [
    {
     "data": {
      "text/html": [
       "Query OK"
      ]
     },
     "metadata": {},
     "output_type": "display_data"
    }
   ],
   "source": [
    "CREATE database if NOT exists taxis;\n",
    "USE taxis;"
   ]
  },
  {
   "cell_type": "markdown",
   "metadata": {},
   "source": [
    "### Data Definition - Tables\n",
    "\n",
    "#### Create Table"
   ]
  },
  {
   "cell_type": "code",
   "execution_count": 30,
   "metadata": {},
   "outputs": [
    {
     "data": {
      "text/html": [
       "Query OK"
      ]
     },
     "metadata": {},
     "output_type": "display_data"
    }
   ],
   "source": [
    "SHOW tables;"
   ]
  },
  {
   "cell_type": "code",
   "execution_count": 31,
   "metadata": {},
   "outputs": [
    {
     "data": {
      "text/html": [
       "Query OK"
      ]
     },
     "metadata": {},
     "output_type": "display_data"
    }
   ],
   "source": [
    "CREATE TABLE Taxi (\n",
    "  Placa VARCHAR(7) NOT NULL,\n",
    "  Marca VARCHAR(30) NOT NULL,\n",
    "  Modelo VARCHAR(30) NOT NULL,\n",
    "  AnoFab INTEGER,\n",
    "  Licenca VARCHAR(9),\n",
    "  PRIMARY KEY(Placa)\n",
    ");"
   ]
  },
  {
   "cell_type": "code",
   "execution_count": 32,
   "metadata": {},
   "outputs": [
    {
     "data": {
      "text/html": [
       "<html><body><table border=\"1\"><tr><th style=\"text-align:left;white-space:pre\">Tables_in_taxis</th></tr><tr><td style=\"text-align:left;white-space:pre\">Taxi</td></tr></table></body></html>"
      ]
     },
     "metadata": {},
     "output_type": "display_data"
    }
   ],
   "source": [
    "SHOW tables;"
   ]
  },
  {
   "cell_type": "markdown",
   "metadata": {},
   "source": [
    "##### Data types\n",
    "<img src=\"https://www.mysqltutorial.org/wp-content/uploads/0211/03/MySQL-Data-Types.jpg\" width=\"65%\">\n"
   ]
  },
  {
   "cell_type": "markdown",
   "metadata": {},
   "source": [
    "Indicando:\n",
    "- Chave primária\n",
    "- Tipos de dados e constraints (tamanho)\n",
    "- Criar se não existir"
   ]
  },
  {
   "cell_type": "code",
   "execution_count": 35,
   "metadata": {},
   "outputs": [
    {
     "data": {
      "text/html": [
       "Query OK"
      ]
     },
     "metadata": {},
     "output_type": "display_data"
    }
   ],
   "source": [
    "CREATE TABLE IF NOT EXISTS Taxi (\n",
    "  Placa VARCHAR(7) NOT NULL,\n",
    "  Marca VARCHAR(30) NOT NULL,\n",
    "  Modelo VARCHAR(30) NOT NULL,\n",
    "  AnoFab INTEGER,\n",
    "  Licenca VARCHAR(9),\n",
    "  PRIMARY KEY(Placa)\n",
    ");\n",
    "\n",
    "CREATE TABLE IF NOT EXISTS Cliente (\n",
    "  CliId VARCHAR(4) NOT NULL,\n",
    "  Nome VARCHAR(80) NOT NULL,\n",
    "  CPF VARCHAR(14) NOT NULL,\n",
    "  PRIMARY KEY(CliId)\n",
    ");"
   ]
  },
  {
   "cell_type": "markdown",
   "metadata": {},
   "source": [
    "##### Chaves estrangeiras\n",
    "\n",
    "Ações para chaves estrangeiras\n",
    "- NO ACTION → impede a ação na tabela mestre <tabela_ref>\n",
    "- CASCADE → propaga a ação da tabela mestre\n",
    "- SET NULL → valores de referências alterados para nulo\n",
    "- SET DEFAULT → valores de referências alterados para default\n"
   ]
  },
  {
   "cell_type": "code",
   "execution_count": 36,
   "metadata": {},
   "outputs": [
    {
     "data": {
      "text/html": [
       "Query OK"
      ]
     },
     "metadata": {},
     "output_type": "display_data"
    }
   ],
   "source": [
    "CREATE TABLE Corrida (\n",
    "  CliId VARCHAR(4) NOT NULL,\n",
    "  Placa VARCHAR(7) NOT NULL,\n",
    "  DataPedido DATE NOT NULL,\n",
    "  PRIMARY KEY(CliId, Placa, DataPedido),\n",
    "  FOREIGN KEY(CliId)\n",
    "    REFERENCES Cliente(CliId)\n",
    "      ON DELETE NO ACTION\n",
    "      ON UPDATE NO ACTION,\n",
    "  FOREIGN KEY(Placa)\n",
    "    REFERENCES Taxi(Placa)\n",
    "      ON DELETE NO ACTION\n",
    "      ON UPDATE NO ACTION\n",
    ");"
   ]
  },
  {
   "cell_type": "code",
   "execution_count": 37,
   "metadata": {},
   "outputs": [
    {
     "data": {
      "text/html": [
       "<html><body><table border=\"1\"><tr><th style=\"text-align:left;white-space:pre\">Tables_in_taxis</th></tr><tr><td style=\"text-align:left;white-space:pre\">Cliente</td></tr><tr><td style=\"text-align:left;white-space:pre\">Corrida</td></tr><tr><td style=\"text-align:left;white-space:pre\">Taxi</td></tr></table></body></html>"
      ]
     },
     "metadata": {},
     "output_type": "display_data"
    }
   ],
   "source": [
    "SHOW tables;"
   ]
  },
  {
   "cell_type": "code",
   "execution_count": 38,
   "metadata": {},
   "outputs": [
    {
     "data": {
      "text/html": [
       "<html><body><table border=\"1\"><tr><th style=\"text-align:left;white-space:pre\">Name</th><th style=\"text-align:left;white-space:pre\">Engine</th><th style=\"text-align:left;white-space:pre\">Version</th><th style=\"text-align:left;white-space:pre\">Row_format</th><th style=\"text-align:left;white-space:pre\">Rows</th><th style=\"text-align:left;white-space:pre\">Avg_row_length</th><th style=\"text-align:left;white-space:pre\">Data_length</th><th style=\"text-align:left;white-space:pre\">Max_data_length</th><th style=\"text-align:left;white-space:pre\">Index_length</th><th style=\"text-align:left;white-space:pre\">Data_free</th><th style=\"text-align:left;white-space:pre\">Auto_increment</th><th style=\"text-align:left;white-space:pre\">Create_time</th><th style=\"text-align:left;white-space:pre\">Update_time</th><th style=\"text-align:left;white-space:pre\">Check_time</th><th style=\"text-align:left;white-space:pre\">Collation</th><th style=\"text-align:left;white-space:pre\">Checksum</th><th style=\"text-align:left;white-space:pre\">Create_options</th><th style=\"text-align:left;white-space:pre\">Comment</th><th style=\"text-align:left;white-space:pre\">Max_index_length</th><th style=\"text-align:left;white-space:pre\">Temporary</th></tr><tr><td style=\"text-align:left;white-space:pre\">Cliente</td><td style=\"text-align:left;white-space:pre\">InnoDB</td><td style=\"text-align:left;white-space:pre\">10</td><td style=\"text-align:left;white-space:pre\">Dynamic</td><td style=\"text-align:left;white-space:pre\">0</td><td style=\"text-align:left;white-space:pre\">0</td><td style=\"text-align:left;white-space:pre\">16384</td><td style=\"text-align:left;white-space:pre\">0</td><td style=\"text-align:left;white-space:pre\">0</td><td style=\"text-align:left;white-space:pre\">0</td><td style=\"text-align:left;white-space:pre\">NULL</td><td style=\"text-align:left;white-space:pre\">2021-07-10 04:27:29</td><td style=\"text-align:left;white-space:pre\">NULL</td><td style=\"text-align:left;white-space:pre\">NULL</td><td style=\"text-align:left;white-space:pre\">latin1_swedish_ci</td><td style=\"text-align:left;white-space:pre\">NULL</td><td style=\"text-align:left;white-space:pre\"></td><td style=\"text-align:left;white-space:pre\"></td><td style=\"text-align:left;white-space:pre\">0</td><td style=\"text-align:left;white-space:pre\">N</td></tr><tr><td style=\"text-align:left;white-space:pre\">Corrida</td><td style=\"text-align:left;white-space:pre\">InnoDB</td><td style=\"text-align:left;white-space:pre\">10</td><td style=\"text-align:left;white-space:pre\">Dynamic</td><td style=\"text-align:left;white-space:pre\">0</td><td style=\"text-align:left;white-space:pre\">0</td><td style=\"text-align:left;white-space:pre\">16384</td><td style=\"text-align:left;white-space:pre\">0</td><td style=\"text-align:left;white-space:pre\">16384</td><td style=\"text-align:left;white-space:pre\">0</td><td style=\"text-align:left;white-space:pre\">NULL</td><td style=\"text-align:left;white-space:pre\">2021-07-10 04:31:24</td><td style=\"text-align:left;white-space:pre\">NULL</td><td style=\"text-align:left;white-space:pre\">NULL</td><td style=\"text-align:left;white-space:pre\">latin1_swedish_ci</td><td style=\"text-align:left;white-space:pre\">NULL</td><td style=\"text-align:left;white-space:pre\"></td><td style=\"text-align:left;white-space:pre\"></td><td style=\"text-align:left;white-space:pre\">0</td><td style=\"text-align:left;white-space:pre\">N</td></tr><tr><td style=\"text-align:left;white-space:pre\">Taxi</td><td style=\"text-align:left;white-space:pre\">InnoDB</td><td style=\"text-align:left;white-space:pre\">10</td><td style=\"text-align:left;white-space:pre\">Dynamic</td><td style=\"text-align:left;white-space:pre\">0</td><td style=\"text-align:left;white-space:pre\">0</td><td style=\"text-align:left;white-space:pre\">16384</td><td style=\"text-align:left;white-space:pre\">0</td><td style=\"text-align:left;white-space:pre\">0</td><td style=\"text-align:left;white-space:pre\">0</td><td style=\"text-align:left;white-space:pre\">NULL</td><td style=\"text-align:left;white-space:pre\">2021-07-10 04:26:55</td><td style=\"text-align:left;white-space:pre\">NULL</td><td style=\"text-align:left;white-space:pre\">NULL</td><td style=\"text-align:left;white-space:pre\">latin1_swedish_ci</td><td style=\"text-align:left;white-space:pre\">NULL</td><td style=\"text-align:left;white-space:pre\"></td><td style=\"text-align:left;white-space:pre\"></td><td style=\"text-align:left;white-space:pre\">0</td><td style=\"text-align:left;white-space:pre\">N</td></tr></table></body></html>"
      ]
     },
     "metadata": {},
     "output_type": "display_data"
    }
   ],
   "source": [
    "SHOW TABLE STATUS;"
   ]
  },
  {
   "cell_type": "code",
   "execution_count": 40,
   "metadata": {},
   "outputs": [
    {
     "data": {
      "text/html": [
       "<html><body><table border=\"1\"><tr><th style=\"text-align:left;white-space:pre\">Table</th><th style=\"text-align:left;white-space:pre\">Create Table</th></tr><tr><td style=\"text-align:left;white-space:pre\">Corrida</td><td style=\"text-align:left;white-space:pre\">CREATE TABLE `Corrida` (\r\n",
       "  `CliId` varchar(4) NOT NULL,\r\n",
       "  `Placa` varchar(7) NOT NULL,\r\n",
       "  `DataPedido` date NOT NULL,\r\n",
       "  PRIMARY KEY (`CliId`,`Placa`,`DataPedido`),\r\n",
       "  KEY `Placa` (`Placa`),\r\n",
       "  CONSTRAINT `Corrida_ibfk_1` FOREIGN KEY (`CliId`) REFERENCES `Cliente` (`CliId`) ON DELETE NO ACTION ON UPDATE NO ACTION,\r\n",
       "  CONSTRAINT `Corrida_ibfk_2` FOREIGN KEY (`Placa`) REFERENCES `Taxi` (`Placa`) ON DELETE NO ACTION ON UPDATE NO ACTION\r\n",
       ") ENGINE=InnoDB DEFAULT CHARSET=latin1</td></tr></table></body></html>"
      ]
     },
     "metadata": {},
     "output_type": "display_data"
    }
   ],
   "source": [
    "SHOW CREATE TABLE Corrida;"
   ]
  },
  {
   "cell_type": "markdown",
   "metadata": {},
   "source": [
    "#### Rename Table"
   ]
  },
  {
   "cell_type": "code",
   "execution_count": 41,
   "metadata": {},
   "outputs": [
    {
     "data": {
      "text/html": [
       "Query OK"
      ]
     },
     "metadata": {},
     "output_type": "display_data"
    }
   ],
   "source": [
    "RENAME TABLE Cliente TO Cliente_new;"
   ]
  },
  {
   "cell_type": "code",
   "execution_count": 42,
   "metadata": {},
   "outputs": [
    {
     "data": {
      "text/html": [
       "<html><body><table border=\"1\"><tr><th style=\"text-align:left;white-space:pre\">Tables_in_taxis</th></tr><tr><td style=\"text-align:left;white-space:pre\">Cliente_new</td></tr><tr><td style=\"text-align:left;white-space:pre\">Corrida</td></tr><tr><td style=\"text-align:left;white-space:pre\">Taxi</td></tr></table></body></html>"
      ]
     },
     "metadata": {},
     "output_type": "display_data"
    }
   ],
   "source": [
    "SHOW tables;"
   ]
  },
  {
   "cell_type": "markdown",
   "metadata": {},
   "source": [
    "#### Alter Table"
   ]
  },
  {
   "cell_type": "code",
   "execution_count": 43,
   "metadata": {},
   "outputs": [
    {
     "data": {
      "text/html": [
       "<html><body><table border=\"1\"><tr><th style=\"text-align:left;white-space:pre\">Field</th><th style=\"text-align:left;white-space:pre\">Type</th><th style=\"text-align:left;white-space:pre\">Null</th><th style=\"text-align:left;white-space:pre\">Key</th><th style=\"text-align:left;white-space:pre\">Default</th><th style=\"text-align:left;white-space:pre\">Extra</th></tr><tr><td style=\"text-align:left;white-space:pre\">CliId</td><td style=\"text-align:left;white-space:pre\">varchar(4)</td><td style=\"text-align:left;white-space:pre\">NO</td><td style=\"text-align:left;white-space:pre\">PRI</td><td style=\"text-align:left;white-space:pre\">NULL</td><td style=\"text-align:left;white-space:pre\"></td></tr><tr><td style=\"text-align:left;white-space:pre\">Nome</td><td style=\"text-align:left;white-space:pre\">varchar(80)</td><td style=\"text-align:left;white-space:pre\">NO</td><td style=\"text-align:left;white-space:pre\"></td><td style=\"text-align:left;white-space:pre\">NULL</td><td style=\"text-align:left;white-space:pre\"></td></tr><tr><td style=\"text-align:left;white-space:pre\">CPF</td><td style=\"text-align:left;white-space:pre\">varchar(14)</td><td style=\"text-align:left;white-space:pre\">NO</td><td style=\"text-align:left;white-space:pre\"></td><td style=\"text-align:left;white-space:pre\">NULL</td><td style=\"text-align:left;white-space:pre\"></td></tr></table></body></html>"
      ]
     },
     "metadata": {},
     "output_type": "display_data"
    }
   ],
   "source": [
    "SHOW COLUMNS FROM Cliente_new;"
   ]
  },
  {
   "cell_type": "code",
   "execution_count": 44,
   "metadata": {},
   "outputs": [
    {
     "data": {
      "text/html": [
       "Query OK"
      ]
     },
     "metadata": {},
     "output_type": "display_data"
    }
   ],
   "source": [
    "ALTER TABLE Cliente_new ADD Rg INT;"
   ]
  },
  {
   "cell_type": "code",
   "execution_count": 45,
   "metadata": {},
   "outputs": [
    {
     "data": {
      "text/html": [
       "<html><body><table border=\"1\"><tr><th style=\"text-align:left;white-space:pre\">Field</th><th style=\"text-align:left;white-space:pre\">Type</th><th style=\"text-align:left;white-space:pre\">Null</th><th style=\"text-align:left;white-space:pre\">Key</th><th style=\"text-align:left;white-space:pre\">Default</th><th style=\"text-align:left;white-space:pre\">Extra</th></tr><tr><td style=\"text-align:left;white-space:pre\">CliId</td><td style=\"text-align:left;white-space:pre\">varchar(4)</td><td style=\"text-align:left;white-space:pre\">NO</td><td style=\"text-align:left;white-space:pre\">PRI</td><td style=\"text-align:left;white-space:pre\">NULL</td><td style=\"text-align:left;white-space:pre\"></td></tr><tr><td style=\"text-align:left;white-space:pre\">Nome</td><td style=\"text-align:left;white-space:pre\">varchar(80)</td><td style=\"text-align:left;white-space:pre\">NO</td><td style=\"text-align:left;white-space:pre\"></td><td style=\"text-align:left;white-space:pre\">NULL</td><td style=\"text-align:left;white-space:pre\"></td></tr><tr><td style=\"text-align:left;white-space:pre\">CPF</td><td style=\"text-align:left;white-space:pre\">varchar(14)</td><td style=\"text-align:left;white-space:pre\">NO</td><td style=\"text-align:left;white-space:pre\"></td><td style=\"text-align:left;white-space:pre\">NULL</td><td style=\"text-align:left;white-space:pre\"></td></tr><tr><td style=\"text-align:left;white-space:pre\">Rg</td><td style=\"text-align:left;white-space:pre\">int(11)</td><td style=\"text-align:left;white-space:pre\">YES</td><td style=\"text-align:left;white-space:pre\"></td><td style=\"text-align:left;white-space:pre\">NULL</td><td style=\"text-align:left;white-space:pre\"></td></tr></table></body></html>"
      ]
     },
     "metadata": {},
     "output_type": "display_data"
    }
   ],
   "source": [
    "SHOW COLUMNS FROM Cliente_new;"
   ]
  },
  {
   "cell_type": "code",
   "execution_count": 46,
   "metadata": {},
   "outputs": [
    {
     "data": {
      "text/html": [
       "Stage: 2 of 2 'Enabling keys'      0% of stage done\r",
       "                                                   \r"
      ]
     },
     "metadata": {},
     "output_type": "display_data"
    }
   ],
   "source": [
    "ALTER TABLE Cliente_new MODIFY Rg BIGINT;"
   ]
  },
  {
   "cell_type": "code",
   "execution_count": 49,
   "metadata": {},
   "outputs": [
    {
     "data": {
      "text/html": [
       "<html><body><table border=\"1\"><tr><th style=\"text-align:left;white-space:pre\">Field</th><th style=\"text-align:left;white-space:pre\">Type</th><th style=\"text-align:left;white-space:pre\">Null</th><th style=\"text-align:left;white-space:pre\">Key</th><th style=\"text-align:left;white-space:pre\">Default</th><th style=\"text-align:left;white-space:pre\">Extra</th></tr><tr><td style=\"text-align:left;white-space:pre\">CliId</td><td style=\"text-align:left;white-space:pre\">varchar(4)</td><td style=\"text-align:left;white-space:pre\">NO</td><td style=\"text-align:left;white-space:pre\">PRI</td><td style=\"text-align:left;white-space:pre\">NULL</td><td style=\"text-align:left;white-space:pre\"></td></tr><tr><td style=\"text-align:left;white-space:pre\">Placa</td><td style=\"text-align:left;white-space:pre\">varchar(7)</td><td style=\"text-align:left;white-space:pre\">NO</td><td style=\"text-align:left;white-space:pre\">PRI</td><td style=\"text-align:left;white-space:pre\">NULL</td><td style=\"text-align:left;white-space:pre\"></td></tr><tr><td style=\"text-align:left;white-space:pre\">DataPedido</td><td style=\"text-align:left;white-space:pre\">date</td><td style=\"text-align:left;white-space:pre\">NO</td><td style=\"text-align:left;white-space:pre\">PRI</td><td style=\"text-align:left;white-space:pre\">NULL</td><td style=\"text-align:left;white-space:pre\"></td></tr></table></body></html>"
      ]
     },
     "metadata": {},
     "output_type": "display_data"
    }
   ],
   "source": [
    "SHOW COLUMNS FROM Corrida;"
   ]
  },
  {
   "cell_type": "code",
   "execution_count": 50,
   "metadata": {},
   "outputs": [
    {
     "data": {
      "text/html": [
       "Query OK"
      ]
     },
     "metadata": {},
     "output_type": "display_data"
    }
   ],
   "source": [
    "ALTER TABLE Cliente_new DROP Rg;"
   ]
  },
  {
   "cell_type": "code",
   "execution_count": 51,
   "metadata": {},
   "outputs": [
    {
     "data": {
      "text/html": [
       "<html><body><table border=\"1\"><tr><th style=\"text-align:left;white-space:pre\">Field</th><th style=\"text-align:left;white-space:pre\">Type</th><th style=\"text-align:left;white-space:pre\">Null</th><th style=\"text-align:left;white-space:pre\">Key</th><th style=\"text-align:left;white-space:pre\">Default</th><th style=\"text-align:left;white-space:pre\">Extra</th></tr><tr><td style=\"text-align:left;white-space:pre\">CliId</td><td style=\"text-align:left;white-space:pre\">varchar(4)</td><td style=\"text-align:left;white-space:pre\">NO</td><td style=\"text-align:left;white-space:pre\">PRI</td><td style=\"text-align:left;white-space:pre\">NULL</td><td style=\"text-align:left;white-space:pre\"></td></tr><tr><td style=\"text-align:left;white-space:pre\">Nome</td><td style=\"text-align:left;white-space:pre\">varchar(80)</td><td style=\"text-align:left;white-space:pre\">NO</td><td style=\"text-align:left;white-space:pre\"></td><td style=\"text-align:left;white-space:pre\">NULL</td><td style=\"text-align:left;white-space:pre\"></td></tr><tr><td style=\"text-align:left;white-space:pre\">CPF</td><td style=\"text-align:left;white-space:pre\">varchar(14)</td><td style=\"text-align:left;white-space:pre\">NO</td><td style=\"text-align:left;white-space:pre\"></td><td style=\"text-align:left;white-space:pre\">NULL</td><td style=\"text-align:left;white-space:pre\"></td></tr></table></body></html>"
      ]
     },
     "metadata": {},
     "output_type": "display_data"
    }
   ],
   "source": [
    "SHOW COLUMNS FROM Cliente_new;"
   ]
  },
  {
   "cell_type": "markdown",
   "metadata": {},
   "source": [
    "#### Drop Table"
   ]
  },
  {
   "cell_type": "markdown",
   "metadata": {},
   "source": [
    "Erro por motivo de relação com outras tabelas (chave estrangeira)"
   ]
  },
  {
   "cell_type": "code",
   "execution_count": 52,
   "metadata": {},
   "outputs": [
    {
     "name": "stderr",
     "output_type": "stream",
     "text": [
      "Cannot delete or update a parent row: a foreign key constraint fails\n",
      "\u0007\u001b(B\u001b[0;7m\u001b(B\u001b[m\n"
     ]
    }
   ],
   "source": [
    "DROP TABLE IF EXISTS Cliente_new;"
   ]
  },
  {
   "cell_type": "code",
   "execution_count": 53,
   "metadata": {},
   "outputs": [
    {
     "data": {
      "text/html": [
       "Query OK"
      ]
     },
     "metadata": {},
     "output_type": "display_data"
    }
   ],
   "source": [
    "DROP TABLE IF EXISTS Corrida;"
   ]
  },
  {
   "cell_type": "code",
   "execution_count": 54,
   "metadata": {},
   "outputs": [
    {
     "data": {
      "text/html": [
       "Query OK"
      ]
     },
     "metadata": {},
     "output_type": "display_data"
    }
   ],
   "source": [
    "DROP TABLE IF EXISTS Taxi;\n",
    "DROP TABLE IF EXISTS Cliente_new;"
   ]
  },
  {
   "cell_type": "code",
   "execution_count": 55,
   "metadata": {},
   "outputs": [
    {
     "data": {
      "text/html": [
       "Query OK"
      ]
     },
     "metadata": {},
     "output_type": "display_data"
    }
   ],
   "source": [
    "CREATE TABLE IF NOT EXISTS Taxi (\n",
    "  Placa VARCHAR(7) NOT NULL,\n",
    "  Marca VARCHAR(30) NOT NULL,\n",
    "  Modelo VARCHAR(30) NOT NULL,\n",
    "  AnoFab INTEGER,\n",
    "  Licenca VARCHAR(9),\n",
    "  PRIMARY KEY(Placa)\n",
    ");\n",
    "\n",
    "CREATE TABLE Cliente (\n",
    "  CliId VARCHAR(4) NOT NULL,\n",
    "  Nome VARCHAR(80) NOT NULL,\n",
    "  CPF VARCHAR(14) NOT NULL,\n",
    "  PRIMARY KEY(CliId)\n",
    ");\n",
    "\n",
    "CREATE TABLE Corrida (\n",
    "  CliId VARCHAR(4) NOT NULL,\n",
    "  Placa VARCHAR(7) NOT NULL,\n",
    "  DataPedido DATE NOT NULL,\n",
    "  PRIMARY KEY(CliId, Placa, DataPedido),\n",
    "  FOREIGN KEY(CliId)\n",
    "    REFERENCES Cliente(CliId)\n",
    "      ON DELETE NO ACTION\n",
    "      ON UPDATE NO ACTION,\n",
    "  FOREIGN KEY(Placa)\n",
    "    REFERENCES Taxi(Placa)\n",
    "      ON DELETE NO ACTION\n",
    "      ON UPDATE NO ACTION\n",
    ");"
   ]
  },
  {
   "cell_type": "markdown",
   "metadata": {},
   "source": [
    "### Data Manipulation (CRUD)\n",
    "\n",
    "#### Insert"
   ]
  },
  {
   "cell_type": "code",
   "execution_count": 56,
   "metadata": {},
   "outputs": [
    {
     "data": {
      "text/html": [
       "<html><body><table border=\"1\"><tr><th style=\"text-align:left;white-space:pre\">Name</th><th style=\"text-align:left;white-space:pre\">Engine</th><th style=\"text-align:left;white-space:pre\">Version</th><th style=\"text-align:left;white-space:pre\">Row_format</th><th style=\"text-align:left;white-space:pre\">Rows</th><th style=\"text-align:left;white-space:pre\">Avg_row_length</th><th style=\"text-align:left;white-space:pre\">Data_length</th><th style=\"text-align:left;white-space:pre\">Max_data_length</th><th style=\"text-align:left;white-space:pre\">Index_length</th><th style=\"text-align:left;white-space:pre\">Data_free</th><th style=\"text-align:left;white-space:pre\">Auto_increment</th><th style=\"text-align:left;white-space:pre\">Create_time</th><th style=\"text-align:left;white-space:pre\">Update_time</th><th style=\"text-align:left;white-space:pre\">Check_time</th><th style=\"text-align:left;white-space:pre\">Collation</th><th style=\"text-align:left;white-space:pre\">Checksum</th><th style=\"text-align:left;white-space:pre\">Create_options</th><th style=\"text-align:left;white-space:pre\">Comment</th><th style=\"text-align:left;white-space:pre\">Max_index_length</th><th style=\"text-align:left;white-space:pre\">Temporary</th></tr><tr><td style=\"text-align:left;white-space:pre\">Cliente</td><td style=\"text-align:left;white-space:pre\">InnoDB</td><td style=\"text-align:left;white-space:pre\">10</td><td style=\"text-align:left;white-space:pre\">Dynamic</td><td style=\"text-align:left;white-space:pre\">0</td><td style=\"text-align:left;white-space:pre\">0</td><td style=\"text-align:left;white-space:pre\">16384</td><td style=\"text-align:left;white-space:pre\">0</td><td style=\"text-align:left;white-space:pre\">0</td><td style=\"text-align:left;white-space:pre\">0</td><td style=\"text-align:left;white-space:pre\">NULL</td><td style=\"text-align:left;white-space:pre\">2021-07-10 04:36:27</td><td style=\"text-align:left;white-space:pre\">NULL</td><td style=\"text-align:left;white-space:pre\">NULL</td><td style=\"text-align:left;white-space:pre\">latin1_swedish_ci</td><td style=\"text-align:left;white-space:pre\">NULL</td><td style=\"text-align:left;white-space:pre\"></td><td style=\"text-align:left;white-space:pre\"></td><td style=\"text-align:left;white-space:pre\">0</td><td style=\"text-align:left;white-space:pre\">N</td></tr><tr><td style=\"text-align:left;white-space:pre\">Corrida</td><td style=\"text-align:left;white-space:pre\">InnoDB</td><td style=\"text-align:left;white-space:pre\">10</td><td style=\"text-align:left;white-space:pre\">Dynamic</td><td style=\"text-align:left;white-space:pre\">0</td><td style=\"text-align:left;white-space:pre\">0</td><td style=\"text-align:left;white-space:pre\">16384</td><td style=\"text-align:left;white-space:pre\">0</td><td style=\"text-align:left;white-space:pre\">16384</td><td style=\"text-align:left;white-space:pre\">0</td><td style=\"text-align:left;white-space:pre\">NULL</td><td style=\"text-align:left;white-space:pre\">2021-07-10 04:36:27</td><td style=\"text-align:left;white-space:pre\">NULL</td><td style=\"text-align:left;white-space:pre\">NULL</td><td style=\"text-align:left;white-space:pre\">latin1_swedish_ci</td><td style=\"text-align:left;white-space:pre\">NULL</td><td style=\"text-align:left;white-space:pre\"></td><td style=\"text-align:left;white-space:pre\"></td><td style=\"text-align:left;white-space:pre\">0</td><td style=\"text-align:left;white-space:pre\">N</td></tr><tr><td style=\"text-align:left;white-space:pre\">Taxi</td><td style=\"text-align:left;white-space:pre\">InnoDB</td><td style=\"text-align:left;white-space:pre\">10</td><td style=\"text-align:left;white-space:pre\">Dynamic</td><td style=\"text-align:left;white-space:pre\">0</td><td style=\"text-align:left;white-space:pre\">0</td><td style=\"text-align:left;white-space:pre\">16384</td><td style=\"text-align:left;white-space:pre\">0</td><td style=\"text-align:left;white-space:pre\">0</td><td style=\"text-align:left;white-space:pre\">0</td><td style=\"text-align:left;white-space:pre\">NULL</td><td style=\"text-align:left;white-space:pre\">2021-07-10 04:36:27</td><td style=\"text-align:left;white-space:pre\">NULL</td><td style=\"text-align:left;white-space:pre\">NULL</td><td style=\"text-align:left;white-space:pre\">latin1_swedish_ci</td><td style=\"text-align:left;white-space:pre\">NULL</td><td style=\"text-align:left;white-space:pre\"></td><td style=\"text-align:left;white-space:pre\"></td><td style=\"text-align:left;white-space:pre\">0</td><td style=\"text-align:left;white-space:pre\">N</td></tr></table></body></html>"
      ]
     },
     "metadata": {},
     "output_type": "display_data"
    }
   ],
   "source": [
    "SHOW TABLE STATUS;"
   ]
  },
  {
   "cell_type": "code",
   "execution_count": 151,
   "metadata": {},
   "outputs": [
    {
     "name": "stderr",
     "output_type": "stream",
     "text": [
      "Duplicate entry '1532' for key 'PRIMARY'\n",
      "ERROR 1062 (23000) at line 2 in file: '/home/matheus/local-home/git/github/org.thedatasociety/lab-mariadb/labs/lab2/.mariadb_statement': Duplicate entry '1755' for key 'PRIMARY'\n",
      "ERROR 1062 (23000) at line 3 in file: '/home/matheus/local-home/git/github/org.thedatasociety/lab-mariadb/labs/lab2/.mariadb_statement': Duplicate entry '1780' for key 'PRIMARY'\n",
      "ERROR 1062 (23000) at line 4 in file: '/home/matheus/local-home/git/github/org.thedatasociety/lab-mariadb/labs/lab2/.mariadb_statement': Duplicate entry '1888' for key 'PRIMARY'\n",
      "ERROR 1062 (23000) at line 6 in file: '/home/matheus/local-home/git/github/org.thedatasociety/lab-mariadb/labs/lab2/.mariadb_statement': Duplicate entry 'DAE6534' for key 'PRIMARY'\n",
      "ERROR 1062 (23000) at line 7 in file: '/home/matheus/local-home/git/github/org.thedatasociety/lab-mariadb/labs/lab2/.mariadb_statement': Duplicate entry 'DKL4598' for key 'PRIMARY'\n",
      "ERROR 1062 (23000) at line 8 in file: '/home/matheus/local-home/git/github/org.thedatasociety/lab-mariadb/labs/lab2/.mariadb_statement': Duplicate entry 'DKL7878' for key 'PRIMARY'\n",
      "ERROR 1062 (23000) at line 9 in file: '/home/matheus/local-home/git/github/org.thedatasociety/lab-mariadb/labs/lab2/.mariadb_statement': Duplicate entry 'JDM8776' for key 'PRIMARY'\n",
      "ERROR 1062 (23000) at line 10 in file: '/home/matheus/local-home/git/github/org.thedatasociety/lab-mariadb/labs/lab2/.mariadb_statement': Duplicate entry 'JJM3692' for key 'PRIMARY'\n",
      "ERROR 1062 (23000) at line 13 in file: '/home/matheus/local-home/git/github/org.thedatasociety/lab-mariadb/labs/lab2/.mariadb_statement': Duplicate entry '1780-JDM8776-2003-02-18' for key 'PRIMARY'\n",
      "ERROR 1062 (23000) at line 14 in file: '/home/matheus/local-home/git/github/org.thedatasociety/lab-mariadb/labs/lab2/.mariadb_statement': Duplicate entry '1755-DKL7878-2003-02-16' for key 'PRIMARY'\n",
      "ERROR 1062 (23000) at line 15 in file: '/home/matheus/local-home/git/github/org.thedatasociety/lab-mariadb/labs/lab2/.mariadb_statement': Duplicate entry '1780-DKL4598-2003-02-17' for key 'PRIMARY'\n",
      "ERROR 1062 (23000) at line 16 in file: '/home/matheus/local-home/git/github/org.thedatasociety/lab-mariadb/labs/lab2/.mariadb_statement': Duplicate entry '1532-DKL4598-2003-02-18' for key 'PRIMARY'\n",
      "ERROR 1062 (23000) at line 19 in file: '/home/matheus/local-home/git/github/org.thedatasociety/lab-mariadb/labs/lab2/.mariadb_statement': Duplicate entry '1532-DKL4598-2003-02-20' for key 'PRIMARY'\n",
      "\u0007\u001b(B\u001b[0;7m\u001b(B\u001b[m\u0007\u001b(B\u001b[0;7m\u001b(B\u001b[m\u0007\u001b(B\u001b[0;7m\u001b(B\u001b[m\u0007\u001b(B\u001b[0;7m\u001b(B\u001b[m\u0007\u001b(B\u001b[0;7m\u001b(B\u001b[m\u0007\u001b(B\u001b[0;7m\u001b(B\u001b[m\u0007\u001b(B\u001b[0;7m\u001b(B\u001b[m\u0007\u001b(B\u001b[0;7m\u001b(B\u001b[m\u0007\u001b(B\u001b[0;7m\u001b(B\u001b[m\u0007\u001b(B\u001b[0;7m\u001b(B\u001b[m\u0007\u001b(B\u001b[0;7m\u001b(B\u001b[m\u0007\u001b(B\u001b[0;7m\u001b(B\u001b[m\u0007\u001b(B\u001b[0;7m\u001b(B\u001b[m\u0007\u001b(B\u001b[0;7m\u001b(B\u001b[m\n"
     ]
    }
   ],
   "source": [
    "INSERT INTO Cliente VALUES ('1532', 'Asdrúbal', '448.754.253-65');\n",
    "INSERT INTO Cliente VALUES ('1755', 'Doriana', '567.387.387-44');\n",
    "INSERT INTO Cliente VALUES ('1780', 'Quincas', '546.373.762-02');\n",
    "INSERT INTO Cliente VALUES ('1888', 'Melissa', '123.456.789-10');\n",
    "\n",
    "INSERT INTO Taxi VALUES ('DAE6534', 'Ford', 'Fiesta', 1999, 'MN572345');\n",
    "INSERT INTO Taxi VALUES ('DKL4598', 'Wolkswagen', 'Gol', 2001, 'AU876543');\n",
    "INSERT INTO Taxi VALUES ('DKL7878', 'Ford', 'Fiesta', 2001, 'OP102938');\n",
    "INSERT INTO Taxi VALUES ('JDM8776', 'Wolkswagen', 'Santana', 2002, 'QM365923');\n",
    "INSERT INTO Taxi VALUES ('JJM3692', 'Chevrolet', 'Corsa', 1999, 'UU335577');\n",
    "\n",
    "INSERT INTO Corrida VALUES ('1755', 'DAE6534', '2003-02-15');\n",
    "INSERT INTO Corrida VALUES ('1780', 'JDM8776', '2003-02-18');\n",
    "INSERT INTO Corrida VALUES ('1755', 'DKL7878', '2003-02-16');\n",
    "INSERT INTO Corrida VALUES ('1780', 'DKL4598', '2003-02-17');\n",
    "INSERT INTO Corrida VALUES ('1532', 'DKL4598', '2003-02-18');\n",
    "INSERT INTO Corrida VALUES ('1780', 'DAE6534', '2003-02-16');\n",
    "INSERT INTO Corrida VALUES ('1755', 'DAE6534', '2003-02-18');\n",
    "INSERT INTO Corrida VALUES ('1532', 'DKL4598', '2003-02-20');"
   ]
  },
  {
   "cell_type": "code",
   "execution_count": 58,
   "metadata": {},
   "outputs": [
    {
     "data": {
      "text/html": [
       "<html><body><table border=\"1\"><tr><th style=\"text-align:left;white-space:pre\">Name</th><th style=\"text-align:left;white-space:pre\">Engine</th><th style=\"text-align:left;white-space:pre\">Version</th><th style=\"text-align:left;white-space:pre\">Row_format</th><th style=\"text-align:left;white-space:pre\">Rows</th><th style=\"text-align:left;white-space:pre\">Avg_row_length</th><th style=\"text-align:left;white-space:pre\">Data_length</th><th style=\"text-align:left;white-space:pre\">Max_data_length</th><th style=\"text-align:left;white-space:pre\">Index_length</th><th style=\"text-align:left;white-space:pre\">Data_free</th><th style=\"text-align:left;white-space:pre\">Auto_increment</th><th style=\"text-align:left;white-space:pre\">Create_time</th><th style=\"text-align:left;white-space:pre\">Update_time</th><th style=\"text-align:left;white-space:pre\">Check_time</th><th style=\"text-align:left;white-space:pre\">Collation</th><th style=\"text-align:left;white-space:pre\">Checksum</th><th style=\"text-align:left;white-space:pre\">Create_options</th><th style=\"text-align:left;white-space:pre\">Comment</th><th style=\"text-align:left;white-space:pre\">Max_index_length</th><th style=\"text-align:left;white-space:pre\">Temporary</th></tr><tr><td style=\"text-align:left;white-space:pre\">Cliente</td><td style=\"text-align:left;white-space:pre\">InnoDB</td><td style=\"text-align:left;white-space:pre\">10</td><td style=\"text-align:left;white-space:pre\">Dynamic</td><td style=\"text-align:left;white-space:pre\">4</td><td style=\"text-align:left;white-space:pre\">4096</td><td style=\"text-align:left;white-space:pre\">16384</td><td style=\"text-align:left;white-space:pre\">0</td><td style=\"text-align:left;white-space:pre\">0</td><td style=\"text-align:left;white-space:pre\">0</td><td style=\"text-align:left;white-space:pre\">NULL</td><td style=\"text-align:left;white-space:pre\">2021-07-10 04:36:27</td><td style=\"text-align:left;white-space:pre\">2021-07-10 04:47:14</td><td style=\"text-align:left;white-space:pre\">NULL</td><td style=\"text-align:left;white-space:pre\">latin1_swedish_ci</td><td style=\"text-align:left;white-space:pre\">NULL</td><td style=\"text-align:left;white-space:pre\"></td><td style=\"text-align:left;white-space:pre\"></td><td style=\"text-align:left;white-space:pre\">0</td><td style=\"text-align:left;white-space:pre\">N</td></tr><tr><td style=\"text-align:left;white-space:pre\">Corrida</td><td style=\"text-align:left;white-space:pre\">InnoDB</td><td style=\"text-align:left;white-space:pre\">10</td><td style=\"text-align:left;white-space:pre\">Dynamic</td><td style=\"text-align:left;white-space:pre\">8</td><td style=\"text-align:left;white-space:pre\">2048</td><td style=\"text-align:left;white-space:pre\">16384</td><td style=\"text-align:left;white-space:pre\">0</td><td style=\"text-align:left;white-space:pre\">16384</td><td style=\"text-align:left;white-space:pre\">0</td><td style=\"text-align:left;white-space:pre\">NULL</td><td style=\"text-align:left;white-space:pre\">2021-07-10 04:36:27</td><td style=\"text-align:left;white-space:pre\">2021-07-10 04:47:15</td><td style=\"text-align:left;white-space:pre\">NULL</td><td style=\"text-align:left;white-space:pre\">latin1_swedish_ci</td><td style=\"text-align:left;white-space:pre\">NULL</td><td style=\"text-align:left;white-space:pre\"></td><td style=\"text-align:left;white-space:pre\"></td><td style=\"text-align:left;white-space:pre\">0</td><td style=\"text-align:left;white-space:pre\">N</td></tr><tr><td style=\"text-align:left;white-space:pre\">Taxi</td><td style=\"text-align:left;white-space:pre\">InnoDB</td><td style=\"text-align:left;white-space:pre\">10</td><td style=\"text-align:left;white-space:pre\">Dynamic</td><td style=\"text-align:left;white-space:pre\">5</td><td style=\"text-align:left;white-space:pre\">3276</td><td style=\"text-align:left;white-space:pre\">16384</td><td style=\"text-align:left;white-space:pre\">0</td><td style=\"text-align:left;white-space:pre\">0</td><td style=\"text-align:left;white-space:pre\">0</td><td style=\"text-align:left;white-space:pre\">NULL</td><td style=\"text-align:left;white-space:pre\">2021-07-10 04:36:27</td><td style=\"text-align:left;white-space:pre\">2021-07-10 04:47:14</td><td style=\"text-align:left;white-space:pre\">NULL</td><td style=\"text-align:left;white-space:pre\">latin1_swedish_ci</td><td style=\"text-align:left;white-space:pre\">NULL</td><td style=\"text-align:left;white-space:pre\"></td><td style=\"text-align:left;white-space:pre\"></td><td style=\"text-align:left;white-space:pre\">0</td><td style=\"text-align:left;white-space:pre\">N</td></tr></table></body></html>"
      ]
     },
     "metadata": {},
     "output_type": "display_data"
    }
   ],
   "source": [
    "SHOW TABLE STATUS;"
   ]
  },
  {
   "cell_type": "markdown",
   "metadata": {},
   "source": [
    "#### Select"
   ]
  },
  {
   "cell_type": "markdown",
   "metadata": {},
   "source": [
    "**Todos os Táxis com todos os atributos**:"
   ]
  },
  {
   "cell_type": "code",
   "execution_count": 59,
   "metadata": {},
   "outputs": [
    {
     "data": {
      "text/html": [
       "<html><body><table border=\"1\"><tr><th style=\"text-align:left;white-space:pre\">Placa</th><th style=\"text-align:left;white-space:pre\">Marca</th><th style=\"text-align:left;white-space:pre\">Modelo</th><th style=\"text-align:left;white-space:pre\">AnoFab</th><th style=\"text-align:left;white-space:pre\">Licenca</th></tr><tr><td style=\"text-align:left;white-space:pre\">DAE6534</td><td style=\"text-align:left;white-space:pre\">Ford</td><td style=\"text-align:left;white-space:pre\">Fiesta</td><td style=\"text-align:left;white-space:pre\">1999</td><td style=\"text-align:left;white-space:pre\">MN572345</td></tr><tr><td style=\"text-align:left;white-space:pre\">DKL4598</td><td style=\"text-align:left;white-space:pre\">Wolkswagen</td><td style=\"text-align:left;white-space:pre\">Gol</td><td style=\"text-align:left;white-space:pre\">2001</td><td style=\"text-align:left;white-space:pre\">AU876543</td></tr><tr><td style=\"text-align:left;white-space:pre\">DKL7878</td><td style=\"text-align:left;white-space:pre\">Ford</td><td style=\"text-align:left;white-space:pre\">Fiesta</td><td style=\"text-align:left;white-space:pre\">2001</td><td style=\"text-align:left;white-space:pre\">OP102938</td></tr><tr><td style=\"text-align:left;white-space:pre\">JDM8776</td><td style=\"text-align:left;white-space:pre\">Wolkswagen</td><td style=\"text-align:left;white-space:pre\">Santana</td><td style=\"text-align:left;white-space:pre\">2002</td><td style=\"text-align:left;white-space:pre\">QM365923</td></tr><tr><td style=\"text-align:left;white-space:pre\">JJM3692</td><td style=\"text-align:left;white-space:pre\">Chevrolet</td><td style=\"text-align:left;white-space:pre\">Corsa</td><td style=\"text-align:left;white-space:pre\">1999</td><td style=\"text-align:left;white-space:pre\">UU335577</td></tr></table></body></html>"
      ]
     },
     "metadata": {},
     "output_type": "display_data"
    }
   ],
   "source": [
    "SELECT * FROM Taxi;"
   ]
  },
  {
   "cell_type": "markdown",
   "metadata": {},
   "source": [
    "**Taxis fabricados depois do ano 2000**:"
   ]
  },
  {
   "cell_type": "code",
   "execution_count": 61,
   "metadata": {},
   "outputs": [
    {
     "data": {
      "text/html": [
       "<html><body><table border=\"1\"><tr><th style=\"text-align:left;white-space:pre\">Placa</th><th style=\"text-align:left;white-space:pre\">Marca</th><th style=\"text-align:left;white-space:pre\">Modelo</th><th style=\"text-align:left;white-space:pre\">AnoFab</th><th style=\"text-align:left;white-space:pre\">Licenca</th></tr><tr><td style=\"text-align:left;white-space:pre\">DKL4598</td><td style=\"text-align:left;white-space:pre\">Wolkswagen</td><td style=\"text-align:left;white-space:pre\">Gol</td><td style=\"text-align:left;white-space:pre\">2001</td><td style=\"text-align:left;white-space:pre\">AU876543</td></tr><tr><td style=\"text-align:left;white-space:pre\">DKL7878</td><td style=\"text-align:left;white-space:pre\">Ford</td><td style=\"text-align:left;white-space:pre\">Fiesta</td><td style=\"text-align:left;white-space:pre\">2001</td><td style=\"text-align:left;white-space:pre\">OP102938</td></tr></table></body></html>"
      ]
     },
     "metadata": {},
     "output_type": "display_data"
    }
   ],
   "source": [
    "SELECT * FROM Taxi WHERE AnoFab = 2001;"
   ]
  },
  {
   "cell_type": "markdown",
   "metadata": {},
   "source": [
    "#### Update\n"
   ]
  },
  {
   "cell_type": "code",
   "execution_count": 62,
   "metadata": {},
   "outputs": [
    {
     "data": {
      "text/html": [
       "<html><body><table border=\"1\"><tr><th style=\"text-align:left;white-space:pre\">Placa</th><th style=\"text-align:left;white-space:pre\">Marca</th><th style=\"text-align:left;white-space:pre\">Modelo</th><th style=\"text-align:left;white-space:pre\">AnoFab</th><th style=\"text-align:left;white-space:pre\">Licenca</th></tr><tr><td style=\"text-align:left;white-space:pre\">DAE6534</td><td style=\"text-align:left;white-space:pre\">Ford</td><td style=\"text-align:left;white-space:pre\">Fiesta</td><td style=\"text-align:left;white-space:pre\">1999</td><td style=\"text-align:left;white-space:pre\">MN572345</td></tr><tr><td style=\"text-align:left;white-space:pre\">DKL4598</td><td style=\"text-align:left;white-space:pre\">Wolkswagen</td><td style=\"text-align:left;white-space:pre\">Gol</td><td style=\"text-align:left;white-space:pre\">2001</td><td style=\"text-align:left;white-space:pre\">AU876543</td></tr><tr><td style=\"text-align:left;white-space:pre\">DKL7878</td><td style=\"text-align:left;white-space:pre\">Ford</td><td style=\"text-align:left;white-space:pre\">Fiesta</td><td style=\"text-align:left;white-space:pre\">2001</td><td style=\"text-align:left;white-space:pre\">OP102938</td></tr><tr><td style=\"text-align:left;white-space:pre\">JDM8776</td><td style=\"text-align:left;white-space:pre\">Wolkswagen</td><td style=\"text-align:left;white-space:pre\">Santana</td><td style=\"text-align:left;white-space:pre\">2002</td><td style=\"text-align:left;white-space:pre\">QM365923</td></tr><tr><td style=\"text-align:left;white-space:pre\">JJM3692</td><td style=\"text-align:left;white-space:pre\">Chevrolet</td><td style=\"text-align:left;white-space:pre\">Corsa</td><td style=\"text-align:left;white-space:pre\">1999</td><td style=\"text-align:left;white-space:pre\">UU335577</td></tr></table></body></html>"
      ]
     },
     "metadata": {},
     "output_type": "display_data"
    }
   ],
   "source": [
    "SELECT * FROM Taxi;"
   ]
  },
  {
   "cell_type": "code",
   "execution_count": 63,
   "metadata": {},
   "outputs": [
    {
     "data": {
      "text/html": [
       "Query OK"
      ]
     },
     "metadata": {},
     "output_type": "display_data"
    }
   ],
   "source": [
    "UPDATE Taxi T\n",
    "       SET T.AnoFab = 2002\n",
    "       WHERE T.Placa = 'DKL4598';"
   ]
  },
  {
   "cell_type": "code",
   "execution_count": 64,
   "metadata": {},
   "outputs": [
    {
     "data": {
      "text/html": [
       "<html><body><table border=\"1\"><tr><th style=\"text-align:left;white-space:pre\">Placa</th><th style=\"text-align:left;white-space:pre\">Marca</th><th style=\"text-align:left;white-space:pre\">Modelo</th><th style=\"text-align:left;white-space:pre\">AnoFab</th><th style=\"text-align:left;white-space:pre\">Licenca</th></tr><tr><td style=\"text-align:left;white-space:pre\">DAE6534</td><td style=\"text-align:left;white-space:pre\">Ford</td><td style=\"text-align:left;white-space:pre\">Fiesta</td><td style=\"text-align:left;white-space:pre\">1999</td><td style=\"text-align:left;white-space:pre\">MN572345</td></tr><tr><td style=\"text-align:left;white-space:pre\">DKL4598</td><td style=\"text-align:left;white-space:pre\">Wolkswagen</td><td style=\"text-align:left;white-space:pre\">Gol</td><td style=\"text-align:left;white-space:pre\">2002</td><td style=\"text-align:left;white-space:pre\">AU876543</td></tr><tr><td style=\"text-align:left;white-space:pre\">DKL7878</td><td style=\"text-align:left;white-space:pre\">Ford</td><td style=\"text-align:left;white-space:pre\">Fiesta</td><td style=\"text-align:left;white-space:pre\">2001</td><td style=\"text-align:left;white-space:pre\">OP102938</td></tr><tr><td style=\"text-align:left;white-space:pre\">JDM8776</td><td style=\"text-align:left;white-space:pre\">Wolkswagen</td><td style=\"text-align:left;white-space:pre\">Santana</td><td style=\"text-align:left;white-space:pre\">2002</td><td style=\"text-align:left;white-space:pre\">QM365923</td></tr><tr><td style=\"text-align:left;white-space:pre\">JJM3692</td><td style=\"text-align:left;white-space:pre\">Chevrolet</td><td style=\"text-align:left;white-space:pre\">Corsa</td><td style=\"text-align:left;white-space:pre\">1999</td><td style=\"text-align:left;white-space:pre\">UU335577</td></tr></table></body></html>"
      ]
     },
     "metadata": {},
     "output_type": "display_data"
    }
   ],
   "source": [
    "SELECT * FROM Taxi;"
   ]
  },
  {
   "cell_type": "markdown",
   "metadata": {},
   "source": [
    "#### Delete"
   ]
  },
  {
   "cell_type": "markdown",
   "metadata": {},
   "source": [
    "**Apagando o Táxi de placa `DAE6534`**:"
   ]
  },
  {
   "cell_type": "code",
   "execution_count": 65,
   "metadata": {},
   "outputs": [
    {
     "data": {
      "text/html": [
       "<html><body><table border=\"1\"><tr><th style=\"text-align:left;white-space:pre\">CliId</th><th style=\"text-align:left;white-space:pre\">Placa</th><th style=\"text-align:left;white-space:pre\">DataPedido</th></tr><tr><td style=\"text-align:left;white-space:pre\">1532</td><td style=\"text-align:left;white-space:pre\">DKL4598</td><td style=\"text-align:left;white-space:pre\">2003-02-18</td></tr><tr><td style=\"text-align:left;white-space:pre\">1532</td><td style=\"text-align:left;white-space:pre\">DKL4598</td><td style=\"text-align:left;white-space:pre\">2003-02-20</td></tr><tr><td style=\"text-align:left;white-space:pre\">1755</td><td style=\"text-align:left;white-space:pre\">DAE6534</td><td style=\"text-align:left;white-space:pre\">2003-02-15</td></tr><tr><td style=\"text-align:left;white-space:pre\">1755</td><td style=\"text-align:left;white-space:pre\">DAE6534</td><td style=\"text-align:left;white-space:pre\">2003-02-18</td></tr><tr><td style=\"text-align:left;white-space:pre\">1755</td><td style=\"text-align:left;white-space:pre\">DKL7878</td><td style=\"text-align:left;white-space:pre\">2003-02-16</td></tr><tr><td style=\"text-align:left;white-space:pre\">1780</td><td style=\"text-align:left;white-space:pre\">DAE6534</td><td style=\"text-align:left;white-space:pre\">2003-02-16</td></tr><tr><td style=\"text-align:left;white-space:pre\">1780</td><td style=\"text-align:left;white-space:pre\">DKL4598</td><td style=\"text-align:left;white-space:pre\">2003-02-17</td></tr><tr><td style=\"text-align:left;white-space:pre\">1780</td><td style=\"text-align:left;white-space:pre\">JDM8776</td><td style=\"text-align:left;white-space:pre\">2003-02-18</td></tr></table></body></html>"
      ]
     },
     "metadata": {},
     "output_type": "display_data"
    }
   ],
   "source": [
    "SELECT * FROM Corrida;"
   ]
  },
  {
   "cell_type": "code",
   "execution_count": 66,
   "metadata": {},
   "outputs": [
    {
     "data": {
      "text/html": [
       "Query OK"
      ]
     },
     "metadata": {},
     "output_type": "display_data"
    }
   ],
   "source": [
    "DELETE FROM Corrida WHERE Corrida.Placa = \"DAE6534\";"
   ]
  },
  {
   "cell_type": "code",
   "execution_count": 67,
   "metadata": {},
   "outputs": [
    {
     "data": {
      "text/html": [
       "<html><body><table border=\"1\"><tr><th style=\"text-align:left;white-space:pre\">CliId</th><th style=\"text-align:left;white-space:pre\">Placa</th><th style=\"text-align:left;white-space:pre\">DataPedido</th></tr><tr><td style=\"text-align:left;white-space:pre\">1532</td><td style=\"text-align:left;white-space:pre\">DKL4598</td><td style=\"text-align:left;white-space:pre\">2003-02-18</td></tr><tr><td style=\"text-align:left;white-space:pre\">1532</td><td style=\"text-align:left;white-space:pre\">DKL4598</td><td style=\"text-align:left;white-space:pre\">2003-02-20</td></tr><tr><td style=\"text-align:left;white-space:pre\">1755</td><td style=\"text-align:left;white-space:pre\">DKL7878</td><td style=\"text-align:left;white-space:pre\">2003-02-16</td></tr><tr><td style=\"text-align:left;white-space:pre\">1780</td><td style=\"text-align:left;white-space:pre\">DKL4598</td><td style=\"text-align:left;white-space:pre\">2003-02-17</td></tr><tr><td style=\"text-align:left;white-space:pre\">1780</td><td style=\"text-align:left;white-space:pre\">JDM8776</td><td style=\"text-align:left;white-space:pre\">2003-02-18</td></tr></table></body></html>"
      ]
     },
     "metadata": {},
     "output_type": "display_data"
    }
   ],
   "source": [
    "SELECT * FROM Corrida;"
   ]
  },
  {
   "cell_type": "markdown",
   "metadata": {},
   "source": [
    "##### Violação de Integridade\n",
    "\n",
    "Apagando um Táxi que possui corridas associadas\n",
    "\n",
    "Este exemplo irá gerar um erro de violação de chave estrangeira."
   ]
  },
  {
   "cell_type": "code",
   "execution_count": 68,
   "metadata": {},
   "outputs": [
    {
     "data": {
      "text/html": [
       "<html><body><table border=\"1\"><tr><th style=\"text-align:left;white-space:pre\">Placa</th><th style=\"text-align:left;white-space:pre\">Marca</th><th style=\"text-align:left;white-space:pre\">Modelo</th><th style=\"text-align:left;white-space:pre\">AnoFab</th><th style=\"text-align:left;white-space:pre\">Licenca</th></tr><tr><td style=\"text-align:left;white-space:pre\">DAE6534</td><td style=\"text-align:left;white-space:pre\">Ford</td><td style=\"text-align:left;white-space:pre\">Fiesta</td><td style=\"text-align:left;white-space:pre\">1999</td><td style=\"text-align:left;white-space:pre\">MN572345</td></tr><tr><td style=\"text-align:left;white-space:pre\">DKL4598</td><td style=\"text-align:left;white-space:pre\">Wolkswagen</td><td style=\"text-align:left;white-space:pre\">Gol</td><td style=\"text-align:left;white-space:pre\">2002</td><td style=\"text-align:left;white-space:pre\">AU876543</td></tr><tr><td style=\"text-align:left;white-space:pre\">DKL7878</td><td style=\"text-align:left;white-space:pre\">Ford</td><td style=\"text-align:left;white-space:pre\">Fiesta</td><td style=\"text-align:left;white-space:pre\">2001</td><td style=\"text-align:left;white-space:pre\">OP102938</td></tr><tr><td style=\"text-align:left;white-space:pre\">JDM8776</td><td style=\"text-align:left;white-space:pre\">Wolkswagen</td><td style=\"text-align:left;white-space:pre\">Santana</td><td style=\"text-align:left;white-space:pre\">2002</td><td style=\"text-align:left;white-space:pre\">QM365923</td></tr><tr><td style=\"text-align:left;white-space:pre\">JJM3692</td><td style=\"text-align:left;white-space:pre\">Chevrolet</td><td style=\"text-align:left;white-space:pre\">Corsa</td><td style=\"text-align:left;white-space:pre\">1999</td><td style=\"text-align:left;white-space:pre\">UU335577</td></tr></table></body></html>"
      ]
     },
     "metadata": {},
     "output_type": "display_data"
    }
   ],
   "source": [
    "SELECT * FROM Taxi;"
   ]
  },
  {
   "cell_type": "code",
   "execution_count": 69,
   "metadata": {},
   "outputs": [
    {
     "name": "stderr",
     "output_type": "stream",
     "text": [
      "Cannot delete or update a parent row: a foreign key constraint fails (`taxis`.`Corrida`, CONSTRAINT `Corrida_ibfk_2` FOREIGN KEY (`Placa`) REFERENCES `Taxi` (`Placa`) ON DELETE NO ACTION ON UPDATE NO ACTION)\n",
      "\u0007\u001b(B\u001b[0;7m\u001b(B\u001b[m\n"
     ]
    }
   ],
   "source": [
    "DELETE FROM Taxi WHERE Taxi.Placa = 'DKL4598';"
   ]
  },
  {
   "cell_type": "markdown",
   "metadata": {},
   "source": [
    "# SELECT"
   ]
  },
  {
   "cell_type": "markdown",
   "metadata": {},
   "source": [
    "**Todos os Táxis com todos os atributos**:"
   ]
  },
  {
   "cell_type": "code",
   "execution_count": 70,
   "metadata": {},
   "outputs": [
    {
     "data": {
      "text/html": [
       "<html><body><table border=\"1\"><tr><th style=\"text-align:left;white-space:pre\">Placa</th><th style=\"text-align:left;white-space:pre\">Marca</th><th style=\"text-align:left;white-space:pre\">Modelo</th><th style=\"text-align:left;white-space:pre\">AnoFab</th><th style=\"text-align:left;white-space:pre\">Licenca</th></tr><tr><td style=\"text-align:left;white-space:pre\">DAE6534</td><td style=\"text-align:left;white-space:pre\">Ford</td><td style=\"text-align:left;white-space:pre\">Fiesta</td><td style=\"text-align:left;white-space:pre\">1999</td><td style=\"text-align:left;white-space:pre\">MN572345</td></tr><tr><td style=\"text-align:left;white-space:pre\">DKL4598</td><td style=\"text-align:left;white-space:pre\">Wolkswagen</td><td style=\"text-align:left;white-space:pre\">Gol</td><td style=\"text-align:left;white-space:pre\">2002</td><td style=\"text-align:left;white-space:pre\">AU876543</td></tr><tr><td style=\"text-align:left;white-space:pre\">DKL7878</td><td style=\"text-align:left;white-space:pre\">Ford</td><td style=\"text-align:left;white-space:pre\">Fiesta</td><td style=\"text-align:left;white-space:pre\">2001</td><td style=\"text-align:left;white-space:pre\">OP102938</td></tr><tr><td style=\"text-align:left;white-space:pre\">JDM8776</td><td style=\"text-align:left;white-space:pre\">Wolkswagen</td><td style=\"text-align:left;white-space:pre\">Santana</td><td style=\"text-align:left;white-space:pre\">2002</td><td style=\"text-align:left;white-space:pre\">QM365923</td></tr><tr><td style=\"text-align:left;white-space:pre\">JJM3692</td><td style=\"text-align:left;white-space:pre\">Chevrolet</td><td style=\"text-align:left;white-space:pre\">Corsa</td><td style=\"text-align:left;white-space:pre\">1999</td><td style=\"text-align:left;white-space:pre\">UU335577</td></tr></table></body></html>"
      ]
     },
     "metadata": {},
     "output_type": "display_data"
    }
   ],
   "source": [
    "SELECT * FROM Taxi;"
   ]
  },
  {
   "cell_type": "markdown",
   "metadata": {},
   "source": [
    "**Marca e Modelo dos Taxis disponíveis**:"
   ]
  },
  {
   "cell_type": "code",
   "execution_count": 71,
   "metadata": {
    "scrolled": true
   },
   "outputs": [
    {
     "data": {
      "text/html": [
       "<html><body><table border=\"1\"><tr><th style=\"text-align:left;white-space:pre\">Marca</th><th style=\"text-align:left;white-space:pre\">Modelo</th></tr><tr><td style=\"text-align:left;white-space:pre\">Ford</td><td style=\"text-align:left;white-space:pre\">Fiesta</td></tr><tr><td style=\"text-align:left;white-space:pre\">Wolkswagen</td><td style=\"text-align:left;white-space:pre\">Gol</td></tr><tr><td style=\"text-align:left;white-space:pre\">Ford</td><td style=\"text-align:left;white-space:pre\">Fiesta</td></tr><tr><td style=\"text-align:left;white-space:pre\">Wolkswagen</td><td style=\"text-align:left;white-space:pre\">Santana</td></tr><tr><td style=\"text-align:left;white-space:pre\">Chevrolet</td><td style=\"text-align:left;white-space:pre\">Corsa</td></tr></table></body></html>"
      ]
     },
     "metadata": {},
     "output_type": "display_data"
    }
   ],
   "source": [
    "SELECT Marca, Modelo FROM Taxi;"
   ]
  },
  {
   "cell_type": "markdown",
   "metadata": {},
   "source": [
    "**Taxis fabricados depois do ano 2000**:"
   ]
  },
  {
   "cell_type": "code",
   "execution_count": 73,
   "metadata": {},
   "outputs": [
    {
     "data": {
      "text/html": [
       "<html><body><table border=\"1\"><tr><th style=\"text-align:left;white-space:pre\">Placa</th><th style=\"text-align:left;white-space:pre\">Marca</th><th style=\"text-align:left;white-space:pre\">Modelo</th><th style=\"text-align:left;white-space:pre\">AnoFab</th><th style=\"text-align:left;white-space:pre\">Licenca</th></tr><tr><td style=\"text-align:left;white-space:pre\">DKL4598</td><td style=\"text-align:left;white-space:pre\">Wolkswagen</td><td style=\"text-align:left;white-space:pre\">Gol</td><td style=\"text-align:left;white-space:pre\">2002</td><td style=\"text-align:left;white-space:pre\">AU876543</td></tr><tr><td style=\"text-align:left;white-space:pre\">DKL7878</td><td style=\"text-align:left;white-space:pre\">Ford</td><td style=\"text-align:left;white-space:pre\">Fiesta</td><td style=\"text-align:left;white-space:pre\">2001</td><td style=\"text-align:left;white-space:pre\">OP102938</td></tr><tr><td style=\"text-align:left;white-space:pre\">JDM8776</td><td style=\"text-align:left;white-space:pre\">Wolkswagen</td><td style=\"text-align:left;white-space:pre\">Santana</td><td style=\"text-align:left;white-space:pre\">2002</td><td style=\"text-align:left;white-space:pre\">QM365923</td></tr></table></body></html>"
      ]
     },
     "metadata": {},
     "output_type": "display_data"
    }
   ],
   "source": [
    "SELECT * FROM Taxi WHERE AnoFab > 2000;"
   ]
  },
  {
   "cell_type": "markdown",
   "metadata": {},
   "source": [
    "**Placas que comecem com DK**:"
   ]
  },
  {
   "cell_type": "code",
   "execution_count": 78,
   "metadata": {},
   "outputs": [
    {
     "data": {
      "text/html": [
       "<html><body><table border=\"1\"><tr><th style=\"text-align:left;white-space:pre\">Placa</th><th style=\"text-align:left;white-space:pre\">Marca</th><th style=\"text-align:left;white-space:pre\">Modelo</th><th style=\"text-align:left;white-space:pre\">AnoFab</th><th style=\"text-align:left;white-space:pre\">Licenca</th></tr><tr><td style=\"text-align:left;white-space:pre\">DAE6534</td><td style=\"text-align:left;white-space:pre\">Ford</td><td style=\"text-align:left;white-space:pre\">Fiesta</td><td style=\"text-align:left;white-space:pre\">1999</td><td style=\"text-align:left;white-space:pre\">MN572345</td></tr><tr><td style=\"text-align:left;white-space:pre\">DKL7878</td><td style=\"text-align:left;white-space:pre\">Ford</td><td style=\"text-align:left;white-space:pre\">Fiesta</td><td style=\"text-align:left;white-space:pre\">2001</td><td style=\"text-align:left;white-space:pre\">OP102938</td></tr><tr><td style=\"text-align:left;white-space:pre\">JDM8776</td><td style=\"text-align:left;white-space:pre\">Wolkswagen</td><td style=\"text-align:left;white-space:pre\">Santana</td><td style=\"text-align:left;white-space:pre\">2002</td><td style=\"text-align:left;white-space:pre\">QM365923</td></tr><tr><td style=\"text-align:left;white-space:pre\">JJM3692</td><td style=\"text-align:left;white-space:pre\">Chevrolet</td><td style=\"text-align:left;white-space:pre\">Corsa</td><td style=\"text-align:left;white-space:pre\">1999</td><td style=\"text-align:left;white-space:pre\">UU335577</td></tr></table></body></html>"
      ]
     },
     "metadata": {},
     "output_type": "display_data"
    }
   ],
   "source": [
    "SELECT * FROM Taxi WHERE modelo LIKE '%a%';"
   ]
  },
  {
   "cell_type": "markdown",
   "metadata": {},
   "source": [
    "**Placas com '7' na penúltima posição**:"
   ]
  },
  {
   "cell_type": "code",
   "execution_count": 79,
   "metadata": {},
   "outputs": [
    {
     "data": {
      "text/html": [
       "<html><body><table border=\"1\"><tr><th style=\"text-align:left;white-space:pre\">Placa</th><th style=\"text-align:left;white-space:pre\">Marca</th><th style=\"text-align:left;white-space:pre\">Modelo</th><th style=\"text-align:left;white-space:pre\">AnoFab</th><th style=\"text-align:left;white-space:pre\">Licenca</th></tr><tr><td style=\"text-align:left;white-space:pre\">DKL7878</td><td style=\"text-align:left;white-space:pre\">Ford</td><td style=\"text-align:left;white-space:pre\">Fiesta</td><td style=\"text-align:left;white-space:pre\">2001</td><td style=\"text-align:left;white-space:pre\">OP102938</td></tr><tr><td style=\"text-align:left;white-space:pre\">JDM8776</td><td style=\"text-align:left;white-space:pre\">Wolkswagen</td><td style=\"text-align:left;white-space:pre\">Santana</td><td style=\"text-align:left;white-space:pre\">2002</td><td style=\"text-align:left;white-space:pre\">QM365923</td></tr></table></body></html>"
      ]
     },
     "metadata": {},
     "output_type": "display_data"
    }
   ],
   "source": [
    "SELECT * FROM Taxi WHERE placa LIKE '%7_';"
   ]
  },
  {
   "cell_type": "markdown",
   "metadata": {},
   "source": [
    "Chaves estrangeiras# Produto Cartesiano"
   ]
  },
  {
   "cell_type": "markdown",
   "metadata": {},
   "source": [
    "# Produto Cartesiano \n",
    "\n",
    "**Entre Clientes e Corridas**:"
   ]
  },
  {
   "cell_type": "code",
   "execution_count": 82,
   "metadata": {},
   "outputs": [
    {
     "data": {
      "text/html": [
       "<html><body><table border=\"1\"><tr><th style=\"text-align:left;white-space:pre\">CliId</th><th style=\"text-align:left;white-space:pre\">Nome</th><th style=\"text-align:left;white-space:pre\">CPF</th></tr><tr><td style=\"text-align:left;white-space:pre\">1532</td><td style=\"text-align:left;white-space:pre\">Asdrúbal</td><td style=\"text-align:left;white-space:pre\">448.754.253-65</td></tr><tr><td style=\"text-align:left;white-space:pre\">1755</td><td style=\"text-align:left;white-space:pre\">Doriana</td><td style=\"text-align:left;white-space:pre\">567.387.387-44</td></tr><tr><td style=\"text-align:left;white-space:pre\">1780</td><td style=\"text-align:left;white-space:pre\">Quincas</td><td style=\"text-align:left;white-space:pre\">546.373.762-02</td></tr><tr><td style=\"text-align:left;white-space:pre\">1888</td><td style=\"text-align:left;white-space:pre\">Melissa</td><td style=\"text-align:left;white-space:pre\">123.456.789-10</td></tr></table></body></html>"
      ]
     },
     "metadata": {},
     "output_type": "display_data"
    }
   ],
   "source": [
    "SELECT * FROM Cliente;"
   ]
  },
  {
   "cell_type": "code",
   "execution_count": 88,
   "metadata": {},
   "outputs": [
    {
     "data": {
      "text/html": [
       "<html><body><table border=\"1\"><tr><th style=\"text-align:left;white-space:pre\">CliId</th><th style=\"text-align:left;white-space:pre\">Placa</th><th style=\"text-align:left;white-space:pre\">DataPedido</th></tr><tr><td style=\"text-align:left;white-space:pre\">1532</td><td style=\"text-align:left;white-space:pre\">DKL4598</td><td style=\"text-align:left;white-space:pre\">2003-02-18</td></tr><tr><td style=\"text-align:left;white-space:pre\">1532</td><td style=\"text-align:left;white-space:pre\">DKL4598</td><td style=\"text-align:left;white-space:pre\">2003-02-20</td></tr><tr><td style=\"text-align:left;white-space:pre\">1755</td><td style=\"text-align:left;white-space:pre\">DKL7878</td><td style=\"text-align:left;white-space:pre\">2003-02-16</td></tr><tr><td style=\"text-align:left;white-space:pre\">1780</td><td style=\"text-align:left;white-space:pre\">DKL4598</td><td style=\"text-align:left;white-space:pre\">2003-02-17</td></tr><tr><td style=\"text-align:left;white-space:pre\">1780</td><td style=\"text-align:left;white-space:pre\">JDM8776</td><td style=\"text-align:left;white-space:pre\">2003-02-18</td></tr></table></body></html>"
      ]
     },
     "metadata": {},
     "output_type": "display_data"
    }
   ],
   "source": [
    "SELECT * FROM Corrida;"
   ]
  },
  {
   "cell_type": "code",
   "execution_count": 86,
   "metadata": {},
   "outputs": [
    {
     "data": {
      "text/html": [
       "<html><body><table border=\"1\"><tr><th style=\"text-align:left;white-space:pre\">CliId</th><th style=\"text-align:left;white-space:pre\">Nome</th><th style=\"text-align:left;white-space:pre\">Placa</th><th style=\"text-align:left;white-space:pre\">DataPedido</th></tr><tr><td style=\"text-align:left;white-space:pre\">1532</td><td style=\"text-align:left;white-space:pre\">Asdrúbal</td><td style=\"text-align:left;white-space:pre\">DKL4598</td><td style=\"text-align:left;white-space:pre\">2003-02-18</td></tr><tr><td style=\"text-align:left;white-space:pre\">1755</td><td style=\"text-align:left;white-space:pre\">Doriana</td><td style=\"text-align:left;white-space:pre\">DKL4598</td><td style=\"text-align:left;white-space:pre\">2003-02-18</td></tr><tr><td style=\"text-align:left;white-space:pre\">1780</td><td style=\"text-align:left;white-space:pre\">Quincas</td><td style=\"text-align:left;white-space:pre\">DKL4598</td><td style=\"text-align:left;white-space:pre\">2003-02-18</td></tr><tr><td style=\"text-align:left;white-space:pre\">1888</td><td style=\"text-align:left;white-space:pre\">Melissa</td><td style=\"text-align:left;white-space:pre\">DKL4598</td><td style=\"text-align:left;white-space:pre\">2003-02-18</td></tr><tr><td style=\"text-align:left;white-space:pre\">1532</td><td style=\"text-align:left;white-space:pre\">Asdrúbal</td><td style=\"text-align:left;white-space:pre\">DKL4598</td><td style=\"text-align:left;white-space:pre\">2003-02-20</td></tr><tr><td style=\"text-align:left;white-space:pre\">1755</td><td style=\"text-align:left;white-space:pre\">Doriana</td><td style=\"text-align:left;white-space:pre\">DKL4598</td><td style=\"text-align:left;white-space:pre\">2003-02-20</td></tr><tr><td style=\"text-align:left;white-space:pre\">1780</td><td style=\"text-align:left;white-space:pre\">Quincas</td><td style=\"text-align:left;white-space:pre\">DKL4598</td><td style=\"text-align:left;white-space:pre\">2003-02-20</td></tr><tr><td style=\"text-align:left;white-space:pre\">1888</td><td style=\"text-align:left;white-space:pre\">Melissa</td><td style=\"text-align:left;white-space:pre\">DKL4598</td><td style=\"text-align:left;white-space:pre\">2003-02-20</td></tr><tr><td style=\"text-align:left;white-space:pre\">1532</td><td style=\"text-align:left;white-space:pre\">Asdrúbal</td><td style=\"text-align:left;white-space:pre\">DKL7878</td><td style=\"text-align:left;white-space:pre\">2003-02-16</td></tr><tr><td style=\"text-align:left;white-space:pre\">1755</td><td style=\"text-align:left;white-space:pre\">Doriana</td><td style=\"text-align:left;white-space:pre\">DKL7878</td><td style=\"text-align:left;white-space:pre\">2003-02-16</td></tr><tr><td style=\"text-align:left;white-space:pre\">1780</td><td style=\"text-align:left;white-space:pre\">Quincas</td><td style=\"text-align:left;white-space:pre\">DKL7878</td><td style=\"text-align:left;white-space:pre\">2003-02-16</td></tr><tr><td style=\"text-align:left;white-space:pre\">1888</td><td style=\"text-align:left;white-space:pre\">Melissa</td><td style=\"text-align:left;white-space:pre\">DKL7878</td><td style=\"text-align:left;white-space:pre\">2003-02-16</td></tr><tr><td style=\"text-align:left;white-space:pre\">1532</td><td style=\"text-align:left;white-space:pre\">Asdrúbal</td><td style=\"text-align:left;white-space:pre\">DKL4598</td><td style=\"text-align:left;white-space:pre\">2003-02-17</td></tr><tr><td style=\"text-align:left;white-space:pre\">1755</td><td style=\"text-align:left;white-space:pre\">Doriana</td><td style=\"text-align:left;white-space:pre\">DKL4598</td><td style=\"text-align:left;white-space:pre\">2003-02-17</td></tr><tr><td style=\"text-align:left;white-space:pre\">1780</td><td style=\"text-align:left;white-space:pre\">Quincas</td><td style=\"text-align:left;white-space:pre\">DKL4598</td><td style=\"text-align:left;white-space:pre\">2003-02-17</td></tr><tr><td style=\"text-align:left;white-space:pre\">1888</td><td style=\"text-align:left;white-space:pre\">Melissa</td><td style=\"text-align:left;white-space:pre\">DKL4598</td><td style=\"text-align:left;white-space:pre\">2003-02-17</td></tr><tr><td style=\"text-align:left;white-space:pre\">1532</td><td style=\"text-align:left;white-space:pre\">Asdrúbal</td><td style=\"text-align:left;white-space:pre\">JDM8776</td><td style=\"text-align:left;white-space:pre\">2003-02-18</td></tr><tr><td style=\"text-align:left;white-space:pre\">1755</td><td style=\"text-align:left;white-space:pre\">Doriana</td><td style=\"text-align:left;white-space:pre\">JDM8776</td><td style=\"text-align:left;white-space:pre\">2003-02-18</td></tr><tr><td style=\"text-align:left;white-space:pre\">1780</td><td style=\"text-align:left;white-space:pre\">Quincas</td><td style=\"text-align:left;white-space:pre\">JDM8776</td><td style=\"text-align:left;white-space:pre\">2003-02-18</td></tr><tr><td style=\"text-align:left;white-space:pre\">1888</td><td style=\"text-align:left;white-space:pre\">Melissa</td><td style=\"text-align:left;white-space:pre\">JDM8776</td><td style=\"text-align:left;white-space:pre\">2003-02-18</td></tr></table></body></html>"
      ]
     },
     "metadata": {},
     "output_type": "display_data"
    }
   ],
   "source": [
    "SELECT Cliente.CliId, Cliente.Nome, Corrida.Placa, Corrida.DataPedido\n",
    "FROM Cliente, Corrida;"
   ]
  },
  {
   "cell_type": "markdown",
   "metadata": {},
   "source": [
    "# JOIN Implícito"
   ]
  },
  {
   "cell_type": "markdown",
   "metadata": {},
   "source": [
    "**Cientes e as respectivas corridas - Join Implícito**"
   ]
  },
  {
   "cell_type": "code",
   "execution_count": 87,
   "metadata": {},
   "outputs": [
    {
     "data": {
      "text/html": [
       "<html><body><table border=\"1\"><tr><th style=\"text-align:left;white-space:pre\">CliId</th><th style=\"text-align:left;white-space:pre\">Nome</th><th style=\"text-align:left;white-space:pre\">Placa</th><th style=\"text-align:left;white-space:pre\">DataPedido</th></tr><tr><td style=\"text-align:left;white-space:pre\">1532</td><td style=\"text-align:left;white-space:pre\">Asdrúbal</td><td style=\"text-align:left;white-space:pre\">DKL4598</td><td style=\"text-align:left;white-space:pre\">2003-02-18</td></tr><tr><td style=\"text-align:left;white-space:pre\">1532</td><td style=\"text-align:left;white-space:pre\">Asdrúbal</td><td style=\"text-align:left;white-space:pre\">DKL4598</td><td style=\"text-align:left;white-space:pre\">2003-02-20</td></tr><tr><td style=\"text-align:left;white-space:pre\">1755</td><td style=\"text-align:left;white-space:pre\">Doriana</td><td style=\"text-align:left;white-space:pre\">DKL7878</td><td style=\"text-align:left;white-space:pre\">2003-02-16</td></tr><tr><td style=\"text-align:left;white-space:pre\">1780</td><td style=\"text-align:left;white-space:pre\">Quincas</td><td style=\"text-align:left;white-space:pre\">DKL4598</td><td style=\"text-align:left;white-space:pre\">2003-02-17</td></tr><tr><td style=\"text-align:left;white-space:pre\">1780</td><td style=\"text-align:left;white-space:pre\">Quincas</td><td style=\"text-align:left;white-space:pre\">JDM8776</td><td style=\"text-align:left;white-space:pre\">2003-02-18</td></tr></table></body></html>"
      ]
     },
     "metadata": {},
     "output_type": "display_data"
    }
   ],
   "source": [
    "SELECT Cliente.CliId, Cliente.Nome, Corrida.Placa, Corrida.DataPedido\n",
    "FROM Cliente, Corrida\n",
    "WHERE Cliente.CliId = Corrida.CliId;"
   ]
  },
  {
   "cell_type": "markdown",
   "metadata": {},
   "source": [
    "**Modelo de taxi para cada corrida**:"
   ]
  },
  {
   "cell_type": "code",
   "execution_count": 92,
   "metadata": {},
   "outputs": [
    {
     "data": {
      "text/html": [
       "<html><body><table border=\"1\"><tr><th style=\"text-align:left;white-space:pre\">Modelo</th></tr><tr><td style=\"text-align:left;white-space:pre\">Gol</td></tr><tr><td style=\"text-align:left;white-space:pre\">Gol</td></tr><tr><td style=\"text-align:left;white-space:pre\">Gol</td></tr><tr><td style=\"text-align:left;white-space:pre\">Fiesta</td></tr><tr><td style=\"text-align:left;white-space:pre\">Santana</td></tr></table></body></html>"
      ]
     },
     "metadata": {},
     "output_type": "display_data"
    }
   ],
   "source": [
    "SELECT Taxi.Modelo\n",
    "       FROM Corrida, Taxi\n",
    "       WHERE Corrida.Placa = Taxi.Placa;"
   ]
  },
  {
   "cell_type": "markdown",
   "metadata": {},
   "source": [
    "**Modelos de Táxi por Cliente (estágio 1)**"
   ]
  },
  {
   "cell_type": "code",
   "execution_count": 95,
   "metadata": {},
   "outputs": [
    {
     "data": {
      "text/html": [
       "<html><body><table border=\"1\"><tr><th style=\"text-align:left;white-space:pre\">Nome</th><th style=\"text-align:left;white-space:pre\">DataPedido</th><th style=\"text-align:left;white-space:pre\">Placa</th><th style=\"text-align:left;white-space:pre\">Modelo</th></tr><tr><td style=\"text-align:left;white-space:pre\">Asdrúbal</td><td style=\"text-align:left;white-space:pre\">2003-02-18</td><td style=\"text-align:left;white-space:pre\">DKL4598</td><td style=\"text-align:left;white-space:pre\">Gol</td></tr><tr><td style=\"text-align:left;white-space:pre\">Asdrúbal</td><td style=\"text-align:left;white-space:pre\">2003-02-20</td><td style=\"text-align:left;white-space:pre\">DKL4598</td><td style=\"text-align:left;white-space:pre\">Gol</td></tr><tr><td style=\"text-align:left;white-space:pre\">Doriana</td><td style=\"text-align:left;white-space:pre\">2003-02-16</td><td style=\"text-align:left;white-space:pre\">DKL7878</td><td style=\"text-align:left;white-space:pre\">Fiesta</td></tr><tr><td style=\"text-align:left;white-space:pre\">Quincas</td><td style=\"text-align:left;white-space:pre\">2003-02-17</td><td style=\"text-align:left;white-space:pre\">DKL4598</td><td style=\"text-align:left;white-space:pre\">Gol</td></tr><tr><td style=\"text-align:left;white-space:pre\">Quincas</td><td style=\"text-align:left;white-space:pre\">2003-02-18</td><td style=\"text-align:left;white-space:pre\">JDM8776</td><td style=\"text-align:left;white-space:pre\">Santana</td></tr></table></body></html>"
      ]
     },
     "metadata": {},
     "output_type": "display_data"
    }
   ],
   "source": [
    "SELECT Cliente.Nome, Corrida.DataPedido, Corrida.Placa, Taxi.Modelo\n",
    "       FROM Cliente, Corrida, Taxi\n",
    "       WHERE Cliente.CliId = Corrida.CliId AND Corrida.Placa = Taxi.Placa;"
   ]
  },
  {
   "cell_type": "markdown",
   "metadata": {},
   "source": [
    "**Modelos de Táxi por Cliente (estágio 2)**:"
   ]
  },
  {
   "cell_type": "code",
   "execution_count": 96,
   "metadata": {},
   "outputs": [
    {
     "data": {
      "text/html": [
       "<html><body><table border=\"1\"><tr><th style=\"text-align:left;white-space:pre\">Nome</th><th style=\"text-align:left;white-space:pre\">Modelo</th></tr><tr><td style=\"text-align:left;white-space:pre\">Asdrúbal</td><td style=\"text-align:left;white-space:pre\">Gol</td></tr><tr><td style=\"text-align:left;white-space:pre\">Doriana</td><td style=\"text-align:left;white-space:pre\">Fiesta</td></tr><tr><td style=\"text-align:left;white-space:pre\">Quincas</td><td style=\"text-align:left;white-space:pre\">Gol</td></tr><tr><td style=\"text-align:left;white-space:pre\">Quincas</td><td style=\"text-align:left;white-space:pre\">Santana</td></tr></table></body></html>"
      ]
     },
     "metadata": {},
     "output_type": "display_data"
    }
   ],
   "source": [
    "SELECT DISTINCT Cliente.Nome, Taxi.Modelo\n",
    "       FROM Cliente, Corrida, Taxi\n",
    "       WHERE Cliente.CliId = Corrida.CliId AND Corrida.Placa = Taxi.Placa;"
   ]
  },
  {
   "cell_type": "markdown",
   "metadata": {},
   "source": [
    "# ORDER BY"
   ]
  },
  {
   "cell_type": "markdown",
   "metadata": {},
   "source": [
    "**Nome dos clientes ordenado alfabeticamente**:"
   ]
  },
  {
   "cell_type": "code",
   "execution_count": 100,
   "metadata": {},
   "outputs": [
    {
     "data": {
      "text/html": [
       "<html><body><table border=\"1\"><tr><th style=\"text-align:left;white-space:pre\">Nome</th></tr><tr><td style=\"text-align:left;white-space:pre\">Quincas</td></tr><tr><td style=\"text-align:left;white-space:pre\">Melissa</td></tr><tr><td style=\"text-align:left;white-space:pre\">Doriana</td></tr><tr><td style=\"text-align:left;white-space:pre\">Asdrúbal</td></tr></table></body></html>"
      ]
     },
     "metadata": {},
     "output_type": "display_data"
    }
   ],
   "source": [
    "SELECT Nome\n",
    "       FROM Cliente\n",
    "       ORDER BY Nome DESC ;"
   ]
  },
  {
   "cell_type": "markdown",
   "metadata": {},
   "source": [
    "**Modelos de taxi e os clientes que os tomaram**\n",
    "\n",
    "Ordena por Modelo, mas não por Cliente:"
   ]
  },
  {
   "cell_type": "code",
   "execution_count": 106,
   "metadata": {},
   "outputs": [
    {
     "data": {
      "text/html": [
       "<html><body><table border=\"1\"><tr><th style=\"text-align:left;white-space:pre\">Nome</th><th style=\"text-align:left;white-space:pre\">Modelo</th></tr><tr><td style=\"text-align:left;white-space:pre\">Doriana</td><td style=\"text-align:left;white-space:pre\">Fiesta</td></tr><tr><td style=\"text-align:left;white-space:pre\">Quincas</td><td style=\"text-align:left;white-space:pre\">Gol</td></tr><tr><td style=\"text-align:left;white-space:pre\">Asdrúbal</td><td style=\"text-align:left;white-space:pre\">Gol</td></tr><tr><td style=\"text-align:left;white-space:pre\">Quincas</td><td style=\"text-align:left;white-space:pre\">Santana</td></tr></table></body></html>"
      ]
     },
     "metadata": {},
     "output_type": "display_data"
    }
   ],
   "source": [
    "SELECT DISTINCT Cl.Nome, T.Modelo\n",
    "       FROM Cliente Cl, Corrida Co, Taxi T\n",
    "       WHERE Cl.CliId = Co.CliId AND\n",
    "             Co.Placa = T.Placa\n",
    "       ORDER BY T.Modelo;"
   ]
  },
  {
   "cell_type": "markdown",
   "metadata": {},
   "source": [
    "Ordena por Modelo e, para cada Modelo, por Cliente:"
   ]
  },
  {
   "cell_type": "code",
   "execution_count": 111,
   "metadata": {},
   "outputs": [
    {
     "data": {
      "text/html": [
       "<html><body><table border=\"1\"><tr><th style=\"text-align:left;white-space:pre\">Nome</th><th style=\"text-align:left;white-space:pre\">Modelo</th></tr><tr><td style=\"text-align:left;white-space:pre\">Asdrúbal</td><td style=\"text-align:left;white-space:pre\">Gol</td></tr><tr><td style=\"text-align:left;white-space:pre\">Doriana</td><td style=\"text-align:left;white-space:pre\">Fiesta</td></tr><tr><td style=\"text-align:left;white-space:pre\">Quincas</td><td style=\"text-align:left;white-space:pre\">Gol</td></tr><tr><td style=\"text-align:left;white-space:pre\">Quincas</td><td style=\"text-align:left;white-space:pre\">Santana</td></tr></table></body></html>"
      ]
     },
     "metadata": {},
     "output_type": "display_data"
    }
   ],
   "source": [
    "SELECT DISTINCT Cl.Nome, T.Modelo\n",
    "       FROM Cliente Cl, Corrida Co, Taxi T\n",
    "       WHERE Cl.CliId = Co.CliId AND\n",
    "             Co.Placa = T.Placa\n",
    "       ORDER BY  Cl.Nome, T.Modelo;"
   ]
  },
  {
   "cell_type": "markdown",
   "metadata": {},
   "source": [
    "**Cliente e os modelos de taxi tomados**\n",
    "\n",
    "Ordena por Cliente, mas não por Modelo:"
   ]
  },
  {
   "cell_type": "code",
   "execution_count": null,
   "metadata": {},
   "outputs": [],
   "source": [
    "SELECT DISTINCT Cl.Nome, T.Modelo\n",
    "       FROM Cliente Cl, Corrida Co, Taxi T\n",
    "       WHERE Cl.CliId = Co.CliId AND\n",
    "             Co.Placa = T.Placa\n",
    "       ORDER BY Cl.Nome;"
   ]
  },
  {
   "cell_type": "markdown",
   "metadata": {},
   "source": [
    "Ordena por Cliente e, para cada Cliente, por Modelo"
   ]
  },
  {
   "cell_type": "code",
   "execution_count": null,
   "metadata": {},
   "outputs": [],
   "source": [
    "SELECT DISTINCT Cl.Nome, T.Modelo\n",
    "       FROM Cliente Cl, Corrida Co, Taxi T\n",
    "       WHERE Cl.CliId = Co.CliId AND\n",
    "             Co.Placa = T.Placa\n",
    "       ORDER BY Cl.Nome, T.Modelo;"
   ]
  },
  {
   "cell_type": "markdown",
   "metadata": {},
   "source": [
    "# JOINs explícitos \n",
    "\n",
    "## INNER JOIN (a.k.a. Join)\n",
    "\n",
    "Forma explícita de fazer uma junção (produto cartesiano com filtro de igualdade entre chaves). Forma mais enxuta e direta de explicitar o objetivo de fazer uma junção de tabelas.\n",
    "No fim, SGBD trata explícito e implícito da mesma forma.\n",
    "\n",
    "Também chamado de Inner Join.\n",
    "\n",
    "<img src=\"https://www.codeproject.com/KB/database/Visual_SQL_Joins/INNER_JOIN.png\" width=\"120px\">"
   ]
  },
  {
   "cell_type": "markdown",
   "metadata": {},
   "source": [
    "**Taxis e respectivas corridas (para taxis que fizeram corrida)**:"
   ]
  },
  {
   "cell_type": "code",
   "execution_count": 145,
   "metadata": {},
   "outputs": [
    {
     "data": {
      "text/html": [
       "<html><body><table border=\"1\"><tr><th style=\"text-align:left;white-space:pre\">placa</th><th style=\"text-align:left;white-space:pre\">modelo</th><th style=\"text-align:left;white-space:pre\">cliid</th></tr><tr><td style=\"text-align:left;white-space:pre\">DKL4598</td><td style=\"text-align:left;white-space:pre\">Gol</td><td style=\"text-align:left;white-space:pre\">1532</td></tr><tr><td style=\"text-align:left;white-space:pre\">DKL4598</td><td style=\"text-align:left;white-space:pre\">Gol</td><td style=\"text-align:left;white-space:pre\">1780</td></tr><tr><td style=\"text-align:left;white-space:pre\">DKL7878</td><td style=\"text-align:left;white-space:pre\">Fiesta</td><td style=\"text-align:left;white-space:pre\">1755</td></tr><tr><td style=\"text-align:left;white-space:pre\">JDM8776</td><td style=\"text-align:left;white-space:pre\">Santana</td><td style=\"text-align:left;white-space:pre\">1780</td></tr></table></body></html>"
      ]
     },
     "metadata": {},
     "output_type": "display_data"
    }
   ],
   "source": [
    "SELECT DISTINCT Tx.placa, Tx.modelo, Co.cliid\n",
    "FROM Corrida Co JOIN Taxi Tx ON Tx.placa = Co.placa;"
   ]
  },
  {
   "cell_type": "code",
   "execution_count": 146,
   "metadata": {},
   "outputs": [
    {
     "data": {
      "text/html": [
       "<html><body><table border=\"1\"><tr><th style=\"text-align:left;white-space:pre\">placa</th><th style=\"text-align:left;white-space:pre\">modelo</th><th style=\"text-align:left;white-space:pre\">cliid</th></tr><tr><td style=\"text-align:left;white-space:pre\">DKL4598</td><td style=\"text-align:left;white-space:pre\">Gol</td><td style=\"text-align:left;white-space:pre\">1532</td></tr><tr><td style=\"text-align:left;white-space:pre\">DKL4598</td><td style=\"text-align:left;white-space:pre\">Gol</td><td style=\"text-align:left;white-space:pre\">1780</td></tr><tr><td style=\"text-align:left;white-space:pre\">DKL7878</td><td style=\"text-align:left;white-space:pre\">Fiesta</td><td style=\"text-align:left;white-space:pre\">1755</td></tr><tr><td style=\"text-align:left;white-space:pre\">JDM8776</td><td style=\"text-align:left;white-space:pre\">Santana</td><td style=\"text-align:left;white-space:pre\">1780</td></tr></table></body></html>"
      ]
     },
     "metadata": {},
     "output_type": "display_data"
    }
   ],
   "source": [
    "SELECT DISTINCT Tx.placa, Tx.modelo, Co.cliid\n",
    "FROM Corrida Co INNER JOIN Taxi Tx ON Tx.placa = Co.placa;"
   ]
  },
  {
   "cell_type": "code",
   "execution_count": 141,
   "metadata": {},
   "outputs": [
    {
     "data": {
      "text/html": [
       "<html><body><table border=\"1\"><tr><th style=\"text-align:left;white-space:pre\">placa</th><th style=\"text-align:left;white-space:pre\">modelo</th><th style=\"text-align:left;white-space:pre\">cliid</th><th style=\"text-align:left;white-space:pre\">nome</th><th style=\"text-align:left;white-space:pre\">cpf</th></tr><tr><td style=\"text-align:left;white-space:pre\">DKL4598</td><td style=\"text-align:left;white-space:pre\">Gol</td><td style=\"text-align:left;white-space:pre\">1532</td><td style=\"text-align:left;white-space:pre\">Asdrúbal</td><td style=\"text-align:left;white-space:pre\">448.754.253-65</td></tr><tr><td style=\"text-align:left;white-space:pre\">DKL7878</td><td style=\"text-align:left;white-space:pre\">Fiesta</td><td style=\"text-align:left;white-space:pre\">1755</td><td style=\"text-align:left;white-space:pre\">Doriana</td><td style=\"text-align:left;white-space:pre\">567.387.387-44</td></tr><tr><td style=\"text-align:left;white-space:pre\">DKL4598</td><td style=\"text-align:left;white-space:pre\">Gol</td><td style=\"text-align:left;white-space:pre\">1780</td><td style=\"text-align:left;white-space:pre\">Quincas</td><td style=\"text-align:left;white-space:pre\">546.373.762-02</td></tr><tr><td style=\"text-align:left;white-space:pre\">JDM8776</td><td style=\"text-align:left;white-space:pre\">Santana</td><td style=\"text-align:left;white-space:pre\">1780</td><td style=\"text-align:left;white-space:pre\">Quincas</td><td style=\"text-align:left;white-space:pre\">546.373.762-02</td></tr></table></body></html>"
      ]
     },
     "metadata": {},
     "output_type": "display_data"
    }
   ],
   "source": [
    "SELECT DISTINCT Tx.placa, Tx.modelo, Co.cliid, Cl.nome, Cl.cpf\n",
    "FROM Corrida Co JOIN Taxi    Tx ON Tx.placa = Co.placa\n",
    "                JOIN Cliente Cl ON Cl.cliid = Co.cliid\n",
    "ORDER BY Cl.nome;"
   ]
  },
  {
   "cell_type": "markdown",
   "metadata": {},
   "source": [
    "### NATURAL JOIN \n",
    "Mesmo que join/inner join. Caso os campos possuam o mesmo nome nas duas tabelas, estes serão os critérios da junção.\n",
    "\n",
    "**IDs de clientes e placas dos taxis que fizeram corridas**:"
   ]
  },
  {
   "cell_type": "code",
   "execution_count": 124,
   "metadata": {},
   "outputs": [
    {
     "data": {
      "text/html": [
       "<html><body><table border=\"1\"><tr><th style=\"text-align:left;white-space:pre\">placa</th><th style=\"text-align:left;white-space:pre\">cliid</th></tr><tr><td style=\"text-align:left;white-space:pre\">DKL4598</td><td style=\"text-align:left;white-space:pre\">1532</td></tr><tr><td style=\"text-align:left;white-space:pre\">DKL4598</td><td style=\"text-align:left;white-space:pre\">1532</td></tr><tr><td style=\"text-align:left;white-space:pre\">DKL4598</td><td style=\"text-align:left;white-space:pre\">1780</td></tr><tr><td style=\"text-align:left;white-space:pre\">DKL7878</td><td style=\"text-align:left;white-space:pre\">1755</td></tr><tr><td style=\"text-align:left;white-space:pre\">JDM8776</td><td style=\"text-align:left;white-space:pre\">1780</td></tr></table></body></html>"
      ]
     },
     "metadata": {},
     "output_type": "display_data"
    }
   ],
   "source": [
    "SELECT Tx.placa, Co.cliid\n",
    "       FROM Taxi Tx\n",
    "            NATURAL JOIN Corrida Co;"
   ]
  },
  {
   "cell_type": "markdown",
   "metadata": {},
   "source": [
    "## OUTER JOINS\n",
    "### LEFT OUTER JOIN (LEFT JOIN)\n",
    "\n",
    "<img src=\"https://www.codeproject.com/KB/database/Visual_SQL_Joins/LEFT_JOIN.png\" width=\"120px\">\n",
    "\n",
    "**Taxis e respectivas corridas (para todos os taxis)**:"
   ]
  },
  {
   "cell_type": "code",
   "execution_count": 125,
   "metadata": {},
   "outputs": [
    {
     "data": {
      "text/html": [
       "<html><body><table border=\"1\"><tr><th style=\"text-align:left;white-space:pre\">placa</th><th style=\"text-align:left;white-space:pre\">cliid</th></tr><tr><td style=\"text-align:left;white-space:pre\">DAE6534</td><td style=\"text-align:left;white-space:pre\">NULL</td></tr><tr><td style=\"text-align:left;white-space:pre\">DKL4598</td><td style=\"text-align:left;white-space:pre\">1532</td></tr><tr><td style=\"text-align:left;white-space:pre\">DKL4598</td><td style=\"text-align:left;white-space:pre\">1532</td></tr><tr><td style=\"text-align:left;white-space:pre\">DKL4598</td><td style=\"text-align:left;white-space:pre\">1780</td></tr><tr><td style=\"text-align:left;white-space:pre\">DKL7878</td><td style=\"text-align:left;white-space:pre\">1755</td></tr><tr><td style=\"text-align:left;white-space:pre\">JDM8776</td><td style=\"text-align:left;white-space:pre\">1780</td></tr><tr><td style=\"text-align:left;white-space:pre\">JJM3692</td><td style=\"text-align:left;white-space:pre\">NULL</td></tr></table></body></html>"
      ]
     },
     "metadata": {},
     "output_type": "display_data"
    }
   ],
   "source": [
    "SELECT Tx.placa, Co.cliid\n",
    "       FROM Taxi Tx LEFT JOIN Corrida Co\n",
    "                           ON Tx.placa = Co.placa;"
   ]
  },
  {
   "cell_type": "markdown",
   "metadata": {},
   "source": [
    "#### Left Excluding Join\n",
    "<img src=\"https://www.codeproject.com/KB/database/Visual_SQL_Joins/LEFT_EXCLUDING_JOIN.png\" width=\"120px\">\n"
   ]
  },
  {
   "cell_type": "code",
   "execution_count": 170,
   "metadata": {},
   "outputs": [
    {
     "data": {
      "text/html": [
       "<html><body><table border=\"1\"><tr><th style=\"text-align:left;white-space:pre\">placa</th><th style=\"text-align:left;white-space:pre\">cliid</th></tr><tr><td style=\"text-align:left;white-space:pre\">JJM3692</td><td style=\"text-align:left;white-space:pre\">NULL</td></tr></table></body></html>"
      ]
     },
     "metadata": {},
     "output_type": "display_data"
    }
   ],
   "source": [
    "SELECT Tx.placa, Co.cliid\n",
    "       FROM Taxi Tx LEFT JOIN Corrida Co\n",
    "                           ON Tx.placa = Co.placa\n",
    "       WHERE Co.placa IS NULL;"
   ]
  },
  {
   "cell_type": "markdown",
   "metadata": {},
   "source": [
    "### RIGHT OUTER JOIN (RIGHT JOIN)\n",
    "\n",
    "<img src=\"https://www.codeproject.com/KB/database/Visual_SQL_Joins/RIGHT_JOIN.png\" width=\"120px\">\n",
    "\n",
    "**Corridas e respectivos clientes (para todos os clientes)**:"
   ]
  },
  {
   "cell_type": "code",
   "execution_count": 174,
   "metadata": {},
   "outputs": [
    {
     "data": {
      "text/html": [
       "<html><body><table border=\"1\"><tr><th style=\"text-align:left;white-space:pre\">placa</th><th style=\"text-align:left;white-space:pre\">nome</th></tr><tr><td style=\"text-align:left;white-space:pre\">DKL4598</td><td style=\"text-align:left;white-space:pre\">Asdrúbal</td></tr><tr><td style=\"text-align:left;white-space:pre\">DKL4598</td><td style=\"text-align:left;white-space:pre\">Asdrúbal</td></tr><tr><td style=\"text-align:left;white-space:pre\">DAE6534</td><td style=\"text-align:left;white-space:pre\">Doriana</td></tr><tr><td style=\"text-align:left;white-space:pre\">DAE6534</td><td style=\"text-align:left;white-space:pre\">Doriana</td></tr><tr><td style=\"text-align:left;white-space:pre\">DKL7878</td><td style=\"text-align:left;white-space:pre\">Doriana</td></tr><tr><td style=\"text-align:left;white-space:pre\">DAE6534</td><td style=\"text-align:left;white-space:pre\">Quincas</td></tr><tr><td style=\"text-align:left;white-space:pre\">DKL4598</td><td style=\"text-align:left;white-space:pre\">Quincas</td></tr><tr><td style=\"text-align:left;white-space:pre\">JDM8776</td><td style=\"text-align:left;white-space:pre\">Quincas</td></tr><tr><td style=\"text-align:left;white-space:pre\">NULL</td><td style=\"text-align:left;white-space:pre\">Melissa</td></tr></table></body></html>"
      ]
     },
     "metadata": {},
     "output_type": "display_data"
    }
   ],
   "source": [
    "SELECT Co.placa, Cl.nome\n",
    "       FROM Corrida Co RIGHT JOIN Cliente Cl\n",
    "                               ON Co.cliid = Cl.cliid;"
   ]
  },
  {
   "cell_type": "markdown",
   "metadata": {},
   "source": [
    "#### Right Excluding Join\n",
    "<img src=\"https://www.codeproject.com/KB/database/Visual_SQL_Joins/RIGHT_EXCLUDING_JOIN.png\" width=\"120px\">\n"
   ]
  },
  {
   "cell_type": "code",
   "execution_count": 175,
   "metadata": {},
   "outputs": [
    {
     "data": {
      "text/html": [
       "<html><body><table border=\"1\"><tr><th style=\"text-align:left;white-space:pre\">placa</th><th style=\"text-align:left;white-space:pre\">nome</th></tr><tr><td style=\"text-align:left;white-space:pre\">NULL</td><td style=\"text-align:left;white-space:pre\">Melissa</td></tr></table></body></html>"
      ]
     },
     "metadata": {},
     "output_type": "display_data"
    }
   ],
   "source": [
    "SELECT Co.placa, Cl.nome\n",
    "       FROM Corrida Co RIGHT JOIN Cliente Cl\n",
    "                               ON Co.cliid = Cl.cliid   \n",
    "       WHERE Co.cliid IS NULL;"
   ]
  },
  {
   "cell_type": "markdown",
   "metadata": {},
   "source": [
    "### FULL OUTER JOIN\n",
    "\n",
    "<img src=\"https://www.codeproject.com/KB/database/Visual_SQL_Joins/FULL_OUTER_JOIN.png\" width=\"120px\">\n",
    "\n",
    "\n",
    "Não existe OUTER JOIN no MariaDB/Mysql. Mas há uma alternativa: UNION\n",
    "\n",
    "\n",
    "**Corridas e clientes (para todos os clientes e corridas)**:"
   ]
  },
  {
   "cell_type": "code",
   "execution_count": 183,
   "metadata": {},
   "outputs": [
    {
     "data": {
      "text/html": [
       "<html><body><table border=\"1\"><tr><th style=\"text-align:left;white-space:pre\">placa</th><th style=\"text-align:left;white-space:pre\">nome</th></tr><tr><td style=\"text-align:left;white-space:pre\">DKL4598</td><td style=\"text-align:left;white-space:pre\">Asdrúbal</td></tr><tr><td style=\"text-align:left;white-space:pre\">DAE6534</td><td style=\"text-align:left;white-space:pre\">Doriana</td></tr><tr><td style=\"text-align:left;white-space:pre\">DKL7878</td><td style=\"text-align:left;white-space:pre\">Doriana</td></tr><tr><td style=\"text-align:left;white-space:pre\">DAE6534</td><td style=\"text-align:left;white-space:pre\">Quincas</td></tr><tr><td style=\"text-align:left;white-space:pre\">DKL4598</td><td style=\"text-align:left;white-space:pre\">Quincas</td></tr><tr><td style=\"text-align:left;white-space:pre\">JDM8776</td><td style=\"text-align:left;white-space:pre\">Quincas</td></tr><tr><td style=\"text-align:left;white-space:pre\">NULL</td><td style=\"text-align:left;white-space:pre\">Melissa</td></tr></table></body></html>"
      ]
     },
     "metadata": {},
     "output_type": "display_data"
    }
   ],
   "source": [
    "SELECT Co.placa, Cl.nome\n",
    "       FROM Corrida Co LEFT JOIN Cliente Cl\n",
    "                               ON Co.cliid = Cl.cliid\n",
    "UNION\n",
    "\n",
    "SELECT Co.placa, Cl.nome\n",
    "       FROM Corrida Co RIGHT JOIN Cliente Cl\n",
    "                               ON Co.cliid = Cl.cliid;\n"
   ]
  },
  {
   "cell_type": "markdown",
   "metadata": {},
   "source": [
    "#### Full Outer Excluding Join\n",
    "<img src=\"https://www.codeproject.com/KB/database/Visual_SQL_Joins/OUTER_EXCLUDING_JOIN.png\" width=\"120px\">\n"
   ]
  },
  {
   "cell_type": "markdown",
   "metadata": {},
   "source": [
    "# DELETE"
   ]
  },
  {
   "cell_type": "markdown",
   "metadata": {},
   "source": [
    "**Apagando o Táxi de placa `DAE6534`**:"
   ]
  },
  {
   "cell_type": "code",
   "execution_count": null,
   "metadata": {},
   "outputs": [],
   "source": [
    "SELECT * FROM Corrida;"
   ]
  },
  {
   "cell_type": "code",
   "execution_count": null,
   "metadata": {},
   "outputs": [],
   "source": [
    "DELETE FROM Corrida WHERE Corrida.Placa = \"DAE6534\";\n",
    "SELECT * FROM Corrida;"
   ]
  },
  {
   "cell_type": "markdown",
   "metadata": {},
   "source": [
    "## Violação de Integridade\n",
    "\n",
    "**Apagando um Táxi que possui corridas associadas**:\n",
    "\n",
    "Este exemplo irá gerar um erro de violação de chave estrangeira."
   ]
  },
  {
   "cell_type": "code",
   "execution_count": null,
   "metadata": {},
   "outputs": [],
   "source": [
    "SELECT * FROM Taxi;"
   ]
  },
  {
   "cell_type": "code",
   "execution_count": null,
   "metadata": {},
   "outputs": [],
   "source": [
    "DELETE FROM Taxi WHERE Taxi.Placa = 'DKL4598';"
   ]
  },
  {
   "cell_type": "markdown",
   "metadata": {},
   "source": [
    "# UPDATE"
   ]
  },
  {
   "cell_type": "markdown",
   "metadata": {},
   "source": [
    "**Alterando o ano de fabricação (para 2002) do Táxi que possui placa `DKL4598`**:"
   ]
  },
  {
   "cell_type": "code",
   "execution_count": null,
   "metadata": {},
   "outputs": [],
   "source": [
    "SELECT * FROM Taxi ORDER BY Placa;\n",
    "UPDATE Taxi T\n",
    "       SET T.AnoFab = 2002\n",
    "       WHERE T.Placa = 'DKL4598';\n",
    "SELECT * FROM Taxi ORDER BY Placa;"
   ]
  },
  {
   "cell_type": "markdown",
   "metadata": {},
   "source": [
    "# GROUP BY"
   ]
  },
  {
   "cell_type": "markdown",
   "metadata": {},
   "source": [
    "**Modelos de Táxi cadastrados**:"
   ]
  },
  {
   "cell_type": "code",
   "execution_count": null,
   "metadata": {},
   "outputs": [],
   "source": [
    "SELECT T.Modelo\n",
    "       FROM Taxi T\n",
    "       GROUP BY T.Modelo;"
   ]
  },
  {
   "cell_type": "markdown",
   "metadata": {},
   "source": [
    "\n",
    "\n",
    "**Modelos de Táxi cadastrados e quantos táxis há em cada modelo:**"
   ]
  },
  {
   "cell_type": "code",
   "execution_count": null,
   "metadata": {},
   "outputs": [],
   "source": [
    "SELECT T.Modelo, COUNT(*)\n",
    "       FROM Taxi T\n",
    "       GROUP BY T.Modelo;"
   ]
  },
  {
   "cell_type": "markdown",
   "metadata": {},
   "source": [
    "## Agregando em mais de um nível"
   ]
  },
  {
   "cell_type": "markdown",
   "metadata": {},
   "source": [
    "**Modelos de taxi tomados por cada cliente (agrupando por Cliente e por Modelo)**:"
   ]
  },
  {
   "cell_type": "code",
   "execution_count": null,
   "metadata": {},
   "outputs": [],
   "source": [
    "SELECT Cl.Nome, T.Modelo, COUNT(*)\n",
    "       FROM Cliente Cl, Corrida Co, Taxi T \n",
    "       WHERE Cl.CliId = Co.CliId AND \n",
    "             Co.Placa = T.Placa\n",
    "       GROUP BY Cl.Nome, T.Modelo;"
   ]
  },
  {
   "cell_type": "markdown",
   "metadata": {},
   "source": [
    "## Funções de agregação sem agrupamento\n",
    "\n",
    "**Média de ano de fabricação para todos os Táxis**\n",
    "\n",
    "Quando é usada função de agregação sem especificação de agrupamento, toda a tabela é agregada como se fosse um único grupo."
   ]
  },
  {
   "cell_type": "code",
   "execution_count": null,
   "metadata": {},
   "outputs": [],
   "source": [
    "-- Tabela completa\n",
    "SELECT AnoFab FROM Taxi;\n",
    "\n",
    "-- Media do ano de fabricação de toda a tabela\n",
    "SELECT MAX(AnoFab) FROM Taxi;"
   ]
  },
  {
   "cell_type": "markdown",
   "metadata": {},
   "source": [
    "## Campos mostrados devem corresponder à agregação\n",
    "\n",
    "Exemplo sem agregação:"
   ]
  },
  {
   "cell_type": "code",
   "execution_count": null,
   "metadata": {},
   "outputs": [],
   "source": [
    "SELECT Modelo, AnoFab\n",
    "       FROM Taxi;"
   ]
  },
  {
   "cell_type": "markdown",
   "metadata": {},
   "source": [
    "**Modelo e Ano de Fabricação**\n",
    "\n",
    "Este exemplo com agregação produzirá um erro pois `AnoFab` (ano de fabricação) não foi agregado, portanto, pode haver mais de um ano de fabricação para o mesmo modelo."
   ]
  },
  {
   "cell_type": "code",
   "execution_count": null,
   "metadata": {},
   "outputs": [],
   "source": [
    "SELECT Modelo, AnoFab\n",
    "       FROM Taxi\n",
    "       GROUP BY Modelo;"
   ]
  },
  {
   "cell_type": "markdown",
   "metadata": {},
   "source": [
    "**Modelo e Maior Ano de Fabricação**\n",
    "\n",
    "Corrigindo com função de agregação\n",
    "\n",
    "Este exemplo escolhe o maior ano para cada Modelo agregado."
   ]
  },
  {
   "cell_type": "code",
   "execution_count": null,
   "metadata": {},
   "outputs": [],
   "source": [
    "SELECT Modelo, MAX(AnoFab)\n",
    "       FROM Taxi\n",
    "       GROUP BY Modelo;"
   ]
  },
  {
   "cell_type": "markdown",
   "metadata": {},
   "source": [
    "# HAVING"
   ]
  },
  {
   "cell_type": "markdown",
   "metadata": {},
   "source": [
    "**Número de Táxis por Modelo somente para os Táxis com ano de fabricação acima de 2000**:\n",
    "\n",
    "Exemplo com `WHERE` em que a condição é aplicada antes de se agregar:"
   ]
  },
  {
   "cell_type": "code",
   "execution_count": null,
   "metadata": {},
   "outputs": [],
   "source": [
    "-- Todos os Táxis\n",
    "SELECT * FROM Taxi;\n",
    "\n",
    "-- Selecionados e Agregados\n",
    "SELECT Modelo, COUNT(*) NUM\n",
    "       FROM Taxi\n",
    "       WHERE AnoFab > 2000\n",
    "       GROUP BY Modelo;"
   ]
  },
  {
   "cell_type": "markdown",
   "metadata": {},
   "source": [
    "**Modelos de Táxi que têm mais de um Táxi do respectivo modelo**\n",
    "\n",
    "Exemplo com `HAVING` em que a condição é aplicada após se agregar:"
   ]
  },
  {
   "cell_type": "code",
   "execution_count": null,
   "metadata": {},
   "outputs": [],
   "source": [
    "-- Agrupamento\n",
    "SELECT Modelo, COUNT(*) NUM\n",
    "       FROM Taxi\n",
    "       GROUP BY Modelo;\n",
    "\n",
    "-- Agrupamento com HAVING\n",
    "SELECT Modelo, COUNT(*) NUM\n",
    "       FROM Taxi\n",
    "       GROUP BY Modelo\n",
    "       HAVING NUM > 1;"
   ]
  },
  {
   "cell_type": "markdown",
   "metadata": {},
   "source": [
    "## `HAVING` apenas para campos agregados \n",
    "\n",
    "**Modelos daqueles Táxis com ano de fabricação acima de 2000**\n",
    "\n",
    "A seleção a seguir produzirá um erro pois está se aplicando uma condição `HAVING` para um campo não agregado. Deveria ter sido usado `WHERE` como foi feito anteriormente."
   ]
  },
  {
   "cell_type": "code",
   "execution_count": null,
   "metadata": {},
   "outputs": [],
   "source": [
    "SELECT Modelo, COUNT(*) NUM\n",
    "       FROM Taxi\n",
    "       GROUP BY Modelo\n",
    "       HAVING AnoFab > 2000;"
   ]
  },
  {
   "cell_type": "markdown",
   "metadata": {},
   "source": [
    "**Exemplo de `HAVING` com média**\n",
    "\n",
    "Modelos de Táxi cujo maior Ano de Fabricação seja após 2000:"
   ]
  },
  {
   "cell_type": "code",
   "execution_count": null,
   "metadata": {},
   "outputs": [],
   "source": [
    "SELECT Modelo, MAX(AnoFab) MaiorAno\n",
    "       FROM Taxi\n",
    "       GROUP BY Modelo\n",
    "       HAVING MaiorAno > 2000;"
   ]
  },
  {
   "cell_type": "markdown",
   "metadata": {},
   "source": [
    "# VIEW\n",
    "\n",
    "**Total de Táxis por Modelo**\n",
    "\n",
    "Agrupamento sem o uso de `VIEW`:"
   ]
  },
  {
   "cell_type": "code",
   "execution_count": null,
   "metadata": {},
   "outputs": [],
   "source": [
    "SELECT Modelo, COUNT(*) Numero_Taxis\n",
    "       FROM taxi\n",
    "       GROUP BY Modelo;"
   ]
  },
  {
   "cell_type": "markdown",
   "metadata": {},
   "source": [
    "**Tabela de Total de Táxis por Modelo**\n",
    "\n",
    "Transformando o agrupamento na tabela `Contagem_Modelo` com o `VIEW`:"
   ]
  },
  {
   "cell_type": "code",
   "execution_count": null,
   "metadata": {},
   "outputs": [],
   "source": [
    "CREATE VIEW Contagem_Modelo AS\n",
    "SELECT Modelo, COUNT(*) Numero_Taxis\n",
    "       FROM taxi\n",
    "       GROUP BY Modelo;\n",
    "\n",
    "SELECT * FROM Contagem_Modelo;"
   ]
  },
  {
   "cell_type": "markdown",
   "metadata": {},
   "source": [
    "Usando a tabela criada com a `VIEW`:"
   ]
  },
  {
   "cell_type": "code",
   "execution_count": null,
   "metadata": {},
   "outputs": [],
   "source": [
    "SELECT AVG(Numero_Taxis) FROM Contagem_Modelo;"
   ]
  },
  {
   "cell_type": "markdown",
   "metadata": {},
   "source": [
    "**VIEW se auto-atualiza**\n",
    "\n",
    "A view é um recorte dinâmico, ela se auto-atualiza quando a tabela original é modificada."
   ]
  },
  {
   "cell_type": "code",
   "execution_count": null,
   "metadata": {},
   "outputs": [],
   "source": [
    "INSERT INTO Taxi VALUES ('KMN3412', 'Chevrolet', 'Corsa', 2001, 'QJ572345');\n",
    "SELECT * FROM Contagem_Modelo;"
   ]
  }
 ],
 "metadata": {
  "kernelspec": {
   "display_name": "MariaDB",
   "language": "SQL",
   "name": "mariadb_kernel"
  },
  "language_info": {
   "file_extension": ".sql",
   "mimetype": "text/plain",
   "name": "SQL"
  },
  "toc": {
   "base_numbering": 1,
   "nav_menu": {},
   "number_sections": false,
   "sideBar": false,
   "skip_h1_title": false,
   "title_cell": "Table of Contents",
   "title_sidebar": "Contents",
   "toc_cell": false,
   "toc_position": {},
   "toc_section_display": false,
   "toc_window_display": false
  },
  "toc-autonumbering": true
 },
 "nbformat": 4,
 "nbformat_minor": 4
}
